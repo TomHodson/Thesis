{
 "cells": [
  {
   "cell_type": "raw",
   "id": "8397274a-4e7c-4b7d-ba18-3fe4d04e6e47",
   "metadata": {},
   "source": [
    "---\n",
    "title: The Long Range Falikov-Kimball Model - The Model\n",
    "description:\n",
    "image:\n",
    "layout: thesis\n",
    "---"
   ]
  },
  {
   "cell_type": "code",
   "execution_count": 1,
   "id": "bd93dd4a-1324-4c21-9864-7dcc4afc0a8c",
   "metadata": {
    "tags": [
     "remove_cell"
    ]
   },
   "outputs": [
    {
     "data": {
      "text/html": [
       "<style>\n",
       "figure {\n",
       "    display: flex;\n",
       "    flex-direction: column;\n",
       "    align-items: center;\n",
       "}\n",
       "figure img {\n",
       "    max-width: 900px;\n",
       "    width: 80%;\n",
       "    margin-bottom: 2em;\n",
       "}\n",
       "figcaption {\n",
       "    aria-hidden: true;\n",
       "}\n",
       "</style>\n"
      ],
      "text/plain": [
       "<IPython.core.display.HTML object>"
      ]
     },
     "metadata": {},
     "output_type": "display_data"
    }
   ],
   "source": [
    "%%html\n",
    "<style>\n",
    "figure {\n",
    "    display: flex;\n",
    "    flex-direction: column;\n",
    "    align-items: center;\n",
    "}\n",
    "figure img {\n",
    "    max-width: 900px;\n",
    "    width: 80%;\n",
    "    margin-bottom: 2em;\n",
    "}\n",
    "figcaption {\n",
    "    aria-hidden: true;\n",
    "}\n",
    "</style>"
   ]
  },
  {
   "cell_type": "markdown",
   "id": "72d8479b-5a39-44a4-b3d9-94eb15a3016a",
   "metadata": {},
   "source": [
    "This chapter expands on work presented in\n",
    "\n",
    "\\ [@hodsonOnedimensionalLongrangeFalikovKimball2021] [One-dimensional long-range Falikov-Kimball model: Thermal phase transition and disorder-free localization](https://link.aps.org/doi/10.1103/PhysRevB.104.045116), Hodson, T. and Willsher, J. and Knolle, J., Phys. Rev. B, __104__, 4, 2021,\n",
    "\n",
    "the code for which is available is available at\\ [@hodsonMCMCFKModel2021].\n",
    "\n",
    "__Contributions__\n",
    "\n",
    "Johannes had the initial idea to use a long range Ising term to stablise order in a one dimension Falikov-Kimball model. Josef developed a proof of concept during a summer project at Imperial along with Alexander Belcik. I wrote the simulation code and performed all the analysis presented here."
   ]
  },
  {
   "cell_type": "markdown",
   "id": "7f036bb3-0bf5-4f7c-bf2a-3695c83224d3",
   "metadata": {},
   "source": [
    "__Chapter Summary__\n",
    "\n",
    "The paper is organised as follows. First, we introduce the model and present its phase diagram. Second, we present the methods used to solve it numerically. Last, we investigate the model's localisation properties and conclude."
   ]
  },
  {
   "cell_type": "markdown",
   "id": "bbed34b5-a9fd-4b55-bb7d-9d7fcfa6da3d",
   "metadata": {},
   "source": [
    "# The Model {#sec:FK-Model}\n",
    "\n",
    "Dimensionality is crucial for the physics of both localisation and FTPTs. In 1D, disorder generally dominates, even the weakest disorder exponentially localises *all* single particle eigenstates. Only longer-range correlations of the disorder potential can potentially induce delocalization\\ [@aubryAnalyticityBreakingAnderson1980; @dassarmaLocalizationMobilityEdges1990; @dunlapAbsenceLocalizationRandomdimer1990]. Thermodynamically, short-range interactions cannot overcome thermal defects in 1D which prevents ordered phases at nonzero temperature\\ [@andersonAbsenceDiffusionCertain1958; @goldshteinPurePointSpectrum1977; @abrahamsScalingTheoryLocalization1979; @kramerLocalizationTheoryExperiment1993]. However, the absence of an FTPT in the short ranged FK chain is far from obvious because the Ruderman-Kittel-Kasuya-Yosida (RKKY) interaction mediated by the fermions\\ [@kasuyaTheoryMetallicFerro1956; @rudermanIndirectExchangeCoupling1954; @vanvleckNoteInteractionsSpins1962; @yosidaMagneticPropertiesCuMn1957] decays as $r^{-1}$ in 1D\\ [@rusinCalculationRKKYRange2017]. This could in principle induce the necessary long-range interactions for the classical Ising background\\ [@thoulessLongRangeOrderOneDimensional1969; @peierlsIsingModelFerromagnetism1936]. However, Kennedy and Lieb established rigorously that at half-filling a CDW phase only exists at $T = 0$ for the 1D FK model\\ [@kennedyItinerantElectronModel1986].\n",
    "\n",
    "Here, we construct a generalised one-dimensional FK model with long-range interactions which induces the otherwise forbidden CDW phase at non-zero temperature. We find a rich phase diagram with a CDW FTPT and interaction-tuned Anderson versus Mott localized phases similar to the 2D FK model\\ [@antipovInteractionTunedAndersonMott2016]. We explore the localization properties of the fermionic sector and find that the localisation lengths vary dramatically across the phases and for different energies. Although moderate system sizes indicate the coexistence of localized and delocalized states within the CDW phase, we find quantitatively similar behaviour in a model of uncorrelated binary disorder on a CDW background. For large system sizes, i.e. for our 1D disorder model we can treat linear sizes of several thousand sites, we find that all states are eventually localized with a localization length which diverges towards zero temperature.\n",
    "\n",
    "On bipartite lattices in dimensions 2 and above the FK model exhibits a finite temperature phase transition to an ordered charge density wave (CDW) phase\\ [@maskaThermodynamicsTwodimensionalFalicovKimball2006]. In this phase, the ions are confined to one of the two sublattices, breaking the $\\mathbb{Z}_2$ symmetry.\n",
    "\n",
    "In 1D, however, Periel's argument\\ [@peierlsIsingModelFerromagnetism1936; @kennedyItinerantElectronModel1986] states that domain walls only introduce a constant energy penalty into the free energy while bringing a entropic contribution logarithmic in system size. Hence the 1D model does not have a finite temperature phase transition. However 1D systems are much easier to study numerically and admit simpler realisations experimentally. We therefore introduce a long range coupling between the ions in order to stabilise a CDW phase in 1D. This leads to a disordered system that is gaped by the CDW background but with correlated fluctuations leading to a disorder-free correlation induced mobility edge in one dimension.\n",
    "\n",
    "The presence of the classical field makes the model amenable to an exact numerical treatment at finite temperature via a sign problem free MCMC algorithm\\ [@devriesGapsDensitiesStates1993; @devriesSimplifiedHubbardModel1993; @antipovInteractionTunedAndersonMott2016; @debskiPossibilityDetectionFinite2016; @herrmannSpreadingCorrelationsFalicovKimball2018; @maskaThermodynamicsTwodimensionalFalicovKimball2006]. The MCMC treatment motivates a view of the classical background field as a disorder potential, which suggests an intimate link to localisation physics. Indeed, thermal fluctuations of the classical sector act as disorder potentials drawn from a thermal distribution and the emergence of disorder in a translationally invariant Hamiltonian links the FK model to recent interest in disorder-free localisation\\ [@smithDisorderFreeLocalization2017; @smithDynamicalLocalizationMathbbZ2018; @brenesManyBodyLocalizationDynamics2018].\n",
    "\n",
    "To evaluate thermodynamic averages we perform a classical Markov Chain Monte Carlo random walk over the space of ionic configurations, at each step diagonalising the effective electronic Hamiltonian\\ [@maskaThermodynamicsTwodimensionalFalicovKimball2006]. Using a binder-cumulant method\\ [@binderFiniteSizeScaling1981; @musialMonteCarloSimulations2002], we demonstrate the model has a finite temperature phase transition when the interaction is sufficiently long ranged. We then estimate the density of states and the inverse participation ratio as a function of energy to diagnose localisation properties."
   ]
  },
  {
   "cell_type": "markdown",
   "id": "00b6bf62-9c8e-4aec-bbf0-a15f3cf731f8",
   "metadata": {},
   "source": [
    "We interpret the FK model as a model of spinless fermions, $c^\\dagger_{i}$, hopping on a 1D lattice against a classical Ising spin background, $S_i \\in {\\pm \\frac{1}{2}}$. The fermions couple to the spins via an onsite interaction with strength $U$ which we supplement by a long-range interaction, $J_{ij} = 4\\kappa J (-1)^{|i-j|} |i-j|^{-\\alpha}$, between the spins. The normalisation, $\\kappa^{-1} = \\sum_{i=1}^{N} i^{-\\alpha}$, renders the 0th order mean field critical temperature independent of system size. The hopping strength of the electrons, $t = 1$, sets the overall energy scale and we concentrate throughout on the particle-hole symmetric point at zero chemical potential and half filling\\ [@gruberFalicovKimballModelReview1996].   $$\\begin{aligned}\n",
    "H_{\\mathrm{FK}} = & \\;U \\sum_{i} S_i\\;(c^\\dagger_{i}c_{i} - \\tfrac{1}{2}) -\\;t \\sum_{i} (c^\\dagger_{i}c_{i+1} + \\textit{h.c.)}\\\\ \n",
    " &  + \\sum_{i, j}^{N} J_{ij}  S_i S_j \\nonumber\n",
    "\\label{eq:HFK}\\end{aligned}$$\n",
    "\n",
    "In two or more dimensions, the $J\\!=0\\!$ FK model has a FTPT to the CDW phase with non-zero staggered magnetisation $m = N^{-1} \\sum_i (-1)^i \\; S_i$ and fermionic order parameter $f = 2 N^{-1}|\\sum_i (-1)^i \\; \\expval{c^\\dagger_{i}c_{i}}|$\\ [@antipovInteractionTunedAndersonMott2016; @maskaThermodynamicsTwodimensionalFalicovKimball2006]. This only exists at zero temperature in the short ranged 1D model\\ [@kennedyItinerantElectronModel1986]. To study the CDW phase at finite temperature in 1D, we add an additional coupling that is both long-ranged and staggered by a factor $(-1)^{|i-j|}$. The additional coupling stabilises the Antiferromagnetic (AFM) order of the Ising spins which promotes the finite temperature CDW phase of the fermionic sector.\n",
    "\n",
    "Taking the limit $U = 0$ decouples the spins from the fermions, which gives a spin sector governed by a classical LRI model. Note, the transformation of the spins $S_i \\to (-1)^{i} S_i$ maps the AFM model to the FM one. We recall that Peierls' classic argument can be extended to show that, for the 1D LRI model, a power law decay of $\\alpha < 2$ is required for a FTPT as the energy of defect domain then scales with the system size and can overcome the entropic contribution. A renormalisation group analysis supports this finding and shows that the critical exponents are only universal for $\\alpha \\leq 3/2$\\ [@ruelleStatisticalMechanicsOnedimensional1968; @thoulessLongRangeOrderOneDimensional1969; @angeliniRelationsShortrangeLongrange2014]. In the following, we choose $\\alpha = 5/4$ to avoid this additional complexity.\n",
    "\n",
    "To improve the scaling of finite size effects, we make the replacement $|i - j|^{-\\alpha} \\rightarrow |f(i - j)|^{-\\alpha}$, in both $J_{ij}$ and $\\kappa$, where $f(x) = \\frac{N}{\\pi}\\sin \\frac{\\pi x}{N}$, which is smooth across the circular boundary\\ [@fukuiOrderNClusterMonte2009]. We only consider even system sizes given that odd system sizes are not commensurate with a CDW state."
   ]
  }
 ],
 "metadata": {
  "kernelspec": {
   "display_name": "Python 3 (ipykernel)",
   "language": "python",
   "name": "python3"
  },
  "language_info": {
   "codemirror_mode": {
    "name": "ipython",
    "version": 3
   },
   "file_extension": ".py",
   "mimetype": "text/x-python",
   "name": "python",
   "nbconvert_exporter": "python",
   "pygments_lexer": "ipython3",
   "version": "3.10.4"
  }
 },
 "nbformat": 4,
 "nbformat_minor": 5
}
