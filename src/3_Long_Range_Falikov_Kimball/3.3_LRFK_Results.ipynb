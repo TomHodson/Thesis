{
 "cells": [
  {
   "cell_type": "raw",
   "id": "11d14524-430c-4a41-8813-0fbf79ac631c",
   "metadata": {
    "tags": [
     "remove_cell"
    ]
   },
   "source": [
    "---\n",
    "title: The Long Range Falikov-Kimball Model - Results\n",
    "description: \n",
    "image:\n",
    "layout: thesis\n",
    "---"
   ]
  },
  {
   "cell_type": "code",
   "execution_count": 1,
   "id": "057a5115-4919-4381-8c48-93a2f8b0a32e",
   "metadata": {
    "tags": [
     "remove_cell"
    ]
   },
   "outputs": [
    {
     "data": {
      "text/html": [
       "<style>\n",
       "figure {\n",
       "    display: flex;\n",
       "    flex-direction: column;\n",
       "    align-items: center;\n",
       "}\n",
       "figure img {\n",
       "    max-width: 900px;\n",
       "    width: 80%;\n",
       "    margin-bottom: 2em;\n",
       "}\n",
       "figcaption {\n",
       "    aria-hidden: true;\n",
       "}\n",
       "</style>\n"
      ],
      "text/plain": [
       "<IPython.core.display.HTML object>"
      ]
     },
     "metadata": {},
     "output_type": "display_data"
    }
   ],
   "source": [
    "%%html\n",
    "<style>\n",
    "figure {\n",
    "    display: flex;\n",
    "    flex-direction: column;\n",
    "    align-items: center;\n",
    "}\n",
    "figure img {\n",
    "    max-width: 900px;\n",
    "    width: 80%;\n",
    "    margin-bottom: 2em;\n",
    "}\n",
    "figcaption {\n",
    "    aria-hidden: true;\n",
    "}\n",
    "</style>"
   ]
  },
  {
   "cell_type": "markdown",
   "id": "135e9d88-717b-4c00-a1df-1d7a6c46fae3",
   "metadata": {},
   "source": [
    "![Phase diagrams of the long-range 1D FK model. (a) The TJ plane at $U = 5$: the [CDW]{acronym-label=\"CDW\" acronym-form=\"singular+short\"} ordered phase is separated from a disordered Mott insulating (MI) phase by a critical temperature $T_c$, linear in J. (b) The TU plane at $J = 5$: the disordered phase is split into two: at large/small U there's a MI/Anderson phase characterised by the presence/absence of a gap at $E=0$ in the single particle energy spectrum. $U_c$ is independent of temperature. At $U = 0$ the fermions are decoupled from the spins forming a simple Fermi gas. (c) The order parameters, $\\tex{m^2}$(solid) and $1 - f$ (dashed) describing the onset of the [CDW]{acronym-label=\"CDW\" acronym-form=\"singular+short\"} phase of the long-range 1D [FK]{acronym-label=\"FK\" acronym-form=\"singular+short\"} model at low temperature with staggered magnetisation $m = N^{-1} \\sum_i (-1)^i S_i$ and fermionic order parameter $f = 2 N^{-1}\\abs{\\sum_i (-1)^i \\; \\expval{c^\\dag_{i}c_{i}}}$ . (d) The crossing of the Binder cumulant, $B = \\tex{m^4} / \\tex{m^2}^2$, with system size provides a diagnostic that the phase transition is not a finite size effect, it's used to estimate the critical lines shown in (a) and (b). All plots use system sizes $N = [10,20,30,50,70,110,160,250]$ and lines are coloured from $N = 10$ in dark blue to $N = 250$ in yellow. The parameter values $U = 5,\\;J = 5,\\;\\alpha = 1.25$ except where explicitly varied.](pdf_figs/phase_diagram){#fig:phase_diagram width=\"\\\\columnwidth\"}"
   ]
  },
  {
   "cell_type": "markdown",
   "id": "c658e724-1ef6-4a4e-9618-db32ad1ad42a",
   "metadata": {},
   "source": [
    "# The Phase Diagram\n",
    "\n",
    "Figs. \\[[1](#fig:phase_diagram){reference-type=\"ref\" reference=\"fig:phase_diagram\"}a\\] and \\[[1](#fig:phase_diagram){reference-type=\"ref\" reference=\"fig:phase_diagram\"}b\\] show the phase diagram for constant $U=5$ and constant $J=5$, respectively. We determined the transition temperatures from the crossings of the Binder cumulants $B_4 = \\tex{m^4}/\\tex{m^2}^2$\\ [@binderFiniteSizeScaling1981]. For a representative set of parameters, Fig. \\[[1](#fig:phase_diagram){reference-type=\"ref\" reference=\"fig:phase_diagram\"}c\\] shows the order parameter $\\tex{m}^2$. Fig. \\[[1](#fig:phase_diagram){reference-type=\"ref\" reference=\"fig:phase_diagram\"}d\\] shows the Binder cumulants, both as functions of system size and temperature. The crossings confirm that the system has a FTPT and that the ordered phase is not a finite size effect.\n",
    "\n",
    "The CDW transition temperature is largely independent from the strength of the interaction $U$. This demonstrates that the phase transition is driven by the long-range term $J$ with little effect from the coupling to the fermions $U$. The physics of the spin sector in our long-range FK model mimics that of the LRI model and is not significantly altered by the presence of the fermions, which shows that the long range tail expected from a basic fermion mediated RKKY interaction between the Ising spins is absent.\n",
    "\n",
    "Our main interest concerns the additional structure of the fermionic sector in the high temperature phase. Following Ref.\\ [@antipovInteractionTunedAndersonMott2016], we can distinguish between the Mott and Anderson insulating phases. The former is characterised by a gapped DOS in the absence of a CDW. Thus, the opening of a gap for large $U$ is distinct from the gap-opening induced by the translational symmetry breaking in the CDW state below $T_c$, see also Fig. \\[[3](#fig:band_opening){reference-type=\"ref\" reference=\"fig:band_opening\"}a\\]. The Anderson phase is gapless but, as we explain below, shows localised fermionic eigenstates."
   ]
  },
  {
   "cell_type": "markdown",
   "id": "697a9bdf-04dd-44f5-8094-eff1611a5692",
   "metadata": {},
   "source": [
    "# Localisation Properties\n",
    "\n",
    "The MCMC formulation suggests viewing the spin configurations as a form of annealed binary disorder whose probability distribution is given by the Boltzmann weight $e^{-\\beta H_S[\\vec{S}] - \\beta F_c[\\vec{S}]}$. This makes apparent the link to the study of disordered systems and Anderson localisation. While these systems are typically studied by defining the probability distribution for the quenched disorder potential externally, here we have a translation invariant system with disorder as a natural consequence of the Ising background field conserved under the dynamics.\n",
    "\n",
    "In the limits of zero and infinite temperature, our model becomes a simple tight-binding model for the fermions. At zero temperature, the spin background is in one of the two translation invariant AFM ground states with two gapped fermionic CDW bands at energies $$E_{\\pm} = \\pm\\sqrt{\\frac{1}{4}U^2 + 2t^2(1 + \\cos ka)^2}\\;.$$\n",
    "\n",
    "At infinite temperature, all the spin configurations become equally likely and the fermionic model reduces to one of binary uncorrelated disorder in which all eigenstates are Anderson localised\\ [@abrahamsScalingTheoryLocalization1979]. An Anderson localised state centered around $r_0$ has magnitude that drops exponentially over some localisation length $\\xi$ i.e $|\\psi(r)|^2 \\sim \\exp{-\\abs{r - r_0}/\\xi}$. Calculating $\\xi$ directly is numerically demanding. Therefore, we determine if a given state is localised via the energy-resolved IPR and the DOS defined as $$\\begin{aligned}\n",
    "\\mathrm{DOS}(\\vec{S}, \\omega)& = N^{-1} \\sum_{i} \\delta(\\epsilon_i - \\omega)\\\\\n",
    "\\mathrm{IPR}(\\vec{S}, \\omega)& = \\; N^{-1} \\mathrm{DOS}(\\vec{S}, \\omega)^{-1} \\sum_{i,j} \\delta(\\epsilon_i - \\omega)\\;\\psi^{4}_{i,j}\\end{aligned}$$ where $\\epsilon_i$ and $\\psi_{i,j}$ are the $i$th energy level and $j$th element of the corresponding eigenfunction, both dependent on the background spin configuration $\\vec{S}$.\n",
    "\n",
    "The scaling of the IPR with system size $$\\mathrm{IPR} \\propto N^{-\\tau}$$ depends on the localisation properties of states at that energy. For delocalised states, e.g. Bloch waves, $\\tau$ is the physical dimension. For fully localised states $\\tau$ goes to zero in the thermodynamic limit. However, for special types of disorder such as binary disorder, the localisation lengths can be large comparable to the system size at hand, which can make it difficult to extract the correct scaling. An additional complication arises from the fact that the scaling exponent may display intermediate behaviours for correlated disorder and in the vicinity of a localisation-delocalisation transition\\ [@kramerLocalizationTheoryExperiment1993; @eversAndersonTransitions2008]. The thermal defects of the CDW phase lead to a binary disorder potential with a finite correlation length, which in principle could result in delocalized eigenstates.\n",
    "\n",
    "The key question for our system is then: How is the $T=0$ CDW phase with fully delocalized fermionic states connected to the fully localized phase at high temperatures?\n",
    "\n",
    "![Energy resolved DOS($\\omega$) and $\\tau$ (the scaling exponent of IPR($\\omega$) against system size $N$). The left column shows the Anderson phase $U = 2$ at high $T = 2.5$ and the CDW phase at low $T = 1.5$ temperature. IPRs are evaluated for one of the in-gap states $\\omega_0/U = 0.057$ and the center of the band $\\omega_1$ $U = 0.81$. The right column shows instead the Mott and CDW phases at $U = 5$ with $\\omega_0/U = 0.24$ and $\\omega_1/U = 0.571$. For all the plots $J = 5,\\;\\alpha = 1.25$ and the fits for $\\tau$ use system sizes greater than 60. The measured $\\tau_0,\\tau_1$ for each figure are: (a) $(0.06\\pm0.01, 0.02\\pm0.01$ (b) $0.04\\pm0.02, 0.00\\pm0.01$ (c) $0.05\\pm0.03, 0.30\\pm0.03$ (d) $0.06\\pm0.04,  0.15\\pm0.05$ We show later that the apparent scaling of the IPR with system size can be explained by the changing defect density with system size rather than due to delocalisation of the states.](pdf_figs/indiv_IPR){#fig:indiv_IPR width=\"\\\\columnwidth\"}"
   ]
  },
  {
   "cell_type": "markdown",
   "id": "27e6fe6c-83fd-43a4-b75d-cc30ecba1ede",
   "metadata": {},
   "source": [
    "![ The DOS (a and c) and scaling exponent $\\tau$ (b and d) as a function of energy and temperature. (a) and (b) show the system transitioning from the CDW phase to the gapless Anderson insulating one at $U=2$ while (c) and (d) show the CDW to gapped Mott phase transition at $U=5$. Regions where the DOS is close to zero are shown a white. The scaling exponent $\\tau$ is obtained from fits to $IPR(N) = A N^{-\\lambda}$ for a range of system sizes. $U = 5,\\;J = 5,\\;\\alpha = 1.25$](pdf_figs/gap_openingboth){#fig:band_opening width=\"\\\\columnwidth\"}"
   ]
  },
  {
   "cell_type": "markdown",
   "id": "730d8601-907f-4455-9dc6-96c9ad4a4fc9",
   "metadata": {},
   "source": [
    "<figure>\n",
    "<img src=\"../figure_code/fk_chapter/gap_opening_high_U.svg\" style=\"max-width:700px;\">\n",
    "<figcaption>\n",
    "The DOS (a) and scaling exponent $\\tau$ (b) as a function of energy for the CDW to gapped Mott phase transition at $U=5$. Regions where the DOS is close to zero are shown in white. The scaling exponent $\\tau$ is obtained from fits to $IPR(N) = A N^{-\\lambda}$ for a range of system sizes. $J = 5,\\;\\alpha = 1.25$\n",
    "</figcaption>\n",
    "</figure>"
   ]
  },
  {
   "cell_type": "markdown",
   "id": "15a8d789-6c65-4b3e-ba29-2211f40a1616",
   "metadata": {},
   "source": [
    "<figure>\n",
    "<img src=\"../figure_code/fk_chapter/gap_opening_low_U.svg\" style=\"max-width:700px;\">\n",
    "<figcaption>\n",
    "The DOS (a) and scaling exponent $\\tau$ (b) as a function of energy for the CDW phase to the gapless Anderson insulating phase at $U=2$. Regions where the DOS is close to zero are shown in white. The scaling exponent $\\tau$ is obtained from fits to $IPR(N) = A N^{-\\lambda}$ for a range of system sizes. $J = 5,\\;\\alpha = 1.25$\n",
    "</figcaption>\n",
    "</figure>"
   ]
  },
  {
   "cell_type": "markdown",
   "id": "9bb77c44-3da4-4fd4-8f72-eb12d46f3d8b",
   "metadata": {},
   "source": [
    "![ A comparison of the full FK model to a simple binary disorder model (DM) with a CDW wave background perturbed by uncorrelated defects at density $0 < \\rho < 1$ matched to the largest corresponding FK model. As in Fig [2](#fig:indiv_IPR){reference-type=\"ref\" reference=\"fig:indiv_IPR\"}, the Energy resolved DOS($\\omega$) and $\\tau$ are shown. The DOSs match well and this data makes clear that the apparent scaling of IPR with system size is a finite size effect due to weak localisation\\ [@antipovInteractionTunedAndersonMott2016], hence all the states are indeed localised as one would expect in 1D. The disorder model $\\tau_0,\\tau_1$ for each figure are: (a) $0.01\\pm0.05, -0.02\\pm0.06$ (b) $0.01\\pm0.04, -0.01\\pm0.04$ (c) $0.05\\pm0.06, 0.04\\pm0.06$ (d) $-0.03\\pm0.06, 0.01\\pm0.06$. The lines are fit on system sizes $N > 400$ ](pdf_figs/indiv_IPR_disorder){#fig:indiv_IPR_disorder width=\"\\\\columnwidth\"}\n",
    "\n",
    "Fig. [2](#fig:indiv_IPR){reference-type=\"ref\" reference=\"fig:indiv_IPR\"} shows the DOS and $\\tau$, the scaling exponent of the IPR with system size, for a representative set of parameters covering all three phases. The DOS is symmetric about $0$ because of the particle hole symmetry of the model. At high temperatures, all of the eigenstates are localised in both the Mott and Anderson phases (with $\\tau \\leq 0.07$ for our system sizes). We also checked that the states are localised by direct inspection. Note that there are in-gap states for instance at $\\omega_0$, below the upper band which are localized and smoothly connected across the phase transition.\n",
    "\n",
    "In the CDW phases at $U=2$ and $U=5$, we find for the states within the gapped CDW bands, e.g. at $\\omega_1$, scaling exponents $\\tau = 0.30\\pm0.03$ and $\\tau = 0.15\\pm0.05$, respectively. This surprising finding suggests that the CDW bands are partially delocalised with multi-fractal behaviour of the wavefunctions\\ [@eversAndersonTransitions2008]. This phenomenon would be unexpected in a 1D model as they generally do not support delocalisation in the presence of disorder except as the result of correlations in the emergent disorder potential\\ [@croyAndersonLocalization1D2011; @goldshteinPurePointSpectrum1977]. However, we later show by comparison to an uncorrelated Anderson model that these nonzero exponents are a finite size effect and the states are localised with a finite $\\xi$ similar to the system size. As a result, the IPR does not scale correctly until the system size has grown much larger than $\\xi$. Fig. \\[[4](#fig:indiv_IPR_disorder){reference-type=\"ref\" reference=\"fig:indiv_IPR_disorder\"}\\] shows that the scaling of the IPR in the CDW phase does flatten out eventually.\n",
    "\n",
    "Next, we use the DOS and the scaling exponent $\\tau$ to explore the localisation properties over the energy-temperature plane in Fig. [3](#fig:band_opening){reference-type=\"ref\" reference=\"fig:band_opening\"}. Gapped areas are shown in white, which highlights the distinction between the gapped Mott phase and the ungapped Anderson phase. In-gap states appear just below the critical point, smoothly filling the bandgap in the Anderson phase and forming islands in the Mott phase. As in the finite\\ [@zondaGaplessRegimeCharge2019] and infinite dimensional\\ [@hassanSpectralPropertiesChargedensitywave2007] cases, the in-gap states merge and are pushed to lower energy for decreasing U as the $T=0$ CDW gap closes. Intuitively, the presence of in-gap states can be understood as a result of domain wall fluctuations away from the AFM ordered background. These domain walls act as local potentials for impurity-like bound states\\ [@zondaGaplessRegimeCharge2019].\n",
    "\n",
    "In order to understand the localization properties we can compare the behaviour of our model with that of a simpler Anderson disorder model (DM) in which the spins are replaced by a CDW background with uncorrelated binary defect potentials, see Appendix [\\[app:disorder_model\\]](#app:disorder_model){reference-type=\"ref\" reference=\"app:disorder_model\"}. Fig. \\[[4](#fig:indiv_IPR_disorder){reference-type=\"ref\" reference=\"fig:indiv_IPR_disorder\"}\\] compares the FK model to the disorder model at different system sizes, matching the defect densities of the disorder model to the FK model at $N = 270$ above and below the CDW transition. We find very good, even quantitative, agreement between the FK and disorder models, which suggests that correlations in the spin sector do not play a significant role. As we can sample directly from the disorder model, rather than through MCMC, the samples are uncorrelated. Hence we can evaluate much larger system sizes with the disorder model which enables us to pin down the correct localisation effects. In particular, what appear to be delocalized states for small system sizes eventually turn out to be states with large localization length. The localization length diverges towards the ordered zero temperature CDW state. Overall, we see that the interplay of interactions, here manifest as a peculiar binary potential, and localization can be very intricate and the added advantage of our 1D model is that we can explore very large system sizes for a complete understanding.\n",
    "\n",
    "# Discussion & Conclusion\n",
    "\n",
    "The FK model is one of the simplest non-trivial models of interacting fermions. We studied its thermodynamic and localisation properties brought down in dimensionality to 1D by adding a novel long-ranged coupling designed to stabilise the CDW phase present in dimension two and above. Our hybrid MCMC approach elucidates a disorder-free localization mechanism within our translationally invariant system. Further, we demonstrate a significant speedup over the naive method. We show that our long-range FK in 1D retains much of the rich phase diagram of its higher dimensional cousins. Careful scaling analysis indicates that all the single particle eigenstates eventually localise at nonzero temperature albeit only for very large system sizes of several thousand.\n",
    "\n",
    "Our work raises a number of interesting questions for future research. A straightforward but numerically challenging problem is to pin down the model's behaviour closer to the critical point where correlations in the spin sector would become significant. Would this modify the localisation behaviour? Similar to other soluble models of disorder-free localisation, we expect intriguing out-of equilibrium physics, for example slow entanglement dynamics akin to more generic interacting systems\\ [@hartLogarithmicEntanglementGrowth2020]. One could also investigate whether the rich ground state phenomenology of the FK model as a function of filling\\ [@gruberGroundStatesSpinless1990] such as the devil's staircase\\ [@michelettiCompleteDevilTextquotesingles1997] could be stabilised at finite temperature. In a broader context, we envisage that long-range interactions can also be used to gain a deeper understanding of the temperature evolution of topological phases. One example would be a long-ranged FK version of the celebrated Su-Schrieffer-Heeger model where one could explore the interplay of topological bound states and thermal domain wall defects. Finally, the rich physics of our model should be realizable in systems with long-range interactions, such as trapped ion quantum simulators, where one can also explore the fully interacting regime with a dynamical background field.\n",
    "\n",
    "# Acknowledgments\n",
    "\n",
    "We wish to acknowledge the support of Alexander Belcik who was involved with the initial stages of the project. We thank Angus MacKinnon for helpful discussions, Sophie Nadel for input when preparing the figures and acknowledge support from the Imperial-TUM flagship partnership. This work was supported in part by the Engineering and Physical Sciences Research Council (EPSRC) [Project No. 2120140](https://gtr.ukri.org/project/145404DD-ABAD-4CFB-A2D8-152A6AFCCEB7#/tabOverview).\n",
    "\n",
    "\n",
    "\n",
    "# []{#app:disorder_model label=\"app:disorder_model\"} UNCORRELATED DISORDER MODEL \n",
    "\n",
    "The disorder model referred to in the main text is defined by replacing the spin degree of freedom in the FK model $S_i = \\pm \\tfrac{1}{2}$ with a disorder potential $d_i = \\pm \\tfrac{1}{2}$ controlled by a defect density $\\rho$ such that $d_i = -\\tfrac{1}{2}$ with probability $\\rho/2$ and $d_i = \\tfrac{1}{2}$ otherwise. $\\rho/2$ is used rather than $\\rho$ so that the disorder potential takes on the zero temperature CDW ground state at $\\rho = 0$ and becomes a random choice over spin states at $\\rho = 1$ i.e the infinite temperature limit.   $$\\begin{aligned}\n",
    "H_{\\mathrm{DM}} = & \\;U \\sum_{i} (-1)^i \\; d_i \\;(c^\\dag_{i}c_{i} - \\tfrac{1}{2}) \\\\\n",
    "& -\\;t \\sum_{i} c^\\dag_{i}c_{i+1} + c^\\dag_{i+1}c_{i} \\nonumber\\end{aligned}$$"
   ]
  },
  {
   "cell_type": "code",
   "execution_count": null,
   "id": "5c8ecb85-cedb-4053-ba5b-08c5c02b5f21",
   "metadata": {},
   "outputs": [],
   "source": []
  }
 ],
 "metadata": {
  "kernelspec": {
   "display_name": "Python 3 (ipykernel)",
   "language": "python",
   "name": "python3"
  },
  "language_info": {
   "codemirror_mode": {
    "name": "ipython",
    "version": 3
   },
   "file_extension": ".py",
   "mimetype": "text/x-python",
   "name": "python",
   "nbconvert_exporter": "python",
   "pygments_lexer": "ipython3",
   "version": "3.10.4"
  }
 },
 "nbformat": 4,
 "nbformat_minor": 5
}
