{
 "cells": [
  {
   "cell_type": "raw",
   "id": "e7474ccf-2453-4979-a45d-22ec94268402",
   "metadata": {},
   "source": [
    "---\n",
    "title: The Amorphous Kitaev Model - Introduction\n",
    "description: A short introduction to the weird and wonderful world of exactly solvable quantum models.\n",
    "image:\n",
    "---"
   ]
  },
  {
   "cell_type": "code",
   "execution_count": 1,
   "id": "5f81ad80-48f8-4e76-b9c6-c31972089e3d",
   "metadata": {
    "tags": [
     "remove_cell"
    ]
   },
   "outputs": [
    {
     "data": {
      "text/html": [
       "<style>\n",
       "figure {\n",
       "    display: flex;\n",
       "    flex-direction: column;\n",
       "    align-items: center;\n",
       "}\n",
       "figure img {\n",
       "    max-width: 900px;\n",
       "    width: 80%;\n",
       "    margin-bottom: 2em;\n",
       "}\n",
       "figcaption {\n",
       "    aria-hidden: true;\n",
       "    max-width: 700px;\n",
       "}\n",
       "</style>\n"
      ],
      "text/plain": [
       "<IPython.core.display.HTML object>"
      ]
     },
     "metadata": {},
     "output_type": "display_data"
    }
   ],
   "source": [
    "%%html\n",
    "<style>\n",
    "figure {\n",
    "    display: flex;\n",
    "    flex-direction: column;\n",
    "    align-items: center;\n",
    "}\n",
    "figure img {\n",
    "    max-width: 900px;\n",
    "    width: 80%;\n",
    "    margin-bottom: 2em;\n",
    "}\n",
    "figcaption {\n",
    "    aria-hidden: true;\n",
    "    max-width: 700px;\n",
    "}\n",
    "</style>"
   ]
  },
  {
   "cell_type": "markdown",
   "id": "fcf97924-92ca-4273-bfcf-6a01eec6a96e",
   "metadata": {},
   "source": [
    "# Contributions\n",
    "\n",
    "This material is this chapter expands on work presented in \n",
    "\n",
    "__Insert citation of amorphous Kitaev paper here__\n",
    "\n",
    "This project grew out of an interest Gino, Peru and I had in studying amorphous systems. Coupled with Johannes' expertise on the Kitaev model"
   ]
  },
  {
   "cell_type": "markdown",
   "id": "55eba9b3-ee36-4a8e-bc57-3476df9efc57",
   "metadata": {
    "tags": []
   },
   "source": [
    "# Introduction\n",
    "\n",
    "The Kitaev-Honeycomb model is remarkable because it was the first such model that combined three key properties.\n",
    "\n",
    "First, it is a plausible tight binding Hamiltonian. The form of the Hamiltonian could be realised by a real material. Indeed candidate materials such as $\\alpha\\mathrm{-RuCl}_3$ were quickly found [@banerjeeProximateKitaevQuantum2016; @trebstKitaevMaterials2022] that are expected to behave according to the Kitaev with small corrections. \n",
    "\n",
    "Second, the Kitaev Honeycomb model is deeply interesting to modern condensed matter theory. Its ground state is almost the canonical example of the long sought after quantum spin liquid state. Its excitations are anyons, particles that can only exist in two dimensions that break the normal fermion/boson dichotomy. Anyons have been the subject of much attention because, among other reasons, there are proposals to braid them through space and time to achieve noise tolerant quantum computations @freedmanTopologicalQuantumComputation2003. "
   ]
  },
  {
   "cell_type": "markdown",
   "id": "8e1d9870-ede6-47e8-aebb-22761ae590cd",
   "metadata": {},
   "source": [
    "Third and perhaps most importantly, it a rare many body interacting quantum system that can be treated analytically. It is exactly solvable. We can explicitly write down its many body ground states in terms of single particle states @kitaevAnyonsExactlySolved2006. Its solubility comes about because the model has extensively many conserved degrees of freedom that mediate the interactions between quantum degrees of freedom."
   ]
  },
  {
   "cell_type": "markdown",
   "id": "f6e6dc2c-647c-4164-8433-e678a85d93a0",
   "metadata": {
    "jp-MarkdownHeadingCollapsed": true,
    "tags": []
   },
   "source": [
    "In this chapter I will discuss the physics of the Kitaev Model on amorphous lattices. \n",
    "\n",
    "I'll start by discussing the physics of the Kitaev model in much more detail. Here I will look at the gauge symmetries of the model as well as its solution via a transformation to a Majorana hamiltonian. From this discussion we will see that for the the model to be solvable it need only be defined on a trivalent, tri-edge-colourable lattice [@Nussinov2009]. \n",
    "\n",
    "In the methods section, I will discuss how to generate such lattices and colour them as well as how to map back and forth between configurations of the gauge field and configurations of the gauge invariant quantities.\n",
    "\n",
    "In results section, I will begin by looking at the zero temperature physics. I'll present numerical evidence that the ground state of the model is given by a simple rule. I'll make an assessment of the gapless, Abelian and non-Abelian phases that are present as well as spontaneous chiral symmetry breaking and topological edge states. We will also compare the zero temperature phase diagram to that of the Kitaev Honeycomb Model. Next I will take the model to finite temperature and demonstrate that there is a phase transition to a thermal metal state.\n",
    "\n",
    "In the Discussion I will consider possible physical realisations of this model as well the motivations for doing so. I will also discuss how a well known quantum error correcting code defined on the Kitaev Honeycomb could be generalised to the amorphous case."
   ]
  },
  {
   "cell_type": "markdown",
   "id": "1e4d8021-9037-47c2-ad52-a34234220e5d",
   "metadata": {},
   "source": [
    "Various generalisations have been made, one mode replaces pairs of hexagons with heptagons and pentagons \\cite{periNonAbelianChiralSpin2020} and another that replaces vertices of the hexagons with triangles \\cite{yaoExactChiralSpin2007}. When we generalise this to the amorphous case, the key property that will remain is that each vertex interacts with exactly three others via an x, y and z edge. However the lattice will no longer be bipartite, breaking chiral symmetry among other things. \n",
    "\n",
    "Kitaev-Heisenberg Model\n",
    "In real materials there will generally be an additional small Heisenberg term\n",
    "$$H_{KH} =  - \\sum_{\\langle j,k\\rangle_\\alpha} J^{\\alpha}\\sigma_j^{\\alpha}\\sigma_k^{\\alpha} + \\sigma_j\\sigma_k$$"
   ]
  },
  {
   "cell_type": "markdown",
   "id": "17a32824-4ff4-4fab-9e8c-56cb4b1503c3",
   "metadata": {},
   "source": [
    "## Amorphous Systems\n",
    "__Insert discussion of why a generalisation to the amorphous case is interesting__"
   ]
  },
  {
   "cell_type": "markdown",
   "id": "150baefd-f68d-4d84-a34a-55156d8e9ef4",
   "metadata": {
    "tags": []
   },
   "source": [
    "## The Kitaev Model\n",
    "\n",
    "### Commutation relations\n",
    "Before diving into the Hamiltonian of the Kitaev Model, here is a quick refresher of the key commutation relations of spins, fermions and Majoranas.\n",
    "\n",
    "#### Spins\n",
    "Skip this is you're super familiar with the algebra of the Pauli matrices. Scalars like $\\delta_{ij}$ should be understood to be multiplied by an implicit identity $\\mathbb{1}$ where necessary.\n",
    "\n",
    "We can represent a single spin$-1/2$ particle using the Pauli matrices $(\\sigma^x, \\sigma^y, \\sigma^z) = \\vec{\\sigma}$, these matrices all square to the identity $\\sigma^\\alpha \\sigma^\\alpha = \\mathbb{1}$ and obey nice commutation and exchange rules:\n",
    "$$\\sigma^\\alpha \\sigma^\\beta = \\delta^{\\alpha \\beta} + i \\epsilon^{\\alpha \\beta \\gamma} \\sigma^\\gamma$$\n",
    "$$[\\sigma^\\alpha, \\sigma^\\beta] = 2 i \\epsilon^{\\alpha \\beta \\gamma} \\sigma^\\gamma$$"
   ]
  },
  {
   "cell_type": "markdown",
   "id": "c6e816a8-9f57-45e1-819b-6c058952ceaf",
   "metadata": {
    "tags": []
   },
   "source": [
    "Adding site indices, spins at different spatial sites commute always $[\\vec{\\sigma}_i, \\vec{\\sigma}_j] = 0$ so when $i \\neq j$\n",
    "$$\\sigma_i^\\alpha \\sigma_j^\\beta = \\sigma_j^\\alpha \\sigma_i^\\beta$$\n",
    "$$[\\sigma_i^\\alpha, \\sigma_j^\\beta] = 0$$\n",
    "while the previous equations hold for $i = j$."
   ]
  },
  {
   "cell_type": "markdown",
   "id": "d6c4fc9d-bba2-4c25-af5f-f1f247287c4e",
   "metadata": {},
   "source": [
    "Two extra relations that will be useful for the Kitaev model are the value of $\\sigma^\\alpha \\sigma^\\beta \\sigma^\\gamma$ and $[\\sigma^\\alpha \\sigma^\\beta, \\sigma^\\gamma]$ when $\\alpha \\neq \\beta \\neq \\gamma$ these can be computed quite easily by applying the above relations yielding:\n",
    "$$\\sigma^\\alpha \\sigma^\\beta \\sigma^\\gamma = i \\epsilon^{\\alpha\\beta\\gamma}$$\n",
    "and\n",
    "$$[\\sigma^\\alpha \\sigma^\\beta, \\sigma^\\gamma] = 0$$"
   ]
  },
  {
   "cell_type": "markdown",
   "id": "b618a3df-360b-4e6e-976e-fda336683794",
   "metadata": {},
   "source": [
    "#### Fermions and Majoranas\n",
    "The fermionic creation and anhilation operators are defined by the canonical anticommutation relations\n",
    "$$\\begin{aligned}\n",
    "\\{f_i, f_j\\} &= \\{f^\\dagger_i, f^\\dagger_j\\} = 0\\\\\n",
    "\\{f_i, f^\\dagger_j\\} &= \\delta_{ij}\n",
    "\\end{aligned}$$\n",
    "which give us the exchange statistics and Pauli exclusion principle.\n",
    "\n",
    "From fermionic operators, we can construct Majorana operators:\n",
    "$$\\begin{aligned}\n",
    "f_i         &= 1/2 (a_i + ib_i)\\\\\n",
    "f^\\dagger_i &= 1/2(a_i - ib_i)\\\\\n",
    "a_i         &= f_i + f^\\dagger_i = 2\\mathbb{R}f\\\\\n",
    "b_i         &= 1/i(f_i - f^\\dagger_i) = 2\\mathbb{I} f \n",
    "\\end{aligned}$$\n",
    "\n",
    "Majorana operators are the real and imaginary parts of the fermionic operators, physically they correspond to the orthogonal superpositions of the presence and absence of the fermion and are thus a kind of quasiparticle.\n",
    "\n",
    "Once we involve multiple fermions there is quite a bit of freedom in how we can perform the transformation from $n$ fermions $f_i$ to $2n$ Majoranas $c_i$. The property that must be preserved however is that the Majoranas still anticommute:\n",
    "\n",
    "$$ \\{c_i, c_j\\} = 2\\delta_{ij}$$"
   ]
  },
  {
   "cell_type": "markdown",
   "id": "95a017dd-cef3-4f7f-94c3-b6797d4a93e3",
   "metadata": {},
   "source": [
    "### The Hamiltonian\n",
    "To get down to brass tacks, the Kitaev Honeycomb model is a model of interacting spin$-1/2$s on the vertices of a honeycomb lattice. Each bond in the lattice is assigned a label $\\alpha \\in \\{ x, y, z\\}$ and that bond couples its two spin neighbours along the $\\alpha$ axis. See +@fig:visual_kitaev_1 for a diagram."
   ]
  },
  {
   "cell_type": "markdown",
   "id": "13fcc614-b503-4f36-b658-338cbf0d413c",
   "metadata": {},
   "source": [
    "This gives us the Hamiltonian\n",
    "$$H =  - \\sum_{\\langle j,k\\rangle_\\alpha} J^{\\alpha}\\sigma_j^{\\alpha}\\sigma_k^{\\alpha},$$\n",
    "where $\\sigma^\\alpha_j$ is a Pauli matrix acting on site $j$ and $\\langle j,k\\rangle_\\alpha$ is a pair of nearest-neighbour indices connected by an $\\alpha$-bond with exchange coupling $J^\\alpha$ @kitaevAnyonsExactlySolved2006. For notational brevity is is useful to introduce the bond operators $K_{ij} = \\sigma_j^{\\alpha}\\sigma_k^{\\alpha}$ where $\\alpha$ is a function of $i,j$ that picks the correct bond type."
   ]
  },
  {
   "cell_type": "markdown",
   "id": "a1ad042b-a030-4997-9c2d-b21f38506b7f",
   "metadata": {},
   "source": [
    "<figure>\n",
    "<img src=\"../figure_code/amk_chapter/visual_kitaev_1.svg\" style=\"max-width:700px\"/>\n",
    "</figure>"
   ]
  },
  {
   "cell_type": "markdown",
   "id": "eb7ef3c3-d977-41b0-9d22-1d731484607b",
   "metadata": {},
   "source": [
    "This Kitaev model has a set of conserved quantities that, in the spin language, take the form of Wilson loop operators $W_p$ winding around a closed path on the lattice. The direction doesn't matter, but I will stick to clockwise here. I'll use the term plaquette and the symbol $\\phi$ to refer to a Wilson loop operator that does not enclose any other sites, such as a single hexagon in a honeycomb lattice. \n",
    "\n",
    "$$W_p = \\prod_{\\mathrm{i,j}\\; \\in\\; p} K_{ij} = \\sigma_1^z \\sigma_2^x \\sigma_2^y \\sigma_3^y .. \\sigma_n^y \\sigma_n^y \\sigma_1^z$$\n",
    "\n",
    "__add a diagram of a single plaquette with labelled site and bond types__"
   ]
  },
  {
   "cell_type": "markdown",
   "id": "ed6f5d1e-f0b8-4c90-8175-25efd75672a0",
   "metadata": {},
   "source": [
    "In closed loops, each site appears twice in the product with two of the three bond types. Applying $\\sigma^\\alpha \\sigma^\\beta = \\epsilon^{\\alpha \\beta \\gamma} \\sigma^\\gamma, \\alpha \\neq \\beta$ then gives us a product containing a single Pauli matrix associated with each site in the loop with the type of the _outward_ pointing bond. From this we see that the $W_p$ associated with hexagons or shapes with an even number of sides all square to 1 and hence have eigenvalues $\\pm 1$.\n",
    "\n",
    "A consequence of the fact that the honeycomb lattice is bipartite is that there are no closed loops that contain an even number of edges[^bipartite] and hence all the $W_p$ have eigenvalues $\\pm 1$ on bipartite lattices. Later we will show that plaquettes with an odd number of sides (odd plaquettes for short) will have eigenvalues $\\pm i$.\n",
    "\n",
    "<figure>\n",
    "<img src=\"../figure_code/amk_chapter/regular_plaquettes/regular_plaquettes.svg\" style=\"max-width:600px\">\n",
    "<figcaption>\n",
    "    The eigenvalues of a loop or plaquette operators depend on how many bonds in its enclosing path. \n",
    "</figcaption>\n",
    "</figure>\n",
    "\n",
    "[^bipartite]: A bipartite lattice is composed of A and B sublattices with no intra-sublattice edges i.e no A-A or B-B edges. Any closed loop must begin and at the same site, let's say it's an A site. The loop must go A-B-A-B... until it returns to the original site and must therefore must contain an even number of edges in order to end on the same sublattice that it started on."
   ]
  },
  {
   "cell_type": "markdown",
   "id": "d6f30e49-56f6-4ac6-8fd8-49b36489aa69",
   "metadata": {},
   "source": [
    "Remarkably, all of the spin bond operators $K_{ij}$ commute with all the Wilson loop operators $W_p$.\n",
    "$$[W_p, J_{ij}] = 0$$\n",
    "We can prove this by considering the three cases:\n",
    "1. neither $i$ nor $j$ is part of the loop\n",
    "2. one of $i$ or $j$ are part of the loop\n",
    "3. both are part of the loop\n",
    "\n",
    "The first case is trivial while the other two require a bit of algebra, outlined in +@fig:visual_kitaev_2."
   ]
  },
  {
   "cell_type": "markdown",
   "id": "63dc18fa-2cc4-4a0c-921b-370d3f925dee",
   "metadata": {},
   "source": [
    "<figure>\n",
    "<img src=\"../figure_code/amk_chapter/visual_kitaev_2.svg\" style = \"max-width:1000px;\"/>\n",
    "</figure>"
   ]
  },
  {
   "cell_type": "markdown",
   "id": "a647eb43-25bb-4bbd-b28c-452ab451617f",
   "metadata": {
    "tags": [],
    "toc-hr-collapsed": true
   },
   "source": [
    "Since the Hamiltonian is just a linear combination of bond operators, it also commutes with the plaquette operators! This is great because it means that the there's a simultaneous eigenbasis for the Hamiltonian and the plaquette operators. We can thus work in a basis in which the eigenvalues of the plaquette operators take on a definite value and for all intents and purposes act like classical degrees of freedom. These are the extensively many conserved quantities that make the model tractable.\n",
    "\n",
    "Plaquette operators measure flux. We will find that the ground state of the model corresponds to some particular choice of flux through each plaquette. I will refer to excitations which flip the expectation value of a plaquette operator away from the ground state as __vortices__.\n",
    "\n",
    "Fixing a configuration of the vortices thus partitions the many-body Hilbert space into a set of 'vortex sectors' labelled by that particular flux configuration $\\phi_i = \\pm 1,\\pm i$."
   ]
  },
  {
   "cell_type": "markdown",
   "id": "8256330c-68b8-4b8e-8bdb-efbec940c05e",
   "metadata": {
    "tags": [],
    "toc-hr-collapsed": true
   },
   "source": [
    "### From Spins to Majorana operators\n",
    "#### For a single spin\n",
    "Let's start by considering just one site and its $\\sigma^x, \\sigma^y$ and $\\sigma^z$ operators which live in a two dimensional Hilbert space $\\mathcal{L}$. \n",
    "\n",
    "We will introduce two fermionic modes $f$ and $g$ that satisfy the canonical anticommutation relations along with their number operators $n_f = f^\\dagger f, n_g = g^\\dagger g$ and the total fermionic parity operator $F_p = (2n_f - 1)(2n_g - 1)$ which we can use to divide their Fock space up into even and odd parity subspaces which are separated by the addition or removal of one fermion.\n",
    "\n",
    "From these two fermionic modes we can build four Majorana operators:\n",
    "$$\\begin{aligned}\n",
    "b^x &= f + f^\\dagger\\\\\n",
    "b^y &= -i(f - f^\\dagger)\\\\\n",
    "b^z &= g + g^\\dagger\\\\\n",
    "c   &= -i(g - g^\\dagger)\n",
    "\\end{aligned}$$"
   ]
  },
  {
   "cell_type": "markdown",
   "id": "a7e13445-8f79-4604-b7fb-4e035f70105c",
   "metadata": {},
   "source": [
    "The Majoranas obey the usual commutation relations, squaring to one and anticommuting with each other. The fermions and Majorana live in a 4 dimensional Fock space $\\mathcal{\\tilde{L}}$. We can therefore identify the two dimensional space $\\mathcal{M}$ with one of the parity subspaces of $\\mathcal{\\tilde{L}}$ which we will call the _physical subspace_ $\\mathcal{\\tilde{L}}_p$. Kitaev defines the operator \n",
    "$$D = b^xb^yb^zc$$\n",
    "which can be expanded out to\n",
    "$$D = -(2n_f - 1)(2n_g - 1) = -F_p$$\n",
    "and labels the physical subspace as the space spanned by states for which \n",
    "$$ D|\\phi\\rangle = |\\phi\\rangle$$"
   ]
  },
  {
   "cell_type": "markdown",
   "id": "707f6ab4-fcb2-419a-9422-1feb70dc66f4",
   "metadata": {},
   "source": [
    "We can also think of the physical subspace as whatever is left after applying the projector \n",
    "$$P  = \\frac{1 - D}{2}$$\n",
    "to it. This formulation will be useful for taking states that span the extended space $\\mathcal{\\tilde{M}}$ and projecting them into the physical subspace. "
   ]
  },
  {
   "cell_type": "markdown",
   "id": "f6e8e0a6-d1ad-482f-b2b9-f6362ddbef85",
   "metadata": {},
   "source": [
    "So now, with the caveat that we are working in the physical subspace, we can define new Pauli operators:\n",
    "\n",
    "$$\\tilde{\\sigma}^x = i b^x c,\\; \\tilde{\\sigma}^y = i b^y c,\\; \\tilde{\\sigma}^y = i b^y c$$\n",
    "\n",
    "These extended space Pauli operators satisfy all the usual commutation relations, the only difference being that if we evaluate $\\sigma^x \\sigma^y \\sigma^z = i$ we instead get\n",
    "$$ \\tilde{\\sigma}^x\\tilde{\\sigma}^y\\tilde{\\sigma}^z = iD $$\n",
    "\n",
    "Which indeed makes sense, as long as we promise to confine ourselves to the physical subspace $D = 1$ and this all makes sense."
   ]
  },
  {
   "cell_type": "markdown",
   "id": "302b921e-deb6-4074-9edb-3532203f06b8",
   "metadata": {},
   "source": [
    "#### For multiple spins\n",
    "\n",
    "This construction generalises easily to the case of multiple spins: we get a set of 4 Majoranas $b^x_j,\\; b^y_j,\\;b^z_j,\\; c_j$ and a $D_j = b^x_jb^y_jb^z_jc_j$ operator for every spin. For a state to be physical we require that $D_j |\\psi\\rangle = |\\psi\\rangle$ for all $j$.\n",
    "\n",
    "From these each Pauli operator can be constructed:\n",
    "$$\\tilde{\\sigma}^\\alpha_j = i b^\\alpha_j c_j$$\n",
    "\n",
    "This is where the magic happens. We can promote the spin hamiltonian from $\\mathcal{L}$ into the extended space $\\mathcal{\\tilde{L}}$, safe in the knowledge that nothing changes so long as we only actually work with physical states. The Hamiltonian\n",
    "$$\\begin{aligned}\n",
    "\\tilde{H} &=  - \\sum_{\\langle j,k\\rangle_\\alpha} J^{\\alpha}\\tilde{\\sigma}_j^{\\alpha}\\tilde{\\sigma}_k^{\\alpha}\\\\\n",
    "          &= \\frac{i}{4} \\sum_{\\langle j,k\\rangle_\\alpha} 2J^{\\alpha} (ib^\\alpha_i b^\\alpha_j) c_i c_j\\\\\n",
    "          &=  \\frac{i}{4} \\sum_{\\langle i,j\\rangle_\\alpha} 2J^{\\alpha} \\hat{u}_{ij} \\hat{c}_i \\hat{c}_j\n",
    "\\end{aligned}$$"
   ]
  },
  {
   "cell_type": "markdown",
   "id": "38341bc2-091a-436a-97d3-106a6880d412",
   "metadata": {},
   "source": [
    "We can factor out the Majorana bond operators $\\hat{u}_{ij} = i b^\\alpha_i b^\\alpha_j$. Note that these bond operators are not equal to the spin bond operators $K_{ij} = \\sigma^\\alpha_i \\sigma^\\alpha_j = - \\hat{u}_{ij} c_i c_j$. In what follows we will work much more frequently with the Majorana bond operators so when I refer to bond operators without qualification, I am referring to the Majorana variety. \n",
    "\n",
    "Similar to the argument with the spin bond operators $K_{ij}$ we can quickly verify by considering three cases that the Majorana bond operators $u_{ij}$ all commute with one another. They square to one so have eigenvalues $\\pm 1$ and they also commute with the $c_i$ operators.\n",
    "\n",
    "Another important point here is that the operators $D_i = b^x_i b^y_i b^z_i c_i$ commute with $K_{ij}$ and therefore with $\\tilde{H}$. We will show later that the action of $D_i$ on a state is to flip the values of the three $u_{ij}$ bonds that connect to site $i$. Physically this is telling us that $u_{ij}$ is a gauge field with a high degree of degeneracy. \n",
    "\n",
    "In summary Majorana bond operators $u_{ij}$ are an emergent, classical, $\\mathbb{Z_2}$ gauge field!"
   ]
  },
  {
   "cell_type": "markdown",
   "id": "48926dbc-7f62-44d3-afd8-98147de9a973",
   "metadata": {},
   "source": [
    "### Partitioning the Hilbert Space into Bond sectors\n",
    "Similar to the story with the plaquette operators from the spin language, we can break the Hilbert space $\\mathcal{L}$ up into sectors labelled by the a set of choices $\\{\\pm 1\\}$ for the value of each $u_{ij}$ operator which I denote by $\\mathcal{L}_u$. Since $u_{ij} = -u_{ji}$ we can represent the $u_{ij}$ graphically with an arrow that points along each bond in the direction in which $u_{ij} = 1$.\n",
    "\n",
    "Once confined to a particular $\\mathcal{L}_u$, we can 'remove the hats' from the $\\hat{u}_{ij}$ and the hamiltonian becomes a quadratic, free fermion problem \n",
    "$$\\tilde{H_u} =  \\frac{i}{4} \\sum_{\\langle i,j\\rangle_\\alpha} 2J^{\\alpha} u_{ij} c_i c_j$$\n",
    "the ground state of which, $|\\psi_u\\rangle$ can be found easily via matrix diagonalisation. If you have been paying very close attention, you may at this point ask whether the $\\mathcal{L}_u$ are confined entirely within the physical subspace $\\mathcal{L}_p$ and indeed we will see that they are not. However it will be helpful to first develop the theory of the Majorana Hamiltonian a little more."
   ]
  },
  {
   "cell_type": "markdown",
   "id": "aab6d302-4f81-4fbb-8036-5f439f64aab8",
   "metadata": {},
   "source": [
    "<figure>\n",
    "<img src=\"../figure_code/amk_chapter/honeycomb_zoom/intro_figure_template.svg\" style = \"max-width:700px;\">\n",
    "<figcaption>\n",
    "**(a)** The standard Kitaev Model is defined on a honeycomb lattice. The special feature of the honeycomb lattice that makes the model solvable it is that each vertex is joined by exactly three bonds i.e the lattice is trivalent. One of three labels is assigned to each **(b)** We represent the antisymmetric gauge degree of freedom $u_{jk} = \\pm 1$ with arrows that point in the direction $u_{jk} = +1$ **(c)** The Majorana transformation can be visualised as breaking each spin into four Majoranas which then pair along the bonds. The pairs of x,y and z Majoranas become part of the classical $\\mathbb{Z}_2$ gauge field $u_{ij}$ leaving just a single Majorana $c_i$ per site.\n",
    "</figcaption>\n",
    "</figure>"
   ]
  },
  {
   "cell_type": "markdown",
   "id": "fe34f2e0-b628-4c53-97e3-9df6a5a6ca4c",
   "metadata": {},
   "source": [
    "## The Majorana Hamiltonian\n",
    "\n",
    "We now have a quadratic hamiltonian\n",
    "$$ \\tilde{H} =  \\frac{i}{4} \\sum_{\\langle i,j\\rangle_\\alpha} 2J^{\\alpha} u_{ij} c_i c_j$$\n",
    "in which most of the Majorana degrees of freedom have paired along bonds to become a classical gauge field $u_{ij}$. What follows is relatively standard theory for quadratic Majorana Hamiltonians @BlaizotRipka1986.\n",
    "\n",
    "As a consequence of the the antisymmetry of the matrix with entries $J^{\\alpha} u_{ij}$, the eigenvalues of the Hamiltonian $\\tilde{H}_u$ come in pairs $\\pm \\epsilon_m$. This redundant information is a consequence of the doubling of the Hilbert space which occurred when we transformed to the Majorana representation. "
   ]
  },
  {
   "cell_type": "markdown",
   "id": "484c5473-f3fd-4890-a841-f135e8b8efcb",
   "metadata": {},
   "source": [
    "If we pair organise the eigenmodes of $H$ into pairs such that $b_m$ and $b_m'$ have energies $\\epsilon_m$ and $-\\epsilon_m$ we can construct the transformation $Q$\n",
    "$$(c_1, c_2... c_{2N}) Q = (b_1, b_1', b_2, b_2' ... b_{N}, b_{N}')$$\n",
    "and put the Hamiltonian into the form\n",
    "$$\\tilde{H}_u = \\frac{i}{2} \\sum_m \\epsilon_m b_m b_m'$$"
   ]
  },
  {
   "cell_type": "markdown",
   "id": "d0e698a7-e19d-4eb9-8d6e-afaf9b2fb2aa",
   "metadata": {},
   "source": [
    "The determinant of $Q$ will be useful later when we consider the projector from $\\mathcal{\\tilde{L}}$ to $\\mathcal{L}$ but otherwise the $b_m$ are just an intermediate step. From them we form fermionic operators\n",
    "$$ f_i = \\tfrac{1}{2} (b_m + ib_m')$$\n",
    "with their associated number operators $n_i = f^\\dagger_i f_i$. These let us write the Hamiltonian neatly as\n",
    "\n",
    "$$ \\tilde{H}_u = \\sum_m \\epsilon_m (n_m - \\tfrac{1}{2}).$$\n",
    "\n",
    "The ground state $|n_m = 0\\rangle$ of the many body system at fixed $u$ is then\n",
    "$$E_{u,0} = -\\frac{1}{2}\\sum_m \\epsilon_m $$ and we can construct any state from a particular choice of $n_m = 0,1$.\n",
    "\n",
    "In cases where all we care about it the value of $E_{u,0}$ it is possible to skip forming the fermionic operators. The eigenvalues obtained directly from diagonalising $J^{\\alpha} u_{ij}$ come in $\\pm \\epsilon_m$ pairs. We can take half the absolute value of the whole set to recover $\\sum_m \\epsilon_m$ easily.\n",
    "\n",
    "__The Majorana Hamiltonian is quadratic within a Bond Sector.__"
   ]
  },
  {
   "cell_type": "markdown",
   "id": "a0ca617c-060a-4528-9c46-f7741df6b44f",
   "metadata": {},
   "source": [
    "### Mapping back from Bond Sectors to the Physical Subspace \n",
    "\n",
    "At this point, given a particular bond configuration $u_{ij} = \\pm 1$ we are able to construct a quadratic Hamiltonian $\\tilde{H}_u$ in the extended space and diagonalise it to find its ground state $|\\vec{u}, \\vec{n} = 0\\rangle$. This is not necessarily the ground state of the system as a whole, it just the lowest energy state within the subspace $\\mathcal{L}_u$\n",
    "\n",
    "__However, $|u, n_m = 0\\rangle$ does not lie in the physical subspace__. As an example let's take the lowest energy state associated with $u_{ij} = +1$, this state satisfies \n",
    "$$u_{ij} |\\vec{u}=1, \\vec{n} = 0\\rangle = |\\vec{u}=1, \\vec{n} = 0\\rangle$$\n",
    "for all bonds $i,j$."
   ]
  },
  {
   "cell_type": "markdown",
   "id": "dd377e2b-51d0-4454-9c7a-71796cea63e2",
   "metadata": {},
   "source": [
    "If we act on it this state with one of the gauge operators $D_j = b_j^x b_j^y b_j^z c_j$ we see that $D_j$ flips the value of the three bonds $u_{ij}$ that surround site $k$:\n",
    "\n",
    "$$ |u'\\rangle = D_j |u=1, n_m = 0\\rangle$$\n",
    "\n",
    "$$ \\begin{aligned}\n",
    "\\langle u'|u_{ij}|u'\\rangle &=  \\langle u| b_j^x b_j^y b_j^z c_j \\;ib^x_i b^x_j\\; b_j^x b_j^y b_j^z c_j|u\\rangle\\\\\n",
    "&= -1\n",
    "\\end{aligned}$$ \n",
    "\n",
    "Since $D_j$ commutes with the hamiltonian in the extended space $\\tilde{H}$, the fact that $D_j$ flips the value of bond operators is telling us that there is a gauge degeneracy between the ground state of $\\tilde{H}_u$ and the set of $\\tilde{H}_{u'}$ related to it by gauge transformations $D_j$. I.e we can flip any three bonds around a vertex and the physics will stay the same.\n",
    "\n",
    "We can turn this into a symmetrisation procedure by taking a superposition of every possible gauge transformation. Every possible gauge transformation is just every possible subset of ${D_0, D_1 ... D_n}$ which can be neatly expressed as \n",
    "$$|\\phi_w\\rangle = \\prod_i \\left( \\frac{1 + D_i}{2}\\right) |\\tilde{\\phi}_u\\rangle$$\n",
    "this is nice because the quantity $\\frac{1 + D_i}{2}$ is also the local projector onto the physical subspace. Here $|\\phi_w\\rangle$ is a gauge invariant state that lives in $\\mathcal{L}_p$ which has been constructed from a set of states in different $\\mathcal{L}_u$.\n",
    "\n",
    "This gauge degeneracy leads nicely onto the next topic which is how to construct a set of gauge invariant quantities out of the $u_{ij}$, these will turn out to just be the plaquette operators.\n",
    "\n",
    "__The Bond Sectors overlap with the physical subspace but are not contained within it.__"
   ]
  },
  {
   "cell_type": "markdown",
   "id": "df1e6e13-0445-4dcb-87ab-5ac34da540cc",
   "metadata": {},
   "source": [
    "### Open boundary conditions\n",
    "\n",
    "Care must be taken in the definition of open boundary conditions. Simply removing bonds from the lattice leaves behind unpaired $b^\\alpha$ operators that need to be paired in some way to arrive at fermionic modes. In order to fix a pairing we always start from a lattice defined on the torus and generate a lattice with open boundary conditions by defining the bond coupling $J^{\\alpha}_{ij} = 0$ for sites joined by bonds $(i,j)$ that we want to remove. This creates fermionic zero modes $u_{ij}$ associated with these cut bonds which we set to 1 when calculating the projector. \n",
    "\n",
    "Alternatively, since all the fermionic zero modes are degenerate anyway, an arbitrary pairing of the unpaired $b^\\alpha$ operators could be performed. __Is is possible that a lattice constructed and coloured like this would have unequal numbers of $b^x$ $b^y$ and $b^z$ operators?__"
   ]
  }
 ],
 "metadata": {
  "kernelspec": {
   "display_name": "Python 3 (ipykernel)",
   "language": "python",
   "name": "python3"
  },
  "language_info": {
   "codemirror_mode": {
    "name": "ipython",
    "version": 3
   },
   "file_extension": ".py",
   "mimetype": "text/x-python",
   "name": "python",
   "nbconvert_exporter": "python",
   "pygments_lexer": "ipython3",
   "version": "3.10.4"
  }
 },
 "nbformat": 4,
 "nbformat_minor": 5
}
