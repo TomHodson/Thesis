{
 "cells": [
  {
   "cell_type": "code",
   "execution_count": 8,
   "id": "5f81ad80-48f8-4e76-b9c6-c31972089e3d",
   "metadata": {
    "tags": []
   },
   "outputs": [
    {
     "data": {
      "text/html": [
       "<style>\n",
       "figure {\n",
       "    display: flex;\n",
       "    flex-direction: column;\n",
       "    align-items: center;\n",
       "}\n",
       "figure img {\n",
       "    max-width: 900px;\n",
       "    width: 80%;\n",
       "    margin-bottom: 2em;\n",
       "}\n",
       "figcaption {\n",
       "    aria-hidden: true;\n",
       "    max-width: 700px;\n",
       "}\n",
       "</style>\n"
      ],
      "text/plain": [
       "<IPython.core.display.HTML object>"
      ]
     },
     "metadata": {},
     "output_type": "display_data"
    }
   ],
   "source": [
    "%%html\n",
    "<style>\n",
    "figure {\n",
    "    display: flex;\n",
    "    flex-direction: column;\n",
    "    align-items: center;\n",
    "}\n",
    "figure img {\n",
    "    max-width: 900px;\n",
    "    width: 80%;\n",
    "    margin-bottom: 2em;\n",
    "}\n",
    "figcaption {\n",
    "    aria-hidden: true;\n",
    "    max-width: 700px;\n",
    "}\n",
    "</style>"
   ]
  },
  {
   "cell_type": "markdown",
   "id": "55eba9b3-ee36-4a8e-bc57-3476df9efc57",
   "metadata": {
    "tags": [],
    "toc-hr-collapsed": true
   },
   "source": [
    "# Introduction\n",
    "\n",
    "The Kitaev-Honeycomb model is remarkable because it was the first such model that combined three key properties.\n",
    "\n",
    "First, it is a plausible tight binding Hamiltonian. The form of the Hamiltonian could be realised by a real material. Indeed candidate materials such as $\\alpha\\mathrm{-RuCl}_3$ were quickly found [@banerjeeProximateKitaevQuantum2016; @trebstKitaevMaterials2022] that are expected to behave according to the Kitaev with small corrections. \n",
    "\n",
    "Second, the Kitaev Honeycomb model is deeply interesting to modern condensed matter theory. Its ground state is almost the canonical example of the long sought after quantum spin liquid state. Its excitations are anyons, particles that can only exist in two dimensions that break the normal fermion/boson dichotomy. Anyons have been the subject of much attention because, among other reasons, there are proposals to braid them through space and time to achieve noise tolerant quantum computations @freedmanTopologicalQuantumComputation2003. "
   ]
  },
  {
   "cell_type": "markdown",
   "id": "666970a6-f68b-4a80-a7e8-f44c906136fa",
   "metadata": {},
   "source": [
    "Third and perhaps most importantly, it a rare many body interacting quantum system that can be treated analytically. It is exactly solveable. We can explicitly write down its many body ground states in terms of single particle states @kitaevAnyonsExactlySolved2006. Its solubility comes about because the model has extensively many conserved degrees of freedom that mediate the interactions between quantum degrees of freedom.\n",
    "\n",
    "__Insert discussion of why a generalisation to the amorphous case is intersting__\n",
    "\n",
    "## Chapter outline\n",
    "\n",
    "In this chapter I will discuss the physics of the Kitaev Model on amorphous lattices. \n",
    "\n",
    "I'll start by discussing the physics of the Kitaev model in much more detail. Here I will look at the gauge symmetries of the model as well as its solution via a transformation to a Majorana hamiltonian. From this discusssion we will see that for the the model to be sovleable it need only be defined on a trivalent, tri-edge-colourable lattice [@Nussinov2009]. \n",
    "\n",
    "In the methods section, I will discuss how to generate such lattices and colour them as well as how to map back and forth between configurations of the gauge field and configurations of the gauge invariant quantities.\n",
    "\n",
    "In results section, I will begin by looking at the zero temperature physics. I'll present numerical evidence that the ground state of the model is given by a simple rule. I'll make an assessment of the gapless, abelian and non-abelian phases that are present as well as spontaneous chiral symmetry breaking and topological edge states. We will also compare the zero temperature phase diagram to that of the Kitaev Honeycomb Model. Next I will take the model to finite temperature and demonstrate that there is a phase transition to a thermal metal state.\n",
    "\n",
    "In the Discussion I will consider possible physical realisations of this model as well the motivations for doing so. I will alao discuss how a well known quantum error correcting code defined on the Kitaev Honeycomb could be generalised to the amorphous case."
   ]
  },
  {
   "cell_type": "markdown",
   "id": "1e4d8021-9037-47c2-ad52-a34234220e5d",
   "metadata": {},
   "source": [
    "Various generalisations have been made, one mode replaces pairs of hexagons with heptagons and pentagons \\cite{periNonAbelianChiralSpin2020} and another that replaces vertices of the hexagons with triangles \\cite{yaoExactChiralSpin2007}. When we generalise this to the amorphous case, the key property that will remain is that each vertex interacts with exactly three others via an x, y and z edge. However the lattice will no longer be bipartite, breaking chiral symmetry among other things. \n",
    "\n",
    "\n",
    "## Kitaev-Heisenberg Model\n",
    "In real materials there will generally be an addtional small Heisenberg term\n",
    "$$H_{KH} =  - \\sum_{\\langle j,k\\rangle_\\alpha} J^{\\alpha}\\sigma_j^{\\alpha}\\sigma_k^{\\alpha} + \\sigma_j\\sigma_k$$"
   ]
  },
  {
   "cell_type": "markdown",
   "id": "150baefd-f68d-4d84-a34a-55156d8e9ef4",
   "metadata": {
    "tags": []
   },
   "source": [
    "# An in-depth look at the Kitaev Model\n",
    "\n",
    "## Commutation relations\n",
    "Before diving into the Hamiltonian of the Kitaev Model, here is a quick refresher of the key commutation relations of spins, fermions and Majoranas.\n",
    "\n",
    "### Spins\n",
    "Skip this is you're super familiar with the algebra of the Pauli martrices. Scalars like $\\delta_{ij}$ should be understood to be multiplied by an implicit identity $\\mathbb{1}$ where necessary.\n",
    "\n",
    "We can represent a single spin$-1/2$ particle using the Pauli matrices $(\\sigma^x, \\sigma^y, \\sigma^z) = \\vec{\\sigma}$, these matrices all square to the identity $\\sigma^\\alpha \\sigma^\\alpha = \\mathbb{1}$ and obey nice commutation and exchange rules:\n",
    "$$\\sigma^\\alpha \\sigma^\\beta = \\delta^{\\alpha \\beta} + i \\epsilon^{\\alpha \\beta \\gamma} \\sigma^\\gamma$$\n",
    "$$[\\sigma^\\alpha, \\sigma^\\beta] = 2 i \\epsilon^{\\alpha \\beta \\gamma} \\sigma^\\gamma$$"
   ]
  },
  {
   "cell_type": "markdown",
   "id": "c6e816a8-9f57-45e1-819b-6c058952ceaf",
   "metadata": {
    "tags": []
   },
   "source": [
    "Adding a sites indices $ijk...$, spins at different spatial sites commute always $[\\vec{\\sigma}_i, \\vec{\\sigma}_j] = 0$ so when $i \\neq j$\n",
    "$$\\sigma_i^\\alpha \\sigma_j^\\beta = \\sigma_j^\\alpha \\sigma_i^\\beta$$\n",
    "$$[\\sigma_i^\\alpha, \\sigma_j^\\beta] = 0$$\n",
    "while the previous equations hold for $i = j$."
   ]
  },
  {
   "cell_type": "markdown",
   "id": "d6c4fc9d-bba2-4c25-af5f-f1f247287c4e",
   "metadata": {},
   "source": [
    "Two extra relations that will be useful for the Kitaev model are the value of $\\sigma^\\alpha \\sigma^\\beta \\sigma^\\gamma$ and $[\\sigma^\\alpha \\sigma^\\beta, \\sigma^\\gamma]$ when $\\alpha \\neq \\beta \\neq \\gamma$ these can be computed quite easily by appling the above relations yielding:\n",
    "$$\\sigma^\\alpha \\sigma^\\beta \\sigma^\\gamma = i \\epsilon^{\\alpha\\beta\\gamma}$$\n",
    "and\n",
    "$$[\\sigma^\\alpha \\sigma^\\beta, \\sigma^\\gamma] = 0$$"
   ]
  },
  {
   "cell_type": "markdown",
   "id": "b618a3df-360b-4e6e-976e-fda336683794",
   "metadata": {},
   "source": [
    "### Fermions and Majoranas\n",
    "The fermionic creation and anhilation operators are defined by the canonical anticommutation relations\n",
    "$$\\begin{aligned}\n",
    "\\{f_i, f_j\\} &= \\{f^\\dagger_i, f^\\dagger_j\\} = 0\\\\\n",
    "\\{f_i, f^\\dagger_j\\} &= \\delta_{ij}\n",
    "\\end{aligned}$$\n",
    "which give us the exchange statistics and Pauli exclusion principle.\n",
    "\n",
    "From fermionic operators, we can construct Majorana operators:\n",
    "$$\\begin{aligned}\n",
    "f_i         &= 1/2 (a_i + ib_i)\\\\\n",
    "f^\\dagger_i &= 1/2(a_i - ib_i)\\\\\n",
    "a_i         &= f_i + f^\\dagger_i = 2\\mathbb{R}f\\\\\n",
    "b_i         &= 1/i(f_i - f^\\dagger_i) = 2\\mathbb{I} f \n",
    "\\end{aligned}$$\n",
    "\n",
    "Majorana operators are the real and imaginary parts of the fermionic operators, physically they correspond to the orthogonal superpositions of the presence and absence of the fermion and are thus a kind of quasiparticle.\n",
    "\n",
    "Once we involve multiple fermions there is quite a bit of freedom in how we can perform the transformation from $n$ fermions $f_i$ to $2n$ Majoranas $c_i$. The property that must be preserved however is that the Majoranas still anticommute:\n",
    "\n",
    "$$ \\{c_i, c_j\\} = 2\\delta_{ij}$$"
   ]
  },
  {
   "cell_type": "markdown",
   "id": "95a017dd-cef3-4f7f-94c3-b6797d4a93e3",
   "metadata": {},
   "source": [
    "## The Hamiltonian\n",
    "To get down to brass tacks, the Kitaev Honeycomb model is a model of interacting spin$-1/2$s on the vertices of a honeycomb lattice. Each bond in the lattice is assigned a label $\\alpha \\in \\{ x, y, z\\}$ and that bond couples its two spin neighbours along the $\\alpha$ axis. See +@fig:visual_kitaev_1 for a diagram."
   ]
  },
  {
   "cell_type": "markdown",
   "id": "13fcc614-b503-4f36-b658-338cbf0d413c",
   "metadata": {},
   "source": [
    "This gives us the Hamiltonian\n",
    "$$H =  - \\sum_{\\langle j,k\\rangle_\\alpha} J^{\\alpha}\\sigma_j^{\\alpha}\\sigma_k^{\\alpha},$$\n",
    "where $\\sigma^\\alpha_j$ is a Pauli matrix acting on site $j$ and $\\langle j,k\\rangle_\\alpha$ is a pair of nearest-neighbour indices connected by an $\\alpha$-bond with exchange coupling $J^\\alpha$ @kitaevAnyonsExactlySolved2006. For notational brevity is is useful to introduce the bond operators $K_{ij} = \\sigma_j^{\\alpha}\\sigma_k^{\\alpha}$ where $\\alpha$ is a function of $i,j$ that picks the correct bond type."
   ]
  },
  {
   "cell_type": "markdown",
   "id": "a1ad042b-a030-4997-9c2d-b21f38506b7f",
   "metadata": {},
   "source": [
    "<figure>\n",
    "<img src=\"../figure_code/amk_chapter/visual_kitaev_1.svg\" style=\"max-width:700px\"/>\n",
    "</figure>"
   ]
  },
  {
   "cell_type": "markdown",
   "id": "2ac8af51-2753-49b8-a7ad-d480f13994f5",
   "metadata": {},
   "source": [
    "@fig:vis_kitaev_1"
   ]
  },
  {
   "cell_type": "markdown",
   "id": "eb7ef3c3-d977-41b0-9d22-1d731484607b",
   "metadata": {},
   "source": [
    "This Kitaev model has a set of conserved quantities that, in the spin language, take the form of Wilson loop operators $W_p$ winding around a closed path on the lattice. The direction doesn't matter, but I will stick to clockwise here. I'll use the term plaquette and the symbol $\\phi$ to refer to a Wilson loop operator that does not enclose any other sites, such as a single hexagon in a honeycomb lattice. \n",
    "\n",
    "$$W_p = \\prod_{\\mathrm{i,j}\\; \\in\\; p} K_{ij} = \\sigma_1^z \\sigma_2^x \\sigma_2^y \\sigma_3^y .. \\sigma_n^y \\sigma_n^y \\sigma_1^z$$\n",
    "\n",
    "__add a diagram of a single plaquette with labelled site and bond types__"
   ]
  },
  {
   "cell_type": "markdown",
   "id": "ed6f5d1e-f0b8-4c90-8175-25efd75672a0",
   "metadata": {},
   "source": [
    "In closed loops, each site appears twice in the product with two of the three bond types. Applying $\\sigma^\\alpha \\sigma^\\beta = \\epsilon^{\\alpha \\beta \\gamma} \\sigma^\\gamma, \\alpha \\neq \\beta$ then gives us a product containing a single pauli matrix associated with each site in the loop with the type of the _outward_ pointing bond. From this we see that the $W_p$ associated with hexagons or shapes with an even number of sides all square to 1 and hence have eigenvalues $\\pm 1$.\n",
    "\n",
    "A consequence of the fact that the honeycomb lattice is bipartite is that there are no closed loops that contain an even number of edges[^bipartite] and hence all the $W_p$ have eigenvalues $\\pm 1$ on bipartite lattices. Later we will show that plaquettes with an odd number of sides (odd plaquettes for short) will have eigenvalues $\\pm i$.\n",
    "\n",
    "<figure>\n",
    "<img src=\"../figure_code/amk_chapter/regular_plaquettes/regular_plaquettes.svg\" style=\"max-width:600px\">\n",
    "<figcaption>\n",
    "    The eigenvalues of a loop or plaquette operators depend on how many bonds in its enclosing path. \n",
    "</figcaption>\n",
    "</figure>\n",
    "\n",
    "[^bipartite]: A bipartite lattice is composed of A and B sublattices with no intra-sublattice edges i.e no A-A or B-B edges. Any closed loop must begin and at the same site, let's say it's an A site. The loop must go A-B-A-B... until it returns to the original site and must therefore must contain an even number of edges in order to end on the same sublattice that it started on."
   ]
  },
  {
   "cell_type": "markdown",
   "id": "d6f30e49-56f6-4ac6-8fd8-49b36489aa69",
   "metadata": {},
   "source": [
    "Remarkably, all of the spin bond operators $K_{ij}$ commute with all the Wilson loop operators $W_p$.\n",
    "$$[W_p, J_{ij}] = 0$$\n",
    "We can prove this by considering the three cases:\n",
    "1. neither $i$ nor $j$ is part of the loop\n",
    "2. one of $i$ or $j$ are part of the loop\n",
    "3. both are part of the loop\n",
    "\n",
    "The first case is trivial while the other two require a bit of algebra, outlined in +@fig:visual_kitaev_2."
   ]
  },
  {
   "cell_type": "markdown",
   "id": "63dc18fa-2cc4-4a0c-921b-370d3f925dee",
   "metadata": {},
   "source": [
    "<figure>\n",
    "<img src=\"../figure_code/amk_chapter/visual_kitaev_2.svg\" style = \"max-width:1000px;\"/>\n",
    "</figure>"
   ]
  },
  {
   "cell_type": "markdown",
   "id": "a647eb43-25bb-4bbd-b28c-452ab451617f",
   "metadata": {
    "tags": [],
    "toc-hr-collapsed": true
   },
   "source": [
    "Since the Hamiltonian is just a linear combination of bond operators, it also commutes with the plaquette operators! This is great because it means that the there's a simultaneous eigenbasis for the Hamiltonian and the plaquette operators. We can thus work in a basis in which the eigenvalues of the plaquette operators take on a definite value and for all intents and purposes act like classical degrees of freedom. These are the extensively many conserved quantities that make the model tractable.\n",
    "\n",
    "Plaquette operators measure flux. We will find that the ground state of the model corresponds to some particular choice of flux through each plaquette. I will refer to excitations which flip the expectation value of a plaqutte operator away from the ground state as __vortices__.\n",
    "\n",
    "Fixing a configuration of the vortices thus partitions the many-body Hilbert space into a set of 'vortex sectors' labelled by that particular flux configuration $\\phi_i = \\pm 1,\\pm i$."
   ]
  },
  {
   "cell_type": "markdown",
   "id": "8256330c-68b8-4b8e-8bdb-efbec940c05e",
   "metadata": {
    "tags": [],
    "toc-hr-collapsed": true
   },
   "source": [
    "## From Spins to Majorana operators\n",
    "### For a single spin\n",
    "Let's start by considering just one site and its $\\sigma^x, \\sigma^y$ and $\\sigma^z$ operators which live in a two dimensional Hilbert space $\\mathcal{L}$. \n",
    "\n",
    "We will introduce two fermionic modes $f$ and $g$ that satisy the canonical anticommutation relations along with their number operators $n_f = f^\\dagger f, n_g = g^\\dagger g$ and the total fermionic parity operator $F_p = (2n_f - 1)(2n_g - 1)$ which we can use to divide their Fock space up into even and odd parity subspaces which are separated by the addition or removal of one fermion.\n",
    "\n",
    "From these two fermionic modes we can build four Majorana operators:\n",
    "$$\\begin{aligned}\n",
    "b^x &= f + f^\\dagger\\\\\n",
    "b^y &= -i(f - f^\\dagger)\\\\\n",
    "b^z &= g + g^\\dagger\\\\\n",
    "c   &= -i(g - g^\\dagger)\n",
    "\\end{aligned}$$"
   ]
  },
  {
   "cell_type": "markdown",
   "id": "a7e13445-8f79-4604-b7fb-4e035f70105c",
   "metadata": {},
   "source": [
    "The Majoranas obey the usual commutation relations, squaring to one and anticommuting with eachother. The fermions and Majorana live in a 4 dimenional Fock space $\\mathcal{\\tilde{L}}$. We can therefore identify the two dimensional space $\\mathcal{M}$ with one of the partity subspaces of $\\mathcal{\\tilde{L}}$ which we will call the _physical subspace_ $\\mathcal{\\tilde{L}}_p$. Kitaev defines the operator \n",
    "$$D = b^xb^yb^zc$$\n",
    "which can be expanded out to\n",
    "$$D = -(2n_f - 1)(2n_g - 1) = -F_p$$\n",
    "and labels the physical subspace as the space sanned by states for which \n",
    "$$ D|\\phi\\rangle = |\\phi\\rangle$$"
   ]
  },
  {
   "cell_type": "markdown",
   "id": "707f6ab4-fcb2-419a-9422-1feb70dc66f4",
   "metadata": {},
   "source": [
    "We can also think of the physical subspace as whatever is left after applying the projector \n",
    "$$P  = \\frac{1 - D}{2}$$\n",
    "to it. This formulation will be useful for taking states that span the extended space $\\mathcal{\\tilde{M}}$ and projecting them into the physical subspace. "
   ]
  },
  {
   "cell_type": "markdown",
   "id": "f6e8e0a6-d1ad-482f-b2b9-f6362ddbef85",
   "metadata": {},
   "source": [
    "So now, with the caveat that we are working in the physical subspace, we can define new pauli operators:\n",
    "\n",
    "$$\\tilde{\\sigma}^x = i b^x c,\\; \\tilde{\\sigma}^y = i b^y c,\\; \\tilde{\\sigma}^y = i b^y c$$\n",
    "\n",
    "These extended space pauli operators satisfy all the usual commutation relations, the only difference being that if we evaluate $\\sigma^x \\sigma^y \\sigma^z = i$ we instead get\n",
    "$$ \\tilde{\\sigma}^x\\tilde{\\sigma}^y\\tilde{\\sigma}^z = iD $$\n",
    "\n",
    "Which indeed makes sense, as long as we promise to confine ourselves to the physical subspace $D = 1$ and this all makes sense."
   ]
  },
  {
   "cell_type": "markdown",
   "id": "c28db91a-1701-4f14-83e8-53e41d8593f4",
   "metadata": {},
   "source": [
    "<figure>\n",
    "<img src=\"../figure_code/majorana.png\" style = \"max-width:500px;\"/>\n",
    "</figure>"
   ]
  },
  {
   "cell_type": "markdown",
   "id": "302b921e-deb6-4074-9edb-3532203f06b8",
   "metadata": {},
   "source": [
    "### For multiple spins\n",
    "\n",
    "This construction generalises easily to the case of multiple spins: we get a set of 4 Majoranas $b^x_j,\\; b^y_j,\\;b^z_j,\\; c_j$ and a $D_j = b^x_jb^y_jb^z_jc_j$ operator for every spin. For a state to be physical we require that $D_j |\\psi\\rangle = |\\psi\\rangle$ for all $j$.\n",
    "\n",
    "From these each Pauli operator can be constructed:\n",
    "$$\\tilde{\\sigma}^\\alpha_j = i b^\\alpha_j c_j$$\n",
    "\n",
    "This is where the magic happens. We can promote the spin hamiltonian from $\\mathcal{L}$ into the extended space $\\mathcal{\\tilde{L}}$, safe in the knowledge that nothing changes so long as we only actually work with physical states. The Hamiltonian\n",
    "$$\\begin{aligned}\n",
    "\\tilde{H} &=  - \\sum_{\\langle j,k\\rangle_\\alpha} J^{\\alpha}\\tilde{\\sigma}_j^{\\alpha}\\tilde{\\sigma}_k^{\\alpha}\\\\\n",
    "          &= \\frac{i}{4} \\sum_{\\langle j,k\\rangle_\\alpha} 2J^{\\alpha} (ib^\\alpha_i b^\\alpha_j) c_i c_j\\\\\n",
    "          &=  \\frac{i}{4} \\sum_{\\langle i,j\\rangle_\\alpha} 2J^{\\alpha} \\hat{u}_{ij} \\hat{c}_i \\hat{c}_j\n",
    "\\end{aligned}$$"
   ]
  },
  {
   "cell_type": "markdown",
   "id": "38341bc2-091a-436a-97d3-106a6880d412",
   "metadata": {},
   "source": [
    "We can factor out the Majorana bond operators $\\hat{u}_{ij} = i b^\\alpha_i b^\\alpha_j$. Note that these bond operators are not equal to the spin bond operators $K_{ij} = \\sigma^\\alpha_i \\sigma^\\alpha_j = - \\hat{u}_{ij} c_i c_j$. In what follows we will work much more frequently with the Majorana bond operators so when I refer to bond operators without qualification, I am refering to the Majorana variety. \n",
    "\n",
    "Similar to the argument with the spin bond operators $K_{ij}$ we can quickly verify by considering three cases that the Majorana bond operators $u_{ij}$ all commute with one another. They square to one so have eigenvalues $\\pm 1$ and they also commute with the $c_i$ operators.\n",
    "\n",
    "Another important point here is that the operators $D_i = b^x_i b^y_i b^z_i c_i$ commute with $K_{ij}$ and therefore with $\\tilde{H}$. We will show later that the action of $D_i$ on a state is to flip the values of the three $u_{ij}$ bonds that connect to site $i$. Physcially this is telling us that $u_{ij}$ is a gauge field with a high degree of degeneracy. \n",
    "\n",
    "In summary Majorana bond operators $u_{ij}$ are an emergent, classical, $\\mathbb{Z_2}$ gauge field!"
   ]
  },
  {
   "cell_type": "markdown",
   "id": "48926dbc-7f62-44d3-afd8-98147de9a973",
   "metadata": {},
   "source": [
    "## Partitioning the Hilbert Space into Bond sectors\n",
    "Similar to the story with the plaquette operators from the spin language, we can break the Hilbert space $\\mathcal{L}$ up into sectors labelled by the a set of choices $\\{\\pm 1\\}$ for the value of each $u_{ij}$ operator which I denote by $\\mathcal{L}_u$. Since $u_{ij} = -u_{ji}$ we can represent the $u_{ij}$ graphically with an arrow that points along each bond in the direction in which $u_{ij} = 1$.\n",
    "\n",
    "Once confined to a particular $\\mathcal{L}_u$, we can 'remove the hats' from the $\\hat{u}_{ij}$ and the hamiltonian becomes a quadratic, free fermion problem \n",
    "$$\\tilde{H_u} =  \\frac{i}{4} \\sum_{\\langle i,j\\rangle_\\alpha} 2J^{\\alpha} u_{ij} c_i c_j$$\n",
    "the ground state of which, $|\\psi_u\\rangle$ can be found easily via matrix diagonalisation. If you have been paying very close attention, you may at this point ask whether the $\\mathcal{L}_u$ are confined entirely within the physical subspace $\\mathcal{L}_p$ and indeed we will see that they are not. However it will be helpful to first develop the theory of the Majorana Hamiltonian a little more."
   ]
  },
  {
   "cell_type": "markdown",
   "id": "aab6d302-4f81-4fbb-8036-5f439f64aab8",
   "metadata": {},
   "source": [
    "<figure>\n",
    "<img src=\"../figure_code/amk_chapter/honeycomb_zoom/intro_figure_template.svg\" style = \"max-width:700px;\">\n",
    "<figcaption>\n",
    "**(a)** The standard Kitaev Model is defined on a honeycomb lattice. The special feature of the honeycomb lattice that makes the model solveable it is that each vertex is joined by exactly three bonds i.e the lattice is trivalent. One of three labels is assigned to each **(b)** We represent the antisymmetric gauge degree of freedom $u_{jk} = \\pm 1$ with arrows that point in the direction $u_{jk} = +1$ **(c)** The Majorana transformation can be visualised as breaking each spin into four Majoranas which then pair along the bonds. The pairs of x,y and z Majoranas become part of the classical $\\mathbb{Z}_2$ gauge field $u_{ij}$ leaving just a single Majorana $c_i$ per site.\n",
    "</figcaption>\n",
    "</figure>"
   ]
  },
  {
   "cell_type": "markdown",
   "id": "fe34f2e0-b628-4c53-97e3-9df6a5a6ca4c",
   "metadata": {},
   "source": [
    "## The Majorana Hamiltonian\n",
    "\n",
    "We now have a quadtratic hamiltonian\n",
    "$$ \\tilde{H} =  \\frac{i}{4} \\sum_{\\langle i,j\\rangle_\\alpha} 2J^{\\alpha} u_{ij} c_i c_j$$\n",
    "in which most of the Majorana degrees of freedom have paired along bonds to become a classical gauge field $u_{ij}$. What follows is relatively standard theory for quadratic Majorana Hamiltonians @BlaizotRipka1986.\n",
    "\n",
    "As a consequence of the the antisymmetry of the matrix with entries $J^{\\alpha} u_{ij}$, the eigenvalues of the Hamiltonian $\\tilde{H}_u$ come in pairs $\\pm \\epsilon_m$. This redundant information is a consequence of the doubling of the Hilbert space which occured when we transformed to the Majorana representation. "
   ]
  },
  {
   "cell_type": "markdown",
   "id": "484c5473-f3fd-4890-a841-f135e8b8efcb",
   "metadata": {},
   "source": [
    "If we pair organise the eigenmodes of $H$ into pairs such that $b_m$ and $b_m'$ have energies $\\epsilon_m$ and $-\\epsilon_m$ we can construct the transformation $Q$\n",
    "$$(c_1, c_2... c_{2N}) Q = (b_1, b_1', b_2, b_2' ... b_{N}, b_{N}')$$\n",
    "and put the Hamiltonian into the form\n",
    "$$\\tilde{H}_u = \\frac{i}{2} \\sum_m \\epsilon_m b_m b_m'$$"
   ]
  },
  {
   "cell_type": "markdown",
   "id": "d0e698a7-e19d-4eb9-8d6e-afaf9b2fb2aa",
   "metadata": {},
   "source": [
    "The determinant of $Q$ will be useful later when we consider the projector from $\\mathcal{\\tilde{L}}$ to $\\mathcal{L}$ but otherwise the $b_m$ are just an intermediate step. From them we form fermionic operators\n",
    "$$ f_i = \\tfrac{1}{2} (b_m + ib_m')$$\n",
    "with their associated number operators $n_i = f^\\dagger_i f_i$. These let us write the Hamiltonian neatly as\n",
    "\n",
    "$$ \\tilde{H}_u = \\sum_m \\epsilon_m (n_m - \\tfrac{1}{2}).$$\n",
    "\n",
    "The ground state $|n_m = 0\\rangle$ of the many body system at fixed $u$ is then\n",
    "$$E_{u,0} = -\\frac{1}{2}\\sum_m \\epsilon_m $$ and we can construct any state from a particular choice of $n_m = 0,1$.\n",
    "\n",
    "In cases where all we care about it the value of $E_{u,0}$ it is possible to skip forming the fermionic operators. The eigenvalues obtained directly from diagonalising $J^{\\alpha} u_{ij}$ come in $\\pm \\epsilon_m$ pairs. We can take half the absolute value of the whole set to recover $\\sum_m \\epsilon_m$ easily.\n",
    "\n",
    "__The Majorana Hamiltonian is quadratic within a Bond Sector.__"
   ]
  },
  {
   "cell_type": "markdown",
   "id": "a0ca617c-060a-4528-9c46-f7741df6b44f",
   "metadata": {},
   "source": [
    "## Mapping back from Bond Sectors to the Physical Subspace \n",
    "\n",
    "At this point, given a particular bond configuration $u_{ij} = \\pm 1$ we are able to construct a quadratic Hamiltonian $\\tilde{H}_u$ in the extended space and diagonalise it to find its ground state $|\\vec{u}, \\vec{n} = 0\\rangle$. This is not necessarily the ground state of the system as a whole, it just the lowest energy state within the subspace $\\mathcal{L}_u$\n",
    "\n",
    "__However, $|u, n_m = 0\\rangle$ does not lie in the physical subspace__. As an example let's take the lowest energy state associated with $u_{ij} = +1$, this state satisfies \n",
    "$$u_{ij} |\\vec{u}=1, \\vec{n} = 0\\rangle = |\\vec{u}=1, \\vec{n} = 0\\rangle$$\n",
    "for all bonds $i,j$."
   ]
  },
  {
   "cell_type": "markdown",
   "id": "dd377e2b-51d0-4454-9c7a-71796cea63e2",
   "metadata": {},
   "source": [
    "If we act on it this state with one of the gauge operators $D_j = b_j^x b_j^y b_j^z c_j$ we see that $D_j$ flips the value of the three bonds $u_{ij}$ that surround site $k$:\n",
    "\n",
    "$$ |u'\\rangle = D_j |u=1, n_m = 0\\rangle$$\n",
    "\n",
    "$$ \\begin{aligned}\n",
    "\\langle u'|u_{ij}|u'\\rangle &=  \\langle u| b_j^x b_j^y b_j^z c_j \\;ib^x_i b^x_j\\; b_j^x b_j^y b_j^z c_j|u\\rangle\\\\\n",
    "&= -1\n",
    "\\end{aligned}$$ \n",
    "\n",
    "Since $D_j$ commutes with the hamiltonian in the extended space $\\tilde{H}$, the fact that $D_j$ flips the value of bond operators is telling us that there is a gauge degeneracy between the ground state of $\\tilde{H}_u$ and the set of $\\tilde{H}_{u'}$ related to it by gauge transformations $D_j$. I.e we can flip any three bonds around a vertex and the physics will stay the same.\n",
    "\n",
    "We can turn this into a symmetrisation procedure by taking a superposition of every possible gauge transformation. Every possible gauge transformation is just every possible subset of ${D_0, D_1 ... D_n}$ which can be neatly expressed as \n",
    "$$|\\phi_w\\rangle = \\prod_i \\left( \\frac{1 + D_i}{2}\\right) |\\tilde{\\phi}_u\\rangle$$\n",
    "this is nice because the quantity $\\frac{1 + D_i}{2}$ is also the local projector onto the physical subspace. Here $|\\phi_w\\rangle$ is a gauge invariant state that lives in $\\mathcal{L}_p$ which has been constructed from a set of states in different $\\mathcal{L}_u$.\n",
    "\n",
    "This gauge degeneracy leads nicely onto the next topic which is how to construct a set of gauge invariant quantities out of the $u_{ij}$, these will turn out to just be the plaquette operators.\n",
    "\n",
    "__The Bond Sectors overlap with the physical subspace but are not contained within it.__"
   ]
  },
  {
   "cell_type": "markdown",
   "id": "ffa0bd7f-2658-42df-96cb-47e46efd7301",
   "metadata": {
    "toc-hr-collapsed": true
   },
   "source": [
    "## Properties of the Gauge Field"
   ]
  },
  {
   "cell_type": "markdown",
   "id": "af1a5221-c192-49cf-bd99-5c3afadf8cbe",
   "metadata": {},
   "source": [
    "The bond operators $u_{ij}$ are useful because they label a bond sector $\\mathcal{\\tilde{L}}_u$ in which we can easiy solve the Hamiltonian. However the gauge operators move us between bond sectors. __Bond sectors are not gauge invariant!__\n",
    "\n",
    "Let's consider instead the properties of the plaquette operators $\\hat{\\phi}_i$ that live on the faces of the lattice. \n",
    "\n",
    "We already showed that they are conserved. And as one might hope and expect, the plaquette operators map cleanly on to the bond operators of the Majorana representation:\n",
    "\n",
    "$$\\begin{aligned}\n",
    "\\tilde{W}_p &= \\prod_{\\mathrm{i,j}\\; \\in\\; p} \\tilde{K}_{ij}\\\\\n",
    "            &= \\prod_{\\mathrm{i,j}\\; \\in\\; p} \\tilde{\\sigma}_i^\\alpha \\tilde{\\sigma}_j^\\alpha\\\\\n",
    "            &= \\prod_{\\mathrm{i,j}\\; \\in\\; p} (ib^\\alpha_i c_i)(ib^\\alpha_j c_j)\\\\\n",
    "            &= \\prod_{\\mathrm{i,j}\\; \\in\\; p} i u_{ij} c_i c_j\\\\\n",
    "            &= \\prod_{\\mathrm{i,j}\\; \\in\\; p} i u_{ij}\n",
    "\\end{aligned}$$\n",
    "\n",
    "Where the last steps holds because each $c_i$ appears exactly twice and adjacent to its neighbour in each plaquette operator. Note that this is consistent with the observation from earlier that each $W_p$ takes values $\\pm 1$ for even paths and $\\pm i$ for odd paths.\n",
    "\n",
    "### Vortices and their movements\n",
    "\n",
    "Let's imagine we started from the ground state of the model and flipped the sign of a single bond. In doing so we will flip the sign of the two plaquettes adjacent to that bond. I'll call these disturbed plaquettes _vortices_. I'll refer to a particular choice values for the plaquette operators as a vortex sector.\n",
    "\n",
    "If we chain multiple bond flips we can create a pair of vortices at arbitrary locations. The chain of bonds that we must flip corresponds to a path on the dual of the lattice. \n",
    "\n",
    "Something else we can do is create a pair of vortices, move one around a loop and then anhilate it with its partner. This corresponds to a closed loop on the dual lattice and applying such a bond flip leaves the vortex sector unchanged. \n",
    "\n",
    "Notice that the $D_j$ operators flip three bonds around a vertex. This is the smallest closed loop around which one can move a vortex pair and anhilate it with itself. \n",
    "\n",
    "Such operations compose in the sense that we can build any larger loop by applying a series of $D_j$ operations. Indeed the symetrisation procedure $\\prod_i \\left( \\frac{1 + D_i}{2}\\right)$ that maps from the bond sector to a physical state is applying constructing a superposition over every such loop that leaves the vortex sector unchanged.\n",
    "\n",
    "The only loops that we cannot build out of $D_j$s are non-contractible loops, such as those that span the major or minor circumference of the torus.\n",
    "\n",
    "__The plaquette operators are the gauge invariant quantity that determines the physics of the model__"
   ]
  },
  {
   "cell_type": "markdown",
   "id": "5eb60a28-e742-4f98-bd47-2eb1ec1aa961",
   "metadata": {},
   "source": [
    "### Composition of $u_{jk}$ loops \n",
    "\n",
    "<figure style>\n",
    "<img src=\"../figure_code/amk_chapter/plaquette_addition/plaquette_addition_by_hand.svg\" style=\"max-width:400px;\">\n",
    "<figcaption>\n",
    "In the product of individual plaquette operators shared bonds cancel out. The product is equal to the enclosing path.\n",
    "</figcaption>\n",
    "</figure>\n",
    "\n",
    "Second it is now easy to show that the loops and plaquettes satisfy nice composition rules, so long as we stick to loops that wind in a particular direction. \n",
    "\n",
    "Consider the product of two non-overlapping loops $W_a$ and $W_b$ that share an edge $u_{12}$. Since the two loops both wind clockwise and do not overlap, one will contain a term $i u_{12}$ and the other $i u_{21}$. Since the $u_{ij}$ commute with one another, they square to $1$ and $u_{ij} = -u_{ji}$ we see have $i u_{12} i u_{21} = 1$ and we can repeat this for any number of shared edges. Hence, we get a version of Stokes' theorem: the product of $i u_{jk}$ around any closed loop $\\partial A$ is equal to the product of plaquette operators $\\Phi$ that span the area $A$ enclosed by that loop:\n",
    "$$\\prod_{u_{jk} \\in \\partial A} i \\; u_{jk} = \\prod_{\\phi_i \\in A} \\phi_i$$\n",
    "\n",
    "<figure>\n",
    "<img src=\"../figure_code/amk_chapter/stokes_theorem/stokes_theorem.svg\" style=\"max-width:500px;\">\n",
    "<figcaption>\n",
    "The loop composition rule extends to arbitrary numbers of vortices giving a discrete version of Stoke's theorem.\n",
    "</figcaption>\n",
    "</figure>\n",
    "\n",
    "__Wilson loops can always be decomposed into products of plaquettes operators unless they are non-contractable__"
   ]
  },
  {
   "cell_type": "markdown",
   "id": "b87340eb-e9bc-485d-a0db-5815fa6155f1",
   "metadata": {},
   "source": [
    "### Gauge Degeneracy and the Euler Equation\n",
    "We can check this analysis with a counting argument. For a lattice with $B$ bonds, $P$ plaquettes and $V$ vertices we can count how many bond sectors, vortices sectors and gauge symmetries there are and check them against Euler's polyhedra equation.\n",
    "\n",
    "Euler's equation states for a closed surface of genus $g$, i.e that has $g$ holes so $0$ for the sphere, $1$ for the torus and $g$ for $g$ tori stuck together\n",
    "$$B = P + V + 2 - 2g$$"
   ]
  },
  {
   "cell_type": "markdown",
   "id": "167f4084-0372-4dc7-815f-7eff0b5c7b77",
   "metadata": {
    "tags": []
   },
   "source": [
    "<figure>\n",
    "<img src=\"../figs/torus.jpeg\" style=\"max-width:600px;\">\n",
    "<figcaption>\n",
    "    In periodic boundary conditions the Kitaev model is defined on the surface of a torus. Topologically the torus is distinct from the sphere in that it has a hole that cannot be smoothly deformed away. Associated with each such hole are two non-contractible loops on the surface, here labeled A and B, that cannot be smoothly deformed to a point. These two non-contracible loops can. be used to construct two symmetry operators $\\hat{A}$ and $\\hat{A}$ that flip $u_{jk}$s along their paths. \n",
    "</figcaption>\n",
    "</figure>"
   ]
  },
  {
   "cell_type": "markdown",
   "id": "d53ea0d9-1b62-4792-bf7d-046fc093164a",
   "metadata": {},
   "source": [
    "For the case of the torus where $g = 1$ we can rearrange this to read:\n",
    "$$B = (P-1) + (V-1) + 2$$\n",
    "\n",
    "Each $u_{ij}$ takes two values and there is one associated with each bond so there are exactly $2^B$ distinct configurations of the bond sector. Let's see if we can factor those configurations out into the cartesian product of vortex sectors, gauge symmetries and non-contractible loop operators.\n",
    "\n",
    "Vortex sectors: each plaquette operator $\\phi_i$ takes two values ($\\pm 1$ or $\\pm i$) and there are $P$ of them so naively one would think there are $2^P$. However vortices can only be created on pairs so there are really $\\tfrac{2^P}{2} = 2^{P-1}$ vortex sectors.\n",
    "\n",
    "Gauge symmetries: As discussed earlier these correspond to the all possible compositions of the $D_j$ operators. Again there are only $2^{V-1}$ of these because, as we will see in the next section, $\\prod_{j} D_j = \\mathbb{1}$ in the physical space, and we enforce this by chooising the correct product of single particle fermion states. You can get an intuitive picture for why $\\prod_{j} D_j = \\mathbb{1}$ by imagining larger and larger patches of $D_j$ operators on the torus. These patches correspond to transporting a vortex pair around the edge of the patch. At some point the patch wraps around and starts to cover the entire torus, as this happens the bounday of the patch disappears and hence it which corresponds to the identity operation. See Fig ?? (animated in the HTML version).\n",
    "\n",
    "Finally the torus has two non-contractible loop operators asscociated with its major and minor diameters.\n",
    "\n",
    "Putting this all together we see that there are __$2^B$ bond sectors__ a space which can be decomposed into the cartesian product of __$2^{P-1}$ vortex sectors__, __$2^{V-1}$ gauge symmetries__ and __$2^2 = 4$ topological sectors__ associated with the non-contractible loop operators. This last factor forms the basis of proposals to construct topologically protected qubits since the 4 sectors cold only be mixed by a highly non-local perturbation, ref ?????."
   ]
  },
  {
   "cell_type": "markdown",
   "id": "d633a3a2-69fb-46e8-a26c-6464dda80afa",
   "metadata": {},
   "source": [
    "<figure>\n",
    "<img src=\"../figure_code/amk_chapter/intro/types_of_dual_loops/types_of_dual_loops.svg\" style=\"max-width:700px;\">\n",
    "<figcaption>\n",
    "   The different kinds of strings and loops that we can make by flipping bond variables. (a) Flipping a single bond makes a pair of vortices on either side. (b) Flipping a string of bonds separates the vortex pair spatially. The flipped bonds form a path in blue on the dual lattice. (c) If we create a vortex-vortex pair, transported one of them around a loop and then anhilate them we can change the bond sector without changing the vortex sector. This is a manifestation of the gauge symmetry of the bond sector. (d) If we transport a vortex around the major or minor axes of the torus we create a non-contractable loop of bonds. These are relevant because they cannot be constructed from the contractable loops created by $D_j$ operators.\n",
    "    \n",
    "This all works the same way for the amorphous lattice but is harder to read visually.\n",
    "</figcaption>\n",
    "</figure>"
   ]
  },
  {
   "cell_type": "markdown",
   "id": "2453ca0a-565c-4abb-9a42-bc430f4c85c5",
   "metadata": {},
   "source": [
    "<figure>\n",
    "<img src=\"../figure_code/amk_chapter/intro/gauge_symmetries/gauge_symmetries.svg\" style=\"max-width:700px;\">\n",
    "<figcaption>\n",
    "   A honeycomb lattice with edges in light grey, along with its dual, the triangle lattice in light blue. The vertices of the dual lattice are the faces of the original lattice and hence are the locations of the vortices. (Left) The action of the gauge operator $D_j$ at a vertex is to flip the value of the three $u_{jk}$ variables (black lines) surounding site $j$. The corresponding edges of the dual lattice (blue lines) form a closed triangle. (middle) Composing multiple adjacent $D_j$ operators produces a large closed loop or multiple disconnected loops. These loops are not directed as they are in the case of the Wilson loops. (right) A non-contractable loop which cannot be produced by composing $D_j$ operators. All three operators can be thought of as the action of a vortex-vortex pair that is created, one of them is transported around the loop and then the two anhilate again. Note that every plaquette has an even number of $u_{ij}$s flipped on it's edge and hence all retain the same value. This all works the same way for the amorphous lattice but is much harder to read visually.\n",
    "</figcaption>\n",
    "</figure>"
   ]
  },
  {
   "cell_type": "markdown",
   "id": "d9214c51-7d60-4604-995e-b89619b41934",
   "metadata": {},
   "source": [
    "<figure>\n",
    "<img src=\"../figure_code/amk_chapter/flood_fill/flood_fill.gif\" style=\"max-width:700px;\">\n",
    "<figcaption>\n",
    "In both figures a honeycomb lattice is shown in grey along with its dual in light blue. (Left) Taking a larger and larger set of $D_j$ operators leads to an outward expanding boundary line shown in blue on the dual lattice. Eventually every lattice on the torus is included and the boundary dissapears. This is a visual proof that $\\prod_i D_i = \\mathbb{1}$. (Right) In black and blue the edges and dual edges that must be flipped to add vortices at the sites highlighted in orange. Flipping all the plaquettes in the system is __not__ equivalent to the identity.\n",
    "</figcaption>\n",
    "</figure>"
   ]
  },
  {
   "cell_type": "markdown",
   "id": "ab24e8b1-a576-4b4e-b463-6dd76437f725",
   "metadata": {},
   "source": [
    "<figure>\n",
    "<img src=\"../figure_code/amk_chapter/flood_fill_amorphous/flood_fill_amorphous.gif\" style=\"max-width:700px;\">\n",
    "<figcaption>\n",
    "</figcaption>\n",
    "</figure>"
   ]
  },
  {
   "cell_type": "markdown",
   "id": "88cbf526-33aa-4a5b-a295-bb23ef794de8",
   "metadata": {},
   "source": [
    "### Counting edges, plaquettes and vertices\n",
    "\n",
    "It will be useful to know how the trivalent structre of the lattice constraints the number of bonds $B$, plaquettes $P$ and vertices $V$ it has. \n",
    "\n",
    "We can immediately see that the lattice is built from vertices that each share 3 edges with their neighbours. This means each vertex comes with $\\tfrac{3}{2}$ bonds i.e $3V = 2B$. This is consistent with the fact that in the Majorana representation on the torus each vertex brings three $b^\\alpha$ operators which then pair along bonds to give $3/2$ bonds per vertex. \n",
    "\n",
    "If we define an integer $N$ such that $V = 2N$ and $B = 3N$ and substitite this into the polyhedra equation for the torus we see that $P = N$. So if is a trivalent lattice on the torus has $N$ plaquettes, it has $2N$ vertices and $3N$ bonds.\n",
    "\n",
    "We can also consider the sum of the number of bonds in each plaquette $S_p$, since each bond is a member of exactly two plaquettes \n",
    "$$S_p = 2B = 6N$$\n",
    "\n",
    "The mean size of a plaquette in a trivalent lattice on the torus is exactly 6. Since the sum is even, this also tells us that all odd plaquettes must come in pairs."
   ]
  },
  {
   "cell_type": "markdown",
   "id": "d2d997de-83e6-4e3b-a227-126ba0c883cd",
   "metadata": {},
   "source": [
    "<figure>\n",
    "<img src=\"../figure_code/amk_chapter/hilbert_spaces.svg\" style=\"max-width:700px;\">\n",
    "<figcaption>The relationship between the different Hilbert spaces used in the solution is slightly complex. </figcaption>\n",
    "</figure>"
   ]
  },
  {
   "cell_type": "markdown",
   "id": "0f6ba89a-8aca-4c30-9778-7deb8f8088ba",
   "metadata": {},
   "source": [
    "## The Projector\n",
    "It will turn out that the projection from the extended space to the physical space is not actually that important for the results that I will present. However it it useful to go through the theory of it to explain why this is."
   ]
  },
  {
   "cell_type": "markdown",
   "id": "3275c8fc-5f61-48d4-934d-125f58d8fb6e",
   "metadata": {},
   "source": [
    "The physicil states are defined as those for which $D_i |\\phi\\rangle = |\\phi\\rangle$ for all $D_i$. Since $D_i$ has eigenvalues $\\pm1$, the quantity $\\tfrac{(1+D_i)}{2}$ has eigenvalue $1$ for physical states and $0$ for extended states so is the local projector onto the physical subspace. "
   ]
  },
  {
   "cell_type": "markdown",
   "id": "cd6984f5-36f1-47be-8d33-cb1e157f2415",
   "metadata": {},
   "source": [
    "The global projector is therefore\n",
    "$$ \\mathcal{P} = \\prod_{i=1}^{2N} \\left( \\frac{1 + D_i}{2}\\right)$$\n",
    "\n",
    "for a toroidal trivalent lattice with $N$ plaquettes $2N$ vertices and $3N$ edges. As I pointed out before the product over $(1 + D_j)$ can also be thought of as the sum of all possible subsets $\\{i\\}$ of the $D_j$ operators, which is the set of all possible gauge symmetry operations. \n",
    "\n",
    "$$ \\mathcal{P} = \\frac{1}{2^{2N}} \\sum_{\\{i\\}} \\prod_{i\\in\\{i\\}} D_i$$"
   ]
  },
  {
   "cell_type": "markdown",
   "id": "72c36694-fea3-425a-8b77-c54c48c34f69",
   "metadata": {},
   "source": [
    "Since the gauge operators $D_j$ commute and square to one, we can define the complement operator $C = \\prod_{i=1}^{2N} D_i$ and see that it take each set of $\\prod_{i \\in \\{i\\}} D_j$ operators and gives us the complement of that set. I said earlier that $C$ is the identity in the physical subspace and we will shortly see why. "
   ]
  },
  {
   "cell_type": "markdown",
   "id": "50645def-518d-484e-9afb-c673223d1b3f",
   "metadata": {},
   "source": [
    "W use the complement operator to rewrite the projector as a sum over half the subsets $\\{\\}$ let's call that $\\Lambda$. The complement operator deals with the other half\n",
    "\n",
    "$$ \\mathcal{P} =  \\left( \\frac{1}{2^{2N-1}} \\sum_{\\Lambda} \\prod_{i\\in\\{i\\}} D_i\\right) \\left(\\frac{1 + \\prod_i^{2N} D_i}{2}\\right) = \\mathcal{S} \\cdot \\mathcal{P}_0$$\n",
    "\n",
    "To compute $\\mathcal{P}_0$ the main quantity needed is the product of the local projectors $D_i$\n",
    "$$\\prod_i^{2N} D_i = \\prod_i^{2N} b^x_i b^y_i b^z_i c_i $$\n",
    "for a toroidal trivalent lattice with $N$ plaquettes $2N$ vertices and $3N$ edges. \n",
    "\n",
    "First we reorder the operators by bond type, this doesn't require any information about the underlying lattice.\n",
    "\n",
    "$$\\prod_i^{2N} D_i = \\prod_i^{2N} b^x_i \\prod_i^{2N} b^y_i \\prod_i^{2N} b^z_i \\prod_i^{2N} c_i$$\n",
    "\n",
    "The product over $c_i$ operators reduces to a determinant of the Q matrix and the fermion parity, see @pedrocchiPhysicalSolutionsKitaev2011b . The only difference from the honeycomb case is that we cannot explicitely compute the factors $p_x,p_y,p_z = \\pm\\;1$ that arise from reordering the b operators such that pairs of vertices linked by the corresponding bonds are adjacent.\n",
    "\n",
    "$$\\prod_i^{2N} b^\\alpha_i = p_\\alpha \\prod_{(i,j)}b^\\alpha_i b^\\alpha_j$$\n",
    "\n",
    "However they are simply the parity of the permutation from one ordering to the other and can be computed in linear time with a cycle decomposition @app:cycle_decomp.\n",
    "\n",
    "We find that\n",
    "$$\\mathcal{P}_0 = 1 + p_x\\;p_y\\;p_z\\; \\mathrm{det}(Q^u) \\; \\hat{\\pi} \\; \\prod_{\\{i,j\\}} -iu_{ij}$$ \n",
    "\n",
    "where $p_x\\;p_y\\;p_z = \\pm 1$ are lattice structure factors. $Q^u$ is the determinant of the matrix mentioned earlier that maps $c_i$ operators to normal mode operators $b'_i, b''_i$. These depend only on the lattice structure. $\\prod -i \\; u_{ij}$ depend on the lattice and the particular vortex sector. $\\hat{\\pi} = \\prod{i}^{N} (1 - 2\\hat{n}_i)$ is the parity of the particular many body state determined by fermionic occupation numbers $n_i$. \n",
    "\n",
    "All these factors take values $\\pm 1$ so $\\mathcal{P}_0$ is 0 or 1 for a particular state. Since $\\mathcal{S}$ corresponds to symmetrising over all the gauge configurations and cannot be 0, this tells use that once we have determined the single particle eigenstates of a bond sector, the true many body ground state has the same energy as either the empty state with $n_i = 0$ or a state with a single fermion in the lowest level. "
   ]
  },
  {
   "cell_type": "markdown",
   "id": "0bd40dd3-8f16-4286-bc5f-cf295a441225",
   "metadata": {},
   "source": [
    "Let's think about where are with the model now. We can map the spin Hamiltonian to a Majorana Hamiltonian in an extended Hilbert space. Along with that mapping comes a gauge field $u_{jk}$ defining __bond sectors__. The gauge symmetries of $u_{jk}$ are generated by the set of $D_j$ operators. The gauge invariant and therefore physically relevant variables are the plaquette operators $\\phi_i$ which define as a __vortex sector__. In order to practically solve the Majorana Hamiltonian we must remove hats from the gauge field by restricting ourselves to a particular bond sector. From there the Majorana Hamiltonian becomes non-interacting and we can solve it like any quadratic theory. This lets us construct the single particle eigenstates from which we can also construct many body states. However the many body states constructed this way are not in the physical subspace! "
   ]
  },
  {
   "cell_type": "markdown",
   "id": "60485429-fadf-47f7-8e37-a0bc4492f62e",
   "metadata": {},
   "source": [
    "However for the many body states within a particular bond sector, $\\mathcal{P}_0 = 0,1$ tells us which of those have some overlap with the physical sector. \n",
    "\n",
    "We see that finding a state that has overlap with a physical state only ever requires the addition or removal of one fermion. There are cases where this can make a difference but for most observables such as ground state energy this correction scales away as the number of fermions in the system grows.\n",
    "\n",
    "If we wanted to construct a full many body wavefunction in the spin basis we would need to include the full symmetrisation over the gauge fields. However this was not necessary for any of the results that will be presented here."
   ]
  },
  {
   "cell_type": "markdown",
   "id": "3831b0d2-713d-42e8-aab3-a3b7d2e7d01e",
   "metadata": {},
   "source": [
    "## Open boundary conditions\n",
    "\n",
    "Care must be taken in the definition of open boundary conditions. Simply removing bonds from the lattice leaves behind unpaired $b^\\alpha$ operators that need to be paired in some way to arrive at fermionic modes. In order to fix a pairing we always start from a lattice defined on the torus and generate a lattice with open boundary conditions by defining the bond coupling $J^{\\alpha}_{ij} = 0$ for sites joined by bonds $(i,j)$ that we want to remove. This creates fermionic zero modes $u_{ij}$ associated with these cut bonds which we set to 1 when calculating the projector. \n",
    "\n",
    "Alternatively, since all the fermionic zero modes are degenerate anyway, an arbitrary pairing of the unpaired $b^\\alpha$ operators could be performed. __Is is possible that a lattice constructed and coloured like this would have unequal numbers of $b^x$ $b^y$ and $b^z$ operators?__"
   ]
  },
  {
   "cell_type": "markdown",
   "id": "eaa65c79-6cc8-4ad2-ae9c-870a872b0788",
   "metadata": {},
   "source": [
    "## The Ground State Vortex Sector\n",
    "\n",
    "On the Honeycomb, Lieb's theorem implies that the the ground state corresponds to the state where all $u_jk = 1$ implying that the flux free sector is the ground state sector @lieb_flux_1994.\n",
    "\n",
    "Lieb's theorem does not generalise easily to the amorphous case. However we can get some intuition by examining the problem that will lead to a guess for the ground state. We will then provide numerical evidence that this guess is in fact correct."
   ]
  },
  {
   "cell_type": "markdown",
   "id": "3bf6a18a-10c6-42b5-a05d-676b022b175a",
   "metadata": {},
   "source": [
    "Let's consider the partition function of the Majorana hamiltonian:\n",
    "$$ \\mathcal{Z} = \\mathrm{Tr}\\left( e^{-\\beta H}\\right) = \\sum_i \\exp{-\\beta \\epsilon_i}$$\n",
    "At low temperatures $\\mathcal{Z} \\approx \\beta \\epsilon_0$ where $\\epsilon_0$ is the lowest energy fermionic state. "
   ]
  },
  {
   "cell_type": "markdown",
   "id": "84a14ec0-4be5-4323-ab39-5696c3715327",
   "metadata": {},
   "source": [
    "How does the $\\mathcal{Z}$ depend on the Majorana hamiltonian? Expanding the exponential out gives:\n",
    "$$ \\mathcal{Z} = \\sum_n \\frac{(-\\beta)^n}{n!} \\mathrm{Tr(H^k)} $$"
   ]
  },
  {
   "cell_type": "markdown",
   "id": "6a0d639b-035d-4e06-a9fb-5809b1d6295e",
   "metadata": {},
   "source": [
    "Now there's an interesting observation to make here. The Hamiltonian is essentially a scaled adjacency matrix. An adjacency matrix being a matrix $g_{ij}$ such that $g_{ij} = 1$ if vertices $i$ and $j$ and joined by an edge and 0  otherwise. "
   ]
  },
  {
   "cell_type": "markdown",
   "id": "436f733b-482c-402c-ad40-554364057476",
   "metadata": {},
   "source": [
    "Powers of adjacency matrices have the property that the entry $(g^n)_{ij}$ corresponds to the number of paths of length n on the graph that begin at site $i$ and end at site $j$. These include somewhat degenerate paths that go back on themselves etc.\n",
    "\n",
    "The trace of an adjacency matrix\n",
    "$$\\mathrm{Tr}(g^n) = \\sum_i (g^n)_{ii}$$\n",
    "therefore counts the number number of loops of size $n$ that can be drawn on the graph."
   ]
  },
  {
   "cell_type": "markdown",
   "id": "c7789c9c-acaa-40ad-8893-8507e6074ee7",
   "metadata": {},
   "source": [
    "Applying the same treatment to our Majorana Hamiltonian, we can interpret $u_ij$ to equal 0 if the two sites are not joined by a bond and we put ourselves in the isotropic phase where $J^\\alpha = 1$\n",
    "$$ \\tilde{H}_{ij} =  \\tfrac{1}{2} i u_{ij}$$\n",
    "\n",
    "We then see that the trace of the nth power of H is a sums over Wilson loops of size $n$ with an additional factor of $2^{-n}$. We showed earlier that the Wilson loop operators can always be written as products of the plaquette operators that they enclose.  "
   ]
  },
  {
   "cell_type": "markdown",
   "id": "3acb9867-3eb3-453f-8180-1c112a9931a4",
   "metadata": {},
   "source": [
    "Lumping all the prefactors together, we can write:\n",
    "$$ \\mathcal{Z} = c_A \\hat{A} + c_B \\hat{B} + \\sum_i c_i \\hat{\\phi}_i + \\sum_{ij} c_{ij}  \\hat{\\phi}_i \\hat{\\phi}_j + \\sum_{ijk} c_{ijk}  \\hat{\\phi}_i \\hat{\\phi}_j \\hat{\\phi}_k + ...$$ \n",
    "\n",
    "Where the $c$ factors would be something like\n",
    "$$c_{ijk...} = \\sum_n \\tfrac{(-\\beta)^n}{n!} \\tfrac{1}{2^n} K_{ijk...}$$\n",
    "which is a sum over all loop lengths $n$ and for each we have a combinatoral factor $K_{ijk...}$ that counts how many ways there are to draw a loop of length $n$ that only encloses plaquettes $ijk...$.\n",
    "\n",
    "We also have the pesky non-contractible loop operators $\\hat{A}$ and $\\hat{B}$. Again the prefactors for these are very complicated but we can intuitively see that for larger and larger loops lengths there will be a combinatorial explosion of possible ways that they appear in these sums. These are suppressed exponentially with system size but at practical lattice sizes they cause significant finite size effects. The main evidence of this is that the 4 loop sectors spanned by the $\\hat{A}$ and $\\hat{B}$ operators are degenerate in the infinite system size limit, while that degeneracy is lifted in finite sized systems."
   ]
  },
  {
   "cell_type": "markdown",
   "id": "462df749-8232-49c8-98f9-106c0e5e739a",
   "metadata": {},
   "source": [
    "We don't have much hope of actually evaluating this for an amorphous lattice. However it lead us to guess that the ground state vortex sector might be a simple function of the side length of each plaquette. \n",
    "\n",
    "The ground state of the Amorphous Kitaev Model is found by setting the flux through each plaquette $\\phi$ to be equal to $\\phi^{\\mathrm{g.s.}}(n_{\\mathrm{sides}})$\n",
    "\n",
    "$$\\begin{aligned}\n",
    "    \\phi^{\\mathrm{g.s.}}(n_{\\mathrm{sides}}) = -(\\pm i)^{n_{\\mathrm{sides}}},\n",
    "\\end{aligned}$$ where $n_{\\mathrm{sides}}$ is the number of edges that form each plaquette and the choice of sign gives a twofold chiral ground state degeneracy.\n",
    "\n",
    "This conjecture is consistent with Lieb's theorem on regular lattices [@lieb_flux_1994] and is supported by numerical evidence. As noted before, any flux that differs from the ground state is an excitation which I call a vortex."
   ]
  },
  {
   "cell_type": "markdown",
   "id": "45297c61-e808-4cb7-bf4d-27a3f938d4bc",
   "metadata": {},
   "source": [
    "### Finite size effects\n",
    "\n",
    "This guess only works for larger lattices because of the finite size effects. In order to rigorously test it we would like to directly enumerate the $2^N$ vortex sectors for a smaller lattice and check that the lowest state found is the vortex sector predicted by ???.\n",
    "\n",
    "To do this we tile an amorphous lattice onto a repeating $NxN$ grid. The use of a fourier series then allows us to compute the diagonalisation with a penalty only linear in the number of tiles used compared to diagonalising a single lattice. With this technique the finite size effects related to the non-contractible loop operators are removed with only a linear penalty in computation time compared to the exponential penalty paid by simply simply diagonalising larger lattices. \n",
    "\n",
    "Using this technique we verified that $\\phi_0$ correctly predicts the ground state for hundreds of thousands of lattices with upto 20 plaquettes. For larger lattices we verified that random perturbations around the predicted ground state never yield a lower energy state."
   ]
  },
  {
   "cell_type": "markdown",
   "id": "82658525-043d-4cf4-b2a7-766974e8a6fe",
   "metadata": {},
   "source": [
    "## Chiral Symmetry\n",
    "In the discussion above we see that the ground state has a twofold __chiral__ degeneracy that comes about because the global sign of the odd plaquettes does not matter. \n",
    "\n",
    "This happens because by adding odd plaquettes we have broken the time reversal symmetry of the original model [@Chua2011; @yaoExactChiralSpin2007; @ChuaPRB2011; @Fiete2012; @Natori2016; @Wu2009; @Peri2020; @WangHaoranPRB2021]. \n",
    "\n",
    "Similar to the behaviour of the original Kitaev model in response to a magnetic field, we get two degenerate ground states of different handedness. Practicaly speaking, one ground state is related to the other by inverting the imaginary $\\phi$ fluxes [@yaoExactChiralSpin2007]."
   ]
  },
  {
   "cell_type": "markdown",
   "id": "0012c32f-8dbe-4bfa-b0b2-d9e2d293a08d",
   "metadata": {},
   "source": [
    "## Topology, chirality and edge modes\n",
    "\n",
    "Most thermodynamic and quantum phases studied can be characterised by a local order parameter. That is, a function or operator that only requires knowledge about some fixed sized patch of the system that does not scale with system size.\n",
    "\n",
    "However there are quantum phases that cannot be characterised by such a local order parameter. These phases are intead said to posess 'topological order'. \n",
    "\n",
    "One property of topological order that is particularly easy to observe that the ground state degeneracy depends on the topology of the manifold that we put the system on to. This is referred to as topological degeneracy to distinguish it from standard symmetry breaking.\n",
    "\n",
    "The Kitaev model will be a good example of this, we have already looked at it defined on a graph that is embedded either into the plane or onto the torus. The extension to surfaces like the torus but with more than one handle is relatively easy."
   ]
  },
  {
   "cell_type": "markdown",
   "id": "09e1dfce-87a6-48e2-af83-c59677e64dae",
   "metadata": {},
   "source": [
    "## Anyonic Statistics\n",
    "\n",
    "In dimensions greater than two, the quantum state of a system must pick up a factor of $-1$ or $+1$ if two identical particles are swapped. We call these Fermions and Bosons.\n",
    "\n",
    "This argument is predicated on the idea that performing two swaps is equivalent to doing nothing. Doing nothing should not change the quantum state at all, so doing one swap can at most multiply it by $\\pm 1$.\n",
    "\n",
    "However there are many hidden parts to this argument. Firstly, this argument just isn't the whole story, if you want to know why Fermions have half integer spin, for instance, you have to go to field theory.\n",
    "\n",
    "There is also a second niggle, why does this argument only work in dimensions greater than two? What we're really saying when we say that two swaps do nothing is that the world lines of two particles that have been swapped twice can be untangled without crossing. Why can't they cross? Well because if they cross then the particles can interact and the quantum state could change in an arbitrary way. We're implcitly using the locality of physics here to argue that if the worldlines stay well separated then the overall quantum state cannot too much. \n",
    "\n",
    "In two dimensions we cannot untangle the worldlines of two particles that have swapped  places, they are braided together. See Fig @fig:braiding for a diagram."
   ]
  },
  {
   "cell_type": "markdown",
   "id": "f6a0f85d-0b55-4d80-894e-19c881c68ede",
   "metadata": {},
   "source": [
    "<figure>\n",
    "<img src=\"../figure_code/amk_chapter/braiding.png\" style=\"max-width:500px;\">\n",
    "<figcaption>\n",
    "</figcaption>\n",
    "</figure>"
   ]
  },
  {
   "cell_type": "markdown",
   "id": "389e8d26-0350-43dd-8216-9f4fddc8a2f1",
   "metadata": {},
   "source": [
    "From this fact flows a whole new world of behaviours, now the quantum state can aquire a phase factor $e^{i\\phi}$ upon exchange of two identical particles, which we now call Anyons.\n",
    "\n",
    "The Kitaev Model is a good demonstration of the connection beween Anyons and topological degeneracy. In the Kitaev model we can create a pair of vortices, move one around a non-contractable loop $\\mathcal{T}_{x/y}$ and then anhilate them together. Without topology this should leave the quantum state unchanged. Instead it moves us to another ground state in a topologically degenerate ground state subspace. Practically speaking it flips a dual line of bonds $u_{jk}$ going around the loop which we cannot undo with any gauge transformation made from $D_j$ operators."
   ]
  },
  {
   "cell_type": "markdown",
   "id": "03d56186-e881-4381-94d7-cab948e7970c",
   "metadata": {},
   "source": [
    "If the ground state subspace is multidimensional, quasiparticle exchange can move us around in the space with an action corresponding to a matrix. These matrices do not in general commmute and so these are known as non-Abelian anyons.\n",
    "\n",
    "From here things get even more complex, the Kitaev model has a non-Abelian phase when exposed to a magnetic field, and the amorphous Kitaev Model has a non-Abelian phase because of its broken chiral symmetry. \n",
    "\n",
    "The way that we have subdivided the Kitaev model into vortex sectors, we have a neat separation beween vortices and fermionic excitations. However if we looked at the full many body picture we would see that a vortex caries with it a cloud of bound majorana states."
   ]
  },
  {
   "cell_type": "markdown",
   "id": "6d744f5c-e4e9-4fce-b3cb-915bebf05033",
   "metadata": {},
   "source": [
    "<figure>\n",
    "<img src=\"../figure_code/amk_chapter/majorana_bound_states/majorana_bound_states.svg\" style=\"max-width:700px;\">\n",
    "<figcaption>\n",
    "(Left) A large amorphous lattice in the ground state save for a single pair of vortices shown in red, separated by the string of bonds that we flipped to create them. (Right) The density of the lowest energy Majorana state in this vortex sector. The state is clearly bound to the vortices. \n",
    "</figcaption>\n",
    "</figure>"
   ]
  },
  {
   "cell_type": "markdown",
   "id": "a148531d-2106-4a71-850b-cac95d9fb4f5",
   "metadata": {},
   "source": [
    "Consider two processes \n",
    "\n",
    "1) We transport one half of a vortex pair around either the x or y loops of the torus before anhilating back to the ground state vortex sector $\\mathcal{T}_{x,y}$.\n",
    "\n",
    "2) We flip a line of bond operators coresponding to measuring the flux through either the major or minor axes of the torus $\\mathcal{\\Phi}_{x,y}$ "
   ]
  },
  {
   "cell_type": "markdown",
   "id": "e5005f65-a6e9-4c1b-bb89-a5104754b9b5",
   "metadata": {},
   "source": [
    "<figure>\n",
    "<img src=\"../figure_code/amk_chapter/loops_and_dual_loops/loops_and_dual_loops.svg\" style=\"max-width:800px;\">\n",
    "<figcaption>\n",
    "(Left) The two topological flux operators of the toroidal lattice, these don't correspond to any face of the lattice, but rather measure flux that threads through the major and minor axes of the torus. This shows a particular choice but any loop that crosses the boundary is gauge equivalent to one of or the sum of these two loop. (Right) The two ways to transport vortices around the diameters. These correspond to creating a vortex pair, transporting one of them around the major or minor diameters of the torus and then anhilating them again. \n",
    "</figcaption>\n",
    "</figure>"
   ]
  },
  {
   "cell_type": "markdown",
   "id": "3eda8dae-5b59-44dc-a085-69c6142a8351",
   "metadata": {},
   "source": [
    "The plaquette operators $\\phi_i$ are associated with fluxes. Wilson loops that wind the torus are associated with the fluxes through its two diameters $\\mathcal{\\Phi}_{x,y}$.\n",
    "\n",
    "In the Abelian phase we can move a vortex along any path we like and then when we bring them back together they will anhilate back to the vacuum, where we understand 'the vacuum' to refer to one of the ground states, though not necesarily the same one we started in. We can use this to get from the $(\\Phi_x, \\Phi_y) = (+1, +1)$ ground state and construct the set $(+1, +1), (+1, -1), (-1, +1), (-1, -1)$."
   ]
  },
  {
   "cell_type": "markdown",
   "id": "9f342641-0cde-457c-a754-55f5d3d794f6",
   "metadata": {},
   "source": [
    "<figure>\n",
    "<img src=\"../figure_code/amk_chapter/topological_fluxes.png\" style=\"max-width:400px;\">\n",
    "<figcaption>\n",
    "Wilson loops that wind the major or minor diameters of the torus measure flux winding through the hole of the donut/torus or through the filling. If they made donuts that had both a jam filling and a hole this analogy would be a lot easier to make @parkerWhyDoesThis.\n",
    "</figcaption>\n",
    "</figure>"
   ]
  },
  {
   "cell_type": "markdown",
   "id": "0460f4ad-968c-4470-928c-9f007eb01e03",
   "metadata": {},
   "source": [
    "However in the non-Abelian phase we have to wrangle with monodromy [@chungExplicitMonodromyMoore2007; @oshikawaTopologicalDegeneracyNonAbelian2007]. Monodromy is behaviour of objects as they move around a singularity. This manifests here in that the identity of a vortex and cloud of Majoranas can change as we wind them around the torus in such a way that rather than anhilating to the vacuum the anhilate to create an excited state instead of a ground state. This means we end up with only three degenerate ground states in the non-Abelian phase $(+1, +1), (+1, -1), (-1, +1)$ [@chungTopologicalQuantumPhase2010, yaoAlgebraicSpinLiquid2009a]. The way that this shows up concretly is that the projector enforces both flux and fermion parity. When we wind a vortex around both non-contractible loops of the torus, it flips the flux parity which forces means we have to introduce a fermionic excitation to make the state physical. Hence the process does not give a fourth ground state."
   ]
  },
  {
   "cell_type": "markdown",
   "id": "e3f9aa21-ba66-4d95-88f4-aeab60f8fedb",
   "metadata": {},
   "source": [
    "<figure>\n",
    "<img src=\"../figure_code/amk_chapter/threefold_degeneracy.png\" style=\"max-width:600px;\">\n",
    "<figcaption>\n",
    "</figcaption>\n",
    "</figure>"
   ]
  },
  {
   "cell_type": "markdown",
   "id": "5174382c-f55c-4aba-a672-3008c4717d7a",
   "metadata": {},
   "source": [
    "<figure>\n",
    "<img src=\"../figure_code/amk_chapter/state_decomposition_animated/state_decomposition_animated.svg\" style=\"max-width:800px;\">\n",
    "<figcaption>\n",
    "(Bond Sector) A state in the bond sector is specified by assigning $\\pm 1$ to each edge of the lattice. However this description has a substantial gauge degeneracy. We can simplfy things by decomposing each state into the product of three kinds of objects: (Vortex Sector) Only a small number of bonds need to be flipped (compared to some arbitrary reference) to reconstruct the vortex sector. The edges here are chosen from a spanning tree of the dual lattice, so there are no loops. (Gauge Field) The 'loopiness' of the bond sector can be factored out giving a network of loops that can always be written as a product the of the gauge operators $D_j$. (Topolical Sector) Finally there are two loops that have no effect on the vortex sector, nor can they be constructed from gauge symmetries. These can be thought of as two fluxes $\\Phi_{x/y}$ that thread through the major and minor axes of the torus. Measuring $\\Phi_{x/y}$ corresponds to constructing Wilson loops around the axes of the torus. We can flip the value of $\\Phi_{x}$ by transporting a vortex pair around the torus in the $y$  direction and that is what is shown here. In each of the three figures on the right, black bonds correspond to those that must be flipped, composing the three together gives back the original bond sector on the left.\n",
    "</figcaption>\n",
    "</figure>"
   ]
  },
  {
   "cell_type": "markdown",
   "id": "c0854cee-e4bb-4fa5-872f-13d482a6863a",
   "metadata": {},
   "source": [
    "One reason the topology has gained interest recently is there have proposals to use this ground state degeneracy to implement both passively fault tolerant and actively stabilised quantum computations [@kitaevFaulttolerantQuantumComputation2003; @poulinStabilizerFormalismOperator2005; hastingsDynamicallyGeneratedLogical2021]."
   ]
  }
 ],
 "metadata": {
  "kernelspec": {
   "display_name": "Python [conda env:py3.8]",
   "language": "python",
   "name": "conda-env-py3.8-py"
  },
  "language_info": {
   "codemirror_mode": {
    "name": "ipython",
    "version": 3
   },
   "file_extension": ".py",
   "mimetype": "text/x-python",
   "name": "python",
   "nbconvert_exporter": "python",
   "pygments_lexer": "ipython3",
   "version": "3.8.5"
  }
 },
 "nbformat": 4,
 "nbformat_minor": 5
}
