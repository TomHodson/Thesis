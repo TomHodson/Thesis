{
 "cells": [
  {
   "cell_type": "raw",
   "id": "89f99e2a-c9eb-4d69-8f44-05b877e80a69",
   "metadata": {
    "tags": [
     "remove_cell"
    ]
   },
   "source": [
    "---\n",
    "title: Introduction\n",
    "description: Why do we do Condensed Matter theory at all?\n",
    "image:\n",
    "layout: thesis\n",
    "---"
   ]
  },
  {
   "cell_type": "code",
   "execution_count": 3,
   "id": "f4706a30-718d-4f59-8f66-1c2644536f1b",
   "metadata": {
    "tags": [
     "remove_cell"
    ]
   },
   "outputs": [
    {
     "data": {
      "text/html": [
       "<style>\n",
       "figure {\n",
       "    display: flex;\n",
       "    flex-direction: column;\n",
       "    align-items: center;\n",
       "}\n",
       "figure img {\n",
       "    max-width: 900px;\n",
       "    width: 80%;\n",
       "    margin-bottom: 2em;\n",
       "}\n",
       "figcaption {\n",
       "    aria-hidden: true;\n",
       "}\n",
       "</style>\n"
      ],
      "text/plain": [
       "<IPython.core.display.HTML object>"
      ]
     },
     "metadata": {},
     "output_type": "display_data"
    }
   ],
   "source": [
    "%%html\n",
    "<style>\n",
    "figure {\n",
    "    display: flex;\n",
    "    flex-direction: column;\n",
    "    align-items: center;\n",
    "}\n",
    "figure img {\n",
    "    max-width: 900px;\n",
    "    width: 80%;\n",
    "    margin-bottom: 2em;\n",
    "}\n",
    "figcaption {\n",
    "    aria-hidden: true;\n",
    "}\n",
    "</style>"
   ]
  },
  {
   "cell_type": "markdown",
   "id": "f76ffc5f-25eb-4147-b370-4235468be124",
   "metadata": {},
   "source": [
    "__Interacting Quantum Many Body Systems__\n",
    "\n",
    "When you take many objects and let them interact together, it is often simpler to describe the behaviour of the group differently than one would describe the individual objects. Consider a flock (technically called a _murmuration_) of starlings like +@fig:Studland_Starlings. Watching the flock you'll see that it has a distinct outline, that waves of density will sometimes propagate through the closely packed birds and that the flock seems to respond to predators as a distinct object. The natural description of this phenomena is couched in terms of the flock rather than the individual birds.\n",
    "\n",
    "The behaviours of the flock are an emergent phenomena. The starlings are only interacting with their immediate six or seven neighbours [@king2012murmurations; @balleriniInteractionRulingAnimal2008]. This is what a physicist would call a _local interaction_. There is much philosophical debate about how exactly to define emergence [@andersonMoreDifferent1972; @kivelsonDefiningEmergencePhysics2016] but for our purposes it enough to say that emergence is the fact that the aggregate behaviour of many interacting objects may be very different from the individual behaviour of those objects. \n",
    "\n",
    "<figure>\n",
    "<img src=\"../../figure_code/intro_chapter/Studland_Starlings.jpeg\" style = \"max-width:700px;\" title=\"A murmuration of Starlings\">\n",
    "<figcaption>\n",
    "A murmuration of starlings. Dorset, UK. Credit [Tanya Hart](twitter.com/arripay), \"Studland Starlings\", 2017, [CC BY-SA 3.0](creativecommons.org/licenses/by-sa/3.0/deed.en)\n",
    "</figcaption>\n",
    "</figure>\n",
    "\n",
    "To give another example, our understanding of thermodynamics began with bulk properties like heat, energy, pressure and temperature [@saslowHistoryThermodynamicsMissing2020]. It was only later that we gained an understanding of how these properties emerge from microscopic interactions between very large numbers of particles [@flammHistoryOutlookStatistical1998]."
   ]
  },
  {
   "cell_type": "markdown",
   "id": "51e1c9f4-62fe-4f6b-9fe9-dedb1f8f79af",
   "metadata": {},
   "source": [
    "Condensed Matter is, at its heart, the study of what behaviours emerge from large numbers of interacting quantum objects at low energy. When these three properties are present together: a large number of objects, those objects being quantum and there are interaction between the objects, we call it an interacting quantum many body system. From these three ingredients nature builds all manner of weird and wonderful materials.\n",
    "\n",
    "Historically, we made initial headway in the study of many-body systems, ignoring interactions and quantum properties. The ideal gas law and the Drude classical electron gas [@ashcroftSolidStatePhysics1976] are good examples. Including interactions into many-body physics leads to the Ising model [@isingBeitragZurTheorie1925], Landau theory [@landau2013fluid] and the classical theory of phase transitions [@jaegerEhrenfestClassificationPhase1998]. In contrast, condensed matter theory got it state in quantum many-body theory. Bloch's theorem [@blochÜberQuantenmechanikElektronen1929] predicted the properties of non-interacting electrons in crystal lattices, leading to band theory. In the same vein, advances were made in understanding the quantum origins of magnetism, including ferromagnetism and antiferromagnetism [@MagnetismCondensedMatter].\n",
    "\n",
    "However, at some point we had to start on the interacting quantum many body systems. The properties of some materials cannot be understood without a taking into account all three effects and these are collectively called strongly correlated materials. The canonical examples are superconductivity [@MicroscopicTheorySuperconductivity], the fractional quantum hall effect [@feldmanFractionalChargeFractional2021] and the Mott insulators [@mottBasisElectronTheory1949; @fisherMottInsulatorsSpin1999]. We'll start by looking at the latter but shall see that there are many links between three topics."
   ]
  },
  {
   "cell_type": "markdown",
   "id": "1ee650ae-cdae-432c-87d8-715a37fb1691",
   "metadata": {},
   "source": [
    "__Mott Insulators__\n",
    "\n",
    "Mott Insulators are remarkable because their electrical insulator properties come from electron-electron interactions. Electrical conductivity, the bulk movement of electrons, requires both that there are electronic states very close in energy to the ground state and that those states are delocalised so that they can contribute to macroscopic transport. Band insulators are systems whose Fermi level falls within a gap in the density of states and thus fail the first criteria. Band insulators derive their character from the characteristics of the underlying lattice. Anderson Insulators have only localised electronic states near the fermi level and therefore fail the second criteria. We will discuss Anderson insulators and disorder in a later section.\n",
    "\n",
    "Both band and Anderson insulators occur without electron-electron interactions. Mott insulators, by contrast, require a many body picture to understand and thus elude band theory and single-particle methods. \n",
    "\n",
    "<figure>\n",
    "<img src=\"../../figure_code/intro_chapter/venn_diagram.svg\" style = \"max-width:700px;\" title=\"Interacting Quantum Many Body Systems Venn Diagram\">\n",
    "<figcaption>\n",
    "Three key adjectives. Many Body, the fact of describing systems in the limit of large numbers of particles. Quantum, objects whose behaviour requires quantum mechanics to describe accurately. Interacting, the constituent particles of the system affect one another via forces, either directly or indirectly. When taken together, these three properties can give rise to what are called strongly correlated materials.\n",
    "</figcaption>\n",
    "</figure>\n",
    "\n",
    "The theory of Mott insulators developed out of the observation that many transition metal oxides are erroneously predicted by band theory to be conductive [@boerSemiconductorsPartiallyCompletely1937] leading to the suggestion that electron-electron interactions were the cause of this effect [@mottDiscussionPaperBoer1937]. Interest grew with the discovery of high temperature superconductivity in the cuprates in 1986 [@bednorzPossibleHighTcSuperconductivity1986] which is believed to arise as the result of a doped Mott insulator state [@leeDopingMottInsulator2006]. "
   ]
  },
  {
   "cell_type": "markdown",
   "id": "744e8a55-e31e-4277-a263-9d7548107b2d",
   "metadata": {},
   "source": [
    "The canonical toy model of the Mott insulator is the Hubbard model [@gutzwillerEffectCorrelationFerromagnetism1963; @kanamoriElectronCorrelationFerromagnetism1963; @hubbardj.ElectronCorrelationsNarrow1963] of $1/2$ fermions hopping on the lattice with hopping parameter $t$ and electron-electron repulsion $U$\n",
    "\n",
    "$$ H_{\\mathrm{H}} = -t \\sum_{\\langle i,j \\rangle \\alpha} c^\\dagger_{i\\alpha} c_{j\\alpha} + U \\sum_i n_{i\\uparrow} n_{i\\downarrow} - \\mu \\sum_{i,\\alpha} n_{i\\alpha}$$\n",
    "\n",
    "where $c^\\dagger_{i\\alpha}$ creates a spin $\\alpha$ electron at site $i$ and the number operator $n_{i\\alpha}$ measures the number of electrons with spin $\\alpha$ at site $i$. The sum runs over lattice neighbours $\\langle i,j \\rangle$ including both $\\langle i,j \\rangle$ and $\\langle j,i \\rangle$ so that the model is Hermition.\n",
    "\n",
    "In the non-interacting limit $U << t$, the model reduces to free fermions and the many-body ground state is a separable product of Bloch waves filled up to the Fermi level. In the interacting limit $U >> t$ on the other hand, the system breaks up into a product of local moments, each in one the four states $|0\\rangle, |\\uparrow\\rangle, |\\downarrow\\rangle, |\\uparrow\\downarrow\\rangle$ depending on the filing. "
   ]
  },
  {
   "cell_type": "markdown",
   "id": "5fdf9c29-c4a0-4965-b464-5e9c05b3cd2c",
   "metadata": {},
   "source": [
    "The Mott insulating phase occurs at half filling $\\mu = \\tfrac{U}{2}$ where there is one electron per lattice site [@hubbardElectronCorrelationsNarrow1964]. Here the model can be rewritten in a symmetric form\n",
    "$$ H_{\\mathrm{H}} = -t \\sum_{\\langle i,j \\rangle \\alpha} c^\\dagger_{i\\alpha} c_{j\\alpha} + U \\sum_i (n_{i\\uparrow} - \\tfrac{1}{2})(n_{i\\downarrow} - \\tfrac{1}{2})$$"
   ]
  },
  {
   "cell_type": "markdown",
   "id": "267afd82-03a6-4d42-860a-8b05aef23e1f",
   "metadata": {},
   "source": [
    "The basic reason that the half filled state is insulating seems is trivial. Any excitation must include states of double occupancy that cost energy $U$, hence the system has a finite bandgap and is an interaction driven Mott insulator. Depending on the lattice, the local moments may then order antiferromagnetically. Originally it was proposed that this antiferromagnetic order was the cause of the gap opening [@mottMetalInsulatorTransitions1990]. However, Mott insulators have been found [@law1TTaS2QuantumSpin2017; @ribakGaplessExcitationsGround2017] without magnetic order. Instead the local moments may form a highly entangled state known as a quantum spin liquid, which will be discussed shortly. \n",
    "\n",
    "Various theoretical treatments of the Hubbard model have been made, including those based on Fermi liquid theory, mean field treatments, the local density approximation (LDA) [@slaterMagneticEffectsHartreeFock1951] and dynamical mean-field theory [@greinerQuantumPhaseTransition2002]. None of these approaches are perfect. Strong correlations are poorly described by the Fermi liquid theory and the LDA approaches while mean field approximations do poorly in low dimensional systems. This theoretical difficulty has made the Hubbard model a target for cold atom simulations [@mazurenkoColdatomFermiHubbard2017].\n",
    "\n",
    "From here the discussion will branch two directions. First, we will discuss a limit of the Hubbard model called the Falikov-Kimball Model. Second, we will look at quantum spin liquids and the Kitaev honeycomb model."
   ]
  },
  {
   "cell_type": "markdown",
   "id": "a2de7def-7a04-4fbc-8a70-92f0bb0e2522",
   "metadata": {},
   "source": [
    "__The Falikov-Kimball Model__\n",
    "\n",
    "Though not the original reason for its introduction, the Falikov-Kimball (FK) model is the limit of the Hubbard model as the mass ratio of the spin up and spin down electron is taken to infinity. This gives a model with two fermion species, one itinerant and one entirely immobile. The number operators for the immobile fermions are therefore conserved quantities and can be be treated like classical degrees of freedom. For our purposes it will be useful to replace the immobile fermions with a classical Ising background field $S_i = \\pm1$.\n",
    "\n",
    "$$\\begin{aligned}\n",
    "H_{\\mathrm{FK}} = & -\\;t \\sum_{\\langle i,j \\rangle} c^\\dagger_{i}c_{j} + \\;U \\sum_{i} S_i\\;(c^\\dagger_{i}c_{i} - \\tfrac{1}{2}). \\\\ \n",
    "\\end{aligned}$$"
   ]
  },
  {
   "cell_type": "markdown",
   "id": "41fc83b7-5c07-40a1-9fa4-200606600c93",
   "metadata": {},
   "source": [
    "Given that the physics of states near the metal-insulator (MI) transition is still poorly understood [@belitzAndersonMottTransition1994; @baskoMetalInsulatorTransition2006] the FK model provides a rich test bed to explore interaction driven MI transition physics. Despite its simplicity, the model has a rich phase diagram in $D \\geq 2$ dimensions. It shows an Mott insulator transition even at high temperature, similar to the corresponding Hubbard Model [@brandtThermodynamicsCorrelationFunctions1989]. In 1D, the ground state phenomenology as a function of filling can be rich [@gruberGroundStatesSpinless1990] but the system is disordered for all $T > 0$ [@kennedyItinerantElectronModel1986]. The model has also been a test-bed for many-body methods, interest took off when an exact dynamical mean-field theory solution in the infinite dimensional case was found [@antipovCriticalExponentsStrongly2014; @ribicNonlocalCorrelationsSpectral2016; @freericksExactDynamicalMeanfield2003; @herrmannNonequilibriumDynamicalCluster2016].\n",
    "\n",
    "In Chapter 3 I will introduce a generalized FK model in one dimension. With the addition of long-range interactions in the background field, the model shows a similarly rich phase diagram. I use an exact Markov chain Monte Carlo method to map the phase diagram and compute the energy-resolved localization properties of the fermions. I then compare the behaviour of this transitionally invariant model to an Anderson model of uncorrelated binary disorder about a background charge density wave field which confirms that the fermionic sector only fully localizes for very large system sizes."
   ]
  },
  {
   "cell_type": "markdown",
   "id": "fdafc5c5-fe30-41f0-aa1d-a33e70360221",
   "metadata": {},
   "source": [
    "__An exactly solvable Quantum Spin Liquid__ \n",
    "\n",
    "To turn to the other key topic of this thesis, we have discussed the question of the magnetic ordering of local moments in the Mott insulating state. The local moments may form an AFM ground state. Alternatively they may fail to order even at zero temperature [@law1TTaS2QuantumSpin2017; @ribakGaplessExcitationsGround2017], giving rise to what is known as a quantum spin liquid (QSL) state. \n",
    "\n",
    "QSLs are a long range entangled ground state of a highly frustated \n",
    "\n",
    "- QSLs introduced by anderson 1973 [@andersonResonatingValenceBonds1973]\n",
    "\n",
    "- Geometric frustration that prevents magnetic ordering is an important part of getting a QSL, suggests exploring the lattice and avenue of interest.\n",
    "\n",
    "- Spin orbit effect is a relativistic effect that couples electron spin to orbital angular moment. Very roughly, an electron sees the electric field of the nucleus as a magnetic field due to its movement and the electron spin couples to this. Can be strong in heavy elements\n",
    "\n",
    "- The Kitaev Model as a canonical QSL\n",
    "\n",
    "- Kitaev model has extensively many conserved charges too\n",
    "\n",
    "- anyons\n",
    "- fractionalisation\n",
    "- Topology -> GS degeneracy depends on the genus of the surface\n",
    "- the chern number"
   ]
  },
  {
   "cell_type": "markdown",
   "id": "e70da10b-0e96-4aff-8b85-17d5b8dc954c",
   "metadata": {},
   "source": [
    "<figure>\n",
    "<img src=\"../../figure_code/intro_chapter/correlation_spin_orbit_PT.png\" style = \"max-width:700px;\" title=\"Phase Diagram\">\n",
    "<figcaption>\n",
    "From [@TrebstPhysRep2022].\n",
    "</figcaption>\n",
    "</figure>"
   ]
  },
  {
   "cell_type": "markdown",
   "id": "0e15824a-70ed-46b5-9459-f39f7200cee1",
   "metadata": {},
   "source": [
    "kinds of mott insulators:\n",
    "Mott-Heisenberg (AFM order below Néel temperature)\n",
    "Mott-Hubbard (no long-range order of local magnetic moments)\n",
    "Mott-Anderson (disorder + correlations)\n",
    "Wigner Crystal"
   ]
  },
  {
   "cell_type": "markdown",
   "id": "3b97f748-753f-472c-b978-7f719608d7d7",
   "metadata": {},
   "source": [
    " "
   ]
  },
  {
   "cell_type": "markdown",
   "id": "8e12d34a-d784-48af-9bc5-c4c6956c0f12",
   "metadata": {},
   "source": [
    "# Outline\n",
    "\n",
    "This thesis is composed of two main studies of separate but related physical models, The Falikov-Kimball Model and the Kitaev-Honeycomb Model. In this chapter I will discuss the overarching motivations for looking at these two physical models. I will then review the literature and methods that are common to both models.\n",
    "\n",
    "In Chapter 2 I will look at the Falikov-Kimball model. I will review what it is and why we would want to study it. I'll survey what is already known about it and identify the gap in the research that we aim to fill, namely the model's behaviour in one dimension. I'll then introduce the modified model that we came up with to close this gap. I will present our results on the thermodynamic phase diagram and localisation properties of the model\n",
    "\n",
    "In Chapter 3 I'll study the Kitaev Honeycomb Model, following the same structure as Chapter 2 I will motivate the study, survey the literature and identify a gap. I'll introduce our Amorphous Kitaev Model designed to fill this gap and present the results.\n",
    "\n",
    "Finally in chapter 4 I will summarise the results and discuss what implications they have for our understanding interacting many-body quantum systems."
   ]
  }
 ],
 "metadata": {
  "kernelspec": {
   "display_name": "Python 3 (ipykernel)",
   "language": "python",
   "name": "python3"
  },
  "language_info": {
   "codemirror_mode": {
    "name": "ipython",
    "version": 3
   },
   "file_extension": ".py",
   "mimetype": "text/x-python",
   "name": "python",
   "nbconvert_exporter": "python",
   "pygments_lexer": "ipython3",
   "version": "3.10.4"
  }
 },
 "nbformat": 4,
 "nbformat_minor": 5
}
