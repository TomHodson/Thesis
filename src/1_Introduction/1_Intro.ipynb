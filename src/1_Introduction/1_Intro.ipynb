{
 "cells": [
  {
   "cell_type": "raw",
   "id": "89f99e2a-c9eb-4d69-8f44-05b877e80a69",
   "metadata": {
    "tags": []
   },
   "source": [
    "---\n",
    "title: Introduction\n",
    "description: Why do we do Condensed Matter theory at all?\n",
    "image:\n",
    "layout: thesis\n",
    "---"
   ]
  },
  {
   "cell_type": "code",
   "execution_count": 1,
   "id": "f4706a30-718d-4f59-8f66-1c2644536f1b",
   "metadata": {
    "tags": [
     "remove_cell"
    ]
   },
   "outputs": [
    {
     "data": {
      "text/html": [
       "<style>\n",
       "figure {\n",
       "    display: flex;\n",
       "    flex-direction: column;\n",
       "    align-items: center;\n",
       "}\n",
       "figure img {\n",
       "    max-width: 900px;\n",
       "    width: 80%;\n",
       "    margin-bottom: 2em;\n",
       "}\n",
       "figcaption {\n",
       "    aria-hidden: true;\n",
       "}\n",
       "</style>\n"
      ],
      "text/plain": [
       "<IPython.core.display.HTML object>"
      ]
     },
     "metadata": {},
     "output_type": "display_data"
    }
   ],
   "source": [
    "%%html\n",
    "<style>\n",
    "figure {\n",
    "    display: flex;\n",
    "    flex-direction: column;\n",
    "    align-items: center;\n",
    "}\n",
    "figure img {\n",
    "    max-width: 900px;\n",
    "    width: 80%;\n",
    "    margin-bottom: 2em;\n",
    "}\n",
    "figcaption {\n",
    "    aria-hidden: true;\n",
    "}\n",
    "</style>"
   ]
  },
  {
   "cell_type": "markdown",
   "id": "f76ffc5f-25eb-4147-b370-4235468be124",
   "metadata": {},
   "source": [
    "# Interacting Quantum Many Body Systems\n",
    "\n",
    "When you take many objects and let them interact together, when we describe the behaviours that arise it is often easier to talks in terms of the group rather than the behaviour of the individual objects. A flock of starlings like that of @fig:Studland_Starlings is a good example. If you were to sit and watch a flock like this, you'd see that it has a distinct outline, that waves of density will sometimes propagate through the closely packed birds and that the flock seems to respond to predators as a distinct object. The natural description of this phenomenon is in terms of the flock, not the individual birds.\n",
    "\n",
    "A flock is an _emergent phenomenon_. The starlings are only interacting with their immediate six or seven neighbours\\ [@king2012murmurations; @balleriniInteractionRulingAnimal2008], what a physicist would call a _local interaction_. There is much philosophical debate about how exactly to define emergence\\ [@andersonMoreDifferent1972; @kivelsonDefiningEmergencePhysics2016]. For our purposes, it is enough to say that emergence is the fact that the aggregate behaviour of many interacting objects may necessitate a radically different description from that of the individual objects. \n",
    "\n",
    "<figure>\n",
    "<img src=\"../../figure_code/intro_chapter/Studland_Starlings.jpeg\" style = \"max-width:700px;\" title=\"A murmuration of Starlings\">\n",
    "<figcaption>\n",
    "A murmuration of starlings. Dorset, UK. Credit [Tanya Hart](https://twitter.com/arripay), \"Studland Starlings\", 2017, [CC BY-SA 3.0](https://creativecommons.org/licenses/by-sa/3.0/deed.en)\n",
    "</figcaption>\n",
    "</figure>\n",
    "\n",
    "To give an example closer to the topic at hand, our understanding of thermodynamics began with bulk properties like heat, energy, pressure and temperature\\ [@saslowHistoryThermodynamicsMissing2020]. It was only later that we gained an understanding of how these properties emerge from microscopic interactions between very large numbers of particles\\ [@flammHistoryOutlookStatistical1998]."
   ]
  },
  {
   "cell_type": "markdown",
   "id": "51e1c9f4-62fe-4f6b-9fe9-dedb1f8f79af",
   "metadata": {},
   "source": [
    "At its heart, condensed matter is the study of the behaviours that can emerge from large numbers of interacting quantum objects at low energy. When these three properties are present together (a large number of objects, those objects being quantum and the presence interactions between the objects), we call it an interacting quantum many body system. From these three ingredients, nature builds all manner of weird and wonderful materials.\n",
    "\n",
    "Historically, we first made headway by ignoring interactions and quantum properties and looking at purely many-body systems. The ideal gas law and the Drude classical electron gas\\ [@ashcroftSolidStatePhysics1976] are good examples. Including interactions leads to the Ising model\\ [@isingBeitragZurTheorie1925], the Landau theory\\ [@landau2013fluid] and the classical theory of phase transitions\\ [@jaegerEhrenfestClassificationPhase1998]. In contrast, condensed matter theory got its start in quantum many-body theory where the only electron-electron interaction considered is the Pauli exclusion principle. Bloch's theorem\\ [@blochÜberQuantenmechanikElektronen1929], the core result of band theory, predicted the properties of non-interacting electrons in crystal lattices. It predicted, in particular, that band insulators arise when the electrons bands are filled, leaving the fermi level in a bandgap\\ [@ashcroftSolidStatePhysics1976]. In the same vein, advances were made in understanding the quantum origins of magnetism, including ferromagnetism and antiferromagnetism\\ [@MagnetismCondensedMatter].\n",
    "\n",
    "The development of Landau-Fermi liquid theory explained why band theory works so well even where an analysis of the relevant energies suggests that it should not\\ [@wenQuantumFieldTheory2007]. Landau Fermi Liquid theory demonstrates that, in many cases where electron-electron interactions are significant, the system can still be described in terms of generalised non-interacting quasiparticles. This happens when the properties of the quasiparticles in the interacting system can be smoothly connected to the free fermions of the non-interacting system. \n",
    "\n",
    "However, there are systems where even Landau-Fermi liquid theory fails. An effective theoretical description of these systems must include electron-electron correlations. They are thus called strongly correlated materials\\ [@morosanStronglyCorrelatedMaterials2012]. The canonical examples are superconductivity\\ [@MicroscopicTheorySuperconductivity], the fractional quantum hall effect\\ [@feldmanFractionalChargeFractional2021] and the Mott insulators\\ [@mottBasisElectronTheory1949; @fisherMottInsulatorsSpin1999]. We'll start by looking at the latter but shall see that there are many links between the three topics."
   ]
  },
  {
   "cell_type": "markdown",
   "id": "1ee650ae-cdae-432c-87d8-715a37fb1691",
   "metadata": {},
   "source": [
    "# Mott Insulators\n",
    "\n",
    "Mott Insulators (MIs) are remarkable because their electrical insulator properties come not from having filled bands but from electron-electron interactions other than Pauli exclusion. Electrical conductivity, the bulk movement of electrons, requires both that there are electronic states very close in energy to the ground state and that those states are delocalised so that they can contribute to macroscopic transport. Band insulators are systems whose Fermi level falls within a gap in the density of states and thus fail the first criteria. Band insulators derive their character from the characteristics of the underlying lattice. A third kind of insulator, the Anderson insulators, have only localised electronic states near the fermi level and therefore fail the second criteria. In a later section, I will discuss Anderson insulators and the disorder that drives them.\n",
    "\n",
    "Both band and Anderson insulators occur without electron-electron interactions. MIs, by contrast, require a many body picture to understand and thus elude band theory and single-particle methods. \n",
    "\n",
    "<figure>\n",
    "<img src=\"../../figure_code/intro_chapter/venn_diagram.svg\" style = \"max-width:700px;\" title=\"Interacting Quantum Many Body Systems Venn Diagram\">\n",
    "<figcaption>\n",
    "Three key adjectives. _Many Body_: systems considered in the limit of large numbers of particles. _Quantum_: objects whose behaviour requires quantum mechanics to describe accurately. _Interacting_: the constituent particles of the system affect one another via forces, either directly or indirectly. When taken together, these three properties can give rise to strongly correlated materials.\n",
    "</figcaption>\n",
    "</figure>\n",
    "\n",
    "The theory of MIs developed out of the observation that band theory erroneously predicts that many transition metal oxides are conductive\\ [@boerSemiconductorsPartiallyCompletely1937]. It was suggested that electron-electron interactions were the cause of this effect\\ [@mottDiscussionPaperBoer1937]. Interest grew with the discovery of high temperature superconductivity in the cuprates in 1986\\ [@bednorzPossibleHighTcSuperconductivity1986] which is believed to arise as the result of a doped MI state\\ [@leeDopingMottInsulator2006]. "
   ]
  },
  {
   "cell_type": "markdown",
   "id": "744e8a55-e31e-4277-a263-9d7548107b2d",
   "metadata": {},
   "source": [
    "The canonical toy model of the MI is the Hubbard model\\ [@gutzwillerEffectCorrelationFerromagnetism1963; @kanamoriElectronCorrelationFerromagnetism1963; @hubbardj.ElectronCorrelationsNarrow1963] of spin-$1/2$ fermions hopping on the lattice with hopping parameter $t$ and electron-electron repulsion $U$\n",
    "\n",
    "$$ H_{\\mathrm{H}} = -t \\sum_{\\langle i,j \\rangle \\alpha} c^\\dagger_{i\\alpha} c_{j\\alpha} + U \\sum_i n_{i\\uparrow} n_{i\\downarrow} - \\mu \\sum_{i,\\alpha} n_{i\\alpha},$$\n",
    "\n",
    "where $c^\\dagger_{i\\alpha}$ creates a spin $\\alpha$ electron at site $i$ and the number operator $n_{i\\alpha}$ measures the number of electrons with spin $\\alpha$ at site $i$. The sum runs over lattice neighbours $\\langle i,j \\rangle$ including both $\\langle i,j \\rangle$ and $\\langle j,i \\rangle$ so that the model is Hermitian.\n",
    "\n",
    "In the non-interacting limit $U << t$, the model reduces to free fermions and the many-body ground state is a separable product of Bloch waves filled up to the Fermi level. On the other hand, the ground state in the interacting limit $U >> t$ is a direct product of the local Hilbert spaces $|0\\rangle, |\\uparrow\\rangle, |\\downarrow\\rangle, |\\uparrow\\downarrow\\rangle$. At half filling, one electron per site, each site becomes a _local moment_ in the reduced Hilbert space $|\\uparrow\\rangle, |\\downarrow\\rangle$ and thus acts like a spin-$1/2$\\ [@hubbardElectronCorrelationsNarrow1964]."
   ]
  },
  {
   "cell_type": "markdown",
   "id": "5fdf9c29-c4a0-4965-b464-5e9c05b3cd2c",
   "metadata": {},
   "source": [
    "The Mott insulating phase occurs at half filling $\\mu = \\tfrac{U}{2}$. Here the model can be rewritten in a symmetric form\n",
    "$$ H_{\\mathrm{H}} = -t \\sum_{\\langle i,j \\rangle \\alpha} c^\\dagger_{i\\alpha} c_{j\\alpha} + U \\sum_i (n_{i\\uparrow} - \\tfrac{1}{2})(n_{i\\downarrow} - \\tfrac{1}{2}).$$"
   ]
  },
  {
   "cell_type": "markdown",
   "id": "267afd82-03a6-4d42-860a-8b05aef23e1f",
   "metadata": {},
   "source": [
    "The basic reason that the half filled state is insulating seems trivial. Any excitation must include states of double occupancy that cost energy $U$. Hence, the system has a finite bandgap and is an interaction-driven MI. Depending on the lattice, the local moments may then order antiferromagnetically. Originally it was proposed that this Antiferromagnetic (AFM) order was actually the reason for the insulating behaviour. This would make sense since AFM order doubles the unit cell and can turn a system into a band insulator with an even number of electrons per unit cell\\ [@mottMetalInsulatorTransitions1990]. However, MIs have been found without magnetic order\\ [@law1TTaS2QuantumSpin2017; @ribakGaplessExcitationsGround2017]. Instead, the local moments may form a highly entangled state known as a Quantum Spin Liquid (QSL), which will be discussed shortly. \n",
    "\n",
    "Various theoretical treatments of the Hubbard model have been made, including those based on Fermi liquid theory, mean field treatments, the local density approximation\\ [@slaterMagneticEffectsHartreeFock1951], dynamical mean-field theory\\ [@greinerQuantumPhaseTransition2002], density matrix renormalisation group methods\\ [@hallbergNewTrendsDensity2006; @schollwöckDensitymatrixRenormalizationGroup2005; @whiteDensityMatrixFormulation1992] and Markov chain Monte Carlo\\ [@blankenbeclerMonteCarloCalculations1981; @hirschDiscreteHubbardStratonovichTransformation1983; @whiteNumericalStudyTwodimensional1989]. None of these approaches are perfect. Strong correlations are poorly described by Fermi liquid theory and LDA approaches while mean field approximations do poorly in low dimensional systems. This theoretical difficulty has made the Hubbard model a target for cold atom simulations\\ [@mazurenkoColdatomFermiHubbard2017].\n",
    "\n",
    "From here, the discussion will branch in two directions. First, I will discuss a limit of the Hubbard model called the Falicov-Kimball model. Second, I will look at QSLs and the Kitaev honeycomb model."
   ]
  },
  {
   "cell_type": "markdown",
   "id": "a2de7def-7a04-4fbc-8a70-92f0bb0e2522",
   "metadata": {},
   "source": [
    "### The Falicov-Kimball Model {#intro-the-fk-model}\n",
    "\n",
    "<figure>\n",
    "<img src=\"../../figure_code/intro_chapter/fk_schematic.svg\" style = \"max-width:700px;\" title=\"Falicov-Kimball Model Diagram\">\n",
    "<figcaption>\n",
    "The Falicov-Kimball model can be viewed as a model of classical spins $S_i$ coupled to spinless fermions $\\hat{c}_i$ where the fermions are mobile with hopping $t$ and the fermions are coupled to the spins by an Ising type interaction with strength $U$.\n",
    "</figcaption>\n",
    "</figure>\n",
    "\n",
    "The Falicov-Kimball (FK) model was originally introduced to describe the metal-insulator transition in f-electron system\\ [@hubbardj.ElectronCorrelationsNarrow1963; @falicovSimpleModelSemiconductorMetal1969]. The FK model is the limit of the Hubbard model as the mass of one of the spins states of the electron is taken to infinity. This gives a model with two fermion species, one itinerant and one entirely immobile. The number operators for the immobile fermions are therefore conserved quantities and can be be treated like classical degrees of freedom. For our purposes, it will be useful to replace the immobile fermions with a classical Ising background field $S_i = \\pm1$.\n",
    "\n",
    "$$\\begin{aligned}\n",
    "H_{\\mathrm{FK}} = & -\\;t \\sum_{\\langle i,j \\rangle} c^\\dagger_{i}c_{j} + \\;U \\sum_{i} S_i\\;(c^\\dagger_{i}c_{i} - \\tfrac{1}{2}). \\\\ \n",
    "\\end{aligned}$$"
   ]
  },
  {
   "cell_type": "markdown",
   "id": "41fc83b7-5c07-40a1-9fa4-200606600c93",
   "metadata": {},
   "source": [
    "The physics of states near the metal-insulator transition is still poorly understood\\ [@belitzAndersonMottTransition1994; @baskoMetalInsulatorTransition2006]. As a result, the FK model provides a rich test bed to explore interaction-driven metal-insulator transition physics. Despite its simplicity, the model has a rich phase diagram in $D \\geq 2$ dimensions. It shows a Mott insulator transition even at high temperature, similar to the corresponding Hubbard model\\ [@brandtThermodynamicsCorrelationFunctions1989]. In one dimension, the ground state phenomenology as a function of filling can be rich\\ [@gruberGroundStatesSpinless1990], but the system is disordered for all $T > 0$\\ [@kennedyItinerantElectronModel1986]. The model has also been a test-bed for many-body methods. Interest took off when an exact dynamical mean-field theory solution in the infinite dimensional case was found\\ [@antipovCriticalExponentsStrongly2014; @ribicNonlocalCorrelationsSpectral2016; @freericksExactDynamicalMeanfield2003; @herrmannNonequilibriumDynamicalCluster2016].\n",
    "\n",
    "In\\ [chapter 3](#chap:3-the-long-range-falicov-kimball-model), I will introduce a generalised Falicov-Kimball model in one dimension I call the Long-Range Falicov-Kimball model. With the addition of long-range interactions in the background field, the model shows a similarly rich phase diagram like its higher dimensional cousins. Our goal is to understand the Mott transition in more detail, the phase transition into a charge density wave state and how the localisation properties of the fermionic sector behave in one dimension. We were particularly interested to see if correlations in the disorder potential are enough to bring about localisation effects, such as mobility edges, that are normally only seen in higher dimensions. I use an exact Markov chain Monte Carlo method to map the phase diagram and compute the energy-resolved localisation properties of the fermions. We observe what appears to be a hint of coexisting localised and delocalised states. However, after careful comparison to an Anderson model of uncorrelated binary disorder about a background charge density wave field, we confirm that the fermionic sector does fully localise at larger system sizes as expected for one dimensional systems."
   ]
  },
  {
   "cell_type": "markdown",
   "id": "3720468f-7cd9-4541-8a31-3b22d23c00aa",
   "metadata": {},
   "source": [
    "# Quantum Spin Liquids\n",
    "\n",
    "Turning to the other key topic of this thesis, we have already discussed the AFM ordering of local moments in the Mott insulating state. Landau-Ginzburg-Wilson theory characterises phases of matter as inextricably linked to the emergence of long-range order via a spontaneously broken symmetry. Within this paradigm, we would not expect any interesting phases of matter not associated with AFM or other long-range order. However, Anderson first proposed in 1973\\ [@andersonResonatingValenceBonds1973] that, if long-range order is suppressed by some mechanism, it might lead to a liquid-like state even at zero temperature: a QSL.\n",
    "\n",
    "This QSL state would exist at zero or very low temperatures. Therefore, we would expect quantum effects to be very strong, which will have far reaching consequences. It was the discovery of a different phase, however, that really kickstarted interest in the topic. The fractional quantum Hall state, discovered in the 1980s\\ [@laughlinAnomalousQuantumHall1983] is an explicit example of an interacting electron system that falls outside of the Landau-Ginzburg-Wilson paradigm[^1]. It shares many phenomenological properties with the QSL state. They both exhibit fractionalised excitations, braiding statistics and non-trivial topological properties\\ [@broholmQuantumSpinLiquids2020]. The many-body ground state of such systems acts as a complex and highly entangled vacuum. This vacuum can support quasiparticle excitations with properties unbound from that of the Dirac fermions of the standard model.\n",
    "\n",
    "How do we actually make a QSL? Frustration is one mechanism that we can use to suppress magnetic order in spin models\\ [@TrebstPhysRep2022]. Frustration can be geometric. Triangular lattices, for instance, cannot support AFM order. It can also come about as a result of spin-orbit coupling or other physics. There are also other routes to QSLs besides frustrated spin systems that we will not discuss here\\ [@balentsNodalLiquidTheory1998; @balentsDualOrderParameter1999; @linExactSymmetryWeaklyinteracting1998].\n",
    "\n",
    "[^1]: In fact the FQH state _can_ be described within a Ginzburg-Landau like paradigm but it requires a non-local order parameter\\ [@girvinOffdiagonalLongrangeOrder1987; @readOrderParameterGinzburgLandau1989]. Phases like this are said to possess _topological order_ defined by the fact that they cannot be smoothly deformed into a product state\\ [@chenLocalUnitaryTransformation2010; @wenQuantumOrdersSymmetric2002].\n",
    "\n",
    "<!-- Experimentally, Mott insulating systems without magnetic order have been proposed as QSL systems\\ [@law1TTaS2QuantumSpin2017; @ribakGaplessExcitationsGround2017].  -->\n",
    "\n",
    "<!-- Other exampels:   Quantum spin liquids are the analogous phase of matter for spin systems. Spin ice support deconfined magnetic monopoles. -->"
   ]
  },
  {
   "cell_type": "markdown",
   "id": "8590b34b-9466-4ccd-b115-8978bd9d7bea",
   "metadata": {},
   "source": [
    "<figure>\n",
    "<img src=\"../../figure_code/intro_chapter/kitaev_material_phase_diagram.svg\" style = \"max-width:700px;\" title=\"Phase Diagram\" id=\"kitaev-material-phase-diagram\">\n",
    "<figcaption>\n",
    "How Kitaev materials fit into the picture of strongly correlated systems. Interactions are required to open a Mott gap and localise the electrons into local moments, while spin-orbit correlations are required to produce the strongly anisotropic spin-spin couplings of the Kitaev model. Reproduced from\\ [@TrebstPhysRep2022].\n",
    "</figcaption>\n",
    "</figure>\n",
    "\n",
    "Spin-orbit coupling is a relativistic effect that, very roughly, corresponds to the fact that in the frame of reference of a moving electron the electric field of nearby nuclei looks like a magnetic field to which the electron spin couples. This couples the spatial and spin parts of the electron wavefunction. The lattice structure can therefore influence the form of the spin-spin interactions, leading to spatial anisotropy in the effective interactions. This spatial anisotropy can frustrate an MI state\\ [@jackeliMottInsulatorsStrong2009; @khaliullinOrbitalOrderFluctuations2005] leading to more exotic ground states than the AFM order we have seen so far. As with the Hubbard model, interaction effects are only strong or weak in comparison to the bandwidth or hopping integral $t$. Hence, we will see strong frustration in materials with strong spin-orbit coupling $\\lambda$ relative to their bandwidth $t$.\n",
    "\n",
    "In certain transition metal based compounds, such as those based on Iridium and Ruthenium, the lattice structure, strong spin-orbit coupling and narrow bandwidths lead to effective spin-$\\tfrac{1}{2}$ Mott insulating states with strongly anisotropic spin-spin couplings. These transition metal compounds, known as Kitaev materials, draw their name from the celebrated Kitaev Honeycomb (KH) model which is expected to model their low temperature behaviour\\ [@Jackeli2009; @HerrmannsAnRev2018; @Winter2017; @TrebstPhysRep2022; @Takagi2019].\n",
    "\n",
    "At this point, we can sketch out a phase diagram like that of @fig:kitaev-material-phase-diagram. When both electron-electron interactions $U$ and spin-orbit couplings $\\lambda$ are small relative to the bandwidth $t$, we recover standard band theory of band insulators and metals. In the upper left, we have the simple Mott insulating state as described by the Hubbard model. In the lower right, strong spin-orbit coupling gives rise to topological insulators characterised by symmetry protected edge modes and non-zero Chern number. Kitaev materials occur in the region where strong electron-electron interaction and spin-orbit coupling interact. See\\ [@witczak-krempaCorrelatedQuantumPhenomena2014] for a more expansive version of this diagram.\n",
    "\n",
    "The KH model\\ [@kitaevAnyonsExactlySolved2006] was one of the first exactly solvable spin models with a QSL ground state. It is defined on the two dimensional honeycomb lattice and provides an exactly solvable model that can be reduced to a free fermion problem via a mapping to Majorana fermions. This yields an extensive number of static $\\mathbb Z_2$ fluxes tied to an emergent gauge field. The model is remarkable not only for its QSL ground state, but also for its fractionalised excitations with non-trivial braiding statistics. It has a rich phase diagram hosting gapless, Abelian and non-Abelian phases\\ [@knolleDynamicsFractionalizationQuantum2015] and a finite temperature phase transition to a thermal metal state\\ [@selfThermallyInducedMetallic2019]. It has been proposed that its non-Abelian excitations could be used to support robust topological quantum computing\\ [@kitaev_fault-tolerant_2003; @freedmanTopologicalQuantumComputation2003; @nayakNonAbelianAnyonsTopological2008]. \n",
    "\n",
    "The KH and FK models have quite a bit of conceptual overlap. They can both be seen as models of spinless fermions coupled to a classical Ising background field. This is what makes them exactly solvable. At finite temperatures, fluctuations in their background fields provide an effective disorder potential for the fermionic sector, so both models can be studied at finite temperature with Markov chain Monte Carlo methods\\ [@antipovInteractionTunedAndersonMott2016; @selfThermallyInducedMetallic2019].\n",
    "\n",
    "As Kitaev points out in his original paper, the KH model remains solvable on any tri-coordinated $z=3$ graph which can be 3-edge-coloured. Indeed many generalisations of the model exist\\ [@Baskaran2007; @Baskaran2008; @Nussinov2009; @OBrienPRB2016; @hermanns2015weyl]. Notably, the Yao-Kivelson model\\ [@yaoExactChiralSpin2007] introduces triangular plaquettes to the honeycomb lattice leading to spontaneous chiral symmetry breaking. These extensions all retain translation symmetry. This is likely because edge-colouring, finding the ground state and understanding the QSL properties are much harder without it\\ [@eschmann2019thermodynamics; @Peri2020]. Undeterred, this gap lead us to wonder what might happen if we remove translation symmetry from the Kitaev model. This would be a model of a tri-coordinated, highly bond anisotropic but otherwise amorphous material.\n",
    "\n",
    "Amorphous materials do not have long-range lattice regularities but may have short-range regularities in the lattice structure, such as fixed coordination number $z$ as in some covalent compounds. The best examples are amorphous Silicon and Germanium with $z=4$ which are used to make thin-film solar cells\\ [@Weaire1971; @betteridge1973possible]. Recently, it has been shown that topological insulating (TI) phases can exist in amorphous systems. Amorphous TIs are characterised by similar protected edge states to their translation invariant cousins and generalised topological bulk invariants\\ [@mitchellAmorphousTopologicalInsulators2018; @agarwala2019topological; @marsalTopologicalWeaireThorpeModels2020; @costa2019toward; @agarwala2020higher; @spring2021amorphous; @corbae2019evidence]. However, research on amorphous electronic systems has mostly focused on non-interacting systems with a few exceptions, for example, to account for the observation of superconductivity\\ [@buckel1954einfluss; @mcmillan1981electron; @meisel1981eliashberg; @bergmann1976amorphous; @mannaNoncrystallineTopologicalSuperconductors2022] in amorphous materials or very recently to understand the effect of strong electron repulsion in TIs\\ [@kim2022fractionalization].\n",
    "\n",
    "Amorphous _magnetic_ systems have been investigated since the 1960s, mostly through the adaptation of theoretical tools developed for disordered systems\\ [@aharony1975critical; @Petrakovski1981; @kaneyoshi1992introduction; @Kaneyoshi2018] and with numerical methods\\ [@fahnle1984monte; @plascak2000ising]. Research on classical Heisenberg and Ising models accounts for the observed behaviour of ferromagnetism, disordered antiferromagnetism and widely observed spin glass behaviour\\ [@coey1978amorphous]. However, the role of spin-anisotropic interactions and quantum effects in amorphous magnets has not been addressed. \n",
    "\n",
    "In\\ [chapter 4](#chap:4-the-amorphous-kitaev-model), I will address the question of whether frustrated magnetic interactions on amorphous lattices can give rise to genuine quantum phases, i.e. to long-range entangled QSL\\ [@Anderson1973; @Knolle2019; @Savary2016; @Lacroix2011]. We will find that the answer is yes. I will introduce the amorphous Kitaev model, a generalisation of the KH model to random lattices with fixed coordination number three. I will show that this model is a solvable, amorphous, chiral spin liquid. As with the Yao-Kivelson model\\ [@yaoExactChiralSpin2007], the amorphous Kitaev model retains its exact solubility but the presence of plaquettes with an odd number of sides leads to a spontaneous breaking of time reversal symmetry. I will confirm prior observations that the form of the ground state is relatively simple\\ [@OBrienPRB2016; @eschmannThermodynamicClassificationThreedimensional2020] and unearth a rich phase diagram displaying Abelian as well as a non-Abelian chiral spin liquid phases. Furthermore, I will show that the system undergoes a finite-temperature phase transition to a thermal metal state and discuss possible experimental realisations. \n",
    "\n",
    "The next chapter,\\ [Chapter 2](#chap:2-background), will introduce some necessary background to the FK model, the KH model, and disorder and localisation."
   ]
  }
 ],
 "metadata": {
  "kernelspec": {
   "display_name": "Python 3 (ipykernel)",
   "language": "python",
   "name": "python3"
  },
  "language_info": {
   "codemirror_mode": {
    "name": "ipython",
    "version": 3
   },
   "file_extension": ".py",
   "mimetype": "text/x-python",
   "name": "python",
   "nbconvert_exporter": "python",
   "pygments_lexer": "ipython3",
   "version": "3.10.6"
  },
  "vscode": {
   "interpreter": {
    "hash": "aee8b7b246df8f9039afb4144a1f6fd8d2ca17a180786b69acc140d282b71a49"
   }
  }
 },
 "nbformat": 4,
 "nbformat_minor": 5
}
