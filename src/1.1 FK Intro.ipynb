{
 "cells": [
  {
   "cell_type": "code",
   "execution_count": 1,
   "id": "bd93dd4a-1324-4c21-9864-7dcc4afc0a8c",
   "metadata": {},
   "outputs": [
    {
     "data": {
      "text/html": [
       "<style>\n",
       "figure {\n",
       "    display: flex;\n",
       "    flex-direction: column;\n",
       "    align-items: center;\n",
       "}\n",
       "figure img {\n",
       "    max-width: 900px;\n",
       "    width: 80%;\n",
       "    margin-bottom: 2em;\n",
       "}\n",
       "figcaption {\n",
       "    aria-hidden: true;\n",
       "}\n",
       "</style>\n"
      ],
      "text/plain": [
       "<IPython.core.display.HTML object>"
      ]
     },
     "metadata": {},
     "output_type": "display_data"
    }
   ],
   "source": [
    "%%html\n",
    "<style>\n",
    "figure {\n",
    "    display: flex;\n",
    "    flex-direction: column;\n",
    "    align-items: center;\n",
    "}\n",
    "figure img {\n",
    "    max-width: 900px;\n",
    "    width: 80%;\n",
    "    margin-bottom: 2em;\n",
    "}\n",
    "figcaption {\n",
    "    aria-hidden: true;\n",
    "}\n",
    "</style>"
   ]
  },
  {
   "cell_type": "markdown",
   "id": "8e19d84a-00db-4f7c-bfe6-8b1fe022527c",
   "metadata": {},
   "source": [
    "# Introduction\n",
    "\n"
   ]
  },
  {
   "cell_type": "markdown",
   "id": "adef676f-8e6d-43bc-ab92-6c50ddb2624d",
   "metadata": {},
   "source": [
    "<figure>\n",
    "<img src=\"../figure_code/fk_chapter/binder.png\">\n",
    "<figcaption >\n",
    "</figcaption>\n",
    "</figure>"
   ]
  },
  {
   "cell_type": "markdown",
   "id": "88bcde96-1a17-4aaa-b70b-2d248c282907",
   "metadata": {},
   "source": [
    "lets cite Figure @fig:binder"
   ]
  },
  {
   "cell_type": "markdown",
   "id": "3531865f-1cbb-428e-93fa-1be82431dfc5",
   "metadata": {},
   "source": [
    "lets cite to person @trebstKitaevMaterials2022. and then multple [@banerjeeProximateKitaevQuantum2016; @trebstKitaevMaterials2022]. what is we surround it by spaces? @trebstKitaevMaterials2022 "
   ]
  }
 ],
 "metadata": {
  "kernelspec": {
   "display_name": "Python 3 (ipykernel)",
   "language": "python",
   "name": "python3"
  },
  "language_info": {
   "codemirror_mode": {
    "name": "ipython",
    "version": 3
   },
   "file_extension": ".py",
   "mimetype": "text/x-python",
   "name": "python",
   "nbconvert_exporter": "python",
   "pygments_lexer": "ipython3",
   "version": "3.9.7"
  }
 },
 "nbformat": 4,
 "nbformat_minor": 5
}
