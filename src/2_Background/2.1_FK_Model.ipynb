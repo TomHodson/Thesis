{
 "cells": [
  {
   "cell_type": "raw",
   "id": "89f99e2a-c9eb-4d69-8f44-05b877e80a69",
   "metadata": {
    "tags": [
     "remove_cell"
    ]
   },
   "source": [
    "---\n",
    "title: The Falikov Kimball Model\n",
    "description: \n",
    "image:\n",
    "layout: thesis\n",
    "---"
   ]
  },
  {
   "cell_type": "code",
   "execution_count": 1,
   "id": "f4706a30-718d-4f59-8f66-1c2644536f1b",
   "metadata": {
    "tags": [
     "remove_cell"
    ]
   },
   "outputs": [
    {
     "data": {
      "text/html": [
       "<style>\n",
       "figure {\n",
       "    display: flex;\n",
       "    flex-direction: column;\n",
       "    align-items: center;\n",
       "}\n",
       "figure img {\n",
       "    max-width: 900px;\n",
       "    width: 80%;\n",
       "    margin-bottom: 2em;\n",
       "}\n",
       "figcaption {\n",
       "    aria-hidden: true;\n",
       "}\n",
       "</style>\n"
      ],
      "text/plain": [
       "<IPython.core.display.HTML object>"
      ]
     },
     "metadata": {},
     "output_type": "display_data"
    }
   ],
   "source": [
    "%%html\n",
    "<style>\n",
    "figure {\n",
    "    display: flex;\n",
    "    flex-direction: column;\n",
    "    align-items: center;\n",
    "}\n",
    "figure img {\n",
    "    max-width: 900px;\n",
    "    width: 80%;\n",
    "    margin-bottom: 2em;\n",
    "}\n",
    "figcaption {\n",
    "    aria-hidden: true;\n",
    "}\n",
    "</style>"
   ]
  },
  {
   "cell_type": "markdown",
   "id": "7fecfbcb-fa6b-4b3f-92b1-58ed746e081e",
   "metadata": {},
   "source": [
    "# The Falikov Kimball Model"
   ]
  },
  {
   "cell_type": "markdown",
   "id": "48a674f9-ef1e-4b5f-9ce6-636b1516a9c0",
   "metadata": {},
   "source": [
    "## The Model\n",
    "discuss CDW phase of 2d model as motivation for studying 1d phase with long range forces\n",
    "\n",
    "### Particle Hole Symmetry\n",
    "\n",
    "## Phase Diagram\n",
    "\n",
    "## Long Range Ising Models"
   ]
  },
  {
   "cell_type": "code",
   "execution_count": null,
   "id": "40e4bbd7-3460-4665-aad5-99290ca4bfcd",
   "metadata": {},
   "outputs": [],
   "source": []
  }
 ],
 "metadata": {
  "kernelspec": {
   "display_name": "Python 3 (ipykernel)",
   "language": "python",
   "name": "python3"
  },
  "language_info": {
   "codemirror_mode": {
    "name": "ipython",
    "version": 3
   },
   "file_extension": ".py",
   "mimetype": "text/x-python",
   "name": "python",
   "nbconvert_exporter": "python",
   "pygments_lexer": "ipython3",
   "version": "3.10.4"
  }
 },
 "nbformat": 4,
 "nbformat_minor": 5
}
