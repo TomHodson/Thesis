{
 "cells": [
  {
   "cell_type": "raw",
   "id": "89f99e2a-c9eb-4d69-8f44-05b877e80a69",
   "metadata": {
    "tags": []
   },
   "source": [
    "---\n",
    "title: Background - The Falikov Kimball Model\n",
    "description: \n",
    "image:\n",
    "layout: thesis\n",
    "---"
   ]
  },
  {
   "cell_type": "code",
   "execution_count": 1,
   "id": "f4706a30-718d-4f59-8f66-1c2644536f1b",
   "metadata": {
    "tags": [
     "remove_cell"
    ]
   },
   "outputs": [
    {
     "data": {
      "text/html": [
       "<style>\n",
       "figure {\n",
       "    display: flex;\n",
       "    flex-direction: column;\n",
       "    align-items: center;\n",
       "}\n",
       "figure img {\n",
       "    max-width: 900px;\n",
       "    width: 80%;\n",
       "    margin-bottom: 2em;\n",
       "}\n",
       "figcaption {\n",
       "    aria-hidden: true;\n",
       "}\n",
       "</style>\n"
      ],
      "text/plain": [
       "<IPython.core.display.HTML object>"
      ]
     },
     "metadata": {},
     "output_type": "display_data"
    }
   ],
   "source": [
    "%%html\n",
    "<style>\n",
    "figure {\n",
    "    display: flex;\n",
    "    flex-direction: column;\n",
    "    align-items: center;\n",
    "}\n",
    "figure img {\n",
    "    max-width: 900px;\n",
    "    width: 80%;\n",
    "    margin-bottom: 2em;\n",
    "}\n",
    "figcaption {\n",
    "    aria-hidden: true;\n",
    "}\n",
    "</style>"
   ]
  },
  {
   "cell_type": "markdown",
   "id": "7fecfbcb-fa6b-4b3f-92b1-58ed746e081e",
   "metadata": {},
   "source": [
    "# The Falikov Kimball Model"
   ]
  },
  {
   "cell_type": "markdown",
   "id": "64b0dce4-983e-43b5-91d3-0f6e989bd002",
   "metadata": {},
   "source": [
    "## The Model\n",
    "\n",
    "The Falikov-Kimball (FK) model is one of the simplest models of the correlated electron problem. It captures the essence of the interaction between itinerant and localized electrons. It was originally introduced to explain the metal-insulator transition in f-electron systems but in its long history it has been interpreted variously as a model of electrons and ions, binary alloys or of crystal formation\\ [@hubbardj.ElectronCorrelationsNarrow1963; @falicovSimpleModelSemiconductorMetal1969; @gruberFalicovKimballModelReview1996; @gruberFalicovKimballModel2006]. In terms of immobile fermions $d_i$ and light fermions $c_i$ and with chemical potential fixed at half-filling, the model reads\n",
    "\n",
    "$$\\begin{aligned}\n",
    "H_{\\mathrm{FK}} = & \\;U \\sum_{i} (d^\\dagger_{i}d_{i} - \\tfrac{1}{2})\\;(c^\\dagger_{i}c_{i} - \\tfrac{1}{2}) -\\;t \\sum_{\\langle i,j\\rangle} c^\\dagger_{i}c_{j}.\\\\ \n",
    "\\end{aligned}$$"
   ]
  },
  {
   "cell_type": "markdown",
   "id": "0939d8b6-d2e1-47e6-931c-e0f77179560a",
   "metadata": {},
   "source": [
    "The connection to the Hubbard model is that we have relabel the up and down spin electron states and removed the hopping term for one species, the equivalent of taking the limit of infinite mass ratio\\ [@devriesSimplifiedHubbardModel1993]. \n",
    "\n",
    "Like other exactly solvable models\\ [@smithDisorderFreeLocalization2017] and the Kitaev Model, the FK model possesses extensively many conserved degrees of freedom $[d^\\dagger_{i}d_{i}, H] = 0$. The Hilbert space therefore breaks up into a set of sectors in which these operators take a definite value. Crucially, this reduces the interaction term $(d^\\dagger_{i}d_{i} - \\tfrac{1}{2})\\;(c^\\dagger_{i}c_{i} - \\tfrac{1}{2})$ from being quartic in fermion operators to quadratic. This is what makes the FK model exactly solvable, in contrast to the Hubbard model. "
   ]
  },
  {
   "cell_type": "markdown",
   "id": "634f7c25-1fff-4a5b-8dc1-242c03c28b44",
   "metadata": {},
   "source": [
    "Due to Pauli exclusion, maximum filling occurs when each lattice site is fully occupied, $\\langle n_c + n_d \\rangle = 2$. Here we will focus on the half filled case $\\langle n_c + n_d \\rangle = 1$. Doping the model away from the half-filled point leads to rich physics including superconductivity\\ [@jedrzejewskiFalicovKimballModels2001]. "
   ]
  },
  {
   "cell_type": "markdown",
   "id": "1983bf4d-7de9-4948-83b0-8146ae4ec431",
   "metadata": {},
   "source": [
    "At half-filling and on bipartite lattices, FK the model is particle-hole symmetric. That is, the Hamiltonian anticommutes with the particle hole operator $\\mathcal{P}H\\mathcal{P}^{-1} = -H$. As a consequence the energy spectrum is symmetric about $E = 0$ and this is the Fermi energy. The particle hole operator corresponds to the substitution $c^\\dagger_i \\rightarrow \\epsilon_i c_i, d^\\dagger_i \\rightarrow d_i$ where $\\epsilon_i = +1$ for the A sublattice and $-1$ for the even sublattice\\ [@gruberFalicovKimballModel2005]. The absence of a hopping term for the heavy electrons means they do not need the factor of $\\epsilon_i$."
   ]
  },
  {
   "cell_type": "markdown",
   "id": "044fc685-026a-48ca-af64-340614128e22",
   "metadata": {},
   "source": [
    "<figure>\n",
    "<img src=\"../../figure_code/background_chapter/simple_DOS.svg\" style=\"width:700px;\" title=\"Cubic Lattice dispersion with disorder\">\n",
    "<figcaption>\n",
    "The dispersion (upper row) and density of states (lower row) obtained from a cubic lattice model $H = \\sum_{i} V_i c^\\dagger_{i}c_{i} - t \\sum_{\\langle i,j\\rangle} c^\\dagger_{i}c_{j}$ in one dimension. (a) With not external potential. (b) With a static charge density wave background $V_i = (-1)^i$ (c) A static charge density wave background with 2% binary disorder. \n",
    "</figcaption>\n",
    "</figure>"
   ]
  },
  {
   "cell_type": "markdown",
   "id": "8880e6e1-6568-4760-b535-c6e9e4f6c7ad",
   "metadata": {},
   "source": [
    "We will later add a long range interaction between the localised electrons so we will replace the immobile fermions with a classical Ising field $S_i = 1 - 2d^\\dagger_id_i = \\pm\\tfrac{1}{2}$.\n",
    "\n",
    "$$\\begin{aligned}\n",
    "H_{\\mathrm{FK}} = & \\;U \\sum_{i} S_i\\;(c^\\dagger_{i}c_{i} - \\tfrac{1}{2}) -\\;t \\sum_{\\langle i,j\\rangle} c^\\dagger_{i}c_{j}.\\\\ \n",
    "\\end{aligned}$$\n",
    "\n",
    "The FK model can be solved exaclty with dynamic mean field theory in the infinite dimensional\\ [@antipovCriticalExponentsStrongly2014; @ribicNonlocalCorrelationsSpectral2016; @freericksExactDynamicalMeanfield2003; @herrmannNonequilibriumDynamicalCluster2016].\n",
    "\n",
    "\n",
    "\n",
    "- displays disorder free localisation"
   ]
  },
  {
   "cell_type": "markdown",
   "id": "cea0b668-18db-4320-b4d4-987c667eed9a",
   "metadata": {},
   "source": [
    "## Phase Diagrams\n",
    "\n",
    "<figure>\n",
    "<img src=\"../../figure_code/background_chapter/fk_phase_diagram.svg\" style=\"width:700px;\" title=\"Fermi-Hubbard and Falikov-Kimball Temperatue-Interaction Phase Diagrams\">\n",
    "<figcaption>\n",
    "Schematic Phase diagrams of the Fermi-Hubbard (left) and Falikov-Kimball model (right) showing temperature (T) and repulsive interaction strength (U). Hubbard model diagram adapted from\\ [@micnasSuperconductivityNarrowbandSystems1990], Falikov-Kimball model from\\ [@antipovInteractionTunedAndersonMott2016; @antipovCriticalExponentsStrongly2014]\n",
    "</figcaption>\n",
    "</figure>"
   ]
  },
  {
   "cell_type": "markdown",
   "id": "05241c26-3e39-49fa-af3b-f34df573ad0c",
   "metadata": {},
   "source": [
    "- rich phase diagram in 2d\n",
    "Despite its simplicity, the FK model has a rich phase diagram in $D \\geq 2$ dimensions. For example, it shows an interaction-induced gap opening even at high temperatures, similar to the corresponding Hubbard Model\\ [@brandtThermodynamicsCorrelationFunctions1989]. \n",
    "\n",
    "At half filling and in dimensions greater than one, the FK model exhibits a phase transition at some $U$ dependent critical temperature $T_c(U)$ to a low temperature charge density wave state in which the spins order antiferromagnetically. This corresponds to the heavy electrons occupying one of the two sublattices A and B\\ [@maskaThermodynamicsTwodimensionalFalicovKimball2006]. In the disordered region above $T_c(U)$ there is a transition between an Anderson insulator phase at weak interaction and a Mott insulator phase in the strongly interacting regime\\ [@andersonAbsenceDiffusionCertain1958].\n",
    "\n",
    "- superconductivity when doped\n",
    "\n",
    "In 1D, the ground state phenomenology as the model is doped away from the half-filled state can be rich\\ [@gruberGroundStatesSpinless1990] but the system is disordered for all $T > 0$\\ [@kennedyItinerantElectronModel1986].\n",
    "\n",
    "In the one dimensional FK model there is no ordered CDW phase\\ [@liebAbsenceMottTransition1968]. The supression of phase transition is a common phenomena in one dimensional systems. It can be understood via Peierls' argument\\ [@peierlsIsingModelFerromagnetism1936; @kennedyItinerantElectronModel1986] to be a consequence of the low energy penalty for domain walls in one dimensional systems.\n",
    "\n",
    "Following Peierls' argument, consider the difference in free energy $\\Delta F = \\Delta E - T\\Delta S$ between an ordered state and a state with single domain wall in a discrete order parameter. Short range interactions produce a constant energy penalty for such a domain wall that does not scale with system size. In contrast, the number of such single domain wall states scales linearly so the entropy is $\\propto \\ln L$. Thus the entropic contribution dominates (eventually) in the thermodynamic limit and no finite temperature order is possible. In two dimensions and above, the energy penalty of a domain wall scales like $L^{d-1}$ so they can support ordered phases.  "
   ]
  },
  {
   "cell_type": "markdown",
   "id": "28897f23-675b-4908-8bd6-b4172ee0ac75",
   "metadata": {},
   "source": [
    "## Long Ranged Ising model\n",
    "Our extension to the FK model could now be though of as spinless fermions coupled to a long range Ising (LRI) model. The LRI model has been extensively studied and its behaviour may be bear relation to the behaviour of our modified FK model.\n",
    "\n",
    "$$H_{\\mathrm{LRI}} = \\sum_{ij} J(|i-j|) \\tau_i \\tau_j = J \\sum_{i\\neq j} |i - j|^{-\\alpha} \\tau_i \\tau_j$$\n",
    "\n",
    "\n",
    "Renormalisation group analyses show that the LRI model has an ordered phase in 1D for $1 < \\alpha < 2 $\\ [@dysonExistencePhasetransitionOnedimensional1969]. Peierls' argument can be extended\\ [@thoulessLongRangeOrderOneDimensional1969] to long range interactions to provide intuition for why this is the case. Again considering the energy difference between the ordered state $|\\ldots\\uparrow\\uparrow\\uparrow\\uparrow\\ldots\\rangle$ and a domain wall state $|\\ldots\\uparrow\\uparrow\\downarrow\\downarrow\\ldots\\rangle$. In the case of the LRI model, careful counting shows that this energy penalty is:\n",
    "$$\\Delta E \\propto \\sum_{n=1}^{\\infty} n J(n)$$"
   ]
  },
  {
   "cell_type": "markdown",
   "id": "6ddc5bc0-0fab-4ac4-a347-77be0b967019",
   "metadata": {},
   "source": [
    "because each interaction between spins separated across the domain by a bond length $n$ can be drawn between $n$ equivalent pairs of sites. Ruelle proved rigorously for a very general class of 1D systems, that if $\\Delta E$ or its many-body generalisation converges in the thermodynamic limit then the free energy is analytic\\ [@ruelleStatisticalMechanicsOnedimensional1968]. This rules out a finite order phase transition, though not one of the Kosterlitz-Thouless type. Dyson also proves this though with a slightly different condition on $J(n)$\\ [@dysonExistencePhasetransitionOnedimensional1969]."
   ]
  },
  {
   "cell_type": "markdown",
   "id": "ccaf0472-318f-42a0-9eab-657f5d58a944",
   "metadata": {},
   "source": [
    "With a power law form for $J(n)$, there are three cases to consider:\n",
    "\n",
    "\n",
    "$ \\alpha = 0$ For infinite range interactions the Ising model is exactly solveable and mean field theory is exact\\ [@lipkinValidityManybodyApproximation1965]. This limit is the same as the infinite dimensional limit.\n",
    "\n",
    "$ \\alpha \\le 1$ For slowly decaying interactions $\\sum_n J(n)$ does not converge so the Hamiltonian is non-extensive, a case which won't be further considered here. __cite__\n",
    "\n",
    "$ 1 < \\alpha < 2 $ A phase transition to an ordered state at a finite temperature.\n",
    "\n",
    "$ \\alpha = 2 $ The energy of domain walls diverges logarithmically, and this turns out to be a Kostelitz-Thouless transition\\ [@thoulessLongRangeOrderOneDimensional1969].\n",
    "\n",
    "$ 2 < \\alpha $ For quickly decaying interactions, domain walls have a finite energy penalty, hence Peirels' argument holds and there is no phase transition."
   ]
  },
  {
   "cell_type": "markdown",
   "id": "4c74be45-8c5b-4b73-8e01-fd5f22ebd10e",
   "metadata": {},
   "source": [
    "<figure>\n",
    "<img src=\"../../figure_code/background_chapter/alpha_diagram.svg\" style=\"width:700px;\" title=\"Long Range Ising Model Behaviour\">\n",
    "<figcaption>\n",
    "\n",
    "</figcaption>\n",
    "</figure>"
   ]
  },
  {
   "cell_type": "code",
   "execution_count": null,
   "id": "de067f3c-936e-40a5-9633-ed780caf3e6c",
   "metadata": {},
   "outputs": [],
   "source": []
  }
 ],
 "metadata": {
  "kernelspec": {
   "display_name": "Python 3 (ipykernel)",
   "language": "python",
   "name": "python3"
  },
  "language_info": {
   "codemirror_mode": {
    "name": "ipython",
    "version": 3
   },
   "file_extension": ".py",
   "mimetype": "text/x-python",
   "name": "python",
   "nbconvert_exporter": "python",
   "pygments_lexer": "ipython3",
   "version": "3.10.4"
  }
 },
 "nbformat": 4,
 "nbformat_minor": 5
}
