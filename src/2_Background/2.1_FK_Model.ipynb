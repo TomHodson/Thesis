{
 "cells": [
  {
   "cell_type": "raw",
   "id": "89f99e2a-c9eb-4d69-8f44-05b877e80a69",
   "metadata": {
    "tags": []
   },
   "source": [
    "---\n",
    "title: Background - The Falicov Kimball Model\n",
    "description: \n",
    "image:\n",
    "layout: thesis\n",
    "---"
   ]
  },
  {
   "cell_type": "code",
   "execution_count": 1,
   "id": "f4706a30-718d-4f59-8f66-1c2644536f1b",
   "metadata": {
    "tags": [
     "remove_cell"
    ]
   },
   "outputs": [
    {
     "data": {
      "text/html": [
       "<style>\n",
       "figure {\n",
       "    display: flex;\n",
       "    flex-direction: column;\n",
       "    align-items: center;\n",
       "}\n",
       "figure img {\n",
       "    max-width: 900px;\n",
       "    width: 80%;\n",
       "    margin-bottom: 2em;\n",
       "}\n",
       "figcaption {\n",
       "    aria-hidden: true;\n",
       "}\n",
       "</style>\n"
      ],
      "text/plain": [
       "<IPython.core.display.HTML object>"
      ]
     },
     "metadata": {},
     "output_type": "display_data"
    }
   ],
   "source": [
    "%%html\n",
    "<style>\n",
    "figure {\n",
    "    display: flex;\n",
    "    flex-direction: column;\n",
    "    align-items: center;\n",
    "}\n",
    "figure img {\n",
    "    max-width: 900px;\n",
    "    width: 80%;\n",
    "    margin-bottom: 2em;\n",
    "}\n",
    "figcaption {\n",
    "    aria-hidden: true;\n",
    "}\n",
    "</style>"
   ]
  },
  {
   "cell_type": "markdown",
   "id": "7fecfbcb-fa6b-4b3f-92b1-58ed746e081e",
   "metadata": {},
   "source": [
    "# The Falicov Kimball Model"
   ]
  },
  {
   "cell_type": "markdown",
   "id": "64b0dce4-983e-43b5-91d3-0f6e989bd002",
   "metadata": {},
   "source": [
    "## The Model\n",
    "\n",
    "The Falicov-Kimball (FK) model is one of the simplest models of the correlated electron problem. It captures the essence of the interaction between itinerant and localised electrons. It was originally introduced to explain the metal-insulator transition in f-electron systems but in its long history it has been interpreted variously as a model of electrons and ions, binary alloys or of crystal formation\\ [@hubbardj.ElectronCorrelationsNarrow1963; @falicovSimpleModelSemiconductorMetal1969; @gruberFalicovKimballModelReview1996; @gruberFalicovKimballModel2006]. In terms of immobile fermions $d_i$ and light fermions $c_i$ and with chemical potential fixed at half-filling, the model reads\n",
    "\n",
    "$$\\begin{aligned}\n",
    "H_{\\mathrm{FK}} = & \\;U \\sum_{i} (d^\\dagger_{i}d_{i} - \\tfrac{1}{2})\\;(c^\\dagger_{i}c_{i} - \\tfrac{1}{2}) -\\;t \\sum_{\\langle i,j\\rangle} c^\\dagger_{i}c_{j}.\\\\ \n",
    "\\end{aligned}$$"
   ]
  },
  {
   "cell_type": "markdown",
   "id": "0939d8b6-d2e1-47e6-931c-e0f77179560a",
   "metadata": {},
   "source": [
    "Here we will only discuss the hypercubic lattices, i.e\\ the chain, the square lattice, the cubic lattice and so on. The connection to the Hubbard model is that we have relabelled the up and down spin electron states and removed the hopping term for one spin state, the equivalent of taking the limit of infinite mass ratio\\ [@devriesSimplifiedHubbardModel1993]. \n",
    "\n",
    "Like other exactly solvable models\\ [@smithDisorderFreeLocalization2017], the FK model possesses extensively many conserved degrees of freedom $[d^\\dagger_{i}d_{i}, H] = 0$. Similarly, the Kitaev model contains an extensive number of conserved fluxes. So in both models, the Hilbert space breaks up into a set of sectors in which these operators take a definite value. Crucially, this reduces the interaction terms in the model from being quartic in fermion operators to quadratic. This is what makes the two models exactly solvable, in contrast to the Hubbard model. For the FK model the interaction term $(d^\\dagger_{i}d_{i} - \\tfrac{1}{2})\\;(c^\\dagger_{i}c_{i} - \\tfrac{1}{2})$ becomes quadratic when $d^\\dagger_{i}d_{i}$ is replaced with on of its eigenvalues $\\{0,1\\}$. The same thing happens in the Kitaev model, though after first applying a clever transformation which we will discuss later. "
   ]
  },
  {
   "cell_type": "markdown",
   "id": "634f7c25-1fff-4a5b-8dc1-242c03c28b44",
   "metadata": {},
   "source": [
    "Due to Pauli exclusion, maximum filling occurs when each lattice site is fully occupied, $\\langle n_c + n_d \\rangle = 2$. Here we will focus on the half filled case $\\langle n_c + n_d \\rangle = 1$. The ground state phenomenology as the model is doped away from the half-filled state can be rich\\ [@jedrzejewskiFalicovKimballModels2001; @gruberGroundStatesSpinless1990] but the half-filled point has symmetries that make it particularly interesting. From this point on we will only consider the half-filled point."
   ]
  },
  {
   "cell_type": "markdown",
   "id": "1983bf4d-7de9-4948-83b0-8146ae4ec431",
   "metadata": {},
   "source": [
    "At half-filling and on bipartite lattices, the FK the model is particle-hole symmetric. That is, the Hamiltonian anticommutes with the particle hole operator $\\mathcal{P}H\\mathcal{P}^{-1} = -H$. As a consequence, the energy spectrum is symmetric about $E = 0$, which is the Fermi energy. The particle hole operator corresponds to the substitution $c^\\dagger_i \\rightarrow \\epsilon_i c_i, d^\\dagger_i \\rightarrow d_i$ where $\\epsilon_i = +1$ for the A sublattice and $-1$ for the B sublattice\\ [@gruberFalicovKimballModel2005]. The absence of a hopping term for the heavy electrons means they do not need the factor of $\\epsilon_i$ but they would need it in the corresponding Hubbard model. See appendix [A.1](#particle-hole-symmetry) for a full derivation of the particle-hole symmetry. "
   ]
  },
  {
   "cell_type": "markdown",
   "id": "044fc685-026a-48ca-af64-340614128e22",
   "metadata": {},
   "source": [
    "<figure>\n",
    "<img src=\"../../figure_code/background_chapter/simple_DOS.svg\" style=\"width:700px;\" title=\"Cubic Lattice dispersion with disorder\">\n",
    "<figcaption>\n",
    "The dispersion (upper row) and density of states (lower row) obtained from a cubic lattice model $H = \\sum_{i} V_i c^\\dagger_{i}c_{i} - t \\sum_{\\langle i,j\\rangle} c^\\dagger_{i}c_{j}$ in 1D. (a) With no external potential. (b) With a static charge density wave background $V_i = (-1)^i$ (c) A static charge density wave background with 2% binary disorder. The top rows shows the analytic dispersion in orange compared with the integral of the DOS in dotted black. \n",
    "</figcaption>\n",
    "</figure>"
   ]
  },
  {
   "cell_type": "markdown",
   "id": "8880e6e1-6568-4760-b535-c6e9e4f6c7ad",
   "metadata": {},
   "source": [
    "We will later add a long-range interaction between the localised electrons at which point we will replace the immobile fermions with a classical Ising field $S_i = 1 - 2d^\\dagger_id_i = \\pm1$ which I will refer to as the spins.\n",
    "\n",
    "$$\\begin{aligned}\n",
    "H_{\\mathrm{FK}} = & \\;U \\sum_{i} S_i\\;(c^\\dagger_{i}c_{i} - \\tfrac{1}{2}) -\\;t \\sum_{\\langle i,j\\rangle} c^\\dagger_{i}c_{j}.\\\\ \n",
    "\\end{aligned}$$\n",
    "\n",
    "The FK model can be solved exactly with dynamic mean field theory in the infinite dimensional limit\\ [@antipovCriticalExponentsStrongly2014; @ribicNonlocalCorrelationsSpectral2016; @freericksExactDynamicalMeanfield2003; @herrmannNonequilibriumDynamicalCluster2016] but has radically different behaviour in lower dimensional systems."
   ]
  },
  {
   "cell_type": "markdown",
   "id": "cea0b668-18db-4320-b4d4-987c667eed9a",
   "metadata": {},
   "source": [
    "## Phase Diagrams\n",
    "\n",
    "<figure>\n",
    "<img src=\"../../figure_code/background_chapter/fk_phase_diagram.svg\" style=\"width:700px;\" title=\"Falicov-Kimball Temperatue-Interaction Phase Diagrams\">\n",
    "<figcaption>\n",
    "Schematic Phase diagram of the Falicov-Kimball model in dimensions greater than two. At low temperature the classical fermions (spins) settle into an ordered charge density wave state (antiferromagnetic state). The schematic diagram for the Hubbard model is the same. Reproduced from\\ [@antipovInteractionTunedAndersonMott2016; @antipovCriticalExponentsStrongly2014]\n",
    "</figcaption>\n",
    "</figure>"
   ]
  },
  {
   "cell_type": "markdown",
   "id": "05241c26-3e39-49fa-af3b-f34df573ad0c",
   "metadata": {},
   "source": [
    "In dimensions greater than one, the FK model exhibits a phase transition at some $U$ dependent critical temperature $T_c(U)$ to a low temperature ordered phase\\ [@maskaThermodynamicsTwodimensionalFalicovKimball2006]. In terms of the heavy electrons this corresponds to them occupying only one of the two sublattices A and B, known as a Charge Density Wave (CDW) phase. In terms of spins this is an antiferromagnetic phase.\n",
    "\n",
    "In the disordered region above $T_c(U)$ there are two insulating phases. For weak interactions $U << t$, thermal fluctuations in the spins act as an effective disorder potential for the fermions, causing them to localise and giving rise to an Anderson insulating (AI) phase\\ [@andersonAbsenceDiffusionCertain1958] which we will discuss more in section\\ [2.3](#bg-disorder-and-localisation). For strong interactions $U >> t$, the spins are not ordered but nevertheless their interaction with the electrons opens a gap, leading to a Mott insulator analogous to that of the Hubbard model\\ [@brandtThermodynamicsCorrelationFunctions1989]. The presence of an interaction driven phase like the Mott insulator in an exactly solvable model is part of what makes the FK model such an interesting system. \n",
    "\n",
    "By contrast, in the 1D FK model there is no Finite-Temperature Phase Transition (FTPT) to an ordered CDW phase\\ [@liebAbsenceMottTransition1968]. Indeed dimensionality is crucial for the physics of both localisation and FTPTs. In 1D, disorder generally dominates: even the weakest disorder exponentially localises _all_ single particle eigenstates. In the 1D FK model this means the whole spectrum is localised at all finite temperatures\\ [@goldshteinPurePointSpectrum1977; @abrahamsScalingTheoryLocalization1979; @kramerLocalizationTheoryExperiment1993]. Though at low temperatures the localisation length may be so large that the states appear extended in finite sized systems\\ [@antipovInteractionTunedAndersonMott2016]. Only longer-range correlations of the disorder potential can potentially induce localisation-delocalisation transitions in 1D\\ [@aubryAnalyticityBreakingAnderson1980; @dassarmaLocalizationMobilityEdges1990; @dunlapAbsenceLocalizationRandomdimer1990]\n",
    "\n",
    "The absence of finite temperature ordered phases in 1D systems is a general feature. It can be understood as a consequence of the fact that domain walls are energetically cheap in 1D. Thermodynamically, short-range interactions just cannot overcome the entropy of thermal defects in 1D. However, the addition of longer range interactions can overcome this\\ [@peierlsIsingModelFerromagnetism1936; @kennedyItinerantElectronModel1986].\n",
    "\n",
    "However, the absence of an FTPT in the short ranged FK chain is far from obvious because the Ruderman-Kittel-Kasuya-Yosida (RKKY) interaction mediated by the fermions\\ [@kasuyaTheoryMetallicFerro1956; @rudermanIndirectExchangeCoupling1954; @vanvleckNoteInteractionsSpins1962; @yosidaMagneticPropertiesCuMn1957] decays as $r^{-1}$ in 1D\\ [@rusinCalculationRKKYRange2017]. This could in principle induce the necessary long-range interactions for the classical Ising background to order at low temperatures\\ [@thoulessLongRangeOrderOneDimensional1969; @peierlsIsingModelFerromagnetism1936]. However, Kennedy and Lieb established rigorously that at half-filling a CDW phase only exists at $T = 0$ for the 1D FK model\\ [@kennedyItinerantElectronModel1986]. \n",
    "\n",
    "The 1D FK model has been studied numerically, perturbatively in interaction strength $U$ and in the continuum limit\\ [@bursillOneDimensionalContinuum1994]. The main results are that for attractive $U > U_c$ the system forms electron spin bound state 'atoms' which repel on another\\ [@gruberGroundStateEnergyLowTemperature1993] and that the ground state phase diagram has a has a fractal structure as a function of electron filling, a devil's staircase\\ [@freericksTwostateOnedimensionalSpinless1990; @michelettiCompleteDevilStaircase1997].\n",
    "\n",
    "Based on this primacy of dimensionality, we will go digging into the 1D case. In chapter\\ [3](#chap:3-the-long-range-falicov-kimball-model) we will construct a generalised one-dimensional FK model with long-range interactions which induces the otherwise forbidden CDW phase at non-zero temperature. To do this we will draw on theory of the Long-Range Ising (LRI) model which is the subject of the next section."
   ]
  },
  {
   "cell_type": "markdown",
   "id": "5b8cf9f5-4ee2-430c-a817-11d5c1f8c21b",
   "metadata": {},
   "source": [
    "## Long-Ranged Ising model\n",
    "\n",
    "The suppression of phase transitions is a common phenomena in 1D systems and the Ising model serves as the canonical illustration of this. In terms of classical spins $S_i = \\pm 1$ the standard Ising model reads\n",
    "\n",
    "$$H_{\\mathrm{I}} = \\sum_{\\langle ij \\rangle} S_i S_j$$\n",
    "\n",
    "Like the FK model, the Ising model shows an FTPT to an ordered state only in 2D and above. This can be understood via Peierls' argument\\ [@peierlsIsingModelFerromagnetism1936; @kennedyItinerantElectronModel1986] to be a consequence of the low energy penalty for domain walls in 1D systems."
   ]
  },
  {
   "cell_type": "markdown",
   "id": "c2c8314d-25d9-4669-b655-2a6046027139",
   "metadata": {},
   "source": [
    "<figure>\n",
    "<img src=\"../../figure_code/intro_chapter/ising_model_domain_wall.svg\" style = \"max-width:700px;\" title=\"Domain walls in the long-range Ising Model\">\n",
    "<figcaption>\n",
    "Domain walls in the 1D Ising model cost finite energy because they affect only one interaction while in the Long-Range Ising (LRI) model it depends on how the interactions decay with distance.\n",
    "</figcaption>\n",
    "</figure>\n",
    "\n",
    "Following Peierls' argument, consider the difference in free energy $\\Delta F = \\Delta E - T\\Delta S$ between an ordered state and a state with single domain wall as in @fig:ising_model_domain_wall. If this value is negative it implies that the ordered state is unstable with respect to domain wall defects, and they will thus proliferate, destroying the ordered phase. If we consider the scaling of the two terms with system size $L$ we see that short range interactions produce a constant energy penalty $\\Delta E$ for a domain wall. In contrast, the number of such single domain wall states scales linearly with system size so the entropy is $\\propto \\ln L$. Thus the entropic contribution dominates (eventually) in the thermodynamic limit and no finite temperature order is possible. In 2D and above, the energy penalty of a large domain wall scales like $L^{d-1}$ which is why they can support ordered phases.  This argument does not quite apply to the FK model because of the aforementioned RKKY interaction. Instead this argument will give us insight into how to recover an ordered phase in the 1D FK model."
   ]
  },
  {
   "cell_type": "markdown",
   "id": "f23bf321-c5e7-4f5d-ac84-75a52e495dc3",
   "metadata": {},
   "source": [
    "In contrast the LRI model $H_{\\mathrm{LRI}}$ can have an FTPT in 1D.\n",
    "\n",
    "$$H_{\\mathrm{LRI}} = \\sum_{ij} J(|i-j|) S_i S_j = J \\sum_{i\\neq j} |i - j|^{-\\alpha} S_i S_j$$\n",
    "\n",
    "\n",
    "Renormalisation group analyses show that the LRI model has an ordered phase in 1D for $1 < \\alpha < 2$ \\ [@dysonExistencePhasetransitionOnedimensional1969]. Peierls' argument can be extended\\ [@thoulessLongRangeOrderOneDimensional1969] to long-range interactions to provide intuition for why this is the case. Again considering the energy difference between the ordered state $|\\ldots\\uparrow\\uparrow\\uparrow\\uparrow\\ldots\\rangle$ and a domain wall state $|\\ldots\\uparrow\\uparrow\\downarrow\\downarrow\\ldots\\rangle$. In the case of the LRI model, careful counting shows that this energy penalty is\n",
    "$$\\Delta E \\propto \\sum_{n=1}^{\\infty} n J(n)$$ {#eq:bg-dw-penalty}"
   ]
  },
  {
   "cell_type": "markdown",
   "id": "6ddc5bc0-0fab-4ac4-a347-77be0b967019",
   "metadata": {},
   "source": [
    "because each interaction between spins separated across the domain by a bond length $n$ can be drawn between $n$ equivalent pairs of sites. The behaviour then depends crucially on how @eq:bg-dw-penalty scales with system size. Ruelle proved rigorously for a very general class of 1D systems that if $\\Delta E$ or its many-body generalisation converges to a constant in the thermodynamic limit then the free energy is analytic\\ [@ruelleStatisticalMechanicsOnedimensional1968]. This rules out a finite order phase transition, though not one of the Kosterlitz-Thouless type. Dyson also proves this though with a slightly different condition on $J(n)$\\ [@dysonExistencePhasetransitionOnedimensional1969]."
   ]
  },
  {
   "cell_type": "markdown",
   "id": "ccaf0472-318f-42a0-9eab-657f5d58a944",
   "metadata": {},
   "source": [
    "With a power law form for $J(n)$, there are a few cases to consider:\n",
    "\n",
    "For $\\alpha = 0$ i.e\\ infinite range interactions, the Ising model is exactly solvable and mean field theory is exact\\ [@lipkinValidityManybodyApproximation1965]. This limit is the same as the infinite dimensional limit.\n",
    "\n",
    "For $\\alpha \\leq 1$ we have very slowly decaying interactions. $\\Delta E$ does not converge as a function of system size so the Hamiltonian is non-extensive, a topic not without some considerable controversy\\ [@grossNonextensiveHamiltonianSystems2002; @lutskoQuestioningValidityNonextensive2011; @wangCommentNonextensiveHamiltonian2003] that we will not consider further here.\n",
    "\n",
    "For $1 < \\alpha < 2$, we get a phase transition to an ordered state at a finite temperature, this is what we want! \n",
    "\n",
    "For $\\alpha = 2$, the energy of domain walls diverges logarithmically, and this turns out to be a Kostelitz-Thouless transition\\ [@thoulessLongRangeOrderOneDimensional1969].\n",
    "\n",
    "Finally, for $2 < \\alpha$ we have very quickly decaying interactions and domain walls again have a finite energy penalty, hence Peirels' argument holds and there is no phase transition. \n",
    "\n",
    "One final complexity is that for $\\tfrac{3}{2} < \\alpha < 2$ renormalisation group methods show that the critical point has non-universal critical exponents that depend on $\\alpha$ \\ [@fisherCriticalExponentsLongRange1972]. To avoid this potential confounding factors we will park ourselves at $\\alpha = 1.25$ when we apply these ideas to the FK model.\n",
    "\n",
    "Were we to extend this to arbitrary dimension $d$ we would find that thermodynamics properties generally both $d$ and $\\alpha$, long-range interactions can modify the 'effective dimension' of thermodynamic systems\\ [@angeliniRelationsShortrangeLongrange2014]."
   ]
  },
  {
   "cell_type": "markdown",
   "id": "4c74be45-8c5b-4b73-8e01-fd5f22ebd10e",
   "metadata": {},
   "source": [
    "<figure>\n",
    "<img src=\"../../figure_code/background_chapter/alpha_diagram.svg\" style=\"width:700px;\" title=\"Long-Range Ising Model Behaviour\">\n",
    "<figcaption>\n",
    "    The thermodynamic behaviour of the long-range Ising model $H_{\\mathrm{LRI}} = J \\sum_{i\\neq j} |i - j|^{-\\alpha} S_i S_j$ as the exponent of the interaction $\\alpha$ is varied. In my simulations I stick to a value of $\\alpha = \\tfrac{5}{4}$ the complexity of non-universal critical exponents.\n",
    "\n",
    "</figcaption>\n",
    "</figure>"
   ]
  }
 ],
 "metadata": {
  "kernelspec": {
   "display_name": "Python 3.10.6 64-bit",
   "language": "python",
   "name": "python3"
  },
  "language_info": {
   "codemirror_mode": {
    "name": "ipython",
    "version": 3
   },
   "file_extension": ".py",
   "mimetype": "text/x-python",
   "name": "python",
   "nbconvert_exporter": "python",
   "pygments_lexer": "ipython3",
   "version": "3.10.6"
  },
  "vscode": {
   "interpreter": {
    "hash": "aee8b7b246df8f9039afb4144a1f6fd8d2ca17a180786b69acc140d282b71a49"
   }
  }
 },
 "nbformat": 4,
 "nbformat_minor": 5
}
