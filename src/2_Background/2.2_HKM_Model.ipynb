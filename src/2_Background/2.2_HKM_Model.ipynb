{
 "cells": [
  {
   "cell_type": "raw",
   "id": "e7474ccf-2453-4979-a45d-22ec94268402",
   "metadata": {
    "tags": [
     "remove_cell"
    ]
   },
   "source": [
    "---\n",
    "title: The Kitaev Honeycomb Model\n",
    "description: \n",
    "image:\n",
    "layout: thesis\n",
    "---"
   ]
  },
  {
   "cell_type": "code",
   "execution_count": 1,
   "id": "5f81ad80-48f8-4e76-b9c6-c31972089e3d",
   "metadata": {
    "tags": [
     "remove_cell"
    ]
   },
   "outputs": [
    {
     "data": {
      "text/html": [
       "<style>\n",
       "figure {\n",
       "    display: flex;\n",
       "    flex-direction: column;\n",
       "    align-items: center;\n",
       "}\n",
       "figure img {\n",
       "    max-width: 900px;\n",
       "    width: 80%;\n",
       "    margin-bottom: 2em;\n",
       "}\n",
       "figcaption {\n",
       "    aria-hidden: true;\n",
       "    max-width: 700px;\n",
       "}\n",
       "</style>\n"
      ],
      "text/plain": [
       "<IPython.core.display.HTML object>"
      ]
     },
     "metadata": {},
     "output_type": "display_data"
    }
   ],
   "source": [
    "%%html\n",
    "<style>\n",
    "figure {\n",
    "    display: flex;\n",
    "    flex-direction: column;\n",
    "    align-items: center;\n",
    "}\n",
    "figure img {\n",
    "    max-width: 900px;\n",
    "    width: 80%;\n",
    "    margin-bottom: 2em;\n",
    "}\n",
    "figcaption {\n",
    "    aria-hidden: true;\n",
    "    max-width: 700px;\n",
    "}\n",
    "</style>"
   ]
  },
  {
   "cell_type": "markdown",
   "id": "b4e534c8-859d-4397-8c05-ca20363e4455",
   "metadata": {},
   "source": [
    "# The Kitaev Honeycomb Model"
   ]
  },
  {
   "cell_type": "markdown",
   "id": "c5d96117-af2d-460a-aa4f-57a325838b40",
   "metadata": {},
   "source": [
    "__papers__\n",
    "Jos on dynamics https://journals.aps.org/prb/abstract/10.1103/PhysRevB.92.115127\n",
    "\n",
    "__intro__\n",
    "- strong spin orbit coupling leads to anisotropic spin exchange (as opposed to isotropic exchange like the Heisenberg model)\n",
    "- geometrical frustration leads to QSL ground state with long range entanglement (not simple paramagnet)\n",
    "\n",
    "- RuCl_3 is the classic QSL candidate material\n",
    "- really follows the Kitaev-Heisenberg model\n",
    "- experimental probes include inelastic neutron scattering, Raman scattering"
   ]
  },
  {
   "cell_type": "markdown",
   "id": "d4d05625-bc81-4914-9cf8-009e2aca7994",
   "metadata": {},
   "source": [
    "## The Model\n",
    "\n",
    "<figure>\n",
    "<img src=\"../../figure_code/amk_chapter/intro/honeycomb_zoom/intro_figure_by_hand.svg\" style = \"max-width:700px;\" title=\"The Kitaev Honeycomb Model\">\n",
    "<figcaption>\n",
    "**(a)** The standard Kitaev model is defined on a honeycomb lattice. The special feature of the honeycomb lattice that makes the model solvable is that each vertex is joined by exactly three bonds, i.e. the lattice is trivalent. One of three labels is assigned to each **(b)**. We represent the antisymmetric gauge degree of freedom $u_{jk} = \\pm 1$ with arrows that point in the direction $u_{jk} = +1$ **(c)**. The Majorana transformation can be visualised as breaking each spin into four Majoranas which then pair along the bonds. The pairs of x,y and z Majoranas become part of the classical $\\mathbb{Z}_2$ gauge field $u_{ij}$. This leavies a single Majorana $c_i$ per site.\n",
    "</figcaption>\n",
    "</figure>\n",
    "\n",
    "- strong spin orbit coupling yields spatial anisotropic spin exchange leading to compass models\\ [@kugelJahnTellerEffectMagnetism1982]\n",
    "- spin model of the Kitaev model is one \n",
    "- has extensively many conserved fluxes\n",
    "- \n",
    "\n",
    "## A mapping to Majorana Fermions\n",
    "## Gauge Fields\n",
    "## Anyons, Topology and the Chern number\n",
    "## Phase Diagram"
   ]
  },
  {
   "cell_type": "code",
   "execution_count": null,
   "id": "34845a80-1fbb-4ad7-8d90-204b9abef45c",
   "metadata": {},
   "outputs": [],
   "source": []
  }
 ],
 "metadata": {
  "kernelspec": {
   "display_name": "Python [conda env:adalm1000]",
   "language": "python",
   "name": "conda-env-adalm1000-py"
  },
  "language_info": {
   "codemirror_mode": {
    "name": "ipython",
    "version": 3
   },
   "file_extension": ".py",
   "mimetype": "text/x-python",
   "name": "python",
   "nbconvert_exporter": "python",
   "pygments_lexer": "ipython3",
   "version": "3.10.5"
  }
 },
 "nbformat": 4,
 "nbformat_minor": 5
}
