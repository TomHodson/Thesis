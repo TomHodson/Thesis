{
 "cells": [
  {
   "cell_type": "raw",
   "id": "e7474ccf-2453-4979-a45d-22ec94268402",
   "metadata": {
    "tags": []
   },
   "source": [
    "---\n",
    "title: Background - Disorder & Localisation\n",
    "description: \n",
    "image:\n",
    "layout: thesis\n",
    "---"
   ]
  },
  {
   "cell_type": "code",
   "execution_count": 1,
   "id": "5f81ad80-48f8-4e76-b9c6-c31972089e3d",
   "metadata": {
    "tags": [
     "remove_cell"
    ]
   },
   "outputs": [
    {
     "data": {
      "text/html": [
       "<style>\n",
       "figure {\n",
       "    display: flex;\n",
       "    flex-direction: column;\n",
       "    align-items: center;\n",
       "}\n",
       "figure img {\n",
       "    max-width: 900px;\n",
       "    width: 80%;\n",
       "    margin-bottom: 2em;\n",
       "}\n",
       "figcaption {\n",
       "    aria-hidden: true;\n",
       "    max-width: 700px;\n",
       "}\n",
       "</style>\n"
      ],
      "text/plain": [
       "<IPython.core.display.HTML object>"
      ]
     },
     "metadata": {},
     "output_type": "display_data"
    }
   ],
   "source": [
    "%%html\n",
    "<style>\n",
    "figure {\n",
    "    display: flex;\n",
    "    flex-direction: column;\n",
    "    align-items: center;\n",
    "}\n",
    "figure img {\n",
    "    max-width: 900px;\n",
    "    width: 80%;\n",
    "    margin-bottom: 2em;\n",
    "}\n",
    "figcaption {\n",
    "    aria-hidden: true;\n",
    "    max-width: 700px;\n",
    "}\n",
    "</style>"
   ]
  },
  {
   "cell_type": "markdown",
   "id": "2a93bd9e-f882-4912-8a84-732bf175de31",
   "metadata": {},
   "source": [
    "# Disorder and Localisation {#bg-disorder-and-localisation}\n",
    "\n",
    "\n",
    "- disorder starts with the very simple anderson model\n",
    "\n",
    "- Quenched vs Annealed disorder\n",
    "\n",
    "- "
   ]
  },
  {
   "cell_type": "markdown",
   "id": "01f2fed5-0f84-4c51-9db3-414aeec7e93d",
   "metadata": {},
   "source": [
    "Disorder is a fact of life for the condensed matter physicist. No sample will ever be completely free of contamination or of structural defects. The classical Drude theory of electron conductivity envisages electrons as scattering off impurities. Hence we would expect the electrical conductivity to be proportional to the mean free path\\ [@lagendijkFiftyYearsAnderson2009], decreasing smoothly as the number of defects increases. However, Anderson showed in 1958\\ [@andersonAbsenceDiffusionCertain1958] that at some critical level of disorder __all__ single particle eigenstates localise. What would later be known as Anderson localisation is characterised by exponentially localised eigenfunctions $\\psi(x) \\sim e^{-x/\\lambda}$ which cannot contribute to transport processes. The localisation length $\\lambda$ is the typical scale of localised state and can be extracted with transmission matrix methods\\ [@pendrySymmetryTransportWaves1994]. Anderson localisation provided a different kind of insulator to that of the band insulator.  \n",
    "\n",
    "The Anderson model is about the simplest model of disorder one could imagine\n",
    "$$\n",
    "H = -t\\sum_{\\langle jk \\rangle} c^\\dagger_j c_k + \\sum_j V_j c_j^\\dagger c_j\n",
    "$$ {#eq:bg-anderson-model}\n",
    "\n",
    "It is one of non-interacting fermions subject to a disorder potential $V_j$ drawn uniformly from the interval $[-W,W]$. The discovery of localisation in quantum systems was surprising at the time given the seeming ubiquity of extended Bloch states. Within the Anderson model, all the states localise at the same disorder strength $W$ but later Mott showed that in other contexts extended Bloch states and localised states could coexist at the same disorder strength but different energies. The transition in energy between localised and extended states is known as a mobility edge\\ [@mottMetalInsulatorTransitions1978].\n",
    "\n",
    "Localisation phenomena are strongly dimension dependent. In three dimensions the scaling theory of localisation\\ [@edwardsNumericalStudiesLocalization1972; @kramerLocalizationTheoryExperiment1993] shows that Anderson localisation is a critical phenomenon with critical exponents both for how the conductivity vanishes with energy when approaching the mobility edge and for how the localisation length increases below it. By contrast, in one dimension disorder generally dominates. Even the weakest disorder exponentially localises *all* single particle eigenstates in the one dimensional Anderson model. Only long-range spatial correlations of the disorder potential can induce delocalisation\\ [@aubryAnalyticityBreakingAnderson1980; @dassarmaLocalizationMobilityEdges1990; @dunlapAbsenceLocalizationRandomdimer1990; @izrailevLocalizationMobilityEdge1999; @croyAndersonLocalization1D2011; @izrailevAnomalousLocalizationLowDimensional2012].\n",
    "\n",
    "Later localisation was found in disordered interacting many-body systems:\n",
    "\n",
    "$$\n",
    "H = -t\\sum_{\\langle jk \\rangle} c^\\dagger_j c_k + \\sum_j V_j c_j^\\dagger c_j + U\\sum_{jk} n_j n_k\n",
    "$$\n",
    "Here, in contrast to the Anderson model, localisation phenomena are robust to weak perturbations of the Hamiltonian. This is called many-body localisation (MBL)\\ [@imbrieManyBodyLocalizationQuantum2016]. \n",
    "\n",
    "Both MBL and Anderson localisation depend crucially on the presence of _quenched_ disorder. Quenched disorder takes the form a static background field drawn from an arbitrary probability distribution to which the model is coupled. Disorder may also be introduced into the initial state of the system rather than the Hamiltonian. This has led to ongoing interest in the possibility of disorder-free localisation where the disorder is instead _annealed_. In this scenario the disorder necessary to generate localisation is generated entirely from the thermal fluctuations of the model.\n",
    "\n",
    "The concept of disorder-free localisation was first proposed in the context of Helium mixtures\\ [@kagan1984localization] and then extended to heavy-light mixtures in which multiple species with large mass ratios interact. The idea is that the heavier particles act as an effective disorder potential for the lighter ones, inducing localisation. Two such models\\ [@yaoQuasiManyBodyLocalizationTranslationInvariant2016; @schiulazDynamicsManybodyLocalized2015] instead find that the models thermalise exponentially slowly in system size, which Ref.\\ [@yaoQuasiManyBodyLocalizationTranslationInvariant2016] dubs Quasi-MBL. \n",
    "\n",
    "True disorder-free localisation does occur in exactly solvable models with extensively many conserved quantities\\ [@smithDisorderFreeLocalization2017]. As conserved quantities have no time dynamics this can be thought of as taking the separation of timescales to the infinite limit. The localisation phenomena present in the Falikov-Kimball model are instead the result of annealed disorder. A strong separation of timescales means that the heavy species is approximated as immobile with respect to the lighter itinerant species. At finite temperature the heavy species acts as a disorder potential for the lighter one. However, in contract to quenched disorder, the probability distribution of annealed disorder is entirely determined by the thermodynamics of the Hamiltonian. In the two dimensional FK model this leads to multiple phases where localisation effects are relevant. At low temperatures the heavy species orders leading to a traditional band gap insulator. At higher temperatures however thermal disorder causes the light species to localise. At weak coupling, the localisation length can be very large, so finite sized systems may still conduct, an effect known as weak localisation\\ [@antipovInteractionTunedAndersonMott2016].\n",
    "\n",
    "In Chapter 3 we will consider a generalised FK model in one dimension and how the disorder generated near a one dimensional thermodynamic phase transition interacts with localisation physics."
   ]
  },
  {
   "cell_type": "markdown",
   "id": "090a5f64-f3e1-40b5-945e-3a64ee432555",
   "metadata": {},
   "source": [
    "So far we have considered disorder as a static or dynamic field coupled to a model defined on a translation invariant lattice. Another kind of disordered system that worthy of study are amorphous systems. \n",
    "\n",
    "Amorphous systems have disordered bond connectivity, so called _topological disorder_. As discussed in the introduction these include amorphous semiconductors such as amorphous Germanium and Silicon \\ [@Yonezawa1983; @zallen2008physics; @Weaire1971; @betteridge1973possible]. While materials do not have long range lattice structure they can enforce local constraints such as the approximate coordination number $z = 4$ of silicon.\n",
    "\n",
    "Topological disorder can be qualitatively different from other disordered systems. Disordered graphs are constrained by fixed coordination number and the Euler equation. The Harris\\ [@harrisEffectRandomDefects1974] and the Imry-Mar\\ [@imryRandomFieldInstabilityOrdered1975] criteria are key results on the effect of disorder on thermodynamic phase transitions. The Harris criterion signals when disorder will affect the universal of a thermodynamic critical point. It states that for a critical point in a $d$-dimensional system with correlation length scaling exponent, disorder will be relevant if $\\nu$ if $d\\nu < 2$. The Imry-Ma criterion simply forbids the formation of long range ordered states in $d \\leq 2$ dimensions in the presence of disorder. The latter criteria is violated in the presence of correlated disorder\\ [@changlaniChargeDensityWaves2016] and both are modified for topological disorder. In chapter 4 we will put the Kitaev model onto two dimensional Voronoi lattices. These lattices are have fixed coordination number $z=3$ and must satisfy the Euler equation for the plane, this leads to strong anticorrelations which mean that topological disorder is effectively weaker than standard disorder here\\ [@barghathiPhaseTransitionsRandom2014; @schrauthViolationHarrisBarghathiVojtaCriterion2018]]. This does not apply to the three dimensional Voronoi lattices where the Euler equation is a weaker constraint. \n",
    "\n",
    "Lastly it is worth exploring how quantum spin liquids and disorder interact. The KH model has been studied subject to both bond and site disorder __cite__. In some instances it seems that disorder can even promote the formation of a QSL ground state\\ [@wenDisorderedRouteCoulomb2017].\n",
    "\n",
    "\n",
    "- localisation length and IPR scaling \n",
    "- multifractality"
   ]
  },
  {
   "cell_type": "markdown",
   "id": "171e4559-83e9-4259-9fac-bd80dec81aa2",
   "metadata": {},
   "source": [
    "## Disorder and Spin liquids\n",
    "## Amorphous Magnetism"
   ]
  }
 ],
 "metadata": {
  "kernelspec": {
   "display_name": "Python [conda env:adalm1000]",
   "language": "python",
   "name": "conda-env-adalm1000-py"
  },
  "language_info": {
   "codemirror_mode": {
    "name": "ipython",
    "version": 3
   },
   "file_extension": ".py",
   "mimetype": "text/x-python",
   "name": "python",
   "nbconvert_exporter": "python",
   "pygments_lexer": "ipython3",
   "version": "3.10.5"
  }
 },
 "nbformat": 4,
 "nbformat_minor": 5
}
