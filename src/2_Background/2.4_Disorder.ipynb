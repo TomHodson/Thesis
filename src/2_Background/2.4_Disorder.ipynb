{
 "cells": [
  {
   "cell_type": "raw",
   "id": "e7474ccf-2453-4979-a45d-22ec94268402",
   "metadata": {
    "tags": []
   },
   "source": [
    "---\n",
    "title: Background - Disorder & Localisation\n",
    "description: \n",
    "image:\n",
    "layout: thesis\n",
    "---"
   ]
  },
  {
   "cell_type": "code",
   "execution_count": 1,
   "id": "5f81ad80-48f8-4e76-b9c6-c31972089e3d",
   "metadata": {
    "tags": [
     "remove_cell"
    ]
   },
   "outputs": [
    {
     "data": {
      "text/html": [
       "<style>\n",
       "figure {\n",
       "    display: flex;\n",
       "    flex-direction: column;\n",
       "    align-items: center;\n",
       "}\n",
       "figure img {\n",
       "    max-width: 900px;\n",
       "    width: 80%;\n",
       "    margin-bottom: 2em;\n",
       "}\n",
       "figcaption {\n",
       "    aria-hidden: true;\n",
       "    max-width: 700px;\n",
       "}\n",
       "</style>\n"
      ],
      "text/plain": [
       "<IPython.core.display.HTML object>"
      ]
     },
     "metadata": {},
     "output_type": "display_data"
    }
   ],
   "source": [
    "%%html\n",
    "<style>\n",
    "figure {\n",
    "    display: flex;\n",
    "    flex-direction: column;\n",
    "    align-items: center;\n",
    "}\n",
    "figure img {\n",
    "    max-width: 900px;\n",
    "    width: 80%;\n",
    "    margin-bottom: 2em;\n",
    "}\n",
    "figcaption {\n",
    "    aria-hidden: true;\n",
    "    max-width: 700px;\n",
    "}\n",
    "</style>"
   ]
  },
  {
   "cell_type": "markdown",
   "id": "2a93bd9e-f882-4912-8a84-732bf175de31",
   "metadata": {},
   "source": [
    "# Disorder and Localisation {#bg-disorder-and-localisation}"
   ]
  },
  {
   "cell_type": "markdown",
   "id": "171e4559-83e9-4259-9fac-bd80dec81aa2",
   "metadata": {},
   "source": [
    "## Localisation: Anderson, Many Body and Disorder-Free\n",
    "## Disorder and Spin liquids\n",
    "## Amorphous Magnetism"
   ]
  },
  {
   "cell_type": "code",
   "execution_count": null,
   "id": "630bc134-7d5f-42ad-a8ff-e2582c372776",
   "metadata": {},
   "outputs": [],
   "source": []
  },
  {
   "cell_type": "markdown",
   "id": "b78d073f-f377-4a9e-aa28-78f77258cdbe",
   "metadata": {},
   "source": [
    "## Localisation\n",
    "\n",
    "The discovery of localisation in quantum systems surprising at the time given the seeming ubiquity of extended Bloch states. Later, when thermalisation in quantum systems gained interest, localisation phenomena again stood out as counterexamples to the eigenstate thermalisation hypothesis\\ [@abaninRecentProgressManybody2017; @srednickiChaosQuantumThermalization1994], allowing quantum systems to avoid to retain memory of their initial conditions in the face of thermal noise. \n",
    "\n",
    "The simplest and first discovered kind is Anderson localisation, first studied in 1958\\ [@andersonAbsenceDiffusionCertain1958] in the context of non-interacting fermions subject to a static or quenched disorder potential $V_j$ drawn uniformly from the interval $[-W,W]$"
   ]
  },
  {
   "cell_type": "markdown",
   "id": "d12b0f8f-c49c-4966-bd43-bb5ce6b0720f",
   "metadata": {},
   "source": [
    "$$\n",
    "H = -t\\sum_{\\langle jk \\rangle} c^\\dagger_j c_k + \\sum_j V_j c_j^\\dagger c_j\n",
    "$$"
   ]
  },
  {
   "cell_type": "markdown",
   "id": "5e4d498a-c849-4857-9142-d8f435fae175",
   "metadata": {},
   "source": [
    "this model exhibits exponentially localised eigenfunctions $\\psi(x) = f(x) e^{-x/\\lambda}$ which cannot contribute to transport processes. Initially it was thought that in one dimensional disordered models, all states would be localised, however it was later shown that in the presence of correlated disorder, bands of extended states can exist\\ [@izrailevLocalizationMobilityEdge1999; @croyAndersonLocalization1D2011; @izrailevAnomalousLocalizationLowDimensional2012]."
   ]
  },
  {
   "cell_type": "markdown",
   "id": "161b289b-70a4-4c53-97c3-88b6ac69216a",
   "metadata": {},
   "source": [
    "Later localisation was found in interacting many-body systems with quenched disorder:\n",
    "\n",
    "$$\n",
    "H = -t\\sum_{\\langle jk \\rangle} c^\\dagger_j c_k + \\sum_j V_j c_j^\\dagger c_j + U\\sum_{jk} n_j n_k\n",
    "$$"
   ]
  },
  {
   "cell_type": "markdown",
   "id": "20f0acf4-a234-4894-bc5b-ba83706fc045",
   "metadata": {},
   "source": [
    "where the number operators $n_j = c^\\dagger_j c_j$. Here, in contrast to the Anderson model, localisation phenomena can be proven robust to weak perturbations of the Hamiltonian. This is called many-body localisation (MBL)\\ [@imbrieManyBodyLocalizationQuantum2016]. \n",
    "\n",
    "Both MBL and Anderson localisation depend crucially on the presence of quenched disorder. This has led to ongoing interest in the possibility of disorder-free localisation, in which the disorder necessary to generate localisation is generated entirely from the dynamics of the model. This contracts with typical models of disordered systems in which disorder is explicitly introduced into the Hamilton or the initial state. \n",
    "\n",
    "The concept of disorder-free localisation was first proposed in the context of Helium mixtures\\ [@kagan1984localization] and then extended to heavy-light mixtures in which multiple species with large mass ratios interact. The idea is that the heavier particles act as an effective disorder potential for the lighter ones, inducing localisation. Two such models\\ [@yaoQuasiManyBodyLocalizationTranslationInvariant2016; @schiulazDynamicsManybodyLocalized2015] instead find that the models thermalise exponentially slowly in system size, which Ref.\\ [@yaoQuasiManyBodyLocalizationTranslationInvariant2016] dubs Quasi-MBL. \n",
    "\n",
    "True disorder-free localisation does occur in exactly solvable models with extensively many conserved quantities\\ [@smithDisorderFreeLocalization2017]. As conserved quantities have no time dynamics this can be thought of as taking the separation of timescales to the infinite limit.\n",
    "\n",
    "-link to the FK model\n",
    "\n",
    "-link to the Kitaev Model\n",
    "\n",
    "-link to the physics of amorphous systems"
   ]
  }
 ],
 "metadata": {
  "kernelspec": {
   "display_name": "Python [conda env:adalm1000]",
   "language": "python",
   "name": "conda-env-adalm1000-py"
  },
  "language_info": {
   "codemirror_mode": {
    "name": "ipython",
    "version": 3
   },
   "file_extension": ".py",
   "mimetype": "text/x-python",
   "name": "python",
   "nbconvert_exporter": "python",
   "pygments_lexer": "ipython3",
   "version": "3.10.5"
  }
 },
 "nbformat": 4,
 "nbformat_minor": 5
}
