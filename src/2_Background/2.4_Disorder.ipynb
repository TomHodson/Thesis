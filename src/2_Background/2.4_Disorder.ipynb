{
 "cells": [
  {
   "cell_type": "raw",
   "id": "e7474ccf-2453-4979-a45d-22ec94268402",
   "metadata": {
    "tags": []
   },
   "source": [
    "---\n",
    "title: Background - Disorder & Localisation\n",
    "description: \n",
    "image:\n",
    "layout: thesis\n",
    "---"
   ]
  },
  {
   "cell_type": "code",
   "execution_count": 1,
   "id": "5f81ad80-48f8-4e76-b9c6-c31972089e3d",
   "metadata": {
    "tags": [
     "remove_cell"
    ]
   },
   "outputs": [
    {
     "data": {
      "text/html": [
       "<style>\n",
       "figure {\n",
       "    display: flex;\n",
       "    flex-direction: column;\n",
       "    align-items: center;\n",
       "}\n",
       "figure img {\n",
       "    max-width: 900px;\n",
       "    width: 80%;\n",
       "    margin-bottom: 2em;\n",
       "}\n",
       "figcaption {\n",
       "    aria-hidden: true;\n",
       "    max-width: 700px;\n",
       "}\n",
       "</style>\n"
      ],
      "text/plain": [
       "<IPython.core.display.HTML object>"
      ]
     },
     "metadata": {},
     "output_type": "display_data"
    }
   ],
   "source": [
    "%%html\n",
    "<style>\n",
    "figure {\n",
    "    display: flex;\n",
    "    flex-direction: column;\n",
    "    align-items: center;\n",
    "}\n",
    "figure img {\n",
    "    max-width: 900px;\n",
    "    width: 80%;\n",
    "    margin-bottom: 2em;\n",
    "}\n",
    "figcaption {\n",
    "    aria-hidden: true;\n",
    "    max-width: 700px;\n",
    "}\n",
    "</style>"
   ]
  },
  {
   "cell_type": "markdown",
   "id": "2a93bd9e-f882-4912-8a84-732bf175de31",
   "metadata": {},
   "source": [
    "# Disorder and Localisation {#bg-disorder-and-localisation}"
   ]
  },
  {
   "cell_type": "markdown",
   "id": "01f2fed5-0f84-4c51-9db3-414aeec7e93d",
   "metadata": {},
   "source": [
    "Disorder is a fact of life for the condensed matter physicist. No sample will ever be completely free of contamination or of structural defects. The classical Drude theory of electron conductivity envisages electrons as scattering off impurities. In this model one would expect the electrical conductivity to be proportional to the mean free path\\ [@lagendijkFiftyYearsAnderson2009], decreasing smoothly as the number of defects increases. However, Anderson in 1958\\ [@andersonAbsenceDiffusionCertain1958] showed that in a simple model, there is some critical level of disorder at which __all__ single particle eigenstates localise. \n",
    "\n",
    "What would later be known as Anderson localisation is characterised by exponentially localised eigenfunctions $\\psi(x) \\sim e^{-x/\\lambda}$ which cannot contribute to transport processes. The localisation length $\\lambda$ is the typical scale of localised states and can be extracted with transmission matrix methods\\ [@pendrySymmetryTransportWaves1994]. Anderson localisation provided a different kind of insulator to that of the band insulator.  \n",
    "\n",
    "The Anderson model is about the simplest model of disorder one could imagine\n",
    "$$\n",
    "H = -t\\sum_{\\langle jk \\rangle} c^\\dagger_j c_k + \\sum_j V_j c_j^\\dagger c_j.\n",
    "$$ {#eq:bg-anderson-model}\n",
    "\n",
    "It is one of non-interacting fermions subject to a disorder potential $V_j$ drawn uniformly from the interval $[-W,W]$. The discovery of localisation in quantum systems was surprising at the time given the seeming ubiquity of extended Bloch states. Within the Anderson model, all the states localise at the same disorder strength $W$. Later Mott showed that in other contexts extended Bloch states and localised states can coexist at the same disorder strength but at different energies. The transition in energy between localised and extended states is known as a mobility edge\\ [@mottMetalInsulatorTransitions1978].\n",
    "\n",
    "Localisation phenomena are strongly dimension dependent. In three dimensions the scaling theory of localisation\\ [@edwardsNumericalStudiesLocalization1972; @kramerLocalizationTheoryExperiment1993] shows that Anderson localisation is a critical phenomenon with critical exponents both for how the conductivity vanishes with energy when approaching the mobility edge and for how the localisation length increases below it. By contrast, in one dimension disorder generally dominates. Even the weakest disorder exponentially localises *all* single particle eigenstates in the one dimensional Anderson model. Only long-range spatial correlations of the disorder potential can induce delocalisation\\ [@aubryAnalyticityBreakingAnderson1980; @dassarmaLocalizationMobilityEdges1990; @dunlapAbsenceLocalizationRandomdimer1990; @izrailevLocalizationMobilityEdge1999; @croyAndersonLocalization1D2011; @izrailevAnomalousLocalizationLowDimensional2012].\n",
    "\n",
    "Later localisation was found in disordered interacting many-body systems:\n",
    "\n",
    "$$\n",
    "H = -t\\sum_{\\langle jk \\rangle} c^\\dagger_j c_k + \\sum_j V_j c_j^\\dagger c_j + U\\sum_{jk} n_j n_k\n",
    "$$\n",
    "Here, in contrast to the Anderson model, localisation phenomena are robust to weak perturbations of the Hamiltonian. This is called many-body localisation (MBL)\\ [@imbrieManyBodyLocalizationQuantum2016; @gogolinEquilibrationThermalisationEmergence2016]. \n",
    "\n",
    "Both MBL and Anderson localisation depend crucially on the presence of _quenched_ disorder. Quenched disorder takes the form a static background field drawn from an arbitrary probability distribution to which the model is coupled. Disorder may also be introduced into the initial state of the system rather than the Hamiltonian. This has led to ongoing interest in the possibility of disorder-free localisation where the disorder is instead _annealed_. In this scenario the disorder necessary to generate localisation is generated entirely from the thermal fluctuations of the model.\n",
    "\n",
    "The concept of disorder-free localisation was first proposed in the context of Helium mixtures\\ [@kagan1984localization] and then extended to heavy-light mixtures in which multiple species with large mass ratios interact. The idea is that the heavier particles act as an effective disorder potential for the lighter ones, inducing localisation. Two such models\\ [@yaoQuasiManyBodyLocalizationTranslationInvariant2016; @schiulazDynamicsManybodyLocalized2015] instead find that the models thermalise exponentially slowly in system size, which Ref.\\ [@yaoQuasiManyBodyLocalizationTranslationInvariant2016] dubs Quasi-MBL. \n",
    "\n",
    "True disorder-free localisation does occur in exactly solvable models with extensively many conserved quantities\\ [@smithDisorderFreeLocalization2017]. As conserved quantities have no time dynamics this can be thought of as taking the separation of timescales to the infinite limit. The localisation phenomena present in the Falicov-Kimball model are instead the result of annealed disorder. A strong separation of timescales means that the heavy species is approximated as immobile with respect to the lighter itinerant species. At finite temperature the heavy species acts as a disorder potential for the lighter one. However, in contrast to quenched disorder, the probability distribution of annealed disorder is entirely determined by the thermodynamics of the Hamiltonian. In the two dimensional FK model this leads to multiple phases where localisation effects are relevant. At low temperatures the heavy species orders to a symmetry broken CDW phase, leading to a traditional band gap insulator. At higher temperatures however thermal disorder causes the light species to localise. At weak coupling, the localisation length can be very large, so finite sized systems may still conduct, an effect known as weak localisation\\ [@antipovInteractionTunedAndersonMott2016].\n",
    "\n",
    "In Chapter 3 we will consider a generalised FK model in one dimension and study how the disorder generated near a one dimensional thermodynamic phase transition interacts with localisation physics."
   ]
  },
  {
   "cell_type": "markdown",
   "id": "090a5f64-f3e1-40b5-945e-3a64ee432555",
   "metadata": {},
   "source": [
    "## Topological Disorder\n",
    "\n",
    "So far we have considered disorder as a static or dynamic field coupled to a model defined on a translation invariant lattice. Another kind of disordered system that worthy of study are amorphous systems. Amorphous systems have disordered bond connectivity, so called _topological disorder_. As discussed in the introduction these include amorphous semiconductors such as amorphous Germanium and Silicon \\ [@Yonezawa1983; @zallen2008physics; @Weaire1971; @betteridge1973possible]. While materials do not have long range lattice structure they can enforce local constraints such as the approximate coordination number $z = 4$ of silicon. \n",
    "\n",
    "Topological disorder can be qualitatively different from other disordered systems. Disordered graphs are constrained by fixed coordination number and the Euler equation. A standard method for generating such graphs with coordination number $d+1$ is Voronoi tessellation\\ [@mitchellAmorphousTopologicalInsulators2018; @marsalTopologicalWeaireThorpeModels2020].  The Harris\\ [@harrisEffectRandomDefects1974] and the Imry-Mar\\ [@imryRandomFieldInstabilityOrdered1975] criteria are key results on the effect of disorder on thermodynamic phase transitions. The Harris criterion signals when disorder will affect the universality of a thermodynamic critical point while the Imry-Ma criterion simply forbids the formation of long range ordered states in $d \\leq 2$ dimensions in the presence of disorder. Both these criteria are modified for the case of topological disorder. This is because the Euler equation and vertex degree constraints lead to strong anti-correlations which mean that topological disorder is effectively weaker than standard disorder in two dimensions\\ [@barghathiPhaseTransitionsRandom2014; @schrauthViolationHarrisBarghathiVojtaCriterion2018]. This does not apply to three dimensional Voronoi lattices where the Euler equation contains an extra volume term and so is effectively a weaker constraint. \n",
    "\n",
    "Lastly it is worth exploring how quantum spin liquids and disorder interact. The KH model has been studied subject to both flux\\ [@Nasu_Thermal_2015] and bond\\ [@knolle_dynamics_2016] disorder. In some instances it seems that disorder can even promote the formation of a QSL ground state\\ [@wenDisorderedRouteCoulomb2017]. It has also been shown that the KH model exhibits disorder free localisation after a quantum quench\\ [@zhuSubdiffusiveDynamicsCritical2021].\n",
    "\n",
    "In chapter 4 we will put the Kitaev model onto two dimensional Voronoi lattices and show that much of the rich character of the model is preserved despite the lack of long range order.  "
   ]
  },
  {
   "cell_type": "markdown",
   "id": "4eb029d9-01eb-4757-8bac-293a10f75ceb",
   "metadata": {},
   "source": [
    "## Diagnosing Localisation in practice\n",
    "\n",
    "<figure>\n",
    "<img src=\"../../figure_code/background_chapter/localisation_radius_vs_length.svg\" style=\"max-width:700px;\"\n",
    "title=\"Localisation length vs diameter\">\n",
    "<figcaption>\n",
    "A localised state $\\psi$ in an potential well that has formed from random fluctuations in the disorder potential $V(x)$. The localisation length $\\lambda$ governs how quickly the state decays away from the well while the diameter $R$ of the state is controlled by the size of the well. Reproduced from\\ [@kramerLocalizationTheoryExperiment1993].\n",
    "</figcaption>\n",
    "</figure>\n",
    "\n",
    "Looking at practical tools for diagnosing localisation, there are a few standard methods\\ [@kramerLocalizationTheoryExperiment1993].\n",
    "\n",
    "The most direct method would be to fit a function of the form $\\psi(x) = f(x) e^{-|x-x_0|/\\lambda}$ to each single particle wavefunction to extract the localisation length $\\lambda$. This method is little used in practice since it requires storing and processing full wavefunctions which quickly becomes expensive for large systems. \n",
    "\n",
    "For low dimensional systems with quenched disorder, transfer matrix methods can be used to directly extract the localisation length. These work by turning the time independent Schrödinger equation $\\hat{H}|\\psi\\rangle = E|\\psi\\rangle$ into a matrix equation linking the amplitude of $\\psi$ on each $d-1$ dimensional slice of the system to the next and looking at average properties of this transmission matrix. This method is less useful for systems like the FK model where the disorder as a whole must be sampled from the thermodynamic ensemble. It is also problematic for the Kitaev Model on an amorphous lattice as the slicing procedure is complex to define in the absence of a regular lattice. "
   ]
  },
  {
   "cell_type": "markdown",
   "id": "24ceb669-dc5c-4dd1-a7b5-c254e755ac9e",
   "metadata": {},
   "source": [
    "A more versatile method is based on the inverse participation ratio (IPR). The IPR is defined for a normalised wave function $\\psi_i = \\psi(x_i), \\sum_i |\\psi_i|^2 = 1$ as its fourth moment\\ [@kramerLocalizationTheoryExperiment1993]:\n",
    "\n",
    "$$\n",
    "P^{-1} = \\sum_i |\\psi_i|^4\n",
    "$$\n",
    "\n",
    "\n",
    "The name derive from the fact that this operator acts as a measure of the volume where the wavefunction is significantly different from zero. They can alternatively be thought of as providing a measure of the average diameter $R$ from $R = P^{1/d}$. See @fig:localisation_radius_vs_length for the distinction between $R$ and $\\lambda$. \n",
    "\n",
    "For localised states, the _inverse_ participation ratio $P^{-1}$ is independent of system size while for plane wave states in $d$ dimensions $P^{-1} = L^{-d}$. States may also be intermediate between localised and extended, described by their fractal dimensionality $d > d* > 0$:\n",
    "\n",
    "$$\n",
    "P(L)^{-1} \\sim L^{-d*} \n",
    "$$\n",
    "\n",
    "Such intermediate states tend to appear as critical phenomena near mobility edges\\ [@eversAndersonTransitions2008]. For finite size systems, these relations only hold once the system size $L$ is much greater than the localisation length. When the localisation length is comparable to the system size the states still contribute to transport, this is the aforementioned weak localisation effect\\ [@altshulerMagnetoresistanceHallEffect1980; @dattaElectronicTransportMesoscopic1995]. "
   ]
  },
  {
   "cell_type": "markdown",
   "id": "92709196-1a6a-4376-b20d-dd0178d1bb69",
   "metadata": {},
   "source": [
    "In both chapters to follow I will use an energy resolved IPR\n",
    "$$\n",
    "\\begin{aligned}\n",
    "DOS(\\omega) &= \\sum_n \\delta(\\omega - \\epsilon_n)\\\\\n",
    "IPR(\\omega) &= DOS(\\omega)^{-1} \\sum_{n,i} \\delta(\\omega - \\epsilon_n) |\\psi_{n,i}|^4\n",
    "\\end{aligned}\n",
    "$$\n",
    "Where $\\psi_{n,i}$ is the wavefunction corresponding to the energy $\\epsilon_n$ at the ith site. In practice I bin the energies and IPRs into a fine energy grid and use the mean within each bin."
   ]
  },
  {
   "cell_type": "markdown",
   "id": "a0d23850-609c-4f5e-aa47-d2d63f800668",
   "metadata": {},
   "source": [
    "__Chapter Summary__ \n",
    "\n",
    "In this chapter we have covered the Falicov-Kimball model, the Kitaev Honeycomb model and the theory of disorder and localisation. We saw that the FK model is one of immobile species (spins) interacting with an itinerant quantum species (electrons). While the KH model is specified in terms of spins on a honeycomb lattice interacting via a highly anisotropic Ising coupling, it can be transformed into one of Majorana fermions interacting with a classical gauge field that supports immobile flux excitations. In each case it is the immobile species that makes each model exactly solvable. Both models have rich ground state and thermodynamic phase diagrams. The last part of this chapter dealt with disorder and how it almost inevitably leads to localisation. Both the FK and KH models are effectively disordered at finite temperatures by their immobile species. In the next chapter we will look at a version of the FK model in one dimension augmented with long range interactions in order to retain its ordered phase. The model is translation invariant but we will see that it exhibits disorder free localisation. After that we will look at the KH model defined on an amorphous lattice with vertex degree $z=3$."
   ]
  }
 ],
 "metadata": {
  "kernelspec": {
   "display_name": "Python [conda env:adalm1000]",
   "language": "python",
   "name": "conda-env-adalm1000-py"
  },
  "language_info": {
   "codemirror_mode": {
    "name": "ipython",
    "version": 3
   },
   "file_extension": ".py",
   "mimetype": "text/x-python",
   "name": "python",
   "nbconvert_exporter": "python",
   "pygments_lexer": "ipython3",
   "version": "3.10.5"
  }
 },
 "nbformat": 4,
 "nbformat_minor": 5
}
