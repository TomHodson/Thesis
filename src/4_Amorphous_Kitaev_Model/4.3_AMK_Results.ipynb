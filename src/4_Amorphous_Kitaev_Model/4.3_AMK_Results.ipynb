{
 "cells": [
  {
   "cell_type": "raw",
   "id": "407dded7-cc09-46ad-8822-718e1427a3c5",
   "metadata": {},
   "source": [
    "---\n",
    "title: The Amorphous Kitaev Model - Results\n",
    "description: The Amorphous Kitaev model is a chiral spin liquid!\n",
    "image:\n",
    "layout: thesis\n",
    "---"
   ]
  },
  {
   "cell_type": "code",
   "execution_count": 1,
   "id": "6b48f919-dfcf-4fd6-a5f0-2021dbee3596",
   "metadata": {
    "tags": [
     "remove_cell"
    ]
   },
   "outputs": [
    {
     "data": {
      "text/html": [
       "<style>\n",
       "figure {\n",
       "    display: flex;\n",
       "    flex-direction: column;\n",
       "    align-items: center;\n",
       "}\n",
       "figure img {\n",
       "    max-width: 900px;\n",
       "    width: 100%;\n",
       "    margin-bottom: 2em;\n",
       "}\n",
       "figcaption {\n",
       "    aria-hidden: true;\n",
       "    max-width: 700px;\n",
       "}\n",
       "</style>\n"
      ],
      "text/plain": [
       "<IPython.core.display.HTML object>"
      ]
     },
     "metadata": {},
     "output_type": "display_data"
    }
   ],
   "source": [
    "%%html\n",
    "<style>\n",
    "figure {\n",
    "    display: flex;\n",
    "    flex-direction: column;\n",
    "    align-items: center;\n",
    "}\n",
    "figure img {\n",
    "    max-width: 900px;\n",
    "    width: 100%;\n",
    "    margin-bottom: 2em;\n",
    "}\n",
    "figcaption {\n",
    "    aria-hidden: true;\n",
    "    max-width: 700px;\n",
    "}\n",
    "</style>"
   ]
  },
  {
   "cell_type": "markdown",
   "id": "cddd29a5-78d3-4e33-9dff-1f517141f1e4",
   "metadata": {},
   "source": [
    "# Results {#amk-results}"
   ]
  },
  {
   "cell_type": "markdown",
   "id": "ea49cbaf-674c-4587-b765-e6aaf0a44814",
   "metadata": {},
   "source": [
    "## The Ground State Flux Sector\n",
    "\n",
    "Here I will discuss the numerical evidence that our guess for the ground state flux sector is correct. We will do this by enumerating all the flux sectors of many separate system realisations. However there are some issues we will need to address to make this argument work.\n",
    "\n",
    "We have two seemingly irreconcilable problems. Finite size effects have a large energetic contribution for small systems\\ [@kitaevAnyonsExactlySolved2006] so we would like to perform our analysis for very large lattices. However for an amorphous system with $N$ plaquettes, $2N$ edges and $3N$ vertices we have $2^{N-1}$ flux sectors to check and diagonalisation scales with $\\mathcal{0}(N^3)$. That exponential scaling makes it infeasible to work with lattices much larger than $16$ plaquettes."
   ]
  },
  {
   "cell_type": "markdown",
   "id": "f2566e82-2b02-4b17-bccf-2b6fc80fc1a0",
   "metadata": {},
   "source": [
    "To get around this we instead look at periodic systems with amorphous unit cells. For a similarly sized periodic system with $A$ unit cells and $B$ plaquettes in each unit cell where $N \\sim AB$ things get much better. We can use Bloch's theorem to diagonalise this system in about $\\mathcal{0}(A B^3)$ operations, and more importantly there are only $2^{B-1}$ flux sectors to check. We fully enumerated the flux sectors of ~25,000 periodic systems with disordered unit cells of up to $B = 16$ plaquettes and $A = 100$ unit cells. However, showing that our guess is correct for periodic systems with disordered unit cells is not quite convincing on its own as we have effectively removed longer-range disorder from our lattices.\n",
    "\n",
    "The second part of the argument is to show that the energetic effect of introducing periodicity scales away as we go to larger system sizes and has already diminished to a small enough value at 16 plaquettes, which is indeed what we find. From this we argue that the results for small periodic systems generalise to large amorphous systems. We performed this analysis for both the isotropic point ($J^\\alpha = 1$), as well as in the toric code phase ($J^x = J^y = 0.25, J^z = 1$)."
   ]
  },
  {
   "cell_type": "markdown",
   "id": "6bade6ce-2145-4fa1-a21e-872c128823d2",
   "metadata": {},
   "source": [
    "In the isotropic case ($J^\\alpha = 1$), our conjecture correctly predicted the ground state flux sector for all of the lattices we tested. \n",
    "\n",
    "For the toric code phase ($J^x, J^y = 0.25, J^z = 1$) all but around ($\\sim 0.5 \\%$) lattices had ground states conforming to our conjecture. In these cases, the energy difference between the true ground state and our prediction was on the order of $10^{-6} J$. It is unclear whether this is a finite size effect or something else."
   ]
  },
  {
   "cell_type": "markdown",
   "id": "69d99ebe-70e7-4781-914e-321747e16963",
   "metadata": {},
   "source": [
    "The spin Kitaev Hamiltonian is real and therefore has time reversal symmetry (TRS). However in the ground state the flux $\\phi_p$ through any plaquette with an odd number of sides has imaginary eigenvalues $\\pm i$. Thus, states with a fixed flux sector spontaneously break time reversal symmetry. This was first described by Yao and Kivelson for a translation invariant Kitaev model with odd sided plaquettes\\ [@Yao2011]. \n",
    "\n",
    "So we have flux sectors that come in degenerate pairs, where time reversal is equivalent to inverting the flux through every odd plaquette, a general feature for lattices with odd plaquettes\\ [@yaoExactChiralSpin2007; @Peri2020]. This spontaneously broken symmetry serves a role analogous to the external magnetic field in the original honeycomb model, leading the AK model to have a non-Abelian anyonic phase without an external magnetic field."
   ]
  },
  {
   "cell_type": "markdown",
   "id": "d14f46b4-cb1c-451f-bf40-74575b90dccb",
   "metadata": {},
   "source": [
    "## Ground State Phase Diagram"
   ]
  },
  {
   "cell_type": "markdown",
   "id": "f3ce5297-e442-44ba-a21f-42b31d3e5bdf",
   "metadata": {},
   "source": [
    "The triangular phase $J_x, J_y, J_z$ phase diagram of this family of models arises from setting the energy scale with $J_x + J_y + J_z = 1$, the intersection of this plane and the unit cube is what yields the equilateral triangles seen in diagrams like @fig:phase_diagram. The KH model has an Abelian, gapped phase in the anisotropic region (the A phase) and is gapless in the isotropic region. The introduction of a magnetic field breaks the chiral symmetry, leading to the isotropic region becoming a gapped, non-Abelian phase, the B phase.\n",
    "\n",
    "Similar to the Kitaev Honeycomb model with a magnetic field, we find that the amorphous model is only gapless along critical lines, see @fig:phase_diagram (Left). Interestingly, in finite size systems the gap closing exists in only one of the four topological sectors though the sectors must become degenerate in the thermodynamic limit. Nevertheless this could be a useful way to define the (0, 0) topological flux sector for the amorphous model which otherwise has no natural way to choose it.\n",
    "\n",
    "In the honeycomb model, the phase boundaries are located on the straight lines $|J^x| = |J^y| + |J^x|$ and permutations of $x,y,z$. These are shown as dotted lines on ~@fig:phase_diagram (Right). We find that on the amorphous lattice these boundaries exhibit an inward curvature, similar to honeycomb Kitaev models with flux or bond disorder\\ [@knolle_dynamics_2016; @Nasu_Thermal_2015; @lahtinenPerturbedVortexLattices2014; @willansDisorderQuantumSpin2010; @zschockePhysicalStatesFinitesize2015; @kaoDisorderDisorderLocalization2021].\n",
    "\n",
    "<figure>\n",
    "<img src=\"../../figure_code/amk_chapter/results/phase_diagram/phase_diagram.svg\" style=\"max-width:700px;\" title=\"The Ground State Phase Diagram\">\n",
    "<figcaption>\n",
    "The phase diagram of the model can be characterised by an equilateral triangle whose corners indicate points where $J_\\alpha = 1, J_\\beta = J_\\gamma = 0$ while the centre denotes $J_x = J_y = J_z$. (Center)  To compute critical lines efficiently in this space we evaluate the order parameter of interest along rays shooting from the corners of the phase diagram. The ray highlighted in red defines the values of J used for the left figure. (Left) The fermion gap as a function of J for an amorphous system with 20 plaquettes, where the x axis is the position on the red line in the central figure from 0 to 1. For finite size systems the four topological sectors are not degenerate and only one of them (in green) has a true gap closing. (Right) The Abelian $A_\\alpha$ phases of the model and the non-Abelian B phase separated by critical lines where the fermion gap closes. Later we will show that the Chern number $\\nu$ changes from $0$ to $\\pm 1$ from the A phases to the B phase. Indeed the gap _must_ close in order for the Chern number to change\\ [@ezawaTopologicalPhaseTransition2013].\n",
    "</figcaption>\n",
    "</figure>\n"
   ]
  },
  {
   "cell_type": "markdown",
   "id": "d36d32c7-de2b-408a-b3ee-1fc6ca5a8825",
   "metadata": {},
   "source": [
    "### Abelian or non-Abelian of the Gapped Phase\n",
    "The two phases of the amorphous model are clearly gapped, though later I'll double check this with finite size scaling. \n",
    "\n",
    "The next question is: do these phases support excitations with trivial, Abelian or non-Abelian statistics? To answer that we turn to Chern numbers\\ [@berryQuantalPhaseFactors1984; @simonHolonomyQuantumAdiabatic1983; @thoulessQuantizedHallConductance1982]. As discussed earlier the Chern number is a quantity intimately linked to both the topological properties and the anyonic statistics of a model. Here we will make use of the fact that the Abelian/non-Abelian character of a model is linked to its Chern number\\ [@kitaevAnyonsExactlySolved2006]. The Chern number is only defined for the translation invariant case because it relies on integrals defined in k-space. We instead use a family of real space generalisations of the Chern number that work for amorphous systems exist called local topological markers\\ [@bianco_mapping_2011; @Hastings_Almost_2010; @mitchellAmorphousTopologicalInsulators2018], indeed Kitaev defines one in his original paper on the KH model\\ [@kitaevAnyonsExactlySolved2006]. \n",
    "\n",
    "Here we use the crosshair marker of\\ [@peru_preprint] because it works well on smaller systems. We calculate the projector $P = \\sum_i |\\psi_i\\rangle \\langle \\psi_i|$ onto the occupied fermion eigenstates of the system in open boundary conditions. The projector encodes local information about the occupied eigenstates of the system and in gapped systems it is exponentially localised\\ [@hastingsLiebSchultzMattisHigherDimensions2004]. The name _crosshair_ comes from the fact that the marker is defined with respect to a particular point $(x_0, y_0)$ by step functions in x and y"
   ]
  },
  {
   "cell_type": "markdown",
   "id": "99e3facf-dcda-47de-8420-623b7ef2f419",
   "metadata": {},
   "source": [
    "$$\\begin{aligned}\n",
    "    \\nu (x, y) = 4\\pi \\; \\Im\\; \\mathrm{Tr}_{\\mathrm{B}} \n",
    "    \\left ( \n",
    "    \\hat{P}\\;\\hat{\\theta}(x-x_0)\\;\\hat{P}\\;\\hat{\\theta}(y-y_0)\\; \\hat{P}\n",
    "    \\right ),\n",
    "\\end{aligned}$$"
   ]
  },
  {
   "cell_type": "markdown",
   "id": "e0db9344-6806-478c-adfb-8dce7c4e5a31",
   "metadata": {},
   "source": [
    "when the trace is taken over a region $B$ around $(x_0, y_0)$ that is large enough to include local information about the system but does not come too close to the edges. If these conditions are met then then this quantity will be very close to quantised to the Chern number, see @fig:phase_diagram_chern. We'll  use the crosshair marker to assess the Abelian/non-Abelian character of the phases.\n",
    "\n",
    "In the A phase of the amorphous model we find that $\\nu=0$ and hence the excitations have Abelian character, similar to the honeycomb model. This phase is thus the amorphous analogue of the Abelian toric-code quantum spin liquid\\ [@kitaev_fault-tolerant_2003]. The B phase has $\\nu=\\pm1$ so is a non-Abelian _chiral spin liquid_ (CSL) similar to that of the Yao-Kivelson model\\ [@yaoExactChiralSpin2007]. The CSL state is the the magnetic analogue of the fractional quantum Hall state\\ [@laughlinPropertiesChiralspinliquidState1990]. Hereafter we focus our attention on this phase."
   ]
  },
  {
   "cell_type": "markdown",
   "id": "c3ca8b26-7366-407a-a9b2-8397d70cbeac",
   "metadata": {},
   "source": [
    "<figure>\n",
    "<img src=\"../../figure_code/amk_chapter/results/phase_diagram_chern/phase_diagram_chern.svg\" style=\"max-width:700px;\" title=\"Local Chern Markers\">\n",
    "<figcaption>\n",
    "(Center) The crosshair marker\\ [@peru_preprint], a local topological marker, evaluated on the Amorphous Kitaev Model. The marker is defined around a point, denoted by the dotted crosshair. Information about the local topological properties of the system are encoded within a region around that point. (Left) Summing these contributions up to some finite radius (dotted line here, dotted circle in the centre) gives a generalised version of the Chern number for the system which becomes quantised in the thermodynamic limit. The radius must be chosen large enough to capture information about the local properties of the lattice while not so large as to include contributions from the edge states. The isotropic regime $J_\\alpha = 1$ in red has $\\nu = \\pm 1$ implying it supports excitations with non-Abelian statistics, while the anisotropic regime in orange has $\\nu = 0$ implying it has Abelian statistics. (Right) Extending this analysis to the whole $J_\\alpha$ phase diagram with fixed $r = 0.3$ nicely confirms that the isotropic phase is non-Abelian. \n",
    "</figcaption>\n",
    "</figure>"
   ]
  },
  {
   "cell_type": "markdown",
   "id": "dd4b698d-b855-405f-97a7-643a95dd6b6f",
   "metadata": {},
   "source": [
    "### Edge Modes\n",
    "\n",
    "Chiral Spin Liquids support topological protected edge modes on open boundary conditions\\ [@qi_general_2006]. @Fig:edge_modes shows the probability density of one such edge mode. It is near zero energy and exponentially localised to the boundary of the system. While the model is gapped in periodic boundary conditions (i.e on the torus) these edge modes appear in the gap when the boundary is cut.\n",
    "\n",
    "The localization of the edge modes can be quantified by their inverse participation ratio (IPR), $$\\mathrm{IPR} = \\int d^2r|\\psi(\\mathbf{r})|^4  \\propto L^{-\\tau},$$ where $L\\sim\\sqrt{N}$ is the linear dimension of the amorphous lattices and $\\tau$ the dimensional scaling exponent of IPR. This is relevant because localised in-gap states do not participate in transport and hence do not turn band insulators into metals. It is only when the gap fills with extended states that we get a metallic state."
   ]
  },
  {
   "cell_type": "markdown",
   "id": "4599e3e2-6fbb-4d88-8cf7-25c32cf5b1ac",
   "metadata": {},
   "source": [
    "<figure>\n",
    "<img src=\"../../figure_code/amk_chapter/results/edge_modes/edge_modes.svg\" style=\"max-width:700px;\" title=\"Edges States and Density of States\">\n",
    "<figcaption>\n",
    "(a) The density of one of the topologically protected edge states in the B phase. (Below) the log density plotted along the black path showing that the state is exponentially localised. (a)/(b) The density of states of the corresponding lattice in (a) periodic boundary conditions, (b) open boundary conditions. The colour of the bars shows the mean log IPR for each energy window. Cutting the boundary fills the gap with localised states.\n",
    "</figcaption>\n",
    "</figure>"
   ]
  },
  {
   "cell_type": "markdown",
   "id": "0e77f1b6-94ee-4a11-95ed-fc3c729ea8f6",
   "metadata": {},
   "source": [
    "## Anderson Transition to a Thermal Metal\n",
    "\n",
    "Previous work on the honeycomb model at finite temperature has shown that the B phase undergoes a thermal transition from a quantum spin liquid phase a to a __thermal metal__ phase\\ [@selfThermallyInducedMetallic2019]. \n",
    "\n",
    "This happens because at finite temperature, thermal fluctuations lead to spontaneous vortex-pair formation. As discussed previously these fluxes are dressed by Majorana bounds states and the composite object is an Ising-type non-Abelian anyon\\ [@Beenakker2013]. The interactions between these anyons are oscillatory similar to the RKKY exchange and decay exponentially with separation\\ [@Laumann2012; @Lahtinen_2011; @lahtinenTopologicalLiquidNucleation2012]. At sufficient density, the anyons hybridise to a macroscopically degenerate state known as *thermal metal*\\ [@Laumann2012]. At close range the oscillatory behaviour of the interactions can be modelled by a random sign which forms the basis for a random matrix theory description of the thermal metal state."
   ]
  },
  {
   "cell_type": "markdown",
   "id": "e66529a5-d354-432f-9aaf-4bca26839c1f",
   "metadata": {},
   "source": [
    "The amorphous chiral spin liquid undergoes the same form of Anderson transition to a thermal metal state. Markov Chain Monte Carlo would be necessary to simulate this in full detail\\ [@selfThermallyInducedMetallic2019] but in order to avoid that complexity in the current work we instead opted to use vortex density $\\rho$ as a proxy for temperature. We give each plaquette probability $\\rho$ of being a vortex, possibly with one additional adjustment to preserve overall vortex parity. This approximation is exact in the limits $T = 0$ (corresponding to $\\rho = 0$) and $T \\to \\infty$ (corresponding to $\\rho = 0.5$) while at intermediate temperatures there may be vortex-vortex correlations that are not captured by positioning vortices using uncorrelated random variables. \n",
    "\n",
    "First we performed a finite size scaling to that the presence of a gap in the CSL ground state and absence of a gap in the thermal phase are both robust as we go to larger systems, see @fig:fermion_gap_vs_L."
   ]
  },
  {
   "cell_type": "markdown",
   "id": "631b59c7-806c-475d-b118-9809c6960cc5",
   "metadata": {},
   "source": [
    "<figure>\n",
    "<img src=\"../../figure_code/amk_chapter/results/fermion_gap_vs_L/fermion_gap_vs_L.svg\" style=\"max-width:700px;\" title=\"Finite Size Scaing of the Fermion Gap\">\n",
    "<figcaption>\n",
    "Within a flux sector, the fermion gap $\\Delta_f$ measures the energy between the fermionic ground state and the first excited state. This graph shows the fermion gap as a function of system size for the ground state flux sector and for a configuration of random fluxes. We see that the disorder induced by an putting the Kitaev model on an amorphous lattice does not close the gap in the ground state. The gap closes in the flux disordered limit is good evidence that the system transitions to a gapless thermal metal state at high temperature. Each point shows an average over 100 lattice realisations. System size $L$ is defined $\\sqrt{N}$ where N is the number of plaquettes in the system. Error bars shown are $3$ times the standard error of the mean. The lines shown are fits of $\\tfrac{\\Delta_f}{J} = aL ^ b$ with fit parameters: Ground State: $a = 0.138 \\pm 0.002, b = -0.0972 \\pm 0.004$ Random Flux Sector: \n",
    "$a = 1.8 \\pm 0.2, b = -2.21 \\pm 0.03$\n",
    "</figcaption>\n",
    "</figure>"
   ]
  },
  {
   "cell_type": "markdown",
   "id": "88764e32-6ffa-40d9-ab29-572576c083c4",
   "metadata": {},
   "source": [
    "Next we evaluated the fermionic density of states (DOS), Inverse Participation Ratio (IPR) and IPR scaling exponent $\\tau$ as functions of the vortex density $\\rho$, see @fig:DOS_vs_rho. This leads to a nice picture of what happens as we raise the temperature of the system away from the gapped, insulating CSL phase. At small $\\rho$, states begin to populate the gap  but they have $\\tau\\approx0$, indicating that they are localised states pinned to the vortices, and the system remains insulating. At large $\\rho$, the in-gap states merge with the bulk band and become extensive, closing the gap, and the system transitions to the  thermal metal phase."
   ]
  },
  {
   "cell_type": "markdown",
   "id": "a49d648b-ece8-4d34-977e-7df60e484498",
   "metadata": {},
   "source": [
    "\n",
    "<figure>\n",
    "<img src=\"../../figure_code/amk_chapter/results/DOS_vs_rho/DOS_vs_rho.svg\" style=\"max-width:700px;\" title=\"Transition to a Thermal Metal\">\n",
    "<figcaption>\n",
    "(Top) Density of states and (Bottom) scaling exponent $\\tau$ of the amorphous Kitaev model as a vortex density $\\rho$ is increased. The scaling exponent $\\tau$ is the exponent with which the inverse participation ratio scales with system size. It gives a measure of the degree of localisation of the states in each $(E/J, \\rho)$ bin. At zero $\\rho$ we have the gapped ground state. At small $\\rho$, states begin to populate the gap. These states have $\\tau\\approx0$, indicating that they are localised states pinned to fluxes, and the system remains insulating. As $\\rho$ increases further, the in-gap states merge with the bulk band and become extensive, fully closing the gap, and the system transitions to a thermal metal phase.\n",
    "</figcaption>\n",
    "</figure>"
   ]
  },
  {
   "cell_type": "markdown",
   "id": "37cf0e80-44d8-478c-ac77-17e988af136c",
   "metadata": {},
   "source": [
    "The thermal metal phase has a signature logarithmic divergence at zero energy and oscillations in the DOS. These signatures can be shown to occur by a recursive argument that involves mapping the original model onto a Majorana model with interactions that take random signs which can itself be mapped onto a coarser lattice with lower energy excitations and so on. This can be repeating indefinitely, showing the model must have excitations at arbitrarily low energies in the thermodynamic limit\\ [@bocquet_disordered_2000; @selfThermallyInducedMetallic2019].\n",
    " \n",
    "These signatures for our model and for the honeycomb model are shown in @fig:DOS_oscillations. They do not occur in the honeycomb model unless the chiral symmetry is broken by a magnetic field."
   ]
  },
  {
   "cell_type": "markdown",
   "id": "e83f5dac-fdb9-49ab-bfbb-6b7c76bdca45",
   "metadata": {},
   "source": [
    "<figure>\n",
    "<img src=\"../../figure_code/amk_chapter/results/DOS_oscillations/DOS_oscillations.svg\" style=\"max-width:700px;\" title=\"Distinctive Oscillations in the Density of States\">\n",
    "<figcaption>\n",
    "Density of states at high temperature showing the logarithmic divergence at zero energy and oscillations characteristic of the thermal metal state\\ [@bocquet_disordered_2000; @selfThermallyInducedMetallic2019]. (a) shows the honeycomb lattice model in the B phase with magnetic field, while (b) shows that our model transitions to a thermal metal phase without an external magnetic field but rather due to the spontaneous chiral symmetry breaking. In both plots the density of vortices is $\\rho = 0.5$ corresponding to the $T = \\infty$ limit.\n",
    "</figcaption>\n",
    "</figure>"
   ]
  },
  {
   "cell_type": "markdown",
   "id": "eaa584b0-84af-41e2-9c9c-d6505ca6c274",
   "metadata": {
    "tags": []
   },
   "source": [
    "# Discussion and Conclusion {#sec:AMK-Conclusion}\n",
    "\n",
    "We found a small number of lattices for which the ground state conjecture did not correctly predict the true ground state flux sector. I see two possibilities for what could cause this. Firstly it could be a a finite size effect that is amplified by certain rare lattice configurations. It would be interesting to try to elucidate what lattice features are present when the ground state conjecture fails. Alternatively, it might be telling that the ground state conjecture failed in the toric code A phase where the couplings are anisotropic. We showed that the colouring does not matter in the B phase. However an avenue that I did not explore was whether the particular choice of colouring for a lattice affects the physical properties in the toric code A phase. It is possible that some property of the particular colouring chosen is what leads to failure of the ground state conjecture here.\n",
    "\n",
    "In this chapter we have looked at an extension of the Kitaev honeycomb model to amorphous lattices with coordination number three. We discussed a method to construct arbitrary trivalent lattices using Voronoi partitions, how to embed them onto the torus and how to edge-colour them using a SAT solver. We showed numerically that the ground state flux sector of the model is given by a simple extension of Lieb's theorem. The model has two gapped quantum spin liquid phases. The two phases support excitations with different anyonic statistics, Abelian and non-Abelian, distinguished using a real-space generalisation of the Chern number\\ [@peru_preprint]. The presence of odd-sided plaquettes in the model results in spontaneous breaking of time reversal symmetry, leading to the emergence of a chiral spin liquid phase. Finally we showed evidence that the amorphous system undergoes an Anderson transition to a thermal metal phase, driven by the proliferation of vortices with increasing temperature. \n",
    "\n",
    "The AK model is an exactly solvable model of the chiral QSL state, one of the first models to exhibit a topologically non-trivial quantum many-body phase on an amorphous lattice. As such this study provides a number of future lines of research.\n",
    "\n",
    "__Experimental Realisations and Signatures__\n",
    "\n",
    "We should also consider whether a physical amorphous system that supports a QSL ground state could exist. The search for translation invariant Kitaev systems is already motivated by the prospect of a physically realised QSL state, Majorana fermions and direct access to a system with emergent $\\mathbb{Z}_2$ gauge physics\\ [@TrebstPhysRep2022]. An amorphous Kitaev model would provide all this but in addition the possibility of exploring the CSL state as well as potentially very different routes to a physical realisation. One route would be to ask if any crystalline Kitaev material candidates can be heated and rapidly quenched\\ [@Weaire1976; @Petrakovski1981; @Kaneyoshi2018] to produce amorphous analogues that might preserve enough of their local structure to support a QSL state. \n",
    "\n",
    "Instead looking to more designer materials, metal organic frameworks (MOFs) could present a platform for a synthetic Kitaev material. These materials are composed of repeating units of large organic molecular frameworks coordinated with metal ions. Amorphous MOFs can be generated with mechanical processes that introduce disorder into crystalline MOFs\\ [@bennett2014amorphous]. There have been recent proposals for realizing strong Kitaev interactions\\ [@yamadaDesigningKitaevSpin2017] in them as potential signatures of a resonating valence bond QSL state in MOFs with Kagome geometry\\ [@misumiQuantumSpinLiquid2020]. Finally MOFs are composed of large synthetic molecules so may provide more opportunity for fine tuning to target particular physics than than elemental compounds. There have also been proposals to realise Kitaev physics in optical lattice experiments\\ [@duanControllingSpinExchange2003; @micheliToolboxLatticespinModels2006] which can also support amorphous lattices\\ [@sadeghiAmorphousTwodimensionalOptical2005].\n",
    "\n",
    "A physical realisation in either an amorphous compound or a MOF would likely entail a high degree of defects. Amorphous silicon for instance tends to contain a high degree of dangling bonds which must be passivated by hydrogenation to improve its physical properties\\ [@streetHydrogenatedAmorphousSilicon1991]. In both cases, if we assume that Kitaev physics can be realised by crystalline systems, it is not clear if the necessary superexchange couplings would survive the addition of disorder to the MOF lattice. It would therefore make sense to examine how robust the CSL ground state of the AK model is to additional disorder in the Hamiltonian, for example mis-colourings of the bonds, vertex degree disorder and disorder in coupling strengths. Relatedly, one could look at perturbations to the Hamiltonian that break integrability\\ [@Rau2014; @Chaloupka2010; @Chaloupka2013; @Chaloupka2015; @Winter2016].\n",
    "\n",
    "Considering experimental signatures, we expect that the chiral amorphous QSL will display a half-quantized thermal Hall effect similar to the magnetic field induced behaviour of KH materials\\ [@Kasahara2018; @Yokoi2021; @Yamashita2020; @Bruin2022]. Alternatively, the CSL state could be characterized by local probes such as spin-polarized scanning tunnelling microscopy\\ [@Feldmeier2020; @Konig2020; @Udagawa2021] and the thermal metal phase displays characteristic longitudinal heat transport signatures\\ [@Beenakker2013]. \n",
    "\n",
    "Local perturbations such as those that might come from an atomic force microscope could potentially be used to create and control vortices\\ [@jangVortexCreationControl2021] To this end it may make sense to look at how the move to amorphous lattices affects vortex time dynamics in perturbed KH models\\ [@joyDynamicsVisonsThermal2022].\n",
    "\n",
    "Given the lack of unambiguous signatures of the QSL state it can be hard to distinguish the effects of the QSL state from the effect of disorder. So introducing topological disorder from amorphous lattices may pose considerable experimental challenges. Three dimensional realisations could get around this as they would be expected to have a true FTPT to the thermal metal state that could be a useful experimental signature\\ [@eschmannThermodynamicClassificationThreedimensional2020; @OBrienPRB2016]. Three dimensional Kitaev systems can also support CSL ground states\\ [@mishchenkoChiralSpinLiquids2020].\n",
    "\n",
    "__Thermodynamics__\n",
    "\n",
    "The KH model can be extended to three dimensional tri-coordinate lattices\\ [@eschmannThermodynamicClassificationThreedimensional2020; @OBrienPRB2016] or it can be generalised to an exactly solvable spin-$\\tfrac{3}{2}$ model on four-coordinate lattices\\ [@yaoAlgebraicSpinLiquid2009; @wenQuantumOrderStringnet2003; @ryuThreedimensionalTopologicalPhase2009; @Baskaran2008; @Nussinov2009; @Yao2011; @Chua2011; @Natori2020; @Chulliparambil2020; @Chulliparambil2021; @Seifert2020; @WangHaoranPRB2021; @Wu2009]. In\\ [@yaoAlgebraicSpinLiquid2009] the two dimensional square lattice with 4 bond types ($J_w, J_x, J_y, J_z$) is considered. Since Voronoi partitions in three dimensions produce lattices of degree four, one interesting generalisation of this work would be to look at the spin-$\\tfrac{3}{2}$ Kitaev model on amorphous lattices.\n",
    "\n",
    "We did not perform a full MCMC simulation of the AK model at finite temperature but the possible extension of the model to three dimensions with an FTPT would motive this full analysis in different dimensions. This would be a numerically challenging task but poses no conceptual barriers\\ [@Laumann2012; @lahtinenTopologicalLiquidNucleation2012; @selfThermallyInducedMetallic2019]. Doing this would, firstly, allow one to look for possible violations of the Harris criterion\\ [@harrisEffectRandomDefects1974] for the Ising transition of the flux sector. Recall that topological disorder in two dimensions has radically different properties to that of other kinds of disorder due to the constraints imposed by the Euler equation and maintaining coordination number which allows it to violate otherwise quite general rules like the Harris criterion\\ [@barghathiPhaseTransitionsRandom2014; @schrauthViolationHarrisBarghathiVojtaCriterion2018]. Second, incorporating the projector in addition to MCMC would allow for a full investigation of whether the effect of topological degeneracy is apparent at finite temperatures as is done in\\ [@selfThermallyInducedMetallic2019].\n",
    "\n",
    "Next, one could investigate whether a QSL phase may exist for for other models defined on amorphous lattices with a view to more realistic prospects of observation. For instance, it would be interesting to see if the properties of the Kitaev-Heisenberg model generalise from the honeycomb to the amorphous case\\ [@Chaloupka2010; @Chaloupka2015; @Jackeli2009; @Kalmeyer1989; @manousakisSpinTextonehalfHeisenberg1991;]. Alternatively we might look at other lattice construction techniques. For instance we could construct lattices by linking close points\\ [@agarwala2019topological] or create simplices from random sites\\ [@christRandomLatticeField1982]. Lattices constructed these ways would like have a large number of lattice defects $z \\neq 3$ in the bulk, leading to persistent zero modes.\n",
    "\n",
    "Overall, there has been surprisingly little research on amorphous quantum many body phases despite there being plenty of material candidates. I expect the exact chiral amorphous spin liquid to find many generalisation to realistic amorphous quantum magnets."
   ]
  },
  {
   "cell_type": "code",
   "execution_count": null,
   "id": "629ca62c-e96c-438e-9c30-d4aafa1d1127",
   "metadata": {},
   "outputs": [],
   "source": []
  }
 ],
 "metadata": {
  "kernelspec": {
   "display_name": "Python [conda env:adalm1000]",
   "language": "python",
   "name": "conda-env-adalm1000-py"
  },
  "language_info": {
   "codemirror_mode": {
    "name": "ipython",
    "version": 3
   },
   "file_extension": ".py",
   "mimetype": "text/x-python",
   "name": "python",
   "nbconvert_exporter": "python",
   "pygments_lexer": "ipython3",
   "version": "3.10.5"
  },
  "vscode": {
   "interpreter": {
    "hash": "aee8b7b246df8f9039afb4144a1f6fd8d2ca17a180786b69acc140d282b71a49"
   }
  }
 },
 "nbformat": 4,
 "nbformat_minor": 5
}
