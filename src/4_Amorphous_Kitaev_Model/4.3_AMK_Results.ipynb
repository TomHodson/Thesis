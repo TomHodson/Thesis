{
 "cells": [
  {
   "cell_type": "raw",
   "id": "407dded7-cc09-46ad-8822-718e1427a3c5",
   "metadata": {},
   "source": [
    "---\n",
    "title: The Amorphous Kitaev Model - Results\n",
    "description: The Amorphous Kitaev model is a chiral spin liquid!\n",
    "image:\n",
    "layout: thesis\n",
    "---"
   ]
  },
  {
   "cell_type": "code",
   "execution_count": 1,
   "id": "6b48f919-dfcf-4fd6-a5f0-2021dbee3596",
   "metadata": {
    "tags": [
     "remove_cell"
    ]
   },
   "outputs": [
    {
     "data": {
      "text/html": [
       "<style>\n",
       "figure {\n",
       "    display: flex;\n",
       "    flex-direction: column;\n",
       "    align-items: center;\n",
       "}\n",
       "figure img {\n",
       "    max-width: 900px;\n",
       "    width: 100%;\n",
       "    margin-bottom: 2em;\n",
       "}\n",
       "figcaption {\n",
       "    aria-hidden: true;\n",
       "    max-width: 700px;\n",
       "}\n",
       "</style>\n"
      ],
      "text/plain": [
       "<IPython.core.display.HTML object>"
      ]
     },
     "metadata": {},
     "output_type": "display_data"
    }
   ],
   "source": [
    "%%html\n",
    "<style>\n",
    "figure {\n",
    "    display: flex;\n",
    "    flex-direction: column;\n",
    "    align-items: center;\n",
    "}\n",
    "figure img {\n",
    "    max-width: 900px;\n",
    "    width: 100%;\n",
    "    margin-bottom: 2em;\n",
    "}\n",
    "figcaption {\n",
    "    aria-hidden: true;\n",
    "    max-width: 700px;\n",
    "}\n",
    "</style>"
   ]
  },
  {
   "cell_type": "markdown",
   "id": "cddd29a5-78d3-4e33-9dff-1f517141f1e4",
   "metadata": {},
   "source": [
    "# Results {#amk-results}"
   ]
  },
  {
   "cell_type": "markdown",
   "id": "ea49cbaf-674c-4587-b765-e6aaf0a44814",
   "metadata": {},
   "source": [
    "## The Ground State Flux Sector\n",
    "\n",
    "Here I will discuss the numerical evidence that our guess for the ground state flux sector is correct. We will do this by enumerating all the flux sectors of many separate system realisations. However there are some issues we will need to address to make this argument work.\n",
    "\n",
    "We have two seemingly irreconcilable problems. Finite size effects have a large energetic contribution for small systems\\ [@kitaevAnyonsExactlySolved2006] so we would like to perform our analysis for very large lattices. However for an amorphous system with $N$ plaquettes, $2N$ edges and $3N$ vertices we have $2^{N-1}$ flux sectors to check and diagonalisation scales with $\\mathcal{0}(N^3)$. That exponential scaling makes it infeasible to work with lattices much larger than $16$ plaquettes."
   ]
  },
  {
   "cell_type": "markdown",
   "id": "f2566e82-2b02-4b17-bccf-2b6fc80fc1a0",
   "metadata": {},
   "source": [
    "To get around this we instead look at periodic systems with amorphous unit cells. For a similarly sized periodic system with $A$ unit cells and $B$ plaquettes in each unit cell where $N \\sim AB$ things get much better. We can use Bloch's theorem to diagonalise this system in about $\\mathcal{0}(A B^3)$ operations, and more importantly there are only $2^{B-1}$ flux sectors to check. We fully enumerated the flux sectors of ~25,000 periodic systems with disordered unit cells of up to $B = 16$ plaquettes and $A = 100$ unit cells. However, showing that our guess is correct for periodic systems with disordered unit cells is not quite convincing on its own as we have effectively removed longer-range disorder from our lattices.\n",
    "\n",
    "The second part of the argument is to show that the energetic effect of introducing periodicity scales away as we go to larger system sizes and has already diminished to a small enough value at 16 plaquettes, which is indeed what we find. From this we argue that the results for small periodic systems generalise to large amorphous systems. We performed this analysis for both the isotropic point ($J^\\alpha = 1$), as well as in the toric code phase ($J^x = J^y = 0.25, J^z = 1$)."
   ]
  },
  {
   "cell_type": "markdown",
   "id": "6bade6ce-2145-4fa1-a21e-872c128823d2",
   "metadata": {},
   "source": [
    "In the isotropic case ($J^\\alpha = 1$), our conjecture correctly predicted the ground state flux sector for all of the lattices we tested. \n",
    "\n",
    "For the toric code phase ($J^x, J^y = 0.25, J^z = 1$) all but around ($\\sim 0.5 \\%$) lattices had ground states conforming to our conjecture. In these cases, the energy difference between the true ground state and our prediction was on the order of $10^{-6} J$. It is unclear whether this is a finite size effect or something else."
   ]
  },
  {
   "cell_type": "markdown",
   "id": "69d99ebe-70e7-4781-914e-321747e16963",
   "metadata": {},
   "source": [
    "The spin Kitaev Hamiltonian is real and therefore has time reversal symmetry (TRS). However in the ground state the flux $\\phi_p$ through any plaquette with an odd number of sides has imaginary eigenvalues $\\pm i$. Thus, states with a fixed flux sector spontaneously break time reversal symmetry. This was first described by Yao and Kivelson for a translation invariant Kitaev model with odd sided plaquettes\\ [@Yao2011]. \n",
    "\n",
    "So we have flux sectors that come in degenerate pairs, where time reversal is equivalent to inverting the flux through every odd plaquette, a general feature for lattices with odd plaquettes\\ [@yaoExactChiralSpin2007; @Peri2020]. This spontaneously broken symmetry serves a role analogous to the external magnetic field in the original honeycomb model, leading the AK model to have a non-Abelian anyonic phase without an external magnetic field."
   ]
  },
  {
   "cell_type": "markdown",
   "id": "d14f46b4-cb1c-451f-bf40-74575b90dccb",
   "metadata": {},
   "source": [
    "## Ground State Phase Diagram"
   ]
  },
  {
   "cell_type": "markdown",
   "id": "f3ce5297-e442-44ba-a21f-42b31d3e5bdf",
   "metadata": {},
   "source": [
    "The triangular phase $J_x, J_y, J_z$ phase diagram of this family of models arises from setting the energy scale with $J_x + J_y + J_z = 1$, the intersection of this plane and the unit cube is what yields the equilateral triangles seen in diagrams like @fig:phase_diagram. The KH model has an Abelian, gapped phase in the anisotropic region (the A phase) and is gapless in the isotropic region. The introduction of a magnetic field breaks the chiral symmetry, leading to the isotropic region becoming a gapped, non-Abelian phase, the B phase.\n",
    "\n",
    "Similar to the Kitaev Honeycomb model with a magnetic field, we find that the amorphous model is only gapless along critical lines, see @fig:phase_diagram (Left). Interestingly, in finite size systems the gap closing exists in only one of the four topological sectors though the sectors must become degenerate in the thermodynamic limit. Nevertheless this could be a useful way to define the (0, 0) topological flux sector for the amorphous model which otherwise has no natural way to choose it.\n",
    "\n",
    "In the honeycomb model, the phase boundaries are located on the straight lines $|J^x| = |J^y| + |J^x|$ and permutations of $x,y,z$. These are shown as dotted lines on ~@fig:phase_diagram (Right). We find that on the amorphous lattice these boundaries exhibit an inward curvature, similar to honeycomb Kitaev models with flux or bond disorder\\ [@knolle_dynamics_2016; @Nasu_Thermal_2015; @lahtinenPerturbedVortexLattices2014; @willansDisorderQuantumSpin2010; @zschockePhysicalStatesFinitesize2015; @kaoDisorderDisorderLocalization2021].\n",
    "\n",
    "<figure>\n",
    "<img src=\"../../figure_code/amk_chapter/results/phase_diagram/phase_diagram.svg\" style=\"max-width:700px;\" title=\"The Ground State Phase Diagram\">\n",
    "<figcaption>\n",
    "The phase diagram of the model can be characterised by an equilateral triangle whose corners indicate points where $J_\\alpha = 1, J_\\beta = J_\\gamma = 0$ while the centre denotes $J_x = J_y = J_z$. (Center)  To compute critical lines efficiently in this space we evaluate the order parameter of interest along rays shooting from the corners of the phase diagram. The ray highlighted in red defines the values of J used for the left figure. (Left) The fermion gap as a function of J for an amorphous system with 20 plaquettes, where the x axis is the position on the red line in the central figure from 0 to 1. For finite size systems the four topological sectors are not degenerate and only one of them (in green) has a true gap closing. (Right) The Abelian $A_\\alpha$ phases of the model and the non-Abelian B phase separated by critical lines where the fermion gap closes. Later we will show that the Chern number $\\nu$ changes from $0$ to $\\pm 1$ from the A phases to the B phase. Indeed the gap _must_ close in order for the Chern number to change\\ [@ezawaTopologicalPhaseTransition2013].\n",
    "</figcaption>\n",
    "</figure>\n"
   ]
  },
  {
   "cell_type": "markdown",
   "id": "d36d32c7-de2b-408a-b3ee-1fc6ca5a8825",
   "metadata": {},
   "source": [
    "### Abelian or non-Abelian of the Gapped Phase\n",
    "The two phases of the amorphous model are clearly gapped, though later I'll double check this with finite size scaling. \n",
    "\n",
    "The next question is: do these phases support excitations with trivial, Abelian or non-Abelian statistics? To answer that we turn to Chern numbers\\ [@berryQuantalPhaseFactors1984; @simonHolonomyQuantumAdiabatic1983; @thoulessQuantizedHallConductance1982]. As discussed earlier the Chern number is a quantity intimately linked to both the topological properties and the anyonic statistics of a model. Here we will make use of the fact that the Abelian/non-Abelian character of a model is linked to its Chern number\\ [@kitaevAnyonsExactlySolved2006]. The Chern number is only defined for the translation invariant case because it relies on integrals defined in k-space. We instead use a family of real space generalisations of the Chern number that work for amorphous systems exist called local topological markers\\ [@bianco_mapping_2011; @Hastings_Almost_2010; @mitchellAmorphousTopologicalInsulators2018], indeed Kitaev defines one in his original paper on the KH model\\ [@kitaevAnyonsExactlySolved2006]. \n",
    "\n",
    "Here we use the crosshair marker of\\ [@peru_preprint] because it works well on smaller systems. We calculate the projector $P = \\sum_i |\\psi_i\\rangle \\langle \\psi_i|$ onto the occupied fermion eigenstates of the system in open boundary conditions. The projector encodes local information about the occupied eigenstates of the system and in gapped systems it is exponentially localised\\ [@hastingsLiebSchultzMattisHigherDimensions2004]. The name _crosshair_ comes from the fact that the marker is defined with respect to a particular point $(x_0, y_0)$ by step functions in x and y"
   ]
  },
  {
   "cell_type": "markdown",
   "id": "99e3facf-dcda-47de-8420-623b7ef2f419",
   "metadata": {},
   "source": [
    "$$\\begin{aligned}\n",
    "    \\nu (x, y) = 4\\pi \\; \\Im\\; \\mathrm{Tr}_{\\mathrm{B}} \n",
    "    \\left ( \n",
    "    \\hat{P}\\;\\hat{\\theta}(x-x_0)\\;\\hat{P}\\;\\hat{\\theta}(y-y_0)\\; \\hat{P}\n",
    "    \\right ),\n",
    "\\end{aligned}$$"
   ]
  },
  {
   "cell_type": "markdown",
   "id": "e0db9344-6806-478c-adfb-8dce7c4e5a31",
   "metadata": {},
   "source": [
    "when the trace is taken over a region $B$ around $(x_0, y_0)$ that is large enough to include local information about the system but does not come too close to the edges. If these conditions are met then then this quantity will be very close to quantised to the Chern number, see @fig:phase_diagram_chern. We'll  use the crosshair marker to assess the Abelian/non-Abelian character of the phases.\n",
    "\n",
    "In the A phase of the amorphous model we find that $\\nu=0$ and hence the excitations have Abelian character, similar to the honeycomb model. This phase is thus the amorphous analogue of the Abelian toric-code quantum spin liquid\\ [@kitaev_fault-tolerant_2003]. The B phase has $\\nu=\\pm1$ so is a non-Abelian _chiral spin liquid_ (CSL) similar to that of the Yao-Kivelson model\\ [@yaoExactChiralSpin2007]. The CSL state is the the magnetic analogue of the fractional quantum Hall state[@laughlinPropertiesChiralspinliquidState1990]. Hereafter we focus our attention on this phase."
   ]
  },
  {
   "cell_type": "markdown",
   "id": "c3ca8b26-7366-407a-a9b2-8397d70cbeac",
   "metadata": {},
   "source": [
    "<figure>\n",
    "<img src=\"../../figure_code/amk_chapter/results/phase_diagram_chern/phase_diagram_chern.svg\" style=\"max-width:700px;\" title=\"Local Chern Markers\">\n",
    "<figcaption>\n",
    "(Center) The crosshair marker\\ [@peru_preprint], a local topological marker, evaluated on the Amorphous Kitaev Model. The marker is defined around a point, denoted by the dotted crosshair. Information about the local topological properties of the system are encoded within a region around that point. (Left) Summing these contributions up to some finite radius (dotted line here, dotted circle in the centre) gives a generalised version of the Chern number for the system which becomes quantised in the thermodynamic limit. The radius must be chosen large enough to capture information about the local properties of the lattice while not so large as to include contributions from the edge states. The isotropic regime $J_\\alpha = 1$ in red has $\\nu = \\pm 1$ implying it supports excitations with non-Abelian statistics, while the anisotropic regime in orange has $\\nu = 0$ implying it has Abelian statistics. (Right) Extending this analysis to the whole $J_\\alpha$ phase diagram with fixed $r = 0.3$ nicely confirms that the isotropic phase is non-Abelian. \n",
    "</figcaption>\n",
    "</figure>"
   ]
  },
  {
   "cell_type": "markdown",
   "id": "dd4b698d-b855-405f-97a7-643a95dd6b6f",
   "metadata": {},
   "source": [
    "### Edge Modes\n",
    "\n",
    "Chiral Spin Liquids support topological protected edge modes on open boundary conditions\\ [@qi_general_2006]. @Fig:edge_modes shows the probability density of one such edge mode. It is near zero energy and exponentially localised to the boundary of the system. While the model is gapped in periodic boundary conditions (i.e on the torus) these edge modes appear in the gap when the boundary is cut.\n",
    "\n",
    "The localization of the edge modes can be quantified by their inverse participation ratio (IPR), $$\\mathrm{IPR} = \\int d^2r|\\psi(\\mathbf{r})|^4  \\propto L^{-\\tau},$$ where $L\\sim\\sqrt{N}$ is the linear dimension of the amorphous lattices and $\\tau$ the dimensional scaling exponent of IPR. This is relevant because localised in-gap states do not participate in transport and hence do not turn band insulators into metals. It is only when the gap fills with extended states that we get a metallic state."
   ]
  },
  {
   "cell_type": "markdown",
   "id": "4599e3e2-6fbb-4d88-8cf7-25c32cf5b1ac",
   "metadata": {},
   "source": [
    "<figure>\n",
    "<img src=\"../../figure_code/amk_chapter/results/edge_modes/edge_modes.svg\" style=\"max-width:700px;\" title=\"Edges States and Density of States\">\n",
    "<figcaption>\n",
    "(a) The density of one of the topologically protected edge states in the B phase. (Below) the log density plotted along the black path showing that the state is exponentially localised. (a)/(b) The density of states of the corresponding lattice in (a) periodic boundary conditions, (b) open boundary conditions. The colour of the bars shows the mean log IPR for each energy window. Cutting the boundary fills the gap with localised states.\n",
    "</figcaption>\n",
    "</figure>"
   ]
  },
  {
   "cell_type": "markdown",
   "id": "0e77f1b6-94ee-4a11-95ed-fc3c729ea8f6",
   "metadata": {},
   "source": [
    "## Anderson Transition to a Thermal Metal\n",
    "\n",
    "Previous work on the honeycomb model at finite temperature has shown that the B phase undergoes a thermal transition from a quantum spin liquid phase a to a __thermal metal__ phase\\ [@selfThermallyInducedMetallic2019]. \n",
    "\n",
    "This happens because at finite temperature, thermal fluctuations lead to spontaneous vortex-pair formation. As discussed previously these fluxes are dressed by Majorana bounds states and the composite object is an Ising-type non-Abelian anyon\\ [@Beenakker2013]. The interactions between these anyons are oscillatory similar to the RKKY exchange and decay exponentially with separation\\ [@Laumann2012; @Lahtinen_2011; @lahtinenTopologicalLiquidNucleation2012]. At sufficient density, the anyons hybridise to a macroscopically degenerate state known as *thermal metal*\\ [@Laumann2012]. At close range the oscillatory behaviour of the interactions can be modelled by a random sign which forms the basis for a random matrix theory description of the thermal metal state."
   ]
  },
  {
   "cell_type": "markdown",
   "id": "e66529a5-d354-432f-9aaf-4bca26839c1f",
   "metadata": {},
   "source": [
    "The amorphous chiral spin liquid undergoes the same form of Anderson transition to a thermal metal state. Markov Chain Monte Carlo would be necessary to simulate this in full detail\\ [@selfThermallyInducedMetallic2019] but in order to avoid that complexity in the current work we instead opted to use vortex density $\\rho$ as a proxy for temperature. We give each plaquette probability $\\rho$ of being a vortex, possibly with one additional adjustment to preserve overall vortex parity. This approximation is exact in the limits $T = 0$ (corresponding to $\\rho = 0$) and $T \\to \\infty$ (corresponding to $\\rho = 0.5$) while at intermediate temperatures there may be vortex-vortex correlations that are not captured by positioning vortices using uncorrelated random variables. \n",
    "\n",
    "First we performed a finite size scaling to that the presence of a gap in the CSL ground state and absence of a gap in the thermal phase are both robust as we go to larger systems, see @fig:fermion_gap_vs_L."
   ]
  },
  {
   "cell_type": "markdown",
   "id": "631b59c7-806c-475d-b118-9809c6960cc5",
   "metadata": {},
   "source": [
    "<figure>\n",
    "<img src=\"../../figure_code/amk_chapter/results/fermion_gap_vs_L/fermion_gap_vs_L.svg\" style=\"max-width:700px;\" title=\"Finite Size Scaing of the Fermion Gap\">\n",
    "<figcaption>\n",
    "Within a flux sector, the fermion gap $\\Delta_f$ measures the energy between the fermionic ground state and the first excited state. This graph shows the fermion gap as a function of system size for the ground state flux sector and for a configuration of random fluxes. We see that the disorder induced by an putting the Kitaev model on an amorphous lattice does not close the gap in the ground state. The gap closes in the flux disordered limit is good evidence that the system transitions to a gapless thermal metal state at high temperature. Each point shows an average over 100 lattice realisations. System size $L$ is defined $\\sqrt{N}$ where N is the number of plaquettes in the system. Error bars shown are $3$ times the standard error of the mean. The lines shown are fits of $\\tfrac{\\Delta_f}{J} = aL ^ b$ with fit parameters: Ground State: $a = 0.138 \\pm 0.002, b = -0.0972 \\pm 0.004$ Random Flux Sector: \n",
    "$a = 1.8 \\pm 0.2, b = -2.21 \\pm 0.03$\n",
    "</figcaption>\n",
    "</figure>"
   ]
  },
  {
   "cell_type": "markdown",
   "id": "88764e32-6ffa-40d9-ab29-572576c083c4",
   "metadata": {},
   "source": [
    "Next we evaluated the fermionic density of states (DOS), Inverse Participation Ratio (IPR) and IPR scaling exponent $\\tau$ as functions of the vortex density $\\rho$, see @fig:DOS_vs_rho. This leads to a nice picture of what happens as we raise the temperature of the system away from the gapped, insulating CSL phase. At small $\\rho$, states begin to populate the gap  but they have $\\tau\\approx0$, indicating that they are localised states pinned to the vortices, and the system remains insulating. At large $\\rho$, the in-gap states merge with the bulk band and become extensive, closing the gap, and the system transitions to the  thermal metal phase."
   ]
  },
  {
   "cell_type": "markdown",
   "id": "a49d648b-ece8-4d34-977e-7df60e484498",
   "metadata": {},
   "source": [
    "\n",
    "<figure>\n",
    "<img src=\"../../figure_code/amk_chapter/results/DOS_vs_rho/DOS_vs_rho.svg\" style=\"max-width:700px;\" title=\"Transition to a Thermal Metal\">\n",
    "<figcaption>\n",
    "(Top) Density of states and (Bottom) scaling exponent $\\tau$ of the amorphous Kitaev model as a vortex density $\\rho$ is increased. The scaling exponent $\\tau$ is the exponent with which the inverse participation ratio scales with system size. It gives a measure of the degree of localisation of the states in each $(E/J, \\rho)$ bin. At zero $\\rho$ we have the gapped ground state. At small $\\rho$, states begin to populate the gap. These states have $\\tau\\approx0$, indicating that they are localised states pinned to fluxes, and the system remains insulating. As $\\rho$ increases further, the in-gap states merge with the bulk band and become extensive, fully closing the gap, and the system transitions to a thermal metal phase.\n",
    "</figcaption>\n",
    "</figure>"
   ]
  },
  {
   "cell_type": "markdown",
   "id": "37cf0e80-44d8-478c-ac77-17e988af136c",
   "metadata": {},
   "source": [
    "The thermal metal phase has a signature logarithmic divergence at zero energy and oscillations in the DOS. These signatures can be shown to occur by a recursive argument that involves mapping the original model onto a Majorana model with interactions that take random signs which can itself be mapped onto a coarser lattice with lower energy excitations and so on. This can be repeating indefinitely, showing the model must have excitations at arbitrarily low energies in the thermodynamic limit\\ [@bocquet_disordered_2000; @selfThermallyInducedMetallic2019].\n",
    " \n",
    "These signatures for our model and for the honeycomb model are shown in @fig:DOS_oscillations. They do not occur in the honeycomb model unless the chiral symmetry is broken by a magnetic field."
   ]
  },
  {
   "cell_type": "markdown",
   "id": "e83f5dac-fdb9-49ab-bfbb-6b7c76bdca45",
   "metadata": {},
   "source": [
    "<figure>\n",
    "<img src=\"../../figure_code/amk_chapter/results/DOS_oscillations/DOS_oscillations.svg\" style=\"max-width:700px;\" title=\"Distinctive Oscillations in the Density of States\">\n",
    "<figcaption>\n",
    "Density of states at high temperature showing the logarithmic divergence at zero energy and oscillations characteristic of the thermal metal state\\ [@bocquet_disordered_2000; @selfThermallyInducedMetallic2019]. (a) shows the honeycomb lattice model in the B phase with magnetic field, while (b) shows that our model transitions to a thermal metal phase without an external magnetic field but rather due to the spontaneous chiral symmetry breaking. In both plots the density of vortices is $\\rho = 0.5$ corresponding to the $T = \\infty$ limit.\n",
    "</figcaption>\n",
    "</figure>"
   ]
  },
  {
   "cell_type": "markdown",
   "id": "35558ddb-4008-44c9-8126-c91b37284a35",
   "metadata": {},
   "source": [
    "# Discussion and Conclusion {#sec:AMK-Conclusion}\n",
    "\n",
    "## Conclusion\n",
    "\n",
    "In this chapter we have looked at an extension of the Kitaev honeycomb model to amorphous lattices with coordination number three. We discussed a method to construct arbitrary trivalent lattices using Voronoi partitions, how to embed them onto the torus and how to edge-colour them using a SAT solver. \n",
    "\n",
    "We showed numerically that the ground state flux sector of the model is given by a simple extension of Lieb's theorem. The model has two gapped quantum spin liquid phases. The two phase support excitations with different anyonic statistics, Abelian and non-Abelian, distinguished using a real-space generalisation of the Chern number\\ [@peru_preprint].\n",
    "\n",
    "\n",
    "The presence of odd-sided plaquettes in the model results in spontaneous breaking of time reversal symmetry, leading to the emergence of a chiral spin liquid phase. \n",
    "\n",
    "Finally we showed evidence that the amorphous system undergoes an Anderson transition to a thermal metal phase, driven by the proliferation of vortices with increasing temperature. \n",
    "\n",
    "__*Discussion and Conclusions ---* We found that it is able to support two quantum spin liquid phases that can be distinguished using a real-space generalisation of the Chern number. The presence of odd-sided plaquettes results in a spontaneous breaking of TRS, and the emergence of a chiral spin liquid phase. Furthermore we found evidence that the amorphous system undergoes an Anderson transition to a thermal metal phase, driven by the proliferation of vortices with increasing temperature. Our exactly soluble chiral QSL provides a first example of a topologically quantum many-body phase in amorphous magnets, which raises a number of questions for future research.\n",
    "\n",
    "__First, a numerically challenging task would be a study of the full finite temperature phase diagram via Monte-Carlo sampling and possible violations of the Harris criterion for the Ising transition stemming from the inherent lattice disorder [@barghathi2014phase; @schrauth2018two; @schrauth2018violation]. Second, it would be worthwhile to search for experimental realisation of amorphous Kitaev materials, which can possibly be created from crystalline ones using standards method of repeated liquifying and fast cooling cycles [@Weaire1976; @Petrakovski1981; @Kaneyoshi2018]. The putative QSL behavior of the intercalated Kitaev compound H$_3$LiIr$_2$O$_6$ [@kitagawa2018spin; @knolle2019bond] could possibly be related to amorphous lattice disorder. Moreover, metal organic frameworks are promising platforms forming amorphous lattices [@bennett2014amorphous] with recent proposals for realizing strong Kitaev interactions [@yamada2017designing] as well as reports of QSL behavior [@misumi2020quantum]. We expect that an experimental signature of a chiral amorphous QSL is a half-quantized thermal Hall effect similar to magnetic field induced behavior of honeycomb Kitaev materials [@Kasahara2018; @Yokoi2021; @Yamashita2020; @Bruin2022]. Alternatively, it could be characterized by local probes such as spin-polarized STM [@Feldmeier2020; @Konig2020; @Udagawa2021] and the thermal metal phase displays characteristic longitudinal heat transport signatures [@Beenakker2013]. Third, it would be interesting to study the stability of the chiral amorphous Kitaev QSL with respect to perturbations [@Rau2014; @Chaloupka2010; @Chaloupka2013; @Chaloupka2015; @Winter2016] and, importantly, to investigate whether QSL may exist for spin-isotropic Heisenberg models on amorphous lattices.\n",
    "\n",
    "__Overall, there has been surprisingly little research on amorphous quantum many body phases albeit material candidates aplenty. We expect our exact chiral amorphous spin liquid to find many generalisation to realistic amorphous quantum magnets and beyond."
   ]
  },
  {
   "cell_type": "markdown",
   "id": "c04e912b-f99b-4842-bde3-77e3e2c3aaf9",
   "metadata": {
    "tags": []
   },
   "source": [
    "## Discussion {#amk-discussion}\n",
    "\n",
    "__Limits of the ground state conjecture__\n",
    "\n",
    "We found a small number of lattices for which the ground state conjecture did not correctly predict the true ground state flux sector. I see two possibilities for what could cause this. Firstly it could be a a finite size effect that is amplified by certain rare lattice configurations. It would be interesting to try to elucidate what lattice features are present when the ground state conjecture fails. Alternatively, it might be telling that the ground state conjecture failed in the toric code A phase where the couplings are anisotropic. We showed that the colouring does not matter in the B phase. However an avenue that I did not explore was whether the particular choice of colouring for a lattice affects the physical properties in the toric code A phase. It is possible that some property of the particular colouring chosen is what leads to failure of the ground state conjecture here.\n",
    "\n",
    "\n",
    "## Outlook {#amk-outlook}\n",
    "\n",
    "This exactly solvable chiral QSL provides a first example of a topological quantum many-body phase in amorphous magnets, which raises a number of questions for future research.\n",
    "\n",
    "\n",
    "\"\"First, a numerically challenging task would be a study of the full finite temperature phase diagram via Monte-Carlo sampling and possible violations of the Harris criterion for the Ising transition stemming from the inherent lattice disorder [@barghathi2014phase; @schrauth2018two; @schrauth2018violation]. Second, it would be worthwhile to search for experimental realisation of amorphous Kitaev materials, which can possibly be created from crystalline ones using standards method of repeated liquifying and fast cooling cycles [@Weaire1976; @Petrakovski1981; @Kaneyoshi2018]. The putative QSL behavior of the intercalated Kitaev compound H$_3$LiIr$_2$O$_6$ [@kitagawa2018spin; @knolle2019bond] could possibly be related to amorphous lattice disorder. Moreover, metal organic frameworks are promising platforms forming amorphous lattices [@bennett2014amorphous] with recent proposals for realizing strong Kitaev interactions [@yamada2017designing] as well as reports of QSL behavior [@misumi2020quantum]. We expect that an experimental signature of a chiral amorphous QSL is a half-quantized thermal Hall effect similar to magnetic field induced behavior of honeycomb Kitaev materials [@Kasahara2018; @Yokoi2021; @Yamashita2020; @Bruin2022]. Alternatively, it could be characterized by local probes such as spin-polarized STM [@Feldmeier2020; @Konig2020; @Udagawa2021] and the thermal metal phase displays characteristic longitudinal heat transport signatures [@Beenakker2013]. Third, it would be interesting to study the stability of the chiral amorphous Kitaev QSL with respect to perturbations [@Rau2014; @Chaloupka2010; @Chaloupka2013; @Chaloupka2015; @Winter2016] and, importantly, to investigate whether QSL may exist for spin-isotropic Heisenberg models on amorphous lattices.\"\"\n",
    "\n",
    "__Experimental Realisations and Signatures__\n",
    "\n",
    "The obvious question is whether amorphous Kitaev materials could be physically realised.\n",
    "\n",
    "Most crystals can as exists in a metastable amorphous state if they are cooled rapidly, freezing them into a disordered configuration\\ [@Weaire1976; @Petrakovski1981; @Kaneyoshi2018]. Indeed quenching has been used by humans to control the hardness of steel or iron for thousands of years. It would therefore be interesting to study amorphous version of candidate Kitaev materials\\ [@TrebstPhysRep2022] such as $\\alpha-\\textrm{RuCl}_3$ to see whether they maintain even approximate fixed coordination number locally as is the case with amorphous Silicon and Germanium\\ [@Weaire1971; @betteridge1973possible].\n",
    "\n",
    "Looking instead at more engineered realisation, metal organic frameworks have been shown to be capable of forming amorphous lattices\\ [@bennett2014amorphous] and there are recent proposals for realizing strong Kitaev interactions\\ [@yamadaDesigningKitaevSpin2017] as well as reports of QSL behavior\\ [@misumiQuantumSpinLiquid2020].\n",
    "\n",
    "half-integer thermal quantum Hall effect\\ [@kasaharaMajoranaQuantizationHalfinteger2018; @yokoiHalfintegerQuantizedAnomalous2021]\n",
    "\n",
    "\n",
    "__Generalisations__\n",
    "\n",
    "The model presented here could be generalized in several ways. \n",
    "\n",
    "First, it would be interesting to study the stability of the chiral amorphous Kitaev QSL with respect to perturbations\\\\ [@Rau2014; @Chaloupka2010; @Chaloupka2013; @Chaloupka2015; @Winter2016].\n",
    "\n",
    "Second, one could investigate whether a QSL phase may exist for for other models defined on amorphous lattices. For example, in real materials, there will generally be an additional small Heisenberg term\n",
    "$$H_{KH} =  - \\sum_{\\langle j,k\\rangle_\\alpha} J^{\\alpha}\\sigma_j^{\\alpha}\\sigma_k^{\\alpha} + \\sigma_j\\sigma_k$$ \n",
    "With a view to more realistic prospects of observation, it would be interesting to see if the properties of the Kitaev-Heisenberg model generalise from the honeycomb to the amorphous case\\ [@Chaloupka2010; @Chaloupka2015; @Jackeli2009; @Kalmeyer1989; @manousakisSpinTextonehalfHeisenberg1991;].\n",
    "\n",
    "Finally it might be possible to look at generalizations to higher-spin models or those on random networks with different coordination numbers\\ [@Baskaran2008; @Yao2009; @Nussinov2009; @Yao2011; @Chua2011; @Natori2020; @Chulliparambil2020; @Chulliparambil2021; @Seifert2020; @WangHaoranPRB2021; @Wu2009]\n",
    "\n",
    "Overall, there has been surprisingly little research on amorphous quantum many body phases albeit material candidates aplenty. We expect our exact chiral amorphous spin liquid to find many generalisation to realistic amorphous quantum magnets and beyond."
   ]
  },
  {
   "cell_type": "markdown",
   "id": "7362ecff-99a9-49c8-88b0-7a6e1cbf67f1",
   "metadata": {},
   "source": [
    "Vortex creation and control with local perturbations:\\ [@jangVortexCreationControl2021]\n",
    "\n",
    "\n",
    "Could look at how local disorder effects the dynamics of vortices in perturbed models\\ [@joyDynamicsVisonsThermal2022]\n",
    "\n",
    "The Kitaev model is one of spin-$\\tfrac{1}{2}$ particles with a Hilbert space of dimension $2l + 1 = 2$ which we represent with three $2x2$ Pauli matrices. This can be generalised to an exactly solvable spin-$\\tfrac{3}{2}$ model on four-coordinate lattices\\ [@yaoAlgebraicSpinLiquid2009; @wenQuantumOrderStringnet2003]. In\\ [@yaoAlgebraicSpinLiquid2009] the two dimensional square lattice with 4 bond types ($J_x, J_{x'},J_y, J_{y'}$) is considered. Since Voronoi partitions in three dimensions produce lattices of degree four, one interesting generalisation of this work would be to look at the spin-$\\tfrac{3}{2}$ Kitaev model on amorphous lattices.\n",
    "\n",
    "Can also do an exactly solvable spin-$3/2$ model on the quad-coordinate diamond lattice in three dimensions[@ryuThreedimensionalTopologicalPhase2009]"
   ]
  },
  {
   "cell_type": "markdown",
   "id": "334f4cee-5307-4262-999d-e3f89ee0244d",
   "metadata": {},
   "source": [
    "Optical lattice proposals\\ [@duanControllingSpinExchange2003; @micheliToolboxLatticespinModels2006]\n",
    "\n",
    "Could do full montecarlo .\n",
    "\n",
    "Could look more closely at the topological effects during the phase transition.\n",
    "\n",
    "Could use other lattice construction techniques. For instance we could construct lattices by linked close points\\ [@agarwala2019topological] or create simplices from random sites\\ [@christRandomLatticeField1982] with the additional constraint that no sites has degree greater than three. These lattices would like have a large number of lattice defects $z < 3$ in the bulk, leading to persistent zero modes. This might lead to an even more disordered system than that presented here.\n",
    "\n",
    "From Trebst:\n",
    "\"Despite this similarity, the search for Kitaev materials and a solid-state realization of the Kitaev model is probably less driven by a potential application in quantum computing technologies, but deeply inspired by the fundamental pursuit of (i) the synthesis of spin liquid materials, (ii) the experimental discovery of Majorana fermions, and (iii) a direct experimental probe of the underlying (Z2) gauge physics — such experimental evidence for gauge physics in a condensed-matter context has long been lacking, despite theorists using the concept of Z2 gauge theories in the classical statistical mechanics of nematics [62] and to capture the physics of fractionalization in quantum many-body systems [63–65] for decades.\"\n",
    "\n",
    "\"The physics of H3LiIr2O6 may thus be closer to that of a bond-disordered Kitaev model, as opposed to the idealized, clean case considered by Kitaev. Indeed, a theoretical study of such a bond-disordered model seems to capture much of the relevant physics [249,250]. Decisively disentangling the role of disorder and true spin liquid physics remains a challenge.\"\n",
    "\n",
    "Amorphous QSL systems could pose experimentatl problems as it removes \"lack of long range order\" as one of the signatures of QSLs. Three dimensional realisations could get around this as they would be expected to have a true FTPT to the thermal metal state that might be more detectable experimentally.\n",
    "\n",
    "Full classification of three dimensional Kitaev models\\ [@eschmannThermodynamicClassificationThreedimensional2020; @OBrienPRB2016]\n",
    "\n",
    "QSLs in general are hard to prove experimentally, they have not decisive signatures. \n",
    "\n",
    "\"The potential for three-dimensional generalizations of the Kitaev model4 has first been explored by Mandal and Surendran [274] by considering a site-depleted cubic lattice, a tricoordinated lattice structure which turns out to be isomorphic to the hyper-honeycomb lattice later identified in the context of the iridium sublattice in β-Li2IrO3.\"\n",
    "\n",
    "\"Three-dimensional Kitaev models distinguish themselves from their two-dimensional counterparts not only with regard to the variety of possible Majorana metals, but also with regard to the physics of their underlying Z2 gauge theory. One striking difference between two and three spatial dimensions arises when considering the effect of thermal fluctuations on the order of the Z2 gauge field. In two spatial dimensions such thermal fluctuations immediately melt the zero-temperature order of the Z2 gauge field, while for three spatial dimensions it takes a critical strength of the thermal fluctuations to destroy the Z2 order, i.e. there is a finite-temperature transition separating a low-temperature Z2 ordered state from a high-temperature disordered state. The origin for the absence/occurrence of such a finite-temperature transition in two/three spatial dimensions can readily be understood when considering the nature of defects in the lowtemperature Z2 gauge order. In two spatial dimensions, e.g. for the honeycomb lattice, the elementary excitations are point-like vison excitations (associated with the plaquettes of the honeycomb lattice) that can freely move through the lattice (at no additional energy cost) and thereby thread a flux line through the system which destroys the long-range order of the Z2 gauge field. For three spatial dimensions, the elementary vison excitations form closed flux loops, which leads to a competition between their excitation energy and configurational entropy. As a consequence, it takes a finite temperature to drive the system out of a regime of short flux loops into a regime of extended flux lines, which is connected to the paramagnetic high-temperature regime. In the context of the Kitaev model, this Z2 gauge physics has been nicely demonstrated [276,288–292] via numerically exact quantum Monte Carlo simulations [288] (in the sign-problem free Majorana basis) of the Kitaev model for the entire family of three-dimensional tricoordinated lattices mentioned above. These finite-temperature simulations in fact reveal not only the Z2 gauge transition at a temperature scale of about\"\n",
    "\n",
    "__In 3d there is a FTPT to the thermal metal phase__\n",
    "\n",
    "__3d lattice version of Yao Kivelson CSL__\n",
    "\"Lattice (9,3)a stands out as the only three-dimensional lattice with an odd number of sites in its elementary loop. As a result, the elementary plaquette flux must be ±π /2 for the Majorana fermions (which by the virtue of their complex hopping amplitude pick up a phase of ±π /2 per bond when traversing an elementary loop). This in turn implies a spontaneous breaking of time-reversal symmetry in the ground state – akin to the physics of the Yao–Kivelson model on the decorated honeycomb model [265] – with the effect that a three-dimensional chiral spin liquid forms as ground state [292].\""
   ]
  }
 ],
 "metadata": {
  "kernelspec": {
   "display_name": "Python [conda env:adalm1000]",
   "language": "python",
   "name": "conda-env-adalm1000-py"
  },
  "language_info": {
   "codemirror_mode": {
    "name": "ipython",
    "version": 3
   },
   "file_extension": ".py",
   "mimetype": "text/x-python",
   "name": "python",
   "nbconvert_exporter": "python",
   "pygments_lexer": "ipython3",
   "version": "3.10.5"
  },
  "vscode": {
   "interpreter": {
    "hash": "aee8b7b246df8f9039afb4144a1f6fd8d2ca17a180786b69acc140d282b71a49"
   }
  }
 },
 "nbformat": 4,
 "nbformat_minor": 5
}
