{
 "cells": [
  {
   "cell_type": "raw",
   "id": "e7474ccf-2453-4979-a45d-22ec94268402",
   "metadata": {},
   "source": [
    "---\n",
    "title: The Amorphous Kitaev Model - Introduction\n",
    "description: A short introduction to the weird and wonderful world of exactly solvable quantum models.\n",
    "image:\n",
    "layout: thesis\n",
    "---"
   ]
  },
  {
   "cell_type": "code",
   "execution_count": 1,
   "id": "5f81ad80-48f8-4e76-b9c6-c31972089e3d",
   "metadata": {
    "tags": [
     "remove_cell"
    ]
   },
   "outputs": [
    {
     "data": {
      "text/html": [
       "<style>\n",
       "figure {\n",
       "    display: flex;\n",
       "    flex-direction: column;\n",
       "    align-items: center;\n",
       "}\n",
       "figure img {\n",
       "    max-width: 900px;\n",
       "    width: 80%;\n",
       "    margin-bottom: 2em;\n",
       "}\n",
       "figcaption {\n",
       "    aria-hidden: true;\n",
       "    max-width: 700px;\n",
       "}\n",
       "</style>\n"
      ],
      "text/plain": [
       "<IPython.core.display.HTML object>"
      ]
     },
     "metadata": {},
     "output_type": "display_data"
    }
   ],
   "source": [
    "%%html\n",
    "<style>\n",
    "figure {\n",
    "    display: flex;\n",
    "    flex-direction: column;\n",
    "    align-items: center;\n",
    "}\n",
    "figure img {\n",
    "    max-width: 900px;\n",
    "    width: 80%;\n",
    "    margin-bottom: 2em;\n",
    "}\n",
    "figcaption {\n",
    "    aria-hidden: true;\n",
    "    max-width: 700px;\n",
    "}\n",
    "</style>"
   ]
  },
  {
   "cell_type": "markdown",
   "id": "fcf97924-92ca-4273-bfcf-6a01eec6a96e",
   "metadata": {},
   "source": [
    "__Contributions__\n",
    "\n",
    "The material in this chapter expands on work presented in \n",
    "\n",
    "\\ [@cassellaExactChiralAmorphous2022] Cassella, G., D'Ornellas, P., Hodson, T., Natori, W. M., & Knolle, J. (2022). An exact chiral amorphous spin liquid. _arXiv preprint arXiv:2208.08246._\n",
    "\n",
    "the code is available at\\ [@hodsonKoalaKitaevAmorphous2022].\n",
    "\n",
    "This was a joint project of Gino, Peru and myself with advice and guidance from Willian and Johannes. The project grew out of an interest the three of us had in studying amorphous systems, coupled with Johannes' expertise on the Kitaev model. The idea to use voronoi partitions came from\\ [@marsalTopologicalWeaireThorpe2020] and Gino did the implementation of this. The idea and implementation of the edge colouring using SAT solvers, the mapping from flux sector to bond sector using A* search were both entirely my work. Peru found the ground state and implemented the local markers. Gino and I did much of the rest of the programming for Koala while pair programming and 'whiteboard'ing, this included the phase diagram, edge mode and finite temperature analyses as well as the derivation of the projector in the amorphous case."
   ]
  },
  {
   "cell_type": "markdown",
   "id": "258e25d0-84b4-48d4-a3cf-92c7b524a286",
   "metadata": {
    "tags": []
   },
   "source": [
    "# The Model {#amk-Model}"
   ]
  },
  {
   "cell_type": "markdown",
   "id": "e0dd7801-b742-4bed-8300-c9d860fa5ada",
   "metadata": {},
   "source": [
    "<figure>\n",
    "<img src=\"../../figure_code/amk_chapter/intro/honeycomb_zoom/intro_figure_by_hand.svg\" style = \"max-width:700px;\" title=\"The Kitaev Honeycomb Model\">\n",
    "<figcaption>\n",
    "**(a)** The standard Kitaev model is defined on a honeycomb lattice. The special feature of the honeycomb lattice that makes the model solvable is that each vertex is joined by exactly three bonds, i.e. the lattice is trivalent. One of three labels is assigned to each **(b)**. We represent the antisymmetric gauge degree of freedom $u_{jk} = \\pm 1$ with arrows that point in the direction $u_{jk} = +1$ **(c)**. The Majorana transformation can be visualised as breaking each spin into four Majoranas which then pair along the bonds. The pairs of x,y and z Majoranas become part of the classical $\\mathbb{Z}_2$ gauge field $u_{ij}$. This leavies a single Majorana $c_i$ per site.\n",
    "</figcaption>\n",
    "</figure>"
   ]
  },
  {
   "cell_type": "markdown",
   "id": "c2654df3-9d5c-4f12-a64a-f7f4a032827e",
   "metadata": {},
   "source": [
    "<figure>\n",
    "<img src=\"../../figure_code/amk_chapter/intro/regular_plaquettes/regular_plaquettes.svg\" style=\"max-width:600px\" title=\"Plaquettes in the Kitaev Model\">\n",
    "<figcaption>\n",
    "    The eigenvalues of a loop or plaquette operators depend on the number of bonds in its enclosing path. \n",
    "</figcaption>\n",
    "</figure>"
   ]
  },
  {
   "cell_type": "markdown",
   "id": "17a32824-4ff4-4fab-9e8c-56cb4b1503c3",
   "metadata": {},
   "source": [
    "## Amorphous Systems\n",
    "__Insert discussion of why a generalisation to the amorphous case is interesting__"
   ]
  },
  {
   "cell_type": "markdown",
   "id": "f6e6dc2c-647c-4164-8433-e678a85d93a0",
   "metadata": {
    "jp-MarkdownHeadingCollapsed": true,
    "tags": []
   },
   "source": [
    "This chapter details the physics of the Kitaev model on amorphous lattices. \n",
    "\n",
    "It starts by expanding on the physics of the Kitaev model. It will look at the gauge symmetries of the model as well as its solution via a transformation to a Majorana hamiltonian. This discussion shows that, for the the model to be solvable, it needs only be defined on a trivalent, tri-edge-colourable lattice\\ [@Nussinov2009]. \n",
    "\n",
    "The methods section discusses how to generate such lattices and colour them. It also explain how to map back and forth between configurations of the gauge field and configurations of the gauge invariant quantities.\n",
    "\n",
    "The results section begins by looking at the zero temperature physics. It presents numerical evidence that the ground state of the Kitaev model is given by a simple rule depending only on the number of sides of each plaquette. It assesses the gapless, Abelian and non-Abelian, phases that are present, characterising them by the presence of a gap and using local Chern markers. Next it looks at spontaneous chiral symmetry breaking and topological edge states. It also compares the zero temperature phase diagram to that of the Kitaev Honeycomb Model. Finally, we introduce flux disorder and demonstrate that there is a phase transition to a thermal metal state.\n",
    "\n",
    "The discussion considers possible physical realisations of this model and the motivations for doing so. It also discusses how a well known quantum error correcting code defined on the Kitaev Honeycomb model could be generalised to the amorphous case."
   ]
  },
  {
   "cell_type": "markdown",
   "id": "f5460031-6f22-457e-811f-5819a304bb8c",
   "metadata": {},
   "source": [
    "Lieb's theorem is only valid for bipartite, translation invariant lattices like the honeycomb. Luckily, extensive numerical simulations have shown that the ground state flux sector is generally given by simple functions of the side length of the plaquettes. cite cite cite"
   ]
  },
  {
   "cell_type": "markdown",
   "id": "a5c90bec-aa11-40c0-8848-902bd818bc10",
   "metadata": {},
   "source": [
    "### Open boundary conditions\n",
    "\n",
    "Care must be taken when defining open boundary conditions. Simply removing bonds from the lattice leaves behind unpaired $b^\\alpha$ operators that must be paired in some way to arrive at fermionic modes. To fix a pairing, we always start from a lattice defined on the torus and generate a lattice with open boundary conditions by defining the bond coupling $J^{\\alpha}_{ij} = 0$ for sites joined by bonds $(i,j)$ that we want to remove. This creates fermionic zero modes $u_{ij}$ associated with these cut bonds which we set to 1 when calculating the projector. \n",
    "\n",
    "Alternatively, since all the fermionic zero modes are degenerate anyway, an arbitrary pairing of the unpaired $b^\\alpha$ operators could be performed."
   ]
  },
  {
   "cell_type": "markdown",
   "id": "e5560c92-10ab-4bbf-8723-b9407dbdf98f",
   "metadata": {},
   "source": [
    "<figure>\n",
    "<img src=\"../../figure_code/amk_chapter/loops_and_dual_loops/loops_and_dual_loops.svg\" style=\"max-width:700px;\" title=\"Topological Loops and Dual Loops\">\n",
    "<figcaption>\n",
    "(Left) The two topological flux operators of the toroidal lattice. These do not correspond to any face of the lattice, but rather measure flux that threads through the major and minor axes of the torus. This shows a particular choice. Yet, any loop that crosses the boundary is gauge equivalent to one of or the sum of these two loop. (Right) The two ways to transport vortices around the diameters. These amount to creating a vortex pair, transporting one of them around the major or minor diameters of the torus and, then, annihilating them again. \n",
    "</figcaption>\n",
    "</figure>"
   ]
  },
  {
   "cell_type": "code",
   "execution_count": null,
   "id": "329b5380-aa20-46a3-98cf-7beda48239eb",
   "metadata": {},
   "outputs": [],
   "source": []
  }
 ],
 "metadata": {
  "kernelspec": {
   "display_name": "Python [conda env:adalm1000]",
   "language": "python",
   "name": "conda-env-adalm1000-py"
  },
  "language_info": {
   "codemirror_mode": {
    "name": "ipython",
    "version": 3
   },
   "file_extension": ".py",
   "mimetype": "text/x-python",
   "name": "python",
   "nbconvert_exporter": "python",
   "pygments_lexer": "ipython3",
   "version": "3.10.5"
  }
 },
 "nbformat": 4,
 "nbformat_minor": 5
}
