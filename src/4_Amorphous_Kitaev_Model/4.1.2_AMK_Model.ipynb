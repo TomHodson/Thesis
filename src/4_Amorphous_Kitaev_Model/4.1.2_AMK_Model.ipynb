{
 "cells": [
  {
   "cell_type": "raw",
   "id": "e7474ccf-2453-4979-a45d-22ec94268402",
   "metadata": {},
   "source": [
    "---\n",
    "title: The Amorphous Kitaev Model - Introduction part 2\n",
    "description: A short introduction to the weird and wonderful world of exactly solvable quantum models.\n",
    "image:\n",
    "layout: thesis\n",
    "---"
   ]
  },
  {
   "cell_type": "code",
   "execution_count": 1,
   "id": "5f81ad80-48f8-4e76-b9c6-c31972089e3d",
   "metadata": {
    "tags": [
     "remove_cell"
    ]
   },
   "outputs": [
    {
     "data": {
      "text/html": [
       "<style>\n",
       "figure {\n",
       "    display: flex;\n",
       "    flex-direction: column;\n",
       "    align-items: center;\n",
       "}\n",
       "figure img {\n",
       "    max-width: 900px;\n",
       "    width: 80%;\n",
       "    margin-bottom: 2em;\n",
       "}\n",
       "figcaption {\n",
       "    aria-hidden: true;\n",
       "    max-width: 700px;\n",
       "}\n",
       "</style>\n"
      ],
      "text/plain": [
       "<IPython.core.display.HTML object>"
      ]
     },
     "metadata": {},
     "output_type": "display_data"
    }
   ],
   "source": [
    "%%html\n",
    "<style>\n",
    "figure {\n",
    "    display: flex;\n",
    "    flex-direction: column;\n",
    "    align-items: center;\n",
    "}\n",
    "figure img {\n",
    "    max-width: 900px;\n",
    "    width: 80%;\n",
    "    margin-bottom: 2em;\n",
    "}\n",
    "figcaption {\n",
    "    aria-hidden: true;\n",
    "    max-width: 700px;\n",
    "}\n",
    "</style>"
   ]
  },
  {
   "cell_type": "markdown",
   "id": "ffa0bd7f-2658-42df-96cb-47e46efd7301",
   "metadata": {},
   "source": [
    "## Gauge Fields"
   ]
  },
  {
   "cell_type": "markdown",
   "id": "50e29047-c452-4cdf-a425-b9a68f3c5465",
   "metadata": {},
   "source": [
    "The bond operators $u_{ij}$ are useful because they label a bond sector $\\mathcal{\\tilde{L}}_u$ in which we can easy solve the Hamiltonian. However, the gauge operators move us between bond sectors. __Bond sectors are not gauge invariant!__\n",
    "\n",
    "Let us consider instead the properties of the plaquette operators $\\hat{\\phi}_i$ that live on the faces of the lattice. \n",
    "\n",
    "We already showed that they are conserved. As one might hope and expect, the plaquette operators also map cleanly onto the bond operators of the Majorana representation:\n",
    "\n",
    "$$\\begin{aligned}\n",
    "\\tilde{W}_p &= \\prod_{\\mathrm{i,j}\\; \\in\\; p} \\tilde{K}_{ij}\\\\\n",
    "            &= \\prod_{\\mathrm{i,j}\\; \\in\\; p} \\tilde{\\sigma}_i^\\alpha \\tilde{\\sigma}_j^\\alpha\\\\\n",
    "            &= \\prod_{\\mathrm{i,j}\\; \\in\\; p} (ib^\\alpha_i c_i)(ib^\\alpha_j c_j)\\\\\n",
    "            &= \\prod_{\\mathrm{i,j}\\; \\in\\; p} i u_{ij} c_i c_j\\\\\n",
    "            &= \\prod_{\\mathrm{i,j}\\; \\in\\; p} i u_{ij}\n",
    "\\end{aligned}$$\n",
    "\n",
    "Where the last steps hold because each $c_i$ appears exactly twice and is adjacent to its neighbour in each plaquette operator. This is consistent with the earlier observation that each $W_p$ takes values $\\pm 1$ for even paths and $\\pm i$ for odd paths."
   ]
  },
  {
   "cell_type": "markdown",
   "id": "e2d2947a-a709-4777-b8c1-4deae29909d8",
   "metadata": {},
   "source": [
    "### Vortices and their movements\n",
    "\n",
    "<figure>\n",
    "<img src=\"../../figure_code/amk_chapter/intro/types_of_dual_loops_animated/types_of_dual_loops_animated.gif\" style=\"max-width:700px;\" title=\"Dual Loops and Vortex Pairs\">\n",
    "<figcaption>\n",
    "   __Dual Loops and Vortex Pairs__ The different kinds of strings and loops that we can make by flipping bond variables or transporting vortices around. (a) Flipping a single bond makes a pair of vortices on either side. (b) Flipping a string of bonds separates the vortex pair spatially. The flipped bonds form a path (in red) on the dual lattice. (c) If we create a vortex-vortex pair, transport one of them around a loop and then annihilate them, we can change the bond sector without changing the vortex sector. This is a manifestation of the gauge symmetry of the bond sector. (d) If we transport a vortex around the major or minor axes of the torus, we create a non-contractable loop of bonds $\\hat{\\mathcal{T}}_{x/y}$. Unlike all the other dual loops, These operators cannot be constructed from the contractable loops created by $D_j$. operators and they flip the value of the topological fluxes.\n",
    "    \n",
    "This all works the same way for the amorphous lattice but the diagram is a lot messier so I've stuck with the honeycomb here. \n",
    "</figcaption>\n",
    "</figure>"
   ]
  },
  {
   "cell_type": "markdown",
   "id": "ca3d0426-7fc8-485b-af50-bb87ea99f7bd",
   "metadata": {},
   "source": [
    "See +@fig:types_of_dual_loops_animated for a diagram of the next three paragraphs.\n",
    "\n",
    "We started from the ground state of the model and flipped the sign of a single bond (+@fig:types_of_dual_loops_animated (a)). In doing so, we will flip the sign of the two plaquettes adjacent to that bond. We will call these disturbed plaquettes _vortices_. We will refer to a particular choice values for the plaquette operators as a _vortex sector_.\n",
    "\n",
    "If we chain multiple bond flips, we can create a pair of vortices at arbitrary locations (+@fig:types_of_dual_loops_animated (b)). The chain of bonds that we must flip corresponds to a path on the dual of the lattice. \n",
    "\n",
    "We can also create a pair of vortices, move one around a loop and finally annihilate it with its partner (+@fig:types_of_dual_loops_animated (c)). This corresponds to a closed loop on the dual lattice. Applying such a bond flip leaves the vortex sector unchanged. We can also do the same thing but move the vortex around one the non-contractible loops of the lattice (+@fig:types_of_dual_loops_animated (d))."
   ]
  },
  {
   "cell_type": "markdown",
   "id": "6cba7307-bde6-4ce6-820d-b03877361c29",
   "metadata": {},
   "source": [
    "### Dual Loops and gauge symmetries\n",
    "<figure>\n",
    "<img src=\"../../figure_code/amk_chapter/intro/gauge_symmetries/gauge_symmetries.svg\" style=\"max-width:700px;\" title=\"Gauge Symmetries\">\n",
    "<figcaption>\n",
    "   __Dual Loops and Gauge Symmetries__ A honeycomb lattice with edges in light grey, along with its dual, the triangle lattice in light blue. The vertices of the dual lattice are the faces of the original lattice and, hence, are the locations of the vortices. (Left) The action of the gauge operator $D_j$ at a vertex is to flip the value of the three $u_{jk}$ variables (black lines) surrounding site $j$. The corresponding edges of the dual lattice (red lines) form a closed triangle. (Middle) Composing multiple adjacent $D_j$ operators produces a large closed dual loop or multiple disconnected dual loops. Dual loops are not directed like Wilson loops. (Right) A non-contractable loop which cannot be produced by composing $D_j$ operators. All three operators can be thought of as the action of a vortex-vortex pair that is created, one of them is transported around the loop, and then the two annihilate again. Note that every plaquette has an even number of $u_{ij}$s flipped on its edge. Therefore,  all retain the same value.\n",
    "</figcaption>\n",
    "</figure>\n",
    "\n",
    "See +@fig:gauge_symmetries for a diagram of the next few paragraphs.\n",
    "\n",
    "Notice that the $D_j$ operators flip three bonds around a vertex. This is the smallest dual loop around which one can move a vortex pair and then annihilate it with itself. \n",
    "\n",
    "Such operations compose, so we can build any larger loop (almost) by applying a series of $D_j$ operations. The symmetrisation procedure $\\prod_i \\left( \\frac{1 + D_i}{2}\\right)$ that maps from the bond sector to a physical state is really constructing a superposition over every such dual loops that leaves the vortex sector unchanged.\n",
    "\n",
    "There is one kind of dual loop that we cannot build out of $D_j$s, the non-contractible loops.\n",
    "\n",
    "__The plaquette operators and topological fluxes are the gauge invariant quantities which determine the physics of the model__"
   ]
  },
  {
   "cell_type": "markdown",
   "id": "5eb60a28-e742-4f98-bd47-2eb1ec1aa961",
   "metadata": {},
   "source": [
    "### Composition of Wilson loops \n",
    "<figure style>\n",
    "<img src=\"../../figure_code/amk_chapter/plaquette_addition/plaquette_addition_by_hand.svg\" style=\"max-width:400px;\" title=\"Wilson Loop Composition\">\n",
    "<figcaption>\n",
    "In the product of individual plaquette operators, shared bonds cancel out. The product is equal to the enclosing path.\n",
    "</figcaption>\n",
    "</figure>\n",
    "\n",
    "Second, one can now easily show that the loops and plaquettes satisfy nice composition rules, so long as we keep to loops that wind in a particular direction. \n",
    "\n",
    "Consider the product of two non-overlapping loops $W_a$ and $W_b$ that share an edge $u_{12}$. Since the two loops both wind clockwise and do not overlap, one will contain a term $i u_{12}$ and the other $i u_{21}$. Since the $u_{ij}$ commute with one another, they square to $1$ and $u_{ij} = -u_{ji}$, we have $i u_{12} i u_{21} = 1$. We can repeat this for any number of shared edges. Hence, we get a version of Stokes' theorem: the product of $i u_{jk}$ around any closed loop $\\partial A$ is equal to the product of plaquette operators $\\Phi$ that span the area $A$ enclosed by that loop:\n",
    "$$\\prod_{u_{jk} \\in \\partial A} i \\; u_{jk} = \\prod_{\\phi_i \\in A} \\phi_i$$\n",
    "\n",
    "<figure>\n",
    "<img src=\"../../figure_code/amk_chapter/stokes_theorem/stokes_theorem.svg\" style=\"max-width:500px;\" title=\"An analogue of Stokes' Theorem\">\n",
    "<figcaption>\n",
    "The loop composition rule extends to arbitrary numbers of vortices which gives a discrete version of Stoke's theorem.\n",
    "</figcaption>\n",
    "</figure>\n",
    "\n",
    "Takeaway: Wilson loops can always be decomposed into products of plaquettes operators unless they are non-contractable."
   ]
  },
  {
   "cell_type": "markdown",
   "id": "b87340eb-e9bc-485d-a0db-5815fa6155f1",
   "metadata": {},
   "source": [
    "### Gauge Degeneracy and the Euler Equation\n",
    "<figure>\n",
    "<img src=\"../../figure_code/amk_chapter/intro/state_decomposition_animated/state_decomposition_animated.gif\" style=\"max-width:700px;\" title=\"State Decomposition\">\n",
    "<figcaption>\n",
    "(Bond Sector) A state in the bond sector is specified by assigning $\\pm 1$ to each edge of the lattice. However, this description has a substantial gauge degeneracy. We can simplify things by decomposing each state into the product of three kinds of objects: (Vortex Sector) Only a small number of bonds need to be flipped (compared to some arbitrary reference) to reconstruct the vortex sector. Here, the edges are chosen from a spanning tree of the dual lattice, so there are no loops. (Gauge Field) The 'loopiness' of the bond sector can be factored out. This gives a network of loops that can always be written as a product of the gauge operators $D_j$. (Topological Sector) Finally, there are two loops that have no effect on the vortex sector, nor can they be constructed from gauge symmetries. These can be thought of as two fluxes $\\Phi_{x/y}$ that thread through the major and minor axes of the torus. Measuring $\\Phi_{x/y}$ amounts to constructing Wilson loops around the axes of the torus. We can flip the value of $\\Phi_{x}$ by transporting a vortex pair around the torus in the $y$ direction, as shown here. In each of the three figures on the right, black bonds correspond to those that must be flipped. Composing the three together gives back the original bond sector on the left.\n",
    "</figcaption>\n",
    "</figure>\n",
    "\n",
    "We can check this analysis with a counting argument. For a lattice with $B$ bonds, $P$ plaquettes and $V$ vertices, we can count the number of bond sectors, vortices sectors and gauge symmetries and check them against Euler's polyhedra equation.\n",
    "\n",
    "Euler's equation states for a closed surface of genus $g$, i.e that has $g$ holes so $0$ for the sphere, $1$ for the torus and $g$ for $g$ tori stuck together\n",
    "$$B = P + V + 2 - 2g$$"
   ]
  },
  {
   "cell_type": "markdown",
   "id": "167f4084-0372-4dc7-815f-7eff0b5c7b77",
   "metadata": {
    "tags": []
   },
   "source": [
    "<figure>\n",
    "<img src=\"../../figure_code/amk_chapter/torus.jpeg\" style=\"max-width:600px;\" title=\"Loops on the Torus\">\n",
    "<figcaption>\n",
    "    In periodic boundary conditions the Kitaev model is defined on the surface of a torus. Topologically, the torus is distinct from the sphere in that it has a hole that cannot be smoothly deformed away. Associated with each such hole are two non-contractible loops on the surface, here labelled $x$ and $y$, which cannot be smoothly deformed to a point. These two non-contractible loops can be used to construct two special pairs of operators: The two topological fluxes $\\Phi_x$ and $\\Phi_y$ that are the expectation values of $u_{jk}$ loops around each path. There are also two operators $\\hat{\\mathcal{T}}_x$ and $\\hat{\\mathcal{T}}_y$ that transform one half of a vortex pair around the loop before annihilating them together again, see later.\n",
    "</figcaption>\n",
    "</figure>"
   ]
  },
  {
   "cell_type": "markdown",
   "id": "d53ea0d9-1b62-4792-bf7d-046fc093164a",
   "metadata": {},
   "source": [
    "For the case of the torus where $g = 1$, we can rearrange this to read:\n",
    "$$B = (P-1) + (V-1) + 2$$\n",
    "\n",
    "__Bond Sectors__: Each $u_{ij}$ takes two values and there is one associated with each bond so there are exactly $2^B$ distinct configurations of the bond sector. Let us see if we can factor those configurations out into the Cartesian product of vortex sectors, gauge symmetries and non-contractible loop operators.\n",
    "\n",
    "__Vortex sectors__: Each plaquette operator $\\phi_i$ takes two values ($\\pm 1$ or $\\pm i$) and there are $P$ of them. Vortices can only be created in pairs so there are $\\tfrac{2^P}{2} = 2^{P-1}$ vortex sectors in total. Denoting the number of pairs of vortices as $N_v$, the vortex parity $1 - 2*(N_v \\mod 2)$ will be relevant in the projector later.\n",
    "\n",
    "__Gauge symmetries__: As discussed earlier, these correspond to all possible compositions of the $D_j$ operators. Again, there are only $2^{V-1}$ of these because, as we will see in the next section, $\\prod_{j} D_j = \\mathbb{1}$ in the physical space. We enforce this by choosing the correct product of single particle fermion states. One can get an intuitive picture for why $\\prod_{j} D_j = \\mathbb{1}$ by imagining larger and larger patches of $D_j$ operators on the torus. These patches correspond to transporting a vortex pair around the edge of the patch. At some point, the patch wraps around and starts to cover the entire torus. As this happens, the boundary of the patch disappears and, hence, it  corresponds to the identity operation. See +@fig:flood_fill and +@fig:flood_fill_amorphous.\n",
    "\n",
    "__Topological Sectors__: Finally, the torus has two non-contractible loop operators associated with its major and minor diameters. These give us two extra fluxes $\\Phi_x$ and $\\Phi_y$ each with two distinct values. \n",
    "\n",
    "Putting this all together, we see that there are __$2^B$ bond sectors__ a space which can be decomposed into the Cartesian product of __$2^{P-1}$ vortex sectors__, __$2^{V-1}$ gauge symmetries__ and __$2^2 = 4$ topological sectors__. \n",
    "\n",
    "The topological sector forms the basis of proposals to construct topologically protected qubits since the four sectors can only be mixed by a highly non-local perturbations\\ [@kitaevFaulttolerantQuantumComputation2003].\n",
    "\n",
    "Takeaway: The Extended Hilbert Space decomposes into a direct product of Flux Sectors, four Topological Sectors and a set of gauge symmetries."
   ]
  },
  {
   "cell_type": "markdown",
   "id": "d9214c51-7d60-4604-995e-b89619b41934",
   "metadata": {},
   "source": [
    "<figure>\n",
    "<img src=\"../../figure_code/amk_chapter/intro/flood_fill/flood_fill.gif\" style=\"max-width:700px;\" title=\"Gauge Operators\">\n",
    "<figcaption>\n",
    "A honeycomb lattice (in black) along with its dual (in red). (Left) Taking a larger and larger set of $D_j$ operators (Bold Vertices) leads to an outward expanding boundary dual loop. Eventually every lattice on the torus is included and the boundary contracts to a point and disappears. This is a visual proof that $\\prod_i D_i \\propto \\mathbb{1}$. We'll see later that it takes values $\\pm 1$ and is a key part of the projection to the physical subspace. (Right) In black and red the edges and dual edges that must be flipped to add vortices at the sites highlighted in orange. Flipping all the _plaquettes_ in the system is __not__ equivalent to the identity. Not that the edges that must be flipped can always be chosen from a tree since loops can be removed by a gauge transformation.\n",
    "</figcaption>\n",
    "</figure>"
   ]
  },
  {
   "cell_type": "markdown",
   "id": "88cbf526-33aa-4a5b-a295-bb23ef794de8",
   "metadata": {},
   "source": [
    "### Counting edges, plaquettes and vertices\n",
    "\n",
    "It is useful to know how the trivalent structure of the lattice constrains the number of bonds $B$, plaquettes $P$ and vertices $V$ it has. \n",
    "\n",
    "The lattice is built from vertices that each share three edges with their neighbours. This means that each vertex comes with $\\tfrac{3}{2}$ bonds i.e $3V = 2B$. This is consistent with the fact that, in the Majorana representation on the torus, each vertex brings three $b^\\alpha$ operators which then pair along bonds to give $3/2$ bonds per vertex. \n",
    "\n",
    "If we define an integer $N$ such that $V = 2N$ and $B = 3N$ and substitute this into the polyhedra equation for the torus, we see that $P = N$. Therefore, if a trivalent lattice on the torus has $N$ plaquettes, it has $2N$ vertices and $3N$ bonds.\n",
    "\n",
    "We can also consider the sum of the number of bonds in each plaquette $S_p$, since each bond is a member of exactly two plaquettes \n",
    "$$S_p = 2B = 6N$$\n",
    "\n",
    "The mean size of a plaquette in a trivalent lattice on the torus is exactly six. As the sum is even, this also tells us that all odd plaquettes must come in pairs."
   ]
  },
  {
   "cell_type": "markdown",
   "id": "ebae3738-5768-4e22-a5a2-7e0f28578016",
   "metadata": {},
   "source": [
    "<figure>\n",
    "<img src=\"../../figure_code/amk_chapter/intro/flood_fill_amorphous/flood_fill_amorphous.gif\" style=\"max-width:700px;\" title=\"Gauge Operators on Amorphous Lattices\">\n",
    "<figcaption>\n",
    "The same as +@fig:flood_fill but for the amorphous lattice.\n",
    "</figcaption>\n",
    "</figure>"
   ]
  },
  {
   "cell_type": "markdown",
   "id": "0f6ba89a-8aca-4c30-9778-7deb8f8088ba",
   "metadata": {},
   "source": [
    "## The Projector\n",
    "The projection from the extended space to the physical space will not be particularly important for the results presented here. However, the theory remains useful to explain why this is."
   ]
  },
  {
   "cell_type": "markdown",
   "id": "783772d6-b1b2-48f0-a111-6175772fb884",
   "metadata": {},
   "source": [
    "<figure>\n",
    "<img src=\"../../figure_code/amk_chapter/hilbert_spaces.svg\" style=\"max-width:700px;\" title=\"How the different Hilbert Spaces relate to one another\">\n",
    "<figcaption>The relationship between the different Hilbert spaces used in the solution. __needs updating__ </figcaption>\n",
    "</figure>"
   ]
  },
  {
   "cell_type": "markdown",
   "id": "3275c8fc-5f61-48d4-934d-125f58d8fb6e",
   "metadata": {},
   "source": [
    "The physical states are defined as those for which $D_i |\\phi\\rangle = |\\phi\\rangle$ for all $D_i$. Since $D_i$ has eigenvalues $\\pm1$, the quantity $\\tfrac{(1+D_i)}{2}$ has eigenvalue $1$ for physical states and $0$ for extended states so is the local projector onto the physical subspace. "
   ]
  },
  {
   "cell_type": "markdown",
   "id": "cd6984f5-36f1-47be-8d33-cb1e157f2415",
   "metadata": {},
   "source": [
    "Therefore, the global projector is \n",
    "$$ \\mathcal{P} = \\prod_{i=1}^{2N} \\left( \\frac{1 + D_i}{2}\\right)$$\n",
    "\n",
    "for a toroidal trivalent lattice with $N$ plaquettes $2N$ vertices and $3N$ edges. As discussed earlier, the product over $(1 + D_j)$ can also be thought of as the sum of all possible subsets $\\{i\\}$ of the $D_j$ operators, which is the set of all possible gauge symmetry operations. \n",
    "\n",
    "$$ \\mathcal{P} = \\frac{1}{2^{2N}} \\sum_{\\{i\\}} \\prod_{i\\in\\{i\\}} D_i$$"
   ]
  },
  {
   "cell_type": "markdown",
   "id": "72c36694-fea3-425a-8b77-c54c48c34f69",
   "metadata": {},
   "source": [
    "Since the gauge operators $D_j$ commute and square to one, we can define the complement operator $C = \\prod_{i=1}^{2N} D_i$ and see that it takes each set of $\\prod_{i \\in \\{i\\}} D_j$ operators and gives us the complement of that set. We will shortly see why $C$ is the identity in the physical subspace, as noted earlier. "
   ]
  },
  {
   "cell_type": "markdown",
   "id": "63eb38a5-0d09-4c28-b84d-c5f0f5a13bbb",
   "metadata": {},
   "source": [
    "We use the complement operator to rewrite the projector as a sum over half the subsets of $\\{i\\}$ - referred to as $\\Lambda$. The complement operator deals with the other half\n",
    "\n",
    "$$ \\mathcal{P} =  \\left( \\frac{1}{2^{2N-1}} \\sum_{\\Lambda} \\prod_{i\\in\\{i\\}} D_i\\right) \\left(\\frac{1 + \\prod_i^{2N} D_i}{2}\\right) = \\mathcal{S} \\cdot \\mathcal{P}_0$$\n",
    "\n",
    "To compute $\\mathcal{P}_0$, the main quantity needed is the product of the local projectors $D_i$\n",
    "$$\\prod_i^{2N} D_i = \\prod_i^{2N} b^x_i b^y_i b^z_i c_i $$\n",
    "for a toroidal trivalent lattice with $N$ plaquettes $2N$ vertices and $3N$ edges. \n",
    "\n",
    "First, we reorder the operators by bond type. This does not require any information about the underlying lattice.\n",
    "\n",
    "$$\\prod_i^{2N} D_i = \\prod_i^{2N} b^x_i \\prod_i^{2N} b^y_i \\prod_i^{2N} b^z_i \\prod_i^{2N} c_i$$\n",
    "\n",
    "The product over $c_i$ operators reduces to a determinant of the Q matrix and the fermion parity, see\\ [@pedrocchiPhysicalSolutionsKitaev2011]. The only difference from the honeycomb case is that we cannot explicitly compute the factors $p_x,p_y,p_z = \\pm\\;1$ that arise from reordering the b operators such that pairs of vertices linked by the corresponding bonds are adjacent."
   ]
  },
  {
   "cell_type": "markdown",
   "id": "e0c4c44f-058d-4db7-b9fc-e810d70b5e5d",
   "metadata": {},
   "source": [
    "$$\\prod_i^{2N} b^\\alpha_i = p_\\alpha \\prod_{(i,j)}b^\\alpha_i b^\\alpha_j$$\n",
    "\n",
    "However, they are simply the parity of the permutation from one ordering to the other and can be computed in linear time with a cycle decomposition __cite__.\n",
    "\n",
    "We find that\n",
    "$$\\mathcal{P}_0 = 1 + p_x\\;p_y\\;p_z\\; \\hat{\\pi} \\; \\mathrm{det}(Q^u) \\; \\prod_{\\{i,j\\}} -iu_{ij}$$ "
   ]
  },
  {
   "cell_type": "markdown",
   "id": "5db2fb3c-84bf-4f3b-920a-cabc61d14089",
   "metadata": {},
   "source": [
    "where $p_x\\;p_y\\;p_z = \\pm 1$ are lattice structure factors and $\\mathrm{det}(Q^u)$ is the determinant of the matrix mentioned earlier that maps $c_i$ operators to normal mode operators $b'_i, b''_i$. These depend only on the lattice structure. \n",
    "\n",
    "$\\hat{\\pi} = \\prod{i}^{N} (1 - 2\\hat{n}_i)$ is the parity of the particular many body state determined by fermionic occupation numbers $n_i$. As discussed in\\ [@pedrocchiPhysicalSolutionsKitaev2011], $\\hat{\\pi}$ is gauge invariant in the sense that $[\\hat{\\pi}, D_i] = 0$.\n",
    "\n",
    "This implies that $det(Q^u) \\prod -i u_{ij}$ is also a gauge invariant quantity. In translation invariant models this quantity which can be related to the parity of the number of vortex pairs in the system\\ [@yaoAlgebraicSpinLiquid2009].\n",
    "\n",
    "All these factors take values $\\pm 1$ so $\\mathcal{P}_0$ is 0 or 1 for a particular state. Since $\\mathcal{S}$ corresponds to symmetrising over all the gauge configurations and cannot be 0, once we have determined the single particle eigenstates of a bond sector, the true many body ground state has the same energy as either the empty state with $n_i = 0$ or a state with a single fermion in the lowest level. "
   ]
  },
  {
   "cell_type": "markdown",
   "id": "847c0006-7e7c-4426-b565-e95d5f9b4613",
   "metadata": {},
   "source": [
    "### Ground State Degeneracy\n",
    "\n",
    "<figure>\n",
    "<img src=\"../../figure_code/amk_chapter/loops_and_dual_loops/loops_and_dual_loops.svg\" style=\"max-width:700px;\" title=\"Topological Loops and Dual Loops\">\n",
    "<figcaption>\n",
    "(Left) The two topological flux operators of the toroidal lattice. These do not correspond to any face of the lattice, but rather measure flux that threads through the major and minor axes of the torus. This shows a particular choice. Yet, any loop that crosses the boundary is gauge equivalent to one of or the sum of these two loop. (Right) The two ways to transport vortices around the diameters. These amount to creating a vortex pair, transporting one of them around the major or minor diameters of the torus and, then, annihilating them again. \n",
    "</figcaption>\n",
    "</figure>\n",
    "\n",
    "More general arguments\\ [@chungExplicitMonodromyMoore2007; @oshikawaTopologicalDegeneracyNonAbelian2007] imply that $det(Q^u) \\prod -i u_{ij}$ has an interesting relationship to the topological fluxes. In the non-Abelian phase, we expect that it will change sign in exactly one of the four topological sectors. \n",
    "\n",
    "This means that the lowest state in three of the topological sectors contain no fermions, while in one of them there must be one fermion to preserve product of fermion vortex parity. So overall the non-Abelian model has a three-fold degenerate ground state rather than the fourfold of the Abelian case (and of my intuition!). In the Abelian phase, this does not happen and we get a fourfold degenerate ground state. __Whether this analysis generalises to the amorphous case is unclear.__ \n",
    "\n",
    "An alternative way to view this is to imagine we start in one state of the ground state manifold. We then attempt to construct other ground states by creating vortex pairs, transporting one vortex around one or both non-contractible loops and then annihilating them. This works for either of the two non-contractible loops but when we try to do it for _both_ something strange happens. When we transport a vortex around __both__ the major and minor axes of the torus this changes its fusion channel. Normally two vortices fuse to the vacuum but after this operation they fuse into a fermion excitation. And hence our attempt to construct that last ground state doesn't yield a ground state at all, leaving us with just three.\n",
    "\n",
    "__NOTE to self: This argument seems to involve adiabatic insertion of the fluxes $\\Phi_{x,y}$ as the operations that undo vortex transport around the lattice. I don't understand why that part is necessary__"
   ]
  },
  {
   "cell_type": "markdown",
   "id": "b4f8724a-4551-4f84-bc0f-3fa6ef99142b",
   "metadata": {},
   "source": [
    "<figure>\n",
    "<img src=\"../../figure_code/amk_chapter/threefold_degeneracy.png\" style=\"max-width:600px;\", title=\"Ground State Degeneracy in the Abelian and Non-Abelian Phases\">\n",
    "<figcaption>\n",
    "In the non-Abelian phase one of the lowest energy state in one of the topological sectors contains a fermion and hence is slightly higher in energy than the other three. This manifests as a fourfold ground state degeneracy in the Abelian phase and a threefold degeneracy in the non-Abelian phase.\n",
    "</figcaption>\n",
    "</figure>"
   ]
  },
  {
   "cell_type": "markdown",
   "id": "0bd40dd3-8f16-4286-bc5f-cf295a441225",
   "metadata": {},
   "source": [
    "### Quick Breather\n",
    "\n",
    "Let's consider where are with the model now. We can map the spin Hamiltonian to a Majorana Hamiltonian in an extended Hilbert space. Along with that mapping comes a gauge field $u_{jk}$ defining __bond sectors__. The gauge symmetries of $u_{jk}$ are generated by the set of $D_j$ operators. The gauge invariant, and, therefore, physically, relevant variables are the plaquette operators $\\phi_i$ which define as a __vortex sector__. To solve the Majorana Hamiltonian, we must remove hats from the gauge field by restricting ourselves to a particular bond sector. At this stage, the Majorana Hamiltonian becomes non-interacting and we can solve it like any quadratic theory. This lets us construct the single particle eigenstates from which we can also construct many body states. Yet, the many body states constructed in this way are not in the physical subspace! "
   ]
  },
  {
   "cell_type": "markdown",
   "id": "60485429-fadf-47f7-8e37-a0bc4492f62e",
   "metadata": {},
   "source": [
    "For the many body states within a particular bond sector, $\\mathcal{P}_0 = 0,1$ tells us which of those overlap with the physical sector. \n",
    "\n",
    "We see that finding a state that has overlap with a physical state only ever requires the addition or removal of one fermion. There are cases where this can make a difference, but for most observables, such as ground state energy, this correction scales away as the number of fermions in the system grows.\n",
    "\n",
    "If we wanted to construct a full many body wavefunction in the spin basis, we would need to include the full symmetrisation over the gauge fields. However, this was not necessary for any of the results that will be presented here."
   ]
  },
  {
   "cell_type": "markdown",
   "id": "b59f4f0f-fff7-4c5d-9fbd-20dd07f25baa",
   "metadata": {},
   "source": [
    "## The Ground State\n",
    "We have shown that the Hamiltonian is gauge invariant. As a result, only the flux sector and the two topological fluxes affect the spectrum of the Hamiltonian. Thus, we can label the many body ground state by a combination of fluxes and fermionic occupation numbers.\n",
    "\n",
    "By studying the projector, we saw that the fermionic occupation numbers of the ground state will always be either $n_m = 0$ or $n_0 = 1, n_{m>1} = 0$ because the projector only enforces combined vortex and fermion parity."
   ]
  },
  {
   "cell_type": "markdown",
   "id": "c272ded8-da79-4325-8b79-3ab8b00576bc",
   "metadata": {},
   "source": [
    "I refer to the flux sector that contains the ground state as the ground state flux sector.  Recall that the excitations of the fluxes away from the ground ground state configuration are called __vortices__, so that the ground state flux sector is, by definition, the vortex free sector.\n",
    "\n",
    "On the Honeycomb, Lieb's theorem implies that the ground state corresponds to the state where all $u_{jk} = 1$. This implies that the flux free sector is the ground state sector\\ [@lieb_flux_1994].\n",
    "\n",
    "Lieb's theorem does not generalise easily to the amorphous case. However, we can get some intuition by examining the problem that will lead to a guess for the ground state. We will then provide numerical evidence that this guess is in fact correct."
   ]
  },
  {
   "cell_type": "markdown",
   "id": "3bf6a18a-10c6-42b5-a05d-676b022b175a",
   "metadata": {},
   "source": [
    "Consider the partition function of the Majorana hamiltonian:\n",
    "$$ \\mathcal{Z} = \\mathrm{Tr}\\left( e^{-\\beta H}\\right) = \\sum_i \\exp{-\\beta \\epsilon_i}$$\n",
    "At low temperatures $\\mathcal{Z} \\approx \\beta \\epsilon_0$ where $\\epsilon_0$ is the lowest energy fermionic state. "
   ]
  },
  {
   "cell_type": "markdown",
   "id": "84a14ec0-4be5-4323-ab39-5696c3715327",
   "metadata": {},
   "source": [
    "How does the $\\mathcal{Z}$ depend on the Majorana hamiltonian? Expanding the exponential out gives\n",
    "$$ \\mathcal{Z} = \\sum_n \\frac{(-\\beta)^n}{n!} \\mathrm{Tr(H^k)} $$"
   ]
  },
  {
   "cell_type": "markdown",
   "id": "6a0d639b-035d-4e06-a9fb-5809b1d6295e",
   "metadata": {},
   "source": [
    "This makes for an interesting observation. The Hamiltonian is essentially a scaled adjacency matrix. An adjacency matrix being a matrix $g_{ij}$ such that $g_{ij} = 1$ if vertices $i$ and $j$ and joined by an edge and 0  otherwise. "
   ]
  },
  {
   "cell_type": "markdown",
   "id": "436f733b-482c-402c-ad40-554364057476",
   "metadata": {},
   "source": [
    "Powers of adjacency matrices have the property that the entry $(g^n)_{ij}$ corresponds to the number of paths of length $n$ on the graph that begin at site $i$ and end at site $j$. These include somewhat degenerate paths that go back on themselves.\n",
    "\n",
    "Therefore, the trace of an adjacency matrix\n",
    "$$\\mathrm{Tr}(g^n) = \\sum_i (g^n)_{ii}$$\n",
    "counts the number  of loops of size $n$ that can be drawn on the graph."
   ]
  },
  {
   "cell_type": "markdown",
   "id": "c7789c9c-acaa-40ad-8893-8507e6074ee7",
   "metadata": {},
   "source": [
    "Applying the same treatment to our Majorana Hamiltonian, we can interpret $u_{ij}$ to equal 0 if the two sites are not joined by a bond and we put ourselves in the isotropic phase where $J^\\alpha = 1$\n",
    "$$ \\tilde{H}_{ij} =  \\tfrac{1}{2} i u_{ij}$$\n",
    "\n",
    "We then see that the trace of the nth power of H is a sum over Wilson loops of size $n$ with an additional factor of $2^{-n}$. We showed earlier that the Wilson loop operators can always be written as products of the plaquette operators that they enclose.  "
   ]
  },
  {
   "cell_type": "markdown",
   "id": "3acb9867-3eb3-453f-8180-1c112a9931a4",
   "metadata": {},
   "source": [
    "Lumping all the prefactors together, we will get something schematically like:\n",
    "$$ \\mathcal{Z} = c_A \\hat{A} + c_B \\hat{B} + \\sum_i c_i \\hat{\\phi}_i + \\sum_{ij} c_{ij}  \\hat{\\phi}_i \\hat{\\phi}_j + \\sum_{ijk} c_{ijk}  \\hat{\\phi}_i \\hat{\\phi}_j \\hat{\\phi}_k + ...$$ \n",
    "\n",
    "Where the $c$ factors would be something like\n",
    "$$c_{ijk...} = \\sum_n \\tfrac{(-\\beta)^n}{n!} \\tfrac{1}{2^n} K_{ijk...}$$\n",
    "This is a sum over all loop lengths $n$ with, for each, a combinatorial factor $K_{ijk...}$ that counts how many ways exist to draw a loop of length $n$ that only encloses plaquettes $ijk...$.\n",
    "\n",
    "We also have the pesky topological fluxes $\\Phi_x$ and $\\Phi_y$. Again, the prefactors for these are very complicated. However, we can intuitively see that for larger and larger loops lengths, there will be a combinatorial explosion of possible ways that they appear in these sums. We know that explosion will be suppressed exponentially for sufficiently large system sizes but for practical lattices they cause significant finite size effects."
   ]
  },
  {
   "cell_type": "markdown",
   "id": "462df749-8232-49c8-98f9-106c0e5e739a",
   "metadata": {},
   "source": [
    "We do not have much hope of actually evaluating this for an amorphous lattice. However, we can guess that the ground state vortex sector might be a simple function of the side length of each plaquette. \n",
    "\n",
    "The ground state of the Amorphous Kitaev Model is found by setting the flux through each plaquette $\\phi$ to be equal to $\\phi^{\\mathrm{g.s.}}(n_{\\mathrm{sides}})$\n",
    "\n",
    "$$\\begin{aligned}\n",
    "    \\phi^{\\mathrm{g.s.}}(n_{\\mathrm{sides}}) = -(\\pm i)^{n_{\\mathrm{sides}}},\n",
    "\\end{aligned}$$ where $n_{\\mathrm{sides}}$ is the number of edges that form each plaquette and the choice of sign gives a twofold chiral ground state degeneracy.\n",
    "\n",
    "This conjecture is consistent with Lieb's theorem on regular lattices\\ [@lieb_flux_1994] and is supported by numerical evidence. As noted before, any flux that differs from the ground state is an excitation which we call a vortex."
   ]
  },
  {
   "cell_type": "markdown",
   "id": "45297c61-e808-4cb7-bf4d-27a3f938d4bc",
   "metadata": {},
   "source": [
    "### Finite size effects\n",
    "\n",
    "This guess only works for larger lattices. To rigorously test it, we would want to directly enumerate the $2^N$ vortex sectors for a smaller lattice and check that the lowest state found is the vortex sector predicted by our conjecture.\n",
    "\n",
    "To do this we tile an amorphous lattice as the unit cell of a periodic $N\\times N$ system. Bonds that originally crossed the periodic boundaries now connect adjacent unit cells. Using Bloch's theorem, the problem essentially reduces back to the single amorphous unit cell. However, now the edges that cross the periodic boundaries pick up a phase dependent on the crystal momentum $\\vec{q} = (q_x, q_y)$ and the lattice vector of the bond $\\vec{x} = (+1, 0, -1, +1, 0, -1)$. Assigning these lattice vectors to each bond is also a very convenient way to store and plot toroidal graphs. \n",
    "\n",
    "This can then be solved using Bloch's theorem. For a given crystal momentum $\\textbf{q} \\in [0,2\\pi)^2$, we are left with a Bloch Hamiltonian, which is identical to the original Hamiltonian aside from an extra phase on edges that cross the periodic boundaries in the $x$ and $y$ directions, $$\\begin{aligned}\n",
    "    M_{jk}(\\textbf{q}) =  \\frac{i}{2} J^{\\alpha} u_{jk} e^{i q_{jk}},\\end{aligned}$$ where $q_{jk} = q_x$ for a bond that crosses the $x$-periodic boundary in the positive direction, with the analogous definition for $y$-crossing bonds. We also have $q_{jk} = -q_{kj}$. Finally, $q_{jk} = 0$ if the edge does not cross any boundaries at all. In essence, we are imposing twisted boundary conditions on our system. The total energy of the tiled system can be calculated by summing the energy of $M( \\textbf{q})$ for every value of $\\textbf{q}$.\n",
    "\n",
    "With this technique, the finite size effects related to the non-contractible loop operators are removed with only a linear penalty in computation time compared to the exponential penalty paid by simply diagonalising larger lattices.\n",
    "\n",
    "This technique verifies that $\\phi_0$ correctly predicts the ground state for hundreds of thousands of lattices with up to twenty plaquettes. For larger lattices, we verified that random perturbations around the predicted ground state never yield a lower energy state."
   ]
  },
  {
   "cell_type": "markdown",
   "id": "82658525-043d-4cf4-b2a7-766974e8a6fe",
   "metadata": {},
   "source": [
    "### Chiral Symmetry\n",
    "The discussion above shows that the ground state has a twofold __chiral__ degeneracy which arises because the global sign of the odd plaquettes does not matter. \n",
    "\n",
    "This happens because we have broken the time reversal symmetry of the original model by adding odd plaquettes\\ [@Chua2011; @yaoExactChiralSpin2007; @ChuaPRB2011; @Fiete2012; @Natori2016; @Wu2009; @Peri2020; @WangHaoranPRB2021]. \n",
    "\n",
    "Similarly to the behaviour of the original Kitaev model in response to a magnetic field, we get two degenerate ground states of different handedness. Practically speaking, one ground state is related to the other by inverting the imaginary $\\phi$ fluxes\\ [@yaoExactChiralSpin2007]."
   ]
  },
  {
   "cell_type": "markdown",
   "id": "c538f931-7d26-46a8-a562-017f3c20d240",
   "metadata": {},
   "source": [
    "## Phases of the Kitaev Model\n",
    "\n",
    "discuss the Abelian A phase / toric code phase / anisotropic phase\n",
    "\n",
    "the isotropic gapless phase of the standard model\n",
    "\n",
    "The isotropic gapped phase with the addition of a magnetic field"
   ]
  },
  {
   "cell_type": "markdown",
   "id": "0012c32f-8dbe-4bfa-b0b2-d9e2d293a08d",
   "metadata": {},
   "source": [
    "## What is so great about two dimensions?\n",
    "\n",
    "### Topology, chirality and edge modes\n",
    "\n",
    "Most thermodynamic and quantum phases studied can be characterised by a local order parameter. That is, a function or operator that only requires knowledge about some fixed sized patch of the system that does not scale with system size.\n",
    "\n",
    "However, there are quantum phases that cannot be characterised by such a local order parameter. These phases are instead said to possess 'topological order'. \n",
    "\n",
    "One easily observable property of topological order is that the ground state degeneracy depends on the topology of the manifold that we put the system on to. This is referred to as topological degeneracy to distinguish it from standard symmetry breaking.\n",
    "\n",
    "The Kitaev model is a good example. We have already looked at it defined on a graph that is embedded either into the plane or onto the torus. The extension to surfaces like the torus but with more than one handle is relatively easy."
   ]
  },
  {
   "cell_type": "markdown",
   "id": "09e1dfce-87a6-48e2-af83-c59677e64dae",
   "metadata": {},
   "source": [
    "### Anyonic Statistics\n",
    "\n",
    "__NB: I'm thinking about moving this section to the overall intro, but it's nice to be able to refer to specifics of the Kitaev model also so I'm not sure. It currently repeats a discussion of the ground state degeneracy from the projector section.__\n",
    "\n",
    "In dimensions greater than two, the quantum state of a system must pick up a factor of $-1$ or $+1$ if two identical particles are swapped. We call these Fermions and Bosons.\n",
    "\n",
    "This argument is predicated on the idea that performing two swaps is equivalent to doing nothing. Doing nothing should not change the quantum state at all. Therefore, doing one swap can at most multiply it by $\\pm 1$.\n",
    "\n",
    "However, there are many hidden parts to this argument. First, this argument does not present the whole story. For instance, if you want to know why Fermions have half integer spin, you have to go to field theory.\n",
    "\n",
    "Second, why does this argument only work in dimensions greater than two? When we say that two swaps do nothing, we in fact say that the world lines of two particles that have been swapped twice can be untangled without crossing. Why can't they cross? Because if they cross, the particles can interact and the quantum state could change in an arbitrary way. We are implicitly using the locality of physics to argue that, if the worldlines stay well separated, the overall quantum state cannot change.\n",
    "\n",
    "In two dimensions, we cannot untangle the worldlines of two particles that have swapped places. They are braided together (see +@fig:braiding)."
   ]
  },
  {
   "cell_type": "markdown",
   "id": "f6a0f85d-0b55-4d80-894e-19c881c68ede",
   "metadata": {},
   "source": [
    "<figure>\n",
    "<img src=\"../../figure_code/amk_chapter/braiding.png\" style=\"max-width:500px;\" title=\"Braiding in Two Dimensions\">\n",
    "<figcaption>\n",
    "Worldlines of particles in two dimensions can become tangled or _braided_ with one another.\n",
    "</figcaption>\n",
    "</figure>"
   ]
  },
  {
   "cell_type": "markdown",
   "id": "389e8d26-0350-43dd-8216-9f4fddc8a2f1",
   "metadata": {},
   "source": [
    "From this fact flows a whole of behaviours. The quantum state can acquire a phase factor $e^{i\\phi}$ upon exchange of two identical particles, which we now call Anyons.\n",
    "\n",
    "The Kitaev Model is a good demonstration of the connection between Anyons and topological degeneracy. In the Kitaev model, we can create a pair of vortices, move one around a non-contractable loop $\\mathcal{T}_{x/y}$ and then annihilate them together. Without topology, this should leave the quantum state unchanged. Instead, we move towards another ground state in a topologically degenerate ground state subspace. Practically speaking, it flips a dual line of bonds $u_{jk}$ going around the loop which we cannot undo with any gauge transformation made from $D_j$ operators."
   ]
  },
  {
   "cell_type": "markdown",
   "id": "03d56186-e881-4381-94d7-cab948e7970c",
   "metadata": {},
   "source": [
    "If the ground state subspace is multidimensional, quasiparticle exchange can move us around in the space with an action corresponding to a matrix. In general, these matrices do not commute so these are known as non-Abelian anyons.\n",
    "\n",
    "From here, the situation becomes even more complex. The Kitaev model has a non-Abelian phase when exposed to a magnetic field. The amorphous Kitaev Model has a non-Abelian phase because of its broken chiral symmetry. \n",
    "\n",
    "By subdividing the Kitaev model into vortex sectors, we neatly separate between vortices and fermionic excitations. However, if we looked at the full many body picture, we would see that a vortex carries with it a cloud of bound Majorana states."
   ]
  },
  {
   "cell_type": "markdown",
   "id": "6d744f5c-e4e9-4fce-b3cb-915bebf05033",
   "metadata": {},
   "source": [
    "<figure>\n",
    "<img src=\"../../figure_code/amk_chapter/majorana_bound_states/majorana_bound_states.svg\" style=\"max-width:700px;\" title=\"Majorana Bound States\">\n",
    "<figcaption>\n",
    "(Left) A large amorphous lattice in the ground state save for a single pair of vortices shown in red, separated by the string of bonds that we flipped to create them. (Right) The density of the lowest energy Majorana state in this vortex sector. These Majorana states are bound to the vortices. They 'dress' the vortices to create a composite object.\n",
    "</figcaption>\n",
    "</figure>"
   ]
  },
  {
   "cell_type": "markdown",
   "id": "a148531d-2106-4a71-850b-cac95d9fb4f5",
   "metadata": {},
   "source": [
    "Consider two processes \n",
    "\n",
    "1) We transport one half of a vortex pair around either the x or y loops of the torus before annihilating back to the ground state vortex sector $\\mathcal{T}_{x,y}$.\n",
    "\n",
    "2) We flip a line of bond operators corresponding to measuring the flux through either the major or minor axes of the torus $\\mathcal{\\Phi}_{x,y}$ "
   ]
  },
  {
   "cell_type": "markdown",
   "id": "3eda8dae-5b59-44dc-a085-69c6142a8351",
   "metadata": {},
   "source": [
    "The plaquette operators $\\phi_i$ are associated with fluxes. Wilson loops that wind the torus are associated with the fluxes through its two diameters $\\mathcal{\\Phi}_{x,y}$.\n",
    "\n",
    "In the Abelian phase, we can move a vortex along any path at will before bringing them back together. They will annihilate back to the vacuum, where we understand 'the vacuum' to refer to one of the ground states. However, this will not necessarily be the same ground state we started in. We can use this to get from the $(\\Phi_x, \\Phi_y) = (+1, +1)$ ground state and construct the set $(+1, +1), (+1, -1), (-1, +1), (-1, -1)$."
   ]
  },
  {
   "cell_type": "markdown",
   "id": "9f342641-0cde-457c-a754-55f5d3d794f6",
   "metadata": {},
   "source": [
    "<figure>\n",
    "<img src=\"../../figure_code/amk_chapter/topological_fluxes.png\" style=\"max-width:400px;\" title=\"Topological Fluxes\">\n",
    "<figcaption>\n",
    "Wilson loops that wind the major or minor diameters of the torus measure flux winding through the hole of the doughnut/torus or through the filling. If they made doughnuts that both had a jam filling and a hole, this analogy would be a lot easier to make\\ [@parkerWhyDoesThis].\n",
    "</figcaption>\n",
    "</figure>"
   ]
  },
  {
   "cell_type": "markdown",
   "id": "0460f4ad-968c-4470-928c-9f007eb01e03",
   "metadata": {},
   "source": [
    "However, in the non-Abelian phase we have to wrangle with monodromy\\ [@chungExplicitMonodromyMoore2007; @oshikawaTopologicalDegeneracyNonAbelian2007]. Monodromy is the behaviour of objects as they move around a singularity. This manifests here in that the identity of a vortex and cloud of Majoranas can change as we wind them around the torus in such a way that, rather than annihilating to the vacuum, we annihilate them to create an excited state instead of a ground state. This means that we end up with only three degenerate ground states in the non-Abelian phase $(+1, +1), (+1, -1), (-1, +1)$\\ [@chungTopologicalQuantumPhase2010; @yaoAlgebraicSpinLiquid2009]. Concretely, this is because the projector enforces both flux and fermion parity. When we wind a vortex around both non-contractible loops of the torus, it flips the flux parity. Therefore, we have to introduce a fermionic excitation to make the state physical. Hence, the process does not give a fourth ground state."
   ]
  },
  {
   "cell_type": "markdown",
   "id": "c0854cee-e4bb-4fa5-872f-13d482a6863a",
   "metadata": {},
   "source": [
    "Recently, the topology has notably gained interest because of proposals to use this ground state degeneracy to implement both passively fault tolerant and actively stabilised quantum computations\\ [@kitaevFaulttolerantQuantumComputation2003; @poulinStabilizerFormalismOperator2005; @hastingsDynamicallyGeneratedLogical2021]."
   ]
  }
 ],
 "metadata": {
  "kernelspec": {
   "display_name": "Python [conda env:adalm1000]",
   "language": "python",
   "name": "conda-env-adalm1000-py"
  },
  "language_info": {
   "codemirror_mode": {
    "name": "ipython",
    "version": 3
   },
   "file_extension": ".py",
   "mimetype": "text/x-python",
   "name": "python",
   "nbconvert_exporter": "python",
   "pygments_lexer": "ipython3",
   "version": "3.10.5"
  }
 },
 "nbformat": 4,
 "nbformat_minor": 5
}
