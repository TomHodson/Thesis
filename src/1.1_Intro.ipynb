{
 "cells": [
  {
   "cell_type": "markdown",
   "id": "88e8de2d-200d-4c40-8776-cbd132221eb3",
   "metadata": {},
   "source": [
    "One of the most interesting and perhaps surprising features of many body physics is the existence of distinct phases of matter.\n",
    "\n",
    "Why does liquid turn to ice? Well there are two key ingredients. First we need a system composed of a large number of objects and second we need those objects to interact with eachother. \n",
    "\n",
    "It turns out that the more objects there are, the greater the effect that their interactions has on the whole. A hundred $H_2O$ molecules can't actually form the nice regular structure that characterises ice, instead you'd get more of a blob. However, any human scale amount of water contains an unimaginable huge number of molecules. \n",
    "\n",
    "\n",
    "Phases come about when the interactions between individuals components serve the reinforce \n",
    "\n",
    "\n",
    "\n",
    "When a many body, interacting system can display radically different properties depending on the system parameters"
   ]
  },
  {
   "cell_type": "markdown",
   "id": "6abbe956-2de3-474a-b298-fe203db28559",
   "metadata": {},
   "source": [
    "## Themes\n",
    "- many body\n",
    "- interactions\n",
    "- quantum\n",
    "- topology\n",
    "- disorder\n",
    "\n",
    "- quasiparticles\n",
    "- topological order\n",
    "- protected edge states\n",
    "- abelian and non-abelian anyons\n",
    "\n",
    "- localisation\n",
    "- lengthscales"
   ]
  },
  {
   "cell_type": "code",
   "execution_count": null,
   "id": "e2e18f6b-77ce-4bc9-bc20-6000b430430c",
   "metadata": {},
   "outputs": [],
   "source": [
    "__ Connection between "
   ]
  }
 ],
 "metadata": {
  "kernelspec": {
   "display_name": "Python 3 (ipykernel)",
   "language": "python",
   "name": "python3"
  },
  "language_info": {
   "codemirror_mode": {
    "name": "ipython",
    "version": 3
   },
   "file_extension": ".py",
   "mimetype": "text/x-python",
   "name": "python",
   "nbconvert_exporter": "python",
   "pygments_lexer": "ipython3",
   "version": "3.9.7"
  }
 },
 "nbformat": 4,
 "nbformat_minor": 5
}
