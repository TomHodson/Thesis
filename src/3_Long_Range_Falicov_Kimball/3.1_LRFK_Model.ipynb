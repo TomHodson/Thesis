{
 "cells": [
  {
   "cell_type": "raw",
   "id": "8397274a-4e7c-4b7d-ba18-3fe4d04e6e47",
   "metadata": {},
   "source": [
    "---\n",
    "title: The Long Range Falicov-Kimball Model - The Model\n",
    "description:\n",
    "image:\n",
    "layout: thesis\n",
    "---"
   ]
  },
  {
   "cell_type": "code",
   "execution_count": 1,
   "id": "bd93dd4a-1324-4c21-9864-7dcc4afc0a8c",
   "metadata": {
    "tags": [
     "remove_cell"
    ]
   },
   "outputs": [
    {
     "data": {
      "text/html": [
       "<style>\n",
       "figure {\n",
       "    display: flex;\n",
       "    flex-direction: column;\n",
       "    align-items: center;\n",
       "}\n",
       "figure img {\n",
       "    max-width: 900px;\n",
       "    width: 80%;\n",
       "    margin-bottom: 2em;\n",
       "}\n",
       "figcaption {\n",
       "    aria-hidden: true;\n",
       "}\n",
       "</style>\n"
      ],
      "text/plain": [
       "<IPython.core.display.HTML object>"
      ]
     },
     "metadata": {},
     "output_type": "display_data"
    }
   ],
   "source": [
    "%%html\n",
    "<style>\n",
    "figure {\n",
    "    display: flex;\n",
    "    flex-direction: column;\n",
    "    align-items: center;\n",
    "}\n",
    "figure img {\n",
    "    max-width: 900px;\n",
    "    width: 80%;\n",
    "    margin-bottom: 2em;\n",
    "}\n",
    "figcaption {\n",
    "    aria-hidden: true;\n",
    "}\n",
    "</style>"
   ]
  },
  {
   "cell_type": "markdown",
   "id": "72d8479b-5a39-44a4-b3d9-94eb15a3016a",
   "metadata": {},
   "source": [
    "__Contributions__\n",
    "\n",
    "This chapter expands on work presented in\n",
    "\n",
    "\\ [@hodsonOnedimensionalLongrangeFalikovKimball2021] [One-dimensional long-range Falikov-Kimball model: Thermal phase transition and disorder-free localization](https://link.aps.org/doi/10.1103/PhysRevB.104.045116), Hodson, T. and Willsher, J. and Knolle, J., Phys. Rev. B, __104__, 4, 2021,\n",
    "\n",
    "The code is available online\\ [@hodsonMCMCFKModel2021].\n",
    "\n",
    "Johannes had the initial idea to use a long range Ising term to stabilise order in a one dimension Falicov-Kimball model. Josef developed a proof of concept during a summer project at Imperial along with Alexander Belcik. I wrote the simulation code and performed all the analysis presented here."
   ]
  },
  {
   "cell_type": "markdown",
   "id": "7f036bb3-0bf5-4f7c-bf2a-3695c83224d3",
   "metadata": {},
   "source": [
    "__Chapter Summary__\n",
    "\n",
    "The paper is organised as follows. First, I will introduce the long range Falicov-Kimball (LRFK) model and motivate its definition. Second, I will present the\\ [methods](#sec:lrfk-methods) used to solve it numerically, including Markov chain Monte Carlo and finite size scaling. I will then present and interpret the\\ [results](#sec:lrfk-results) obtained."
   ]
  },
  {
   "cell_type": "markdown",
   "id": "bbed34b5-a9fd-4b55-bb7d-9d7fcfa6da3d",
   "metadata": {},
   "source": [
    "# The Model {#sec:lrfk-model}\n",
    "\n",
    "Dimensionality is crucial for the physics of both localisation and phase transitions. We have already seen that the one dimensional standard FK model cannot support an ordered phase at finite temperatures and therefore has no finite temperature phase transition (FTPT).\n",
    "\n",
    "On bipartite lattices in dimensions 2 and above the FK model exhibits a finite temperature phase transition to an ordered charge density wave (CDW) phase\\ [@maskaThermodynamicsTwodimensionalFalicovKimball2006]. In this phase, the spins order anti-ferromagnetically, breaking the $\\mathbb{Z}_2$ symmetry. In 1D, however, Peierls's argument\\ [@peierlsIsingModelFerromagnetism1936; @kennedyItinerantElectronModel1986] states that domain walls only introduce a constant energy penalty into the free energy while bringing a entropic contribution logarithmic in system size. Hence the 1D model does not have a finite temperature phase transition. However 1D systems are much easier to study numerically and admit simpler realisations experimentally. We therefore introduce a long-range coupling between the ions in order to stabilise a CDW phase in 1D.\n",
    "\n",
    "<figure>\n",
    "<img src=\"../../figure_code/intro_chapter/lrfk_schematic.svg\" style = \"max-width:700px;\" title=\"Falicov-Kimball Model Diagram\">\n",
    "<figcaption>\n",
    "The Long Range Falicov-Kimball (LRFK) Model is a model of classical spins $S_i$ coupled to spinless fermions $\\hat{c}_i$ where the fermions are mobile with hopping $t$ and the fermions are coupled to the spins by an Ising type interaction with strength $U$. The difference from the standard FK model is the presence of a long range interaction between the spins $J_{ij}S_i S_j$.\n",
    "</figcaption>\n",
    "</figure>"
   ]
  },
  {
   "cell_type": "markdown",
   "id": "587c4c9b-6f60-401a-b493-2c671db6e178",
   "metadata": {},
   "source": [
    "We interpret the FK model as a model of spinless fermions, $c^\\dagger_{i}$, hopping on a 1D lattice against a classical Ising spin background, $S_i \\in {\\pm \\frac{1}{2}}$. The fermions couple to the spins via an onsite interaction with strength $U$ which we supplement by a long-range interaction, \n",
    "$$\n",
    "J_{ij} = 4\\kappa J\\; (-1)^{|i-j|} |i-j|^{-\\alpha},\n",
    "$$\n",
    "\n",
    "between the spins. The additional coupling is very similar to that of the long range Ising model, it stabilises the Antiferromagnetic (AFM) order of the Ising spins which promotes the finite temperature CDW phase of the fermionic sector."
   ]
  },
  {
   "cell_type": "markdown",
   "id": "93353d9d-ea96-4fc6-b9fe-8c877bf98308",
   "metadata": {},
   "source": [
    "The hopping strength of the electrons, $t = 1$, sets the overall energy scale and we concentrate throughout on the particle-hole symmetric point at zero chemical potential and half filling\\ [@gruberFalicovKimballModelReview1996]. \n",
    "\n",
    "$$\\begin{aligned}\n",
    "H_{\\mathrm{FK}} = & \\;U \\sum_{i} S_i\\;(c^\\dagger_{i}c_{i} - \\tfrac{1}{2}) -\\;t \\sum_{i} (c^\\dagger_{i}c_{i+1} + \\textit{h.c.)}\\\\ \n",
    " &  + \\sum_{i, j}^{N} J_{ij}  S_i S_j\n",
    "\\label{eq:HFK}\\end{aligned}$$"
   ]
  },
  {
   "cell_type": "markdown",
   "id": "e2c23e95-f024-4c67-820f-05235001ad73",
   "metadata": {},
   "source": [
    "Without proper normalisation, the long range coupling would render the critical temperature strongly system size dependent for small system sizes. Within a mean field approximation the critical temperature scales with the effective coupling to all the neighbours of each site, which for a system with $N$ sites is $\\sum_{i=1}^{N} i^{-\\alpha}$. Hence, the normalisation $\\kappa^{-1} = \\sum_{i=1}^{N} i^{-\\alpha}$, renders the critical temperature independent of system size in the mean field approximation. This greatly improves the finite size behaviour of the model."
   ]
  },
  {
   "cell_type": "markdown",
   "id": "6b485554-2aad-47de-8adf-f51fd6debbad",
   "metadata": {},
   "source": [
    "Taking the limit $U = 0$ decouples the spins from the fermions, which gives a spin sector governed by a classical LRI model. Note, the transformation of the spins $S_i \\to (-1)^{i} S_i$ maps the AFM model to the FM one. As discussed in the background section, Peierls' classic argument can be extended to long range couplings to show that, for the 1D LRI model, a power law decay of $\\alpha < 2$ is required for a FTPT as the energy of defect domain then scales with the system size and can overcome the entropic contribution. A renormalisation group analysis supports this finding and shows that the critical exponents are only universal for $\\alpha \\leq 3/2$\\ [@ruelleStatisticalMechanicsOnedimensional1968; @thoulessLongRangeOrderOneDimensional1969; @angeliniRelationsShortrangeLongrange2014]. In the following, we choose $\\alpha = 5/4$ to avoid the additional complexity of non-universal critical points."
   ]
  }
 ],
 "metadata": {
  "kernelspec": {
   "display_name": "Python 3 (ipykernel)",
   "language": "python",
   "name": "python3"
  },
  "language_info": {
   "codemirror_mode": {
    "name": "ipython",
    "version": 3
   },
   "file_extension": ".py",
   "mimetype": "text/x-python",
   "name": "python",
   "nbconvert_exporter": "python",
   "pygments_lexer": "ipython3",
   "version": "3.10.4"
  }
 },
 "nbformat": 4,
 "nbformat_minor": 5
}
