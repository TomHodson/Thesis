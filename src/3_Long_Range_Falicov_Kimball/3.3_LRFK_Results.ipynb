{
 "cells": [
  {
   "cell_type": "raw",
   "id": "11d14524-430c-4a41-8813-0fbf79ac631c",
   "metadata": {
    "tags": []
   },
   "source": [
    "---\n",
    "title: The Long-Range Falicov-Kimball Model - Results\n",
    "description: \n",
    "image:\n",
    "layout: thesis\n",
    "---"
   ]
  },
  {
   "cell_type": "code",
   "execution_count": 2,
   "id": "057a5115-4919-4381-8c48-93a2f8b0a32e",
   "metadata": {
    "tags": [
     "remove_cell"
    ]
   },
   "outputs": [
    {
     "data": {
      "text/html": [
       "<style>\n",
       "figure {\n",
       "    display: flex;\n",
       "    flex-direction: column;\n",
       "    align-items: center;\n",
       "}\n",
       "figure img {\n",
       "    max-width: 900px;\n",
       "    width: 80%;\n",
       "    margin-bottom: 2em;\n",
       "}\n",
       "figcaption {\n",
       "    aria-hidden: true;\n",
       "}\n",
       "</style>\n"
      ],
      "text/plain": [
       "<IPython.core.display.HTML object>"
      ]
     },
     "metadata": {},
     "output_type": "display_data"
    }
   ],
   "source": [
    "%%html\n",
    "<style>\n",
    "figure {\n",
    "    display: flex;\n",
    "    flex-direction: column;\n",
    "    align-items: center;\n",
    "}\n",
    "figure img {\n",
    "    max-width: 900px;\n",
    "    width: 80%;\n",
    "    margin-bottom: 2em;\n",
    "}\n",
    "figcaption {\n",
    "    aria-hidden: true;\n",
    "}\n",
    "</style>"
   ]
  },
  {
   "cell_type": "markdown",
   "id": "ced014b8-8d7f-4558-b1fd-82e94b4795ff",
   "metadata": {
    "tags": []
   },
   "source": [
    "# Results {#sec:lrfk-results}\n",
    "\n",
    "Looking at the results of our MCMC simulations, we find a rich phase diagram with a CDW FTPT and interaction-tuned Anderson versus Mott localised phases similar to the 2D FK model\\ [@antipovInteractionTunedAndersonMott2016]. We explore the localisation properties of the fermionic sector and find that the localisation lengths vary dramatically across the phases and for different energies. Although moderate system sizes indicate the coexistence of localised and delocalised states within the CDW phase, we find quantitatively similar behaviour in a model of uncorrelated binary disorder on a CDW background. For large system sizes, i.e. for our 1D disorder model we can treat linear sizes of several thousand sites, we find that all states are eventually localised with a localisation length which diverges towards zero temperature.\n",
    "\n",
    "<figure>\n",
    "<img src=\"../../figure_code/fk_chapter/phase_diagram/phase_diagram.svg\" style=\"max-width:700px;\"\n",
    "title=\"Long-Range Falicov Kimball Model Phase Diagram\" id=\"phase-diagram-lrfk\">\n",
    "<figcaption>\n",
    "Phase diagrams of the 1D long-range Falicov-Kimball model. (Left) The TJ plane at $U = 5$: the CDW ordered phase is separated from a disordered Mott insulating phase by a critical temperature $T_c$, linear in J. (Right) The TU plane at $J = 5$: the disordered phase is split into two: at large/small U there's a Mott insulator/Anderson phase characterised by the presence/absence of a gap at $E=0$ in the single particle energy spectrum. $U_c$ is independent of temperature. At $U = 0$ the fermions are decoupled from the spins forming a simple Fermi gas. \n",
    "</figcaption>\n",
    "</figure>"
   ]
  },
  {
   "cell_type": "markdown",
   "id": "0e64e78f-c001-4622-bc89-82798d398a47",
   "metadata": {},
   "source": [
    "## Phase Diagram {#lrfk-results-phase-diagram}\n",
    "\n",
    "Using the MCMC methods described in the previous section I will now discuss the results of extensive MCMC simulations of the model, starting with the phase diagram in the fermion spin coupling $U$, the strength of the long-range spin-spin coupling $J$ and the temperature $T$."
   ]
  },
  {
   "cell_type": "markdown",
   "id": "c658e724-1ef6-4a4e-9618-db32ad1ad42a",
   "metadata": {},
   "source": [
    "@Fig:phase-diagram-lrfk shows the phase diagram for constant $U=5$ and constant $J=5$, respectively. The transition temperatures were determined from the crossings of the Binder cumulants $B_4 = \\langle m^4 \\rangle /\\langle m^2 \\rangle^2$\\ [@binderFiniteSizeScaling1981].\n",
    "\n",
    "The CDW transition temperature is largely independent from the strength of the interaction $U$. This demonstrates that the phase transition is driven by the long-range term $J$ with little effect from the coupling to the fermions $U$. The physics of the spin sector in the LRFK model mimics that of the LRI model and is not significantly altered by the presence of the fermions. In 2D the transition to the CDW phase is mediated by an RKYY-like interaction\\ [@rusinCalculationRKKYRange2017] but this is insufficient to stabilise long-range order in 1D. That the critical temperature $T_c$ does not depend on $U$ in our model further confirms this.\n",
    "\n",
    "The main order parameters for this model is the staggered magnetisation $m = N^{-1} \\sum_i (-1)^i S_i$ that signals the onset of a CDW phase at low temperature. However, my main interest concerns the additional structure of the fermionic sector in the high temperature phase. Following Ref.\\ [@antipovInteractionTunedAndersonMott2016], we can distinguish between the Mott and Anderson insulating phases. The Mott insulator is characterised by a gapped DOS in the absence of a CDW, instead the gap is driven entirely by interaction effect. Thus, the opening of a gap for large $U$ is distinct from the gap-opening induced by the translational symmetry breaking in the CDW state below $T_c$. The Anderson phase is gapless but, as we explain below, shows localised fermionic eigenstates hence it also has insulating character."
   ]
  },
  {
   "cell_type": "markdown",
   "id": "09268f96-b73c-4d96-aafc-0f8d1376682c",
   "metadata": {},
   "source": [
    "## Localisation Properties\n",
    "\n",
    "<figure>\n",
    "<img src=\"../../figure_code/fk_chapter/DOS/DOS.svg\" style=\"max-width:700px;\"\n",
    "title=\"Energy resolved DOS($\\omega$) in the difference phases.\">\n",
    "<figcaption>\n",
    "Energy resolved DOS($\\omega$) against system size $N$ in all three phases. The charge density wave phase is shown in both the high and low $U$ regime for completeness. The top left panel shows the Anderson phase at $U = 2$ and high $T = 2.5$, this phase is gapless but does not conduct due to Anderson localisation. In the lower left pane at $U = 2$ and low $T = 1.5$, charge density wave order sets in, allowing the single particle eigenstates to become extended but opening a gap in their band structure. In the upper right panel at $U = 5$ and high $T = 2.5$ the states are localised by disorder and an interaction driven gap opens, a Mott insulator. Finally the charge density wave phase at $U = 5$ and $T = 1.5$ is qualitatively similar to the lower left panel except that the gap scales with $U$. For all the plots $J = 5,\\;\\alpha = 1.25$.\n",
    "</figcaption>\n",
    "</figure>\n",
    "\n",
    "The MCMC formulation suggests viewing the spin configurations as a form of annealed binary disorder whose probability distribution is given by the Boltzmann weight $e^{-\\beta H_S[\\vec{S}] - \\beta F_c[\\vec{S}]}$. This makes apparent the link to the study of disordered systems and Anderson localisation. While these systems are typically studied by defining the probability distribution for the quenched disorder potential externally, here we have a translation invariant system with disorder as a natural consequence of the Ising background field conserved under the dynamics.\n",
    "\n",
    "In the limits of zero and infinite temperature, our model becomes a simple tight-binding model for the fermions. At zero temperature, the spin background is in one of the two translation invariant AFM ground states with two gapped fermionic CDW bands at energies \n",
    "\n",
    "$$E_{\\pm} = \\pm\\sqrt{\\frac{1}{4}U^2 + 2t^2(1 + \\cos ka)^2}\\;.$$\n",
    "\n",
    "At infinite temperature, all the spin configurations become equally likely and the fermionic model reduces to one of binary uncorrelated disorder in which all eigenstates are Anderson localised\\ [@abrahamsScalingTheoryLocalization1979]. An Anderson localised state centered around $r_0$ has magnitude that drops exponentially over some localisation length $\\xi$ i.e $|\\psi(r)|^2 \\sim \\exp{-|r - r_0|/\\xi}$. Calculating $\\xi$ directly is numerically demanding. Therefore, we determine if a given state is localised via the energy-resolved IPR and the DOS defined as \n",
    "\n",
    "$$\\begin{aligned}\n",
    "\\mathrm{DOS}(\\vec{S}, \\omega)& = N^{-1} \\sum_{i} \\delta(\\epsilon_i - \\omega)\\\\\n",
    "\\mathrm{IPR}(\\vec{S}, \\omega)& = \\; N^{-1} \\mathrm{DOS}(\\vec{S}, \\omega)^{-1} \\sum_{i,j} \\delta(\\epsilon_i - \\omega)\\;\\psi^{4}_{i,j}\\end{aligned}$$\n",
    "\n",
    "where $\\epsilon_i$ and $\\psi_{i,j}$ are the $i$th energy level and $j$th element of the corresponding eigenfunction, both dependent on the background spin configuration $\\vec{S}$.\n",
    "\n",
    "<figure>\n",
    "<img src=\"../../figure_code/fk_chapter/DOS/IPR_scaling.svg\" style=\"max-width:700px;\"\n",
    "title=\"Scaling of IPR($\\omega$) against system size $N$.\">\n",
    "<figcaption>\n",
    "The IPR($\\omega$) scaling with $N$ at fixed energy for each phase and for points both in the gap ($\\omega_0$) and in a band ($\\omega_1$). The slope of the line yields the scaling exponent $\\tau$ defined by $\\mathrm{IPR} \\propto N^{-\\tau}$). $\\tau$ close to zero implies that the states at that energy are localised while $\\tau = -d$ corresponds to extended states where $d$ is the system dimension. All but the bands of the charge density wave phase are approximately localised with $\\tau$ is very close to zero. The bands in the charge density wave phase are localised with long localisation lengths at finite temperatures that extend to infinity as the temperature approaches zero. For all the plots $J = 5,\\;\\alpha = 1.25$. The measured $\\tau_0,\\tau_1$ for each figure are: (a) $(0.06\\pm0.01, 0.02\\pm0.01$ (b) $0.04\\pm0.02, 0.00\\pm0.01$ (c) $0.05\\pm0.03, 0.30\\pm0.03$ (d) $0.06\\pm0.04,  0.15\\pm0.05$ We show later that the apparent slight scaling of the IPR with system size in the localised cases can be explained by finite size effects due to the changing defect density with system size rather than due to delocalisation of the states.\n",
    "</figcaption>\n",
    "</figure>\n",
    "\n",
    "The scaling of the IPR with system size $\\mathrm{IPR} \\propto N^{-\\tau}$ depends on the localisation properties of states at that energy. For delocalised states, e.g. Bloch waves, $\\tau$ is the physical dimension. For fully localised states $\\tau$ goes to zero in the thermodynamic limit. However, for special types of disorder such as binary disorder, the localisation lengths can be large comparable to the system size at hand, which can make it difficult to extract the correct scaling. An additional complication arises from the fact that the scaling exponent may display intermediate behaviours for correlated disorder and in the vicinity of a localisation-delocalisation transition\\ [@kramerLocalizationTheoryExperiment1993; @eversAndersonTransitions2008]. The thermal defects of the CDW phase lead to a binary disorder potential with a finite correlation length, which in principle could result in delocalised eigenstates.\n",
    "\n",
    "The key question for our system is then: How is the $T=0$ CDW phase with fully delocalised fermionic states connected to the fully localised phase at high temperatures?"
   ]
  },
  {
   "cell_type": "markdown",
   "id": "f87ff033-ea27-4e6a-be74-466ba5be6403",
   "metadata": {},
   "source": [
    "For a representative set of parameters covering all three phases @fig:DOS shows the density of states as function of energy while @fig:IPR_scaling shows $\\tau$, the scaling exponent of the IPR with system size,  The DOS is symmetric about $0$ because of the particle hole symmetry of the model. At high temperatures, all of the eigenstates are localised in both the Mott and Anderson phases (with $\\tau \\leq 0.07$ for our system sizes). We also checked that the states are localised by direct inspection. Note that there are in-gap states for instance at $\\omega_0$, below the upper band which are localised and smoothly connected across the phase transition.\n",
    "\n",
    "<figure>\n",
    "<img src=\"../../figure_code/fk_chapter/gap_opening/gap_opening_U5.svg\" style=\"max-width:700px;\"\n",
    "title=\"The transition from CDW to the Mott phase\">\n",
    "<figcaption>\n",
    "The DOS (a) and scaling exponent $\\tau$ (b) as a function of energy for the CDW to gapped Mott phase transition at $U=5$. Regions where the DOS is close to zero are shown in white. The scaling exponent $\\tau$ is obtained from fits to $IPR(N) = A N^{-\\lambda}$ for a range of system sizes. $J = 5,\\;\\alpha = 1.25$\n",
    "</figcaption>\n",
    "</figure>\n",
    "\n",
    "In the CDW phases at $U=2$ and $U=5$, we find for the states within the gapped CDW bands, e.g. at $\\omega_1$, scaling exponents $\\tau = 0.30\\pm0.03$ and $\\tau = 0.15\\pm0.05$, respectively. This surprising finding suggests that the CDW bands are partially delocalised with multi-fractal behaviour of the wavefunctions\\ [@eversAndersonTransitions2008]. This phenomenon would be unexpected in a 1D model as they generally do not support delocalisation in the presence of disorder except as the result of correlations in the emergent disorder potential\\ [@croyAndersonLocalization1D2011; @goldshteinPurePointSpectrum1977]. However, we later show by comparison to an uncorrelated Anderson model that these nonzero exponents are a finite size effect and the states are localised with a finite $\\xi$ similar to the system size, an example of weak localisation. As a result, the IPR does not scale correctly until the system size has grown much larger than $\\xi$. @fig:DM_IPR_scaling shows that the scaling of the IPR in the CDW phase does flatten out eventually.\n",
    "\n",
    "Next, we use the DOS and the scaling exponent $\\tau$ to explore the localisation properties over the energy-temperature plane in @fig:gap_opening_U2 and @fig:gap_opening_U5. Gapped areas are shown in white, which highlights the distinction between the gapped Mott phase and the ungapped Anderson phase. In-gap states appear just below the critical point, smoothly filling the bandgap in the Anderson phase and forming islands in the Mott phase. As in the finite\\ [@zondaGaplessRegimeCharge2019] and infinite dimensional\\ [@hassanSpectralPropertiesChargedensitywave2007] cases, the in-gap states merge and are pushed to lower energy for decreasing U as the $T=0$ CDW gap closes. Intuitively, the presence of in-gap states can be understood as a result of domain wall fluctuations away from the AFM ordered background. These domain walls act as local potentials for impurity-like bound states\\ [@zondaGaplessRegimeCharge2019].\n",
    "\n",
    "<figure>\n",
    "<img src=\"../../figure_code/fk_chapter/gap_opening/gap_opening_U2.svg\" style=\"max-width:700px;\"\n",
    "title=\"The transition from CDW to the Anderson Phase\">\n",
    "<figcaption>\n",
    "The DOS (a) and scaling exponent $\\tau$ (b) as a function of energy for the CDW phase to the gapless Anderson insulating phase at $U=2$. Regions where the DOS is close to zero are shown in white. The scaling exponent $\\tau$ is obtained from fits to $IPR(N) = A N^{-\\lambda}$ for a range of system sizes. $J = 5,\\;\\alpha = 1.25$\n",
    "</figcaption>\n",
    "</figure>\n",
    "\n",
    "In order to understand the localisation properties we can compare the behaviour of our model with that of a simpler Anderson disorder model in which the spins are replaced by a CDW background with uncorrelated binary defect potentials. This is defined by replacing the spin degree of freedom in the FK model $S_i = \\pm \\tfrac{1}{2}$ with a disorder potential $d_i = \\pm \\tfrac{1}{2}$ controlled by a defect density $\\rho$ such that $d_i = -\\tfrac{1}{2}$ with probability $\\rho/2$ and $d_i = \\tfrac{1}{2}$ otherwise. $\\rho/2$ is used rather than $\\rho$ so that the disorder potential takes on the zero temperature CDW ground state at $\\rho = 0$ and becomes a random choice over spin states at $\\rho = 1$ i.e the infinite temperature limit.\n",
    "\n",
    "$$\\begin{aligned}\n",
    "H_{\\mathrm{DM}} = & \\;U \\sum_{i} (-1)^i \\; d_i \\;(c^\\dagger_{i}c_{i} - \\tfrac{1}{2}) \\\\\n",
    "& -\\;t \\sum_{i} c^\\dagger_{i}c_{i+1} + c^\\dagger_{i+1}c_{i}\n",
    "\\end{aligned}$$\n",
    "\n",
    "@fig:DM_DOS and @fig:DM_IPR_scaling compare the FK model to the disorder model at different system sizes, matching the defect densities of the disorder model to the FK model at $N = 270$ above and below the CDW transition. We find very good, even quantitative, agreement between the FK and disorder models, which suggests that correlations in the spin sector do not play a significant role. \n",
    "\n",
    "<figure>\n",
    "<img src=\"../../figure_code/fk_chapter/disorder_model/DM_DOS.svg\" style=\"max-width:700px;\"\n",
    "title=\"FK model compared to binary disorder model: DOS\">\n",
    "<figcaption>\n",
    "A comparison of the full FK model to a simple binary disorder model with a CDW wave background perturbed by uncorrelated defects at density $0 < \\rho < 1$ matched to the $\\rho$ for the largest corresponding FK model. As in @fig:DOS, the Energy resolved DOS($\\omega$) is shown. The DOSs match well implying that correlations in the CDW wave fluctuations are not relevant at these system parameters.\n",
    "</figcaption>\n",
    "</figure>\n",
    "\n",
    "As we can sample directly from the disorder model, rather than through MCMC, the samples are uncorrelated. Hence we can evaluate much larger system sizes with the disorder model which enables us to pin down the correct localisation effects. In particular, what appear to be delocalised states for small system sizes eventually turn out to be states with large localisation length. The localisation length diverges towards the ordered zero temperature CDW state. The interplay of interactions, which here produce as peculiar binary potential, and localisation can be very intricate and the added advantage of a 1D model is that we can explore very large system sizes.\n",
    "\n",
    "\n",
    "<figure>\n",
    "<img src=\"../../figure_code/fk_chapter/disorder_model/DM_IPR_scaling.svg\" style=\"max-width:700px;\"\n",
    "title=\"FK model compared to binary disorder model: IPR Scaling\">\n",
    "<figcaption>\n",
    "A comparison of the full FK model to a simple binary disorder model with a CDW wave background perturbed by uncorrelated defects at density $0 < \\rho < 1$ matched to the $\\rho$ for the largest corresponding FK model. As in @fig:IPR_scaling $\\tau(\\omega)$ the scaling of IPR($\\omega$) with system size, , is shown both in gap ($\\omega_0$) and in the band ($\\omega_1$). This data makes clear that the apparent scaling of IPR with system size at small sysis a finite size effect due to weak localisation\\ [@antipovInteractionTunedAndersonMott2016], hence all the states are indeed localised as one would expect in 1D. The disorder model $\\tau_0,\\tau_1$ for each figure are: (a) $0.01\\pm0.05, -0.02\\pm0.06$ (b) $0.01\\pm0.04, -0.01\\pm0.04$ (c) $0.05\\pm0.06, 0.04\\pm0.06$ (d) $-0.03\\pm0.06, 0.01\\pm0.06$. The lines are fit on system sizes $N > 400$ \n",
    "</figcaption>\n",
    "</figure>\n"
   ]
  },
  {
   "cell_type": "markdown",
   "id": "e30073a4-b5c6-4fec-a31f-e6c67776f4e9",
   "metadata": {
    "jp-MarkdownHeadingCollapsed": true,
    "tags": []
   },
   "source": [
    "# Discussion and Conclusion {#fk-conclusion}\n",
    "\n",
    "The FK model is one of the simplest non-trivial models of interacting fermions. We studied its thermodynamic and localisation properties brought down in dimensionality to 1D by adding a novel long-ranged coupling designed to stabilise the CDW phase present in dimension two and above. \n",
    "\n",
    "Our MCMC approach emphasises the presence of a disorder-free localisation mechanism within the translationally invariant system. Further, it gives a significant speed up over the naive method. We show that the LRFK model retains much of the rich phase diagram of its higher dimensional cousins. Careful scaling analysis indicates that all the single particle eigenstates eventually localise at non-zero temperature albeit only for very large system sizes of several thousand.\n",
    "\n",
    "This work raises a number of interesting questions for future research. A straightforward but numerically challenging problem is to pin down the model's behaviour closer to the critical point where correlations in the spin sector would become significant.  Would this modify the localisation behaviour? It has been shown that Anderson models with long-range correlated disorder potentials can have complex localisation behaviour not normally seen in 1D\\ [@aubryAnalyticityBreakingAnderson1980; @shimasakiAnomalousLocalizationMultifractality2022]. MCMC methods with local spin updates tend to experience critical slowing down near classical critical points\\ [@geyerPracticalMarkovChain1992; @levinMarkovChainsMixing2017; @vatsMultivariateOutputAnalysis2015]. Cluster updates methods can help to alleviate this but it is not clear if they can be adapted to incorporate the energetic contributions from the fermion sector\\ [@evertzClusterAlgorithmVertex1993; @fukuiOrderNClusterMonte2009; @wolffCollectiveMonteCarlo1989].\n",
    "\n",
    "Similar to other solvable models of disorder-free localisation, we expect intriguing out-of equilibrium physics, for example slow entanglement dynamics akin to more generic interacting systems\\ [@hartLogarithmicEntanglementGrowth2020]. One could also investigate whether the rich ground state phenomenology of the FK model as a function of filling\\ [@gruberGroundStatesSpinless1990] such as the devil's staircase\\ [@michelettiCompleteDevilTextquotesingles1997] as well as superconductor like states\\ [@caiVisualizingEvolutionMott2016] could be stabilised at finite temperature. \n",
    "\n",
    "In a broader context, we envisage that long-range interactions can also be used to gain a deeper understanding of the temperature evolution of topological phases. One example would be a LRFK version of the celebrated Su-Schrieffer-Heeger (SSH) model where one could explore the interplay of topological bound states and thermal domain wall defects. Finally, the rich physics of our model should be realisable in systems with long-range interactions, such as trapped ion quantum simulators, where one can also explore the fully interacting regime with a dynamical background field."
   ]
  }
 ],
 "metadata": {
  "kernelspec": {
   "display_name": "Python 3.10.6 64-bit",
   "language": "python",
   "name": "python3"
  },
  "language_info": {
   "codemirror_mode": {
    "name": "ipython",
    "version": 3
   },
   "file_extension": ".py",
   "mimetype": "text/x-python",
   "name": "python",
   "nbconvert_exporter": "python",
   "pygments_lexer": "ipython3",
   "version": "3.10.6"
  },
  "vscode": {
   "interpreter": {
    "hash": "aee8b7b246df8f9039afb4144a1f6fd8d2ca17a180786b69acc140d282b71a49"
   }
  }
 },
 "nbformat": 4,
 "nbformat_minor": 5
}
