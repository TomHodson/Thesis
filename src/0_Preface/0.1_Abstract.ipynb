{
 "cells": [
  {
   "cell_type": "raw",
   "id": "8397274a-4e7c-4b7d-ba18-3fe4d04e6e47",
   "metadata": {},
   "source": [
    "---\n",
    "title: Abstract\n",
    "description: \n",
    "image:\n",
    "layout: thesis\n",
    "---"
   ]
  },
  {
   "cell_type": "markdown",
   "id": "517459ec-1d0d-42ef-82f7-bbbedcf7af74",
   "metadata": {},
   "source": [
    "An abstract will go here once I've written everything else."
   ]
  }
 ],
 "metadata": {
  "kernelspec": {
   "display_name": "Python 3 (ipykernel)",
   "language": "python",
   "name": "python3"
  },
  "language_info": {
   "codemirror_mode": {
    "name": "ipython",
    "version": 3
   },
   "file_extension": ".py",
   "mimetype": "text/x-python",
   "name": "python",
   "nbconvert_exporter": "python",
   "pygments_lexer": "ipython3",
   "version": "3.10.4"
  }
 },
 "nbformat": 4,
 "nbformat_minor": 5
}
