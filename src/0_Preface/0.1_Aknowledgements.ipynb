{
 "cells": [
  {
   "cell_type": "raw",
   "id": "8397274a-4e7c-4b7d-ba18-3fe4d04e6e47",
   "metadata": {},
   "source": [
    "---\n",
    "title: Aknowledgements\n",
    "description: \n",
    "image:\n",
    "layout: thesis\n",
    "---"
   ]
  },
  {
   "cell_type": "markdown",
   "id": "517459ec-1d0d-42ef-82f7-bbbedcf7af74",
   "metadata": {},
   "source": [
    "I would like to thank my supervisor, Professor Johannes Knolle and co-supervisor Professor Derek Lee for guidance and support during this long process. \n",
    "\n",
    "Dan Hdidouan for being an example of how to weather the stress of a PhD with grace and kindness.\n",
    "\n",
    "Arnaud for help and guidance...\n",
    "\n",
    "Carolyn, Juraci, Ievgeniia and Loli for their patience and support.\n",
    "\n",
    "Nina del Ser \n",
    "\n",
    "Brian Tam for his endless energy on our many many calls while we served as joint Postgraduate reps for the department.\n",
    "\n",
    "All the students in CMTH, Halvard, Tom, Chris, Krishnan, David, Tonny, Emanuele ... and particularly to  Thank you to the CMT group at TUM in Munich, Alex and Rohit.\n",
    "\n",
    "Gino, Peru and Willian for their collaboration on the Amorphous Kitaev Model.\n",
    "\n",
    "Mr Jeffries who encouraged me to pursue physics\n",
    "\n",
    "All the gang from Munich, Toni, Mine, Mike, Claudi.\n",
    "\n",
    "Dan Simpson, the poet in residence at Imperial and one of my favourite collaborators during my time at Imperial.\n",
    "\n",
    "Lou Khalfaoui for keeping me sane during the lockdown of March 2022. Sophie Nadel, Julie Ketcher and Kim ??? for their graphic design expertise and patience.\n",
    "\n",
    "\n",
    "All the I-Stemm team, Katerina, Jeremey, John, ....\n",
    "\n",
    "And finally, I'd like the thank the staff of the Camberwell Public Library where the majority of this thesis was written. "
   ]
  }
 ],
 "metadata": {
  "kernelspec": {
   "display_name": "Python 3 (ipykernel)",
   "language": "python",
   "name": "python3"
  },
  "language_info": {
   "codemirror_mode": {
    "name": "ipython",
    "version": 3
   },
   "file_extension": ".py",
   "mimetype": "text/x-python",
   "name": "python",
   "nbconvert_exporter": "python",
   "pygments_lexer": "ipython3",
   "version": "3.10.4"
  }
 },
 "nbformat": 4,
 "nbformat_minor": 5
}
