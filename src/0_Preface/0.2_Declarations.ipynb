{
 "cells": [
  {
   "cell_type": "raw",
   "id": "8397274a-4e7c-4b7d-ba18-3fe4d04e6e47",
   "metadata": {},
   "source": [
    "---\n",
    "title: Declarations\n",
    "description: \n",
    "image:\n",
    "layout: thesis\n",
    "---"
   ]
  },
  {
   "cell_type": "markdown",
   "id": "517459ec-1d0d-42ef-82f7-bbbedcf7af74",
   "metadata": {},
   "source": [
    "### Versions of this document\n",
    "A PDF version of document is available online with either [normal][pdf] or [double][double_pdf] line spacing. An [HTML version][html] is also available with some figures animated.\n",
    "\n",
    "\n",
    "### Statement of Originality\n",
    "I declare that the following work is entirely my own except where stated otherwise. Contributions from collaborators and others have been acknowledged by standard referencing practices. I have permissions to reproduce any third party copyrighted material which are included at the end of this thesis.\n",
    "\n",
    "\\rightline{\\textit{Thomas Hodson, October 2022}}\n",
    "\n",
    "### Copyright Declaration\n",
    "The copyright of this thesis rests with the author. Unless otherwise indicated, its contents are licensed under a Creative Commons Attribution-Non Commercial 4.0 International Licence (CC BY-NC). Under this licence, you may copy and redistribute the material in any medium or format. You may also create and distribute modified versions of the work. This is on the condition that: you credit the author and do not use it, or any derivative works, for a commercial purpose. When reusing or sharing this work, ensure you make the licence terms clear to others by naming the licence and linking to the licence text. Where a work has been adapted, you should indicate that the work has been changed and describe those changes. Please seek permission from the copyright holder for uses of this work that are not included in this licence or permitted under UK Copyright Law.\n",
    "\\\\\n",
    "\\noindent https://doi.org/10.5281/zenodo.7143205\n",
    "\n",
    "[pdf]: https://github.com/TomHodson/Thesis/raw/main/thesis.pdf\n",
    "[double_pdf]: https://github.com/TomHodson/Thesis/raw/main/double_line_spaced.pdf\n",
    "[html]: http://thomashodson.com/thesis/"
   ]
  }
 ],
 "metadata": {
  "kernelspec": {
   "display_name": "Python 3.10.6 64-bit",
   "language": "python",
   "name": "python3"
  },
  "language_info": {
   "codemirror_mode": {
    "name": "ipython",
    "version": 3
   },
   "file_extension": ".py",
   "mimetype": "text/x-python",
   "name": "python",
   "nbconvert_exporter": "python",
   "pygments_lexer": "ipython3",
   "version": "3.10.6"
  },
  "vscode": {
   "interpreter": {
    "hash": "aee8b7b246df8f9039afb4144a1f6fd8d2ca17a180786b69acc140d282b71a49"
   }
  }
 },
 "nbformat": 4,
 "nbformat_minor": 5
}
