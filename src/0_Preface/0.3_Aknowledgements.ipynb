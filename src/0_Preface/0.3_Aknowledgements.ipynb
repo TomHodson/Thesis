{
 "cells": [
  {
   "cell_type": "raw",
   "id": "8397274a-4e7c-4b7d-ba18-3fe4d04e6e47",
   "metadata": {},
   "source": [
    "---\n",
    "title: Aknowledgements\n",
    "description: \n",
    "image:\n",
    "layout: thesis\n",
    "---"
   ]
  },
  {
   "cell_type": "markdown",
   "id": "517459ec-1d0d-42ef-82f7-bbbedcf7af74",
   "metadata": {},
   "source": [
    "I would like to thank my supervisor, Professor Johannes Knolle and co-supervisor Professor Derek Lee for guidance and support during this long process. Thanks also to Professors Kim Christensen and Dr Arnaud Czaja for pastoral support. To Angus MacKinnon and Matthew Foulkes for helpful discussions on physics. To all the administrative staff at Imperial, particularly Carolyn, Juraci, Ievgeniia and Loli, for their patience and support. To everyone at the Imperial Mental Health Service. To all the students in CMTH at Imperial and in the CMT group at TUM. Particularly to Gino, Josef and Krishnan for proofreading.\n",
    "\n",
    "To all the Research Computing and Data Science team at Imperial, Katerina, Jeremy, John, Liam and everyone else, you were a pleasure to work with.\n",
    "\n",
    "To Laura and Nina, for being there since the very beginning.\n",
    "\n",
    "To Dan Hdidouan for being an example of how to weather the stress of a PhD with grace and kindness. To Petchara, Hannah, Heloi and the rest of the Environmental Society. To Brian for your endless energy on our many calls while we were postgraduate reps. To Dan Simpson and Sophie Nadel, my favourite poetic collaborators. \n",
    "\n",
    "To all the gang from Munich, Mike, Claudi, Tobi, Toni, Thomas, Trang, Mine, Jianni, Anne and many others, you're welcome at mine any time. To Julie and Kim, a piece of my heart will always be in the woods (and the container) with you both. To all my friends from London, particularly Shreya, Pushkar, Tom and Monty. To Lou, for keeping me sane during the great lockdown of spring '20. To the staff of the Camberwell Public Library, where the first seeds of this thesis were written. To Tammi and Mr Jeffries, if it wasn't for teachers like you, I doubt any of us would be here. \n",
    "\n",
    "To my family and to Anna, you already know how much I appreciate you."
   ]
  }
 ],
 "metadata": {
  "kernelspec": {
   "display_name": "Python 3 (ipykernel)",
   "language": "python",
   "name": "python3"
  },
  "language_info": {
   "codemirror_mode": {
    "name": "ipython",
    "version": 3
   },
   "file_extension": ".py",
   "mimetype": "text/x-python",
   "name": "python",
   "nbconvert_exporter": "python",
   "pygments_lexer": "ipython3",
   "version": "3.10.4"
  },
  "vscode": {
   "interpreter": {
    "hash": "aee8b7b246df8f9039afb4144a1f6fd8d2ca17a180786b69acc140d282b71a49"
   }
  }
 },
 "nbformat": 4,
 "nbformat_minor": 5
}
