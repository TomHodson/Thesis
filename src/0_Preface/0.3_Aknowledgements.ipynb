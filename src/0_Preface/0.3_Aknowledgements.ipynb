{
 "cells": [
  {
   "cell_type": "raw",
   "id": "8397274a-4e7c-4b7d-ba18-3fe4d04e6e47",
   "metadata": {},
   "source": [
    "---\n",
    "title: Aknowledgements\n",
    "description: \n",
    "image:\n",
    "layout: thesis\n",
    "---"
   ]
  },
  {
   "cell_type": "markdown",
   "id": "517459ec-1d0d-42ef-82f7-bbbedcf7af74",
   "metadata": {},
   "source": [
    "Acknowledgements here.\n",
    "\n",
    "I would like to thank my supervisor, Professor Johannes Knolle and co-supervisor Professor Derek Lee for guidance and support during this long process. Thanks also to Professors Kim Christensen and Dr Arnaud Czaja for our pastoral support. To Angus MacKinnon and Matthew Foulkes for helpful discussions on physics. To all the administrative staff who I encountered during my time to Imperial but particularly Carolyn, Juraci, Ievgeniia and Loli for their patience and support.\n",
    "\n",
    "To all the students in CMTH at Imperial and the CMT group at TUM particularly to Gino, Josef and Krishnan for proofreading.  To Nina, for being there since that very first supervision! \n",
    "\n",
    "To Dan Hdidouan for being an example of how to weather the stress of a PhD with grace and kindness. To Brian for your endless energy on our many many calls while we served as postgraduate reps for the department. To Dan Simpson, the poet in residence at Imperial and one of my favourite collaborators during my time at Imperial.\n",
    "\n",
    "To all the gang from Munich, Toni, Mine, Mike, Claudi, Annelie and Tobi, you're welcome at mine any time. To Julie and Kim, \n",
    "\n",
    "To Mr Jeffries who encouraged me to pursue physics\n",
    "\n",
    "Gino, Peru and Willian for their collaboration on the Amorphous Kitaev model.\n",
    "\n",
    "\n",
    "To Lou Khalfaoui for keeping me sane during the lockdown of March 2022. Sophie Nadel, ??? for their graphic design expertise and patience.\n",
    "\n",
    "\n",
    "To all the ??? team, Katerina, Jeremey, John, who were pleasure to work with.\n",
    "\n",
    "And finally, I'd like the thank the staff of the Camberwell Public Library where the majority of this thesis was written."
   ]
  }
 ],
 "metadata": {
  "kernelspec": {
   "display_name": "Python 3 (ipykernel)",
   "language": "python",
   "name": "python3"
  },
  "language_info": {
   "codemirror_mode": {
    "name": "ipython",
    "version": 3
   },
   "file_extension": ".py",
   "mimetype": "text/x-python",
   "name": "python",
   "nbconvert_exporter": "python",
   "pygments_lexer": "ipython3",
   "version": "3.10.4"
  },
  "vscode": {
   "interpreter": {
    "hash": "aee8b7b246df8f9039afb4144a1f6fd8d2ca17a180786b69acc140d282b71a49"
   }
  }
 },
 "nbformat": 4,
 "nbformat_minor": 5
}
