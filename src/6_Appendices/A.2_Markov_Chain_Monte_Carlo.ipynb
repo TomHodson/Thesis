{
 "cells": [
  {
   "cell_type": "raw",
   "id": "92bc3369-4319-4c4c-a874-fcea44317e00",
   "metadata": {
    "tags": []
   },
   "source": [
    "---\n",
    "title: Markov Chain Monte Carlo\n",
    "description:\n",
    "image:\n",
    "layout: thesis\n",
    "---"
   ]
  },
  {
   "cell_type": "code",
   "execution_count": 1,
   "id": "313e444a-a21d-43b1-8111-fee800485c15",
   "metadata": {
    "tags": [
     "remove_cell"
    ]
   },
   "outputs": [
    {
     "data": {
      "text/html": [
       "<style>\n",
       "figure {\n",
       "    display: flex;\n",
       "    flex-direction: column;\n",
       "    align-items: center;\n",
       "}\n",
       "figure img {\n",
       "    max-width: 900px;\n",
       "    width: 80%;\n",
       "    margin-bottom: 2em;\n",
       "}\n",
       "figcaption {\n",
       "    aria-hidden: true;\n",
       "}\n",
       "</style>\n"
      ],
      "text/plain": [
       "<IPython.core.display.HTML object>"
      ]
     },
     "metadata": {},
     "output_type": "display_data"
    }
   ],
   "source": [
    "%%html\n",
    "<style>\n",
    "figure {\n",
    "    display: flex;\n",
    "    flex-direction: column;\n",
    "    align-items: center;\n",
    "}\n",
    "figure img {\n",
    "    max-width: 900px;\n",
    "    width: 80%;\n",
    "    margin-bottom: 2em;\n",
    "}\n",
    "figcaption {\n",
    "    aria-hidden: true;\n",
    "}\n",
    "</style>"
   ]
  },
  {
   "cell_type": "markdown",
   "id": "0e5693e6-26cc-4a50-94a0-cb5a26ef2418",
   "metadata": {},
   "source": [
    "# Markov Chain Monte Carlo"
   ]
  },
  {
   "cell_type": "markdown",
   "id": "28e9192f-14a9-4f7d-b59e-11d1b3c9f58c",
   "metadata": {},
   "source": [
    "## Applying MCMC to the FK model\n",
    "MCMC can be applied to sample over the classical degrees of freedom of the model. We take the full Hamiltonian and split it into a classical and a quantum part:\n",
    "$$\\begin{aligned}\n",
    "    H_{\\mathrm{FK}} &= -\\sum_{<ij>} c^\\dagger_{i}c_{j} + U \\sum_{i} (c^\\dagger_{i}c_{i} - 1/2)( n_i - 1/2) \\\\\n",
    "    &+ \\sum_{ij} J_{ij} (n_i - 1/2) (n_j - 1/2)  - \\mu \\sum_i (c^\\dagger_{i}c_{i} + n_i)\\\\\n",
    "    H_q &= -\\sum_{<ij>} c^\\dagger_{i}c_{j} + \\sum_{i} \\left(U(n_i - 1/2) - \\mu\\right) c^\\dagger_{i}c_{i}\\\\\n",
    "    H_c &= \\sum_i \\mu n_i - \\frac{U}{2}(n_i - 1/2) + \\sum_{ij}J_{ij}(n_i - 1/2)(n_j - 1/2)\n",
    "\\end{aligned}\n",
    "$$\n",
    "\n",
    "There are $2^N$ possible ion configurations $\\{ n_i \\}$, we define $n^k_i$ to be the occupation of the ith site of the kth configuration. The quantum part of the free energy can then be defined through the quantum partition function $\\mathcal{Z}^k$ associated with each ionic state $n^k_i$:\n",
    "$$\\begin{aligned}\n",
    "F^k &= -1/\\beta \\ln{\\mathcal{Z}^k} \\\\\n",
    "\\end{aligned}$$\n",
    "%\n",
    "Such that the overall partition function is:\n",
    "$$\\begin{aligned}\n",
    "\\mathcal{Z} &= \\sum_k e^{- \\beta H^k} Z^k \\\\\n",
    "&= \\sum_k e^{-\\beta (H^k + F^k)} \\\\\n",
    "\\end{aligned}$$\n",
    "%\n",
    "Because fermions are limited to occupation numbers of 0 or 1 $Z^k$ simplifies nicely. If $m^j_i = \\{0,1\\}$ is defined as the occupation of the level with energy $\\epsilon^k_i$ then the partition function is a sum over all the occupation states labelled by j:\n",
    "$$\\begin{aligned}\n",
    "Z^k    &= \\Tr e^{-\\beta F^k} = \\sum_j e^{-\\beta \\sum_i m^j_i \\epsilon^k_i}\\\\\n",
    "       &= \\sum_j \\prod_i e^{- \\beta m^j_i \\epsilon^k_i}= \\prod_i \\sum_j e^{- \\beta m^j_i \\epsilon^k_i}\\\\\n",
    "       &= \\prod_i (1 + e^{- \\beta \\epsilon^k_i})\\\\\n",
    "F^k    &= -1/\\beta \\sum_k \\ln{(1 + e^{- \\beta \\epsilon^k_i})}\n",
    "\\end{aligned}$$\n",
    "%\n",
    "Observables can then be calculated from the partition function, for examples the occupation numbers:\n",
    "\n",
    "$$\\begin{aligned}\n",
    "\\tex{N} &= \\frac{1}{\\beta} \\frac{1}{Z} \\frac{\\partial Z}{\\partial \\mu} = - \\frac{\\partial F}{\\partial \\mu}\\\\\n",
    "    &= \\frac{1}{\\beta} \\frac{1}{Z} \\frac{\\partial}{\\partial \\mu} \\sum_k e^{-\\beta (H^k + F^k)}\\\\\n",
    "    &= 1/Z \\sum_k (N^k_{\\mathrm{ion}} + N^k_{\\mathrm{electron}}) e^{-\\beta (H^k + F^k)}\\\\\n",
    "\\end{aligned}$$\n",
    "%\n",
    "with the definitions:\n",
    "\n",
    "$$\\begin{aligned}\n",
    "N^k_{\\mathrm{ion}} &= - \\frac{\\partial H^k}{\\partial \\mu} = \\sum_i n^k_i\\\\\n",
    "N^k_{\\mathrm{electron}} &= - \\frac{\\partial F^k}{\\partial \\mu} = \\sum_i \\left(1 + e^{\\beta \\epsilon^k_i}\\right)^{-1}\\\\\n",
    "\\end{aligned}$$\n",
    "%\n",
    "The MCMC algorithm consists of performing a random walk over the states $\\{ n^k_i \\}$. In the simplest case the proposal distribution corresponds to flipping a random site from occupied to unoccupied or vice versa, since this proposal is symmetric the acceptance function becomes:\n",
    "$$\\begin{aligned} \n",
    "P(k) &= \\mathcal{Z}^{-1} e^{-\\beta(H^k + F^k)} \\\\\n",
    "\\mathcal{A}(k \\to k') &= \\min\\left(1, \\frac{P(k')}{P(k)}\\right) = \\min\\left(1, e^{\\beta(H^{k'} + F^{k'})-\\beta(H^k + F^k)}\\right)\n",
    "\\end{aligned}$$\n",
    "%\n",
    "At each step $F^k$ is calculated by diagonalising the tri-diagonal matrix representation of $H_q$ with open boundary conditions. Observables are simply averages over the their value at each step of the random walk. The full spectrum and eigenbasis is too large to save to disk so usually running averages of key observables are taken as the walk progresses.\n"
   ]
  },
  {
   "cell_type": "code",
   "execution_count": null,
   "id": "0a2ea446-05e0-4beb-9e71-226d11941f85",
   "metadata": {},
   "outputs": [],
   "source": []
  }
 ],
 "metadata": {
  "kernelspec": {
   "display_name": "Python 3 (ipykernel)",
   "language": "python",
   "name": "python3"
  },
  "language_info": {
   "codemirror_mode": {
    "name": "ipython",
    "version": 3
   },
   "file_extension": ".py",
   "mimetype": "text/x-python",
   "name": "python",
   "nbconvert_exporter": "python",
   "pygments_lexer": "ipython3",
   "version": "3.10.4"
  }
 },
 "nbformat": 4,
 "nbformat_minor": 5
}
