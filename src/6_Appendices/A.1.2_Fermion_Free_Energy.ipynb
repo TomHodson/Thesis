{
 "cells": [
  {
   "cell_type": "raw",
   "id": "92bc3369-4319-4c4c-a874-fcea44317e00",
   "metadata": {
    "tags": []
   },
   "source": [
    "---\n",
    "title: Particle-Hole Symmetry\n",
    "description:\n",
    "image:\n",
    "layout: thesis\n",
    "---"
   ]
  },
  {
   "cell_type": "code",
   "execution_count": 1,
   "id": "313e444a-a21d-43b1-8111-fee800485c15",
   "metadata": {
    "tags": [
     "remove_cell"
    ]
   },
   "outputs": [
    {
     "data": {
      "text/html": [
       "<style>\n",
       "figure {\n",
       "    display: flex;\n",
       "    flex-direction: column;\n",
       "    align-items: center;\n",
       "}\n",
       "figure img {\n",
       "    max-width: 900px;\n",
       "    width: 80%;\n",
       "    margin-bottom: 2em;\n",
       "}\n",
       "figcaption {\n",
       "    aria-hidden: true;\n",
       "}\n",
       "</style>\n"
      ],
      "text/plain": [
       "<IPython.core.display.HTML object>"
      ]
     },
     "metadata": {},
     "output_type": "display_data"
    }
   ],
   "source": [
    "%%html\n",
    "<style>\n",
    "figure {\n",
    "    display: flex;\n",
    "    flex-direction: column;\n",
    "    align-items: center;\n",
    "}\n",
    "figure img {\n",
    "    max-width: 900px;\n",
    "    width: 80%;\n",
    "    margin-bottom: 2em;\n",
    "}\n",
    "figcaption {\n",
    "    aria-hidden: true;\n",
    "}\n",
    "</style>"
   ]
  },
  {
   "cell_type": "markdown",
   "id": "3abeb6f6-1072-4b4e-92d3-0bdb8d7bd87f",
   "metadata": {},
   "source": [
    "# Evaluation of the Fermion Free Energy"
   ]
  },
  {
   "cell_type": "markdown",
   "id": "8fa68bc4-bbf2-42d1-924c-b2fe90a7797d",
   "metadata": {},
   "source": [
    "There are $2^N$ possible configurations of the spins in the LRFK model. In the language of ions and electrons (immobile and mobile species), we define $n^k_i$ to be the occupation of the $i$th site of the $k$th configuration. The quantum part of the free energy can then be defined through the quantum partition function $\\mathcal{Z}^k$ associated with each state $n^k_i$:\n",
    "\n",
    "$$\\begin{aligned}\n",
    "F^k &= -1/\\beta \\ln{\\mathcal{Z}^k}, \\\\\n",
    "\\end{aligned}$$\n",
    "\n",
    "such that the overall partition function is:\n",
    "\n",
    "$$\\begin{aligned}\n",
    "\\mathcal{Z} &= \\sum_k e^{- \\beta H^k} Z^k \\\\\n",
    "&= \\sum_k e^{-\\beta (H^k + F^k)}. \\\\\n",
    "\\end{aligned}$$"
   ]
  },
  {
   "cell_type": "markdown",
   "id": "e3c8f262-51a5-4992-a786-96c7158f3536",
   "metadata": {},
   "source": [
    "Fermions are limited to occupation numbers of 0 or 1, so $Z^k$ simplifies nicely. If $m^j_i = \\{0,1\\}$ is defined as the occupation of the level with energy $\\epsilon^k_i$ then the partition function is a sum over all the occupation states labelled by $j$:\n",
    "\n",
    "$$\\begin{aligned}\n",
    "Z^k    &= \\mathrm{Tr} e^{-\\beta F^k} = \\sum_j e^{-\\beta \\sum_i m^j_i \\epsilon^k_i}\\\\\n",
    "       &= \\sum_j \\prod_i e^{- \\beta m^j_i \\epsilon^k_i}= \\prod_i \\sum_j e^{- \\beta m^j_i \\epsilon^k_i}\\\\\n",
    "       &= \\prod_i (1 + e^{- \\beta \\epsilon^k_i})\\\\\n",
    "F^k    &= -1/\\beta \\sum_k \\ln{(1 + e^{- \\beta \\epsilon^k_i})}.\n",
    "\\end{aligned}$$\n",
    "\n",
    "Observables can then be calculated from the partition function, for examples the occupation numbers:\n",
    "\n",
    "$$\\begin{aligned}\n",
    "\\langle N \\rangle &= \\frac{1}{\\beta} \\frac{1}{Z} \\frac{\\partial Z}{\\partial \\mu} = - \\frac{\\partial F}{\\partial \\mu}\\\\\n",
    "    &= \\frac{1}{\\beta} \\frac{1}{Z} \\frac{\\partial}{\\partial \\mu} \\sum_k e^{-\\beta (H^k + F^k)}\\\\\n",
    "    &= 1/Z \\sum_k (N^k_{\\mathrm{ion}} + N^k_{\\mathrm{electron}}) e^{-\\beta (H^k + F^k)},\\\\\n",
    "\\end{aligned}$$\n",
    "\n",
    "with the definitions:\n",
    "\n",
    "$$\\begin{aligned}\n",
    "N^k_{\\mathrm{ion}} &= - \\frac{\\partial H^k}{\\partial \\mu} = \\sum_i n^k_i\\\\\n",
    "N^k_{\\mathrm{electron}} &= - \\frac{\\partial F^k}{\\partial \\mu} = \\sum_i \\left(1 + e^{\\beta \\epsilon^k_i}\\right)^{-1}.\\\\\n",
    "\\end{aligned}$$"
   ]
  }
 ],
 "metadata": {
  "kernelspec": {
   "display_name": "Python 3 (ipykernel)",
   "language": "python",
   "name": "python3"
  },
  "language_info": {
   "codemirror_mode": {
    "name": "ipython",
    "version": 3
   },
   "file_extension": ".py",
   "mimetype": "text/x-python",
   "name": "python",
   "nbconvert_exporter": "python",
   "pygments_lexer": "ipython3",
   "version": "3.10.4"
  }
 },
 "nbformat": 4,
 "nbformat_minor": 5
}
