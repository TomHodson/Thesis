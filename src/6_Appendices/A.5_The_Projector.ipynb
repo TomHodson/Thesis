{
 "cells": [
  {
   "cell_type": "raw",
   "id": "92bc3369-4319-4c4c-a874-fcea44317e00",
   "metadata": {
    "tags": []
   },
   "source": [
    "---\n",
    "title: The Projector\n",
    "description:\n",
    "image:\n",
    "layout: thesis\n",
    "---"
   ]
  },
  {
   "cell_type": "code",
   "execution_count": 1,
   "id": "313e444a-a21d-43b1-8111-fee800485c15",
   "metadata": {
    "tags": [
     "remove_cell"
    ]
   },
   "outputs": [
    {
     "data": {
      "text/html": [
       "<style>\n",
       "figure {\n",
       "    display: flex;\n",
       "    flex-direction: column;\n",
       "    align-items: center;\n",
       "}\n",
       "figure img {\n",
       "    max-width: 900px;\n",
       "    width: 80%;\n",
       "    margin-bottom: 2em;\n",
       "}\n",
       "figcaption {\n",
       "    aria-hidden: true;\n",
       "}\n",
       "</style>\n"
      ],
      "text/plain": [
       "<IPython.core.display.HTML object>"
      ]
     },
     "metadata": {},
     "output_type": "display_data"
    }
   ],
   "source": [
    "%%html\n",
    "<style>\n",
    "figure {\n",
    "    display: flex;\n",
    "    flex-direction: column;\n",
    "    align-items: center;\n",
    "}\n",
    "figure img {\n",
    "    max-width: 900px;\n",
    "    width: 80%;\n",
    "    margin-bottom: 2em;\n",
    "}\n",
    "figcaption {\n",
    "    aria-hidden: true;\n",
    "}\n",
    "</style>"
   ]
  },
  {
   "cell_type": "markdown",
   "id": "0e5693e6-26cc-4a50-94a0-cb5a26ef2418",
   "metadata": {},
   "source": [
    "# The Projector {#app-the-projector}"
   ]
  },
  {
   "cell_type": "markdown",
   "id": "453c89d9-7dc9-4eff-8994-c98b5c25ba7b",
   "metadata": {},
   "source": [
    "The projection from the extended space to the physical space will not be particularly important for the results presented here. However, the theory remains useful to explain why this is.\n",
    "\n",
    "<!-- <figure>\n",
    "<img src=\"../../figure_code/amk_chapter/hilbert_spaces.svg\" style=\"max-width:700px;\" title=\"How the different Hilbert Spaces relate to one another\">\n",
    "<figcaption>The relationship between the different Hilbert spaces used in the solution. __needs updating__ </figcaption>\n",
    "</figure> -->"
   ]
  },
  {
   "cell_type": "markdown",
   "id": "3b5515c7-d6b3-4ed9-a50e-e4292a0d7bb1",
   "metadata": {},
   "source": [
    "The physical states are defined as those for which $D_i |\\phi\\rangle = |\\phi\\rangle$ for all $D_i$. Since $D_i$ has eigenvalues $\\pm1$, the quantity $\\tfrac{(1+D_i)}{2}$ has eigenvalue $1$ for physical states and $0$ for extended states so is the local projector onto the physical subspace. "
   ]
  },
  {
   "cell_type": "markdown",
   "id": "cb400617-8e72-4573-910e-57ce02860225",
   "metadata": {},
   "source": [
    "Therefore, the global projector is \n",
    "$$ \\mathcal{P} = \\prod_{i=1}^{2N} \\left( \\frac{1 + D_i}{2}\\right)$$\n",
    "\n",
    "for a toroidal trivalent lattice with $N$ plaquettes $2N$ vertices and $3N$ edges. As discussed earlier, the product over $(1 + D_j)$ can also be thought of as the sum of all possible subsets $\\{i\\}$ of the $D_j$ operators, which is the set of all possible gauge symmetry operations. \n",
    "\n",
    "$$ \\mathcal{P} = \\frac{1}{2^{2N}} \\sum_{\\{i\\}} \\prod_{i\\in\\{i\\}} D_i$$"
   ]
  },
  {
   "cell_type": "markdown",
   "id": "02d25418-2cb8-4f91-a01f-075c59691729",
   "metadata": {},
   "source": [
    "Since the gauge operators $D_j$ commute and square to one, we can define the complement operator $C = \\prod_{i=1}^{2N} D_i$ and see that it takes each set of $\\prod_{i \\in \\{i\\}} D_j$ operators and gives us the complement of that set. We will shortly see why $C$ is the identity in the physical subspace, as noted earlier. "
   ]
  },
  {
   "cell_type": "markdown",
   "id": "0113463c-04ad-4f40-a417-df7269deddd6",
   "metadata": {},
   "source": [
    "We use the complement operator to rewrite the projector as a sum over half the subsets of $\\{i\\}$ - referred to as $\\Lambda$. The complement operator deals with the other half\n",
    "\n",
    "$$ \\mathcal{P} =  \\left( \\frac{1}{2^{2N-1}} \\sum_{\\Lambda} \\prod_{i\\in\\{i\\}} D_i\\right) \\left(\\frac{1 + \\prod_i^{2N} D_i}{2}\\right) = \\mathcal{S} \\cdot \\mathcal{P}_0$$\n",
    "\n",
    "To compute $\\mathcal{P}_0$, the main quantity needed is the product of the local projectors $D_i$\n",
    "$$\\prod_i^{2N} D_i = \\prod_i^{2N} b^x_i b^y_i b^z_i c_i $$\n",
    "for a toroidal trivalent lattice with $N$ plaquettes $2N$ vertices and $3N$ edges. \n",
    "\n",
    "First, we reorder the operators by bond type. This does not require any information about the underlying lattice.\n",
    "\n",
    "$$\\prod_i^{2N} D_i = \\prod_i^{2N} b^x_i \\prod_i^{2N} b^y_i \\prod_i^{2N} b^z_i \\prod_i^{2N} c_i$$\n",
    "\n",
    "The product over $c_i$ operators reduces to a determinant of the Q matrix and the fermion parity, see\\ [@pedrocchiPhysicalSolutionsKitaev2011]. The only difference from the honeycomb case is that we cannot explicitly compute the factors $p_x,p_y,p_z = \\pm\\;1$ that arise from reordering the b operators such that pairs of vertices linked by the corresponding bonds are adjacent."
   ]
  },
  {
   "cell_type": "markdown",
   "id": "05f370ca-d3ae-42c2-a66e-bea76c3c7c17",
   "metadata": {},
   "source": [
    "$$\\prod_i^{2N} b^\\alpha_i = p_\\alpha \\prod_{(i,j)}b^\\alpha_i b^\\alpha_j$$\n",
    "\n",
    "However, they are simply the parity of the permutation from one ordering to the other and can be computed in linear time with a cycle decomposition\\ [@sedgewickPermutationGenerationMethods1977].\n",
    "\n",
    "We find that\n",
    "$$\\mathcal{P}_0 = 1 + p_x\\;p_y\\;p_z\\; \\hat{\\pi} \\; \\mathrm{det}(Q^u) \\; \\prod_{\\{i,j\\}} -iu_{ij}$$ "
   ]
  },
  {
   "cell_type": "markdown",
   "id": "421b18ca-7a3f-444f-ae9c-ba6834fbb6ae",
   "metadata": {
    "tags": []
   },
   "source": [
    "where $p_x\\;p_y\\;p_z = \\pm 1$ are lattice structure factors and $\\mathrm{det}(Q^u)$ is the determinant of the matrix mentioned earlier that maps $c_i$ operators to normal mode operators $b'_i, b''_i$. These depend only on the lattice structure. \n",
    "\n",
    "$\\hat{\\pi} = \\prod{i}^{N} (1 - 2\\hat{n}_i)$ is the parity of the particular many-body state determined by fermionic occupation numbers $n_i$. As discussed in\\ [@pedrocchiPhysicalSolutionsKitaev2011], $\\hat{\\pi}$ is gauge invariant in the sense that $[\\hat{\\pi}, D_i] = 0$.\n",
    "\n",
    "This implies that $det(Q^u) \\prod -i u_{ij}$ is also a gauge invariant quantity. In translation invariant models this quantity which can be related to the parity of the number of vortex pairs in the system\\ [@yaoAlgebraicSpinLiquid2009].\n",
    "\n",
    "All these factors take values $\\pm 1$ so $\\mathcal{P}_0$ is 0 or 1 for a particular state. Since $\\mathcal{S}$ corresponds to symmetrising over all the gauge configurations and cannot be 0, once we have determined the single particle eigenstates of a bond sector, the true many-body ground state has the same energy as either the empty state with $n_i = 0$ or a state with a single fermion in the lowest level. "
   ]
  }
 ],
 "metadata": {
  "kernelspec": {
   "display_name": "Python 3 (ipykernel)",
   "language": "python",
   "name": "python3"
  },
  "language_info": {
   "codemirror_mode": {
    "name": "ipython",
    "version": 3
   },
   "file_extension": ".py",
   "mimetype": "text/x-python",
   "name": "python",
   "nbconvert_exporter": "python",
   "pygments_lexer": "ipython3",
   "version": "3.10.4"
  }
 },
 "nbformat": 4,
 "nbformat_minor": 5
}
