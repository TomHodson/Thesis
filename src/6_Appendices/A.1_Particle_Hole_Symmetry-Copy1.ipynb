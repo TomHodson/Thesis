{
 "cells": [
  {
   "cell_type": "raw",
   "id": "92bc3369-4319-4c4c-a874-fcea44317e00",
   "metadata": {
    "tags": []
   },
   "source": [
    "---\n",
    "title: Particle-Hole Symmetry\n",
    "description:\n",
    "image:\n",
    "layout: thesis\n",
    "---"
   ]
  },
  {
   "cell_type": "code",
   "execution_count": 1,
   "id": "313e444a-a21d-43b1-8111-fee800485c15",
   "metadata": {
    "tags": [
     "remove_cell"
    ]
   },
   "outputs": [
    {
     "data": {
      "text/html": [
       "<style>\n",
       "figure {\n",
       "    display: flex;\n",
       "    flex-direction: column;\n",
       "    align-items: center;\n",
       "}\n",
       "figure img {\n",
       "    max-width: 900px;\n",
       "    width: 80%;\n",
       "    margin-bottom: 2em;\n",
       "}\n",
       "figcaption {\n",
       "    aria-hidden: true;\n",
       "}\n",
       "</style>\n"
      ],
      "text/plain": [
       "<IPython.core.display.HTML object>"
      ]
     },
     "metadata": {},
     "output_type": "display_data"
    }
   ],
   "source": [
    "%%html\n",
    "<style>\n",
    "figure {\n",
    "    display: flex;\n",
    "    flex-direction: column;\n",
    "    align-items: center;\n",
    "}\n",
    "figure img {\n",
    "    max-width: 900px;\n",
    "    width: 80%;\n",
    "    margin-bottom: 2em;\n",
    "}\n",
    "figcaption {\n",
    "    aria-hidden: true;\n",
    "}\n",
    "</style>"
   ]
  },
  {
   "cell_type": "markdown",
   "id": "e4e4c735-a5cb-41d2-b198-fc38e3136caa",
   "metadata": {
    "tags": []
   },
   "source": [
    "# Particle-Hole Symmetry\n",
    "The Hubbard and FK models on a bipartite lattice have particle-hole (PH) symmetry $\\mathcal{P}^\\dagger H \\mathcal{P} = - H$, accordingly they have symmetric energy spectra. The associated symmetry operator $\\mathcal{P}$ exchanges creation and annihilation operators along with a sign change between the two sublattices. In the language of the Hubbard model of electrons $c_{\\alpha,i}$ with spin $\\alpha$ at site $i$ the particle hole operator corresponds to the substitution of new fermion operators $d^\\dagger_{\\alpha,i}$ and number operators $m_{\\alpha,i}$ where \n",
    "\n",
    "$$d^\\dagger_{\\alpha,i} = \\epsilon_i c_{\\alpha,i}$$\n",
    "$$m_{\\alpha,i} = d^\\dagger_{\\alpha,i}d_{\\alpha,i}$$\n",
    "\n",
    "the lattices must be bipartite because to make this work we set $\\epsilon_i = +1$ for the A sublattice and $-1$ for the even sublattice\\ [@gruberFalicovKimballModel2005].\n",
    "\n",
    "The entirely filled state $\\ket{\\Omega} = \\sum_{\\alpha,i} c^\\dagger_{\\alpha,i} \\ket{0}$ becomes the new vacuum state\n",
    "$$d_{i\\sigma} \\ket{\\Omega} = (-1)^i c^\\dagger_{i\\sigma} \\sum_{j\\rho} c^\\dagger_{j\\rho} \\ket{0} = 0.$$\n",
    "\n",
    "The number operator $m_{\\alpha,i} = 0,1$ counts holes rather than electrons\n",
    "$$ m_{\\alpha,i} = c_{\\alpha,i} c^\\dagger_{\\alpha,i} = 1 - c^\\dagger_{\\alpha,i} c_{\\alpha,i}.$$\n",
    "\n",
    "With the last equality following from the fermionic commutation relations. In the case of nearest neighbour hopping on a bipartite lattice this transformation also leaves the hopping term unchanged because $\\epsilon_i \\epsilon_j = -1$ when $i$ and $j$ are on different sublattices:\n",
    "$$ d^\\dagger_{\\alpha,i} d_{\\alpha,j} = \\epsilon_i \\epsilon_j c_{\\alpha,i} c^\\dagger_{\\alpha,j} = c^\\dagger_{\\alpha,i} c_{\\alpha,j} $$\n",
    "\n",
    "Defining the particle density $\\rho$ as the number of fermions per site:\n",
    "$$\n",
    "    \\rho = \\frac{1}{N} \\sum_i \\left( n_{i \\uparrow} + n_{i \\downarrow} \\right)\n",
    "$$\n",
    "\n",
    "The PH symmetry maps the Hamiltonian to itself with the sign of the chemical potential reversed and the density inverted about half filling:\n",
    "$$ \\text{PH} : H(t, U, \\mu) \\rightarrow H(t, U, -\\mu) $$\n",
    "$$ \\rho \\rightarrow 2 - \\rho $$\n",
    "\n",
    "The Hamiltonian is symmetric under PH at $\\mu = 0$ and so must all the observables, hence half filling $\\rho = 1$ occurs here. This symmetry and known observable acts as a useful test for the numerical calculations."
   ]
  }
 ],
 "metadata": {
  "kernelspec": {
   "display_name": "Python 3 (ipykernel)",
   "language": "python",
   "name": "python3"
  },
  "language_info": {
   "codemirror_mode": {
    "name": "ipython",
    "version": 3
   },
   "file_extension": ".py",
   "mimetype": "text/x-python",
   "name": "python",
   "nbconvert_exporter": "python",
   "pygments_lexer": "ipython3",
   "version": "3.10.4"
  }
 },
 "nbformat": 4,
 "nbformat_minor": 5
}
