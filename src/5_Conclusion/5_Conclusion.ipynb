{
 "cells": [
  {
   "cell_type": "raw",
   "id": "407dded7-cc09-46ad-8822-718e1427a3c5",
   "metadata": {},
   "source": [
    "---\n",
    "title: Conclusion\n",
    "description:\n",
    "image:\n",
    "layout: thesis\n",
    "---"
   ]
  },
  {
   "cell_type": "code",
   "execution_count": 1,
   "id": "6b48f919-dfcf-4fd6-a5f0-2021dbee3596",
   "metadata": {
    "tags": [
     "remove_cell"
    ]
   },
   "outputs": [
    {
     "data": {
      "text/html": [
       "<style>\n",
       "figure {\n",
       "    display: flex;\n",
       "    flex-direction: column;\n",
       "    align-items: center;\n",
       "}\n",
       "figure img {\n",
       "    max-width: 900px;\n",
       "    width: 80%;\n",
       "    margin-bottom: 2em;\n",
       "}\n",
       "figcaption {\n",
       "    aria-hidden: true;\n",
       "    max-width: 700px;\n",
       "}\n",
       "</style>\n"
      ],
      "text/plain": [
       "<IPython.core.display.HTML object>"
      ]
     },
     "metadata": {},
     "output_type": "display_data"
    }
   ],
   "source": [
    "%%html\n",
    "<style>\n",
    "figure {\n",
    "    display: flex;\n",
    "    flex-direction: column;\n",
    "    align-items: center;\n",
    "}\n",
    "figure img {\n",
    "    max-width: 900px;\n",
    "    width: 80%;\n",
    "    margin-bottom: 2em;\n",
    "}\n",
    "figcaption {\n",
    "    aria-hidden: true;\n",
    "    max-width: 700px;\n",
    "}\n",
    "</style>"
   ]
  },
  {
   "cell_type": "markdown",
   "id": "26e360e1-47df-4809-b0e2-8cb40871a62e",
   "metadata": {},
   "source": [
    "This thesis has focussed on two strongly correlated systems whose properties arise from strong interactions in a quantum many-body setting. As is the case with many strongly correlated systems, their many-body ground states can be complex and often cannot be reduced to or even adiabatically connected to a product state. In this work, we looked at the Falicov-Kimball (FK) model and the Kitaev Honeycomb (KH) model and defined extensions to them: the Long-Range Falicov-Kimball (LRFK) and amorphous Kitaev (AK) models.\n",
    "\n",
    "These models are all exactly solvable. They contain extensively many conserved charges which allow their Hamiltonians, and crucially, the interaction terms within them, to be written in quadratic form. This allows them to be solved using the theoretical machinery of non-interacting systems. In the case of the FK and LRFK models, this solvability arises from what is essentially a separation of timescales. The heavy particles move so slowly that they can be treated as stationary. In the KH and AK models, on the other hand, the origin of the conserved degrees of freedom is more complex. Here, the algebra of the Pauli matrices interacts with the trivalent lattices on which the models are defined, to give rise to an emergent $\\mathbb{Z}_2$ gauge field whose fluxes are conserved. This latter case is a beautiful example of emergence at play in condensed matter as the gauge and Majorana physics of the Kitaev models seem to arise spontaneously from nothing. Though, of course, this physics was hidden within the structure and local symmetries of the spin Hamiltonian all along. \n",
    "\n",
    "At first glance, exactly solvable models can seem a little too _fine tuned_. Surely these models don't spontaneously arise in nature? The models studied here provide two different ways to answer this. As we saw, the FK model arises quite naturally as a limit of the Hubbard model which is not exactly solvable. In fact, the FK model has been used as a way to understand more about the behaviour of the Hubbard model itself and of the Mott insulating state. The KH model was not originally proposed as a model of any particular physical system. It was nevertheless a plausible microscopic Hamiltonian and, given its remarkable properties, it is little wonder that material candidates for Kitaev physics were quickly found. In neither case is the model expected to be a perfect description of any material, indeed more realistic corrections to each model are likely to break their integrability. Despite this, exactly solvable models, by virtue of being solvable, can provide important insights into diverse physics like metal-insulator transitions and anyonic statistics that are also features of more realistic systems.\n",
    "\n",
    "In\\ [chapter 3](#chap:3-the-long-range-falicov-kimball-model), we looked at a generalised FK model in 1D, the LRFK model. Metal-insulator transitions are a key theme of work on the FK model and our 1D extension to it was no exception. With the addition of long-range interactions, the model showed a similarly rich phase diagram as its higher dimensional cousins, allowing us to look at transitions between metallic states and, band, Anderson and Mott insulators. We also looked at thermodynamics in 1D and how thermal fluctuations of the conserved charges can lead to disorder-free localisation in the FK and LRFK models. Though the initial surprising results suggested the presence of a mobility edge in 1D it turned out to be a weak localisation effect present in finite sized systems.\n",
    "\n",
    "That the Mott insulating state is a key part of the work on the LRFK model is fitting because Mott insulators are the main route to the formation of Quantum Spin Liquid (QSL) states which are themselves a primary driver of interest in the KH model and our extension, the AK model. In\\ [chapter 4](#chap:4-the-amorphous-kitaev-model), we addressed the question of whether frustrated magnetic interactions on amorphous lattices can give rise to quantum phases such as the QSL state and found that indeed they can. The AK model, a generalisation of the KH model to random lattices with fixed coordination number three, supports a kind of symmetry broken QSL state called a chiral spin liquid. We showed numerically that the ground state of the model follows a simple generalisation of Lieb's theorem\\ [@lieb_flux_1994; @OBrienPRB2016; @eschmannThermodynamicClassificationThreedimensional2020]. As with other extensions of the KH model\\ [@yaoExactChiralSpin2007], we found that removing the chiral symmetry of the lattice allows the model to support a gapped phase with non-Abelian anyon excitations. The broken lattice symmetry plays the role of the external magnetic field in the original KH model. Finally, like the KH model, finite temperature causes vortex defects to proliferate, causing a transition to a thermal metal state. \n",
    "\n",
    "Unlike the 2D FK model and 1D LRFK models, the KH and AK models don't have a Finite-Temperature Phase Transition (FTPT), they immediately disorder at any temperature\\ [@eschmannThermodynamicClassificationThreedimensional2020]. However, generalisations of the KH model to 3D do in general have an FTPT. Indeed, the role of dimensionality has been a key theme in this work. Both localisation and thermodynamic phenomena depend crucially on dimensionality, with thermodynamic order generally suppressed and localisation effects strengthened in low dimensions. The graph theory that underpins the KH and AK models itself also changes strongly with dimension. Voronisation in 2D produces trivalent lattices, on which the spin-$1/2$ AK model is exactly solvable. Meanwhile in 3D, Voronisation gives us $z=4$ lattices upon which a spin-$3/2$ generalisation to the KH model is exactly solvable\\ [@yaoAlgebraicSpinLiquid2009; @wenQuantumOrderStringnet2003; @ryuThreedimensionalTopologicalPhase2009]. Similarly, planar graphs are a uniquely 2D construct. Satisfying planarity imposes constraints on the connectivity of planar graphs leading amorphous planar graphs to have strong anti-correlations which can violate otherwise robust bounds like the Harris criterion\\ [@harrisEffectRandomDefects1974]. Contrast this with Anderson localisation in 1D where only longer range correlations in the disorder can produce surprising effects\\ \\ [@aubryAnalyticityBreakingAnderson1980; @dassarmaLocalizationMobilityEdges1990; @dunlapAbsenceLocalizationRandomdimer1990; @izrailevLocalizationMobilityEdge1999; @croyAndersonLocalization1D2011; @izrailevAnomalousLocalizationLowDimensional2012].\n",
    "\n",
    "Xiao-Gang Wen makes the case that one of the primary reasons to study QSLs is as a stepping stone to understanding the High-$T_c$ superconductors\\ [@wenQuantumOrdersSymmetric2002]. His logic is that since the High-$T_c$ superconductors are believed to arise from doped Mott insulators, the QSLs, which arise from undoped Mott insulators, make a good jumping off point. This is where exactly solvable models like the FK and KH models shine. The FK model provides a tractable means to study superconductor like states in doped Mott insulators\\ [@caiVisualizingEvolutionMott2016], while the KH model gives us a tangible QSL state to play with. The extensions introduced in this work serve to explore how far we can push these models.\n",
    "\n",
    "On the topic of physical realisations of these models, we have discussed the prospect of whether AK model physics might be realisable in amorphous versions of known KH candidate materials\\ [@TrebstPhysRep2022]. Alternatively, we might be able to engineer them in synthetic materials such as Metal Organic Frameworks where both Kitaev interactions and amorphous lattices have already been proposed\\ [@yamadaDesigningKitaevSpin2017; @bennett2014amorphous]. Meanwhile, the LRFK model might provide an interesting target for cold atom experiments that can naturally generate long-range interactions\\ [@lepersLongrangeInteractionsUltracold2017].\n",
    "\n",
    "Overall, I believe that the results presented here show that exactly solvable models can be a useful theoretical tool for understanding the behaviour of generic strongly correlated materials."
   ]
  }
 ],
 "metadata": {
  "kernelspec": {
   "display_name": "Python 3 (ipykernel)",
   "language": "python",
   "name": "python3"
  },
  "language_info": {
   "codemirror_mode": {
    "name": "ipython",
    "version": 3
   },
   "file_extension": ".py",
   "mimetype": "text/x-python",
   "name": "python",
   "nbconvert_exporter": "python",
   "pygments_lexer": "ipython3",
   "version": "3.10.6"
  },
  "vscode": {
   "interpreter": {
    "hash": "aee8b7b246df8f9039afb4144a1f6fd8d2ca17a180786b69acc140d282b71a49"
   }
  }
 },
 "nbformat": 4,
 "nbformat_minor": 5
}
