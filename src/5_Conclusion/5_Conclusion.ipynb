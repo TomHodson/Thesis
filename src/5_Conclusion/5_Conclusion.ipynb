{
 "cells": [
  {
   "cell_type": "raw",
   "id": "407dded7-cc09-46ad-8822-718e1427a3c5",
   "metadata": {},
   "source": [
    "---\n",
    "title: Conclusion\n",
    "description:\n",
    "image:\n",
    "layout: thesis\n",
    "---"
   ]
  },
  {
   "cell_type": "code",
   "execution_count": 1,
   "id": "6b48f919-dfcf-4fd6-a5f0-2021dbee3596",
   "metadata": {
    "tags": [
     "remove_cell"
    ]
   },
   "outputs": [
    {
     "data": {
      "text/html": [
       "<style>\n",
       "figure {\n",
       "    display: flex;\n",
       "    flex-direction: column;\n",
       "    align-items: center;\n",
       "}\n",
       "figure img {\n",
       "    max-width: 900px;\n",
       "    width: 80%;\n",
       "    margin-bottom: 2em;\n",
       "}\n",
       "figcaption {\n",
       "    aria-hidden: true;\n",
       "    max-width: 700px;\n",
       "}\n",
       "</style>\n"
      ],
      "text/plain": [
       "<IPython.core.display.HTML object>"
      ]
     },
     "metadata": {},
     "output_type": "display_data"
    }
   ],
   "source": [
    "%%html\n",
    "<style>\n",
    "figure {\n",
    "    display: flex;\n",
    "    flex-direction: column;\n",
    "    align-items: center;\n",
    "}\n",
    "figure img {\n",
    "    max-width: 900px;\n",
    "    width: 80%;\n",
    "    margin-bottom: 2em;\n",
    "}\n",
    "figcaption {\n",
    "    aria-hidden: true;\n",
    "    max-width: 700px;\n",
    "}\n",
    "</style>"
   ]
  },
  {
   "cell_type": "markdown",
   "id": "26e360e1-47df-4809-b0e2-8cb40871a62e",
   "metadata": {},
   "source": [
    "This thesis has focussed on phenomena in two strongly correlated systems. The properties of these systems arise from strong interactions in quantum many-body systems which in both cases can be traced back to electron-electron interactions. As is the case with most strongly interacting systems, the many body ground state of these systems can be complex and often cannot be reduced to or even adiabatically connected to a product state. \n",
    "\n",
    "However both systems are exactly solvable. They contain extensively many conserved degrees of freedom which allow their Hamiltonians, and crucially, their interaction terms to be written in a quadratic form. This allows them to be solved using the theoretical machinery of non-interacting single particle states. In the case of the FK and LRFK models, this solvability arises from what is essentially a separation of timescales, the heavy particles move so slowly that they can be treated as stationary. In the KH and AK models, on the other hand, the origin of the conserved degrees of freedom is more complex. Here the algebra of the Pauli matrices interact in a subtle way with the tri-coordinated lattices on which the models are defined to give rise to an emergent $\\mathbb{Z}_2$ gauge field whose fluxes are conserved. This later case is a beautiful example of emergence at play in condensed matter, the gauge and Majorana physics of the Kitaev model seems to arise spontaneously from nothing. Though, of course, it was hidden within the structure of the spin Hamiltonian all along. \n",
    "\n",
    "At first glance, exactly solvable models can seem a little too _fine tuned_. Surely these models do not spontaneously arise in nature? The models studied here provide two answers to this suggestion. As we saw, the FK model arises quite naturally as a limit of the Hubbard model, and in fact has been used as a way to understand more about the behaviour of the Hubbard model itself and of the Mott insulating state. The KH model was, to the best of my knowledge, not originally proposed as a model of any particular physical system. The KH model was nevertheless a plausible microscopic Hamiltonian with remarkable properties so it is perhaps little wonder that material candidates for Kitaev physics were quickly found. In neither case is the model expected to be a perfect description of any material, indeed more realistic corrections to each model are likely to break their integrability. Despite this, exactly solvable models, by virtue of their tractability, can provide important insights into diverse topics like metal-insulator transitions and anyonic statistics that are features of more realistic systems.\n",
    "\n",
    "Metal-insulator transitions were a key theme of my work on the FK model and our one dimensional extension to it the LRFK model. Aside from the well known band insulators, insulation can also be interaction driven as in the Mott insulator state and disorder driven as in the Anderson insulator. Another theme of all this work is the role of dimensionality, the addition of long ranged interactions to the FK model allowed us to bring its ordered phase down to one dimension. Here we could look at how the physics of \n",
    "\n",
    "Also the Mott insulator gives rise to the QSl and the doped Mott Insulator may be the source of the sought after High-$T_c$ superconductor. The concept of quantum orders is relevant because for instance, if we can classify the kinds of order in the MI state, we can classify the kinds of high-$T_c$ theories that can emerge from them.\n",
    "\n",
    "As we discussed in the introduction, Quantum spin liquids can arise out of Mott insulators and both are highly interaction dependent. However interactions are hard to study. Using exactly solvable systems like the FK and KH model as a way to look at the physics of many-body interacting systems. Exactly solveable models are a useful part of the theoretical toolbox for investigating these systems.\n",
    "\n",
    "__Role of dimensionality__\n",
    "\n",
    "__Role of Correlations__\n",
    "Another theme from the two models is that longer range correlations from criticality in the LRFK model and anti-correlations in the topological disorder in the AK model, lead to a wider range of effects that short range correlations. \n",
    "\n",
    "__Role of disorder__\n",
    "\n",
    "paragraph about topological order as new addition to the pantheon of spontaneously broken symmetries\n",
    "\n",
    "\n",
    "Xiao-Gang Wen\\ [@wenQuantumOrdersSymmetric2002] when talks about quantum orders as a those that arise within quantum states at zero temperature, included QSLs, FQH states and superconductors[^1]. He also argues that the High-$T_c$ superconductors is in terms of them being doped Mott insulators so that we should try to understand the QSL which emerges from the undoped Mott insulator (at half filling).\n",
    "\n",
    "[^1]: Wen argues that superconductors cannot be characterised be a local order parameter in the way that superfluids can.\n",
    "\n",
    "The existence of distinct, spatially limited quasiparticle excitations is not obvious.\n",
    "\n",
    "emergent gauge physics, could condensed matter systems be useful in understanding the standard model too?\n",
    "\n",
    "Electron-electron interactions play a dominant role in determining\n",
    "electronic and thermodynamic properties in these strongly correlated materials.\n",
    "\n",
    "Specific examples where strongly correlated materials may figure\n",
    "prominently are high temperature superconductors and hard magnets without rare earth\n",
    "elements."
   ]
  },
  {
   "cell_type": "markdown",
   "id": "39706f1c-2b04-43b7-b03d-6d901647e243",
   "metadata": {},
   "source": [
    "# Discussion"
   ]
  },
  {
   "cell_type": "markdown",
   "id": "04a693c1-9d7d-4f8b-857a-a154c77b9477",
   "metadata": {},
   "source": [
    "# Outlook"
   ]
  }
 ],
 "metadata": {
  "kernelspec": {
   "display_name": "Python 3 (ipykernel)",
   "language": "python",
   "name": "python3"
  },
  "language_info": {
   "codemirror_mode": {
    "name": "ipython",
    "version": 3
   },
   "file_extension": ".py",
   "mimetype": "text/x-python",
   "name": "python",
   "nbconvert_exporter": "python",
   "pygments_lexer": "ipython3",
   "version": "3.10.4"
  },
  "vscode": {
   "interpreter": {
    "hash": "aee8b7b246df8f9039afb4144a1f6fd8d2ca17a180786b69acc140d282b71a49"
   }
  }
 },
 "nbformat": 4,
 "nbformat_minor": 5
}
