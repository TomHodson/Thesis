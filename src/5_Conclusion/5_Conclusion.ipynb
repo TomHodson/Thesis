{
 "cells": [
  {
   "cell_type": "raw",
   "id": "407dded7-cc09-46ad-8822-718e1427a3c5",
   "metadata": {},
   "source": [
    "---\n",
    "title: Conclusion\n",
    "description:\n",
    "image:\n",
    "layout: thesis\n",
    "---"
   ]
  },
  {
   "cell_type": "code",
   "execution_count": 1,
   "id": "6b48f919-dfcf-4fd6-a5f0-2021dbee3596",
   "metadata": {
    "tags": [
     "remove_cell"
    ]
   },
   "outputs": [
    {
     "data": {
      "text/html": [
       "<style>\n",
       "figure {\n",
       "    display: flex;\n",
       "    flex-direction: column;\n",
       "    align-items: center;\n",
       "}\n",
       "figure img {\n",
       "    max-width: 900px;\n",
       "    width: 80%;\n",
       "    margin-bottom: 2em;\n",
       "}\n",
       "figcaption {\n",
       "    aria-hidden: true;\n",
       "    max-width: 700px;\n",
       "}\n",
       "</style>\n"
      ],
      "text/plain": [
       "<IPython.core.display.HTML object>"
      ]
     },
     "metadata": {},
     "output_type": "display_data"
    }
   ],
   "source": [
    "%%html\n",
    "<style>\n",
    "figure {\n",
    "    display: flex;\n",
    "    flex-direction: column;\n",
    "    align-items: center;\n",
    "}\n",
    "figure img {\n",
    "    max-width: 900px;\n",
    "    width: 80%;\n",
    "    margin-bottom: 2em;\n",
    "}\n",
    "figcaption {\n",
    "    aria-hidden: true;\n",
    "    max-width: 700px;\n",
    "}\n",
    "</style>"
   ]
  },
  {
   "cell_type": "markdown",
   "id": "26e360e1-47df-4809-b0e2-8cb40871a62e",
   "metadata": {},
   "source": [
    "Using exactly solvable systems as a way to look at the physics of many-body interacting systems.\n",
    "Another theme from the two models is that longer range correlations from criticality in the LRFK model and anti-correlations in the topological disorder in the AMK model, lead to a wider range of effects that short range correlations. \n",
    "\n",
    "paragraph about topological order as new addition to the pantheon of spontaneously broken symmetries\n",
    "\n",
    "FK model as a way to probe the  Mott insulator state. Also the Mott insulator gives rise to the QSl and the doped Mott Insulator may be the source of the sought after High-$T_c$ superconductor. The concept of quantum orders is relevant because for instance, if we can classify the kinds of order in the MI state, we can classify the kinds of high-$T_c$ theories that can emerge from them.\n",
    "\n",
    "Xiao-Gang Wen\\ [@wenQuantumOrdersSymmetric2002] when talks about quantum orders as a those that arise within quantum states at zero temperature, included QSLs, FQH states and superconductors[^1]. He also argues that the High-$T_c$ superconductors is in terms of them being doped Mott insulators so that we should try to understand the QSL which emerges from the undoped Mott insulator (at half filling).\n",
    "\n",
    "[^1]: Wen argues that superconductors cannot be characterised be a local order parameter in the way that superfluids can.\n",
    "\n",
    "The existence of distinct, spatially limited quasiparticle excitations is not obvious.\n",
    "\n",
    "emergent gauge physics, could condensed matter systems be useful in understanding the standard model too?\n",
    "\n",
    "Electron-electron interactions play a dominant role in determining\n",
    "electronic and thermodynamic properties in these strongly correlated materials.\n",
    "\n",
    "Specific examples where strongly correlated materials may figure\n",
    "prominently are high temperature superconductors and hard magnets without rare earth\n",
    "elements.\n",
    "\n",
    "# Material Realisations\n",
    "\n",
    "## Amorphous Materials\n",
    "\n",
    "## Metal Organic Frameworks"
   ]
  },
  {
   "cell_type": "markdown",
   "id": "39706f1c-2b04-43b7-b03d-6d901647e243",
   "metadata": {},
   "source": [
    "# Discussion"
   ]
  },
  {
   "cell_type": "markdown",
   "id": "04a693c1-9d7d-4f8b-857a-a154c77b9477",
   "metadata": {},
   "source": [
    "# Outlook"
   ]
  }
 ],
 "metadata": {
  "kernelspec": {
   "display_name": "Python 3 (ipykernel)",
   "language": "python",
   "name": "python3"
  },
  "language_info": {
   "codemirror_mode": {
    "name": "ipython",
    "version": 3
   },
   "file_extension": ".py",
   "mimetype": "text/x-python",
   "name": "python",
   "nbconvert_exporter": "python",
   "pygments_lexer": "ipython3",
   "version": "3.10.4"
  },
  "vscode": {
   "interpreter": {
    "hash": "aee8b7b246df8f9039afb4144a1f6fd8d2ca17a180786b69acc140d282b71a49"
   }
  }
 },
 "nbformat": 4,
 "nbformat_minor": 5
}
