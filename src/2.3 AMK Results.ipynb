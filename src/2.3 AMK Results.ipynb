{
 "cells": [
  {
   "cell_type": "markdown",
   "id": "cddd29a5-78d3-4e33-9dff-1f517141f1e4",
   "metadata": {},
   "source": [
    "# Results"
   ]
  },
  {
   "cell_type": "markdown",
   "id": "15bfd414-bb21-44da-b710-4d2aeb7f73c0",
   "metadata": {
    "tags": []
   },
   "source": [
    "## The Ground State\n",
    "<figure>\n",
    "<img src=\"../figure_code/amk_chapter/results/fermion_gap_vs_L/fermion_gap_vs_L.svg\" style=\"max-width:700px;width:100%;\">\n",
    "<figcaption>\n",
    "Within a flux sector, the fermion gap $\\Delta_f$ measures the energy between the fermionic ground state and the first excited state. This graph shows the fermion gap as a function of system size for the ground state flux sector and for a configuration of random fluxes. We see that the disorder induced by an putting the Kitaev model on an amorphous lattice does not close the gap in the ground state. The gap closes in the flux disordered limit is good evidence that the system transitions to a gapless thermal metal state at high temperature. Each point shows an average over 100 lattice realisations. System size $L$ is defined $\\sqrt{N}$ where N is the number of plaquettes in the system. Error bars shown are $3$ times the standard error of the mean. The lines shown are fits of $\\tfrac{\\Delta_f}{J} = aL ^ b$ with fit parameters: Ground State: $a = 0.138 \\pm 0.002, b = -0.0972 \\pm 0.004$ Random Flux Sector: \n",
    "$a = 1.8 \\pm 0.2, b = -2.21 \\pm 0.03$\n",
    "</figcaption>\n",
    "</figure>"
   ]
  },
  {
   "cell_type": "markdown",
   "id": "0ba3947d-a0b2-4e67-a43e-a2eaf649c2db",
   "metadata": {},
   "source": []
  },
  {
   "cell_type": "markdown",
   "id": "462c48a5-1312-4dac-ae85-242be880c068",
   "metadata": {},
   "source": [
    "## Ground State Phase Diagram\n",
    "## The Flux Gap\n",
    "\n",
    "\n",
    "# Conclusion\n",
    "## Discussion\n",
    "## Future Work\n",
    "\n",
    "The Kitaev Honeycomb can be quite easily turned into a quantum error correcting code [like this](https://errorcorrectionzoo.org/c/honeycomb), the same idea applies to our model. "
   ]
  },
  {
   "cell_type": "code",
   "execution_count": null,
   "id": "bb27c227-a339-4c65-a476-e59d9b477018",
   "metadata": {},
   "outputs": [],
   "source": []
  }
 ],
 "metadata": {
  "kernelspec": {
   "display_name": "Python 3 (ipykernel)",
   "language": "python",
   "name": "python3"
  },
  "language_info": {
   "codemirror_mode": {
    "name": "ipython",
    "version": 3
   },
   "file_extension": ".py",
   "mimetype": "text/x-python",
   "name": "python",
   "nbconvert_exporter": "python",
   "pygments_lexer": "ipython3",
   "version": "3.9.7"
  },
  "vscode": {
   "interpreter": {
    "hash": "aee8b7b246df8f9039afb4144a1f6fd8d2ca17a180786b69acc140d282b71a49"
   }
  }
 },
 "nbformat": 4,
 "nbformat_minor": 5
}
