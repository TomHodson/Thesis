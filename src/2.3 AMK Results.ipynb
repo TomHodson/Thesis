{
 "cells": [
  {
   "cell_type": "markdown",
   "id": "eee96679-930a-4d2e-bbad-c570910771d1",
   "metadata": {},
   "source": [
    "# Results\n",
    "\n",
    "## The Ground State\n",
    "## Ground State Phase Diagram\n",
    "## The Flux Gap\n",
    "\n",
    "\n",
    "# Conclusion\n",
    "## Discussion\n",
    "## Future Work\n",
    "\n",
    "The Kitaev Honeycomb can be quite easily turned into a quantum error correcting code [like this](https://errorcorrectionzoo.org/c/honeycomb), the same idea applies to our model. "
   ]
  },
  {
   "cell_type": "code",
   "execution_count": null,
   "id": "bb27c227-a339-4c65-a476-e59d9b477018",
   "metadata": {},
   "outputs": [],
   "source": []
  }
 ],
 "metadata": {
  "kernelspec": {
   "display_name": "Python 3 (ipykernel)",
   "language": "python",
   "name": "python3"
  },
  "language_info": {
   "codemirror_mode": {
    "name": "ipython",
    "version": 3
   },
   "file_extension": ".py",
   "mimetype": "text/x-python",
   "name": "python",
   "nbconvert_exporter": "python",
   "pygments_lexer": "ipython3",
   "version": "3.9.7"
  },
  "vscode": {
   "interpreter": {
    "hash": "aee8b7b246df8f9039afb4144a1f6fd8d2ca17a180786b69acc140d282b71a49"
   }
  }
 },
 "nbformat": 4,
 "nbformat_minor": 5
}
