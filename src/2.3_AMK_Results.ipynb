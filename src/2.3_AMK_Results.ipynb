{
 "cells": [
  {
   "cell_type": "raw",
   "id": "407dded7-cc09-46ad-8822-718e1427a3c5",
   "metadata": {},
   "source": [
    "---\n",
    "title: The Amorphous Kitaev Model - Results\n",
    "description: The Amorphous Kitaev model is a chiral spin liquid!\n",
    "image:\n",
    "---"
   ]
  },
  {
   "cell_type": "code",
   "execution_count": 3,
   "id": "6b48f919-dfcf-4fd6-a5f0-2021dbee3596",
   "metadata": {
    "tags": [
     "remove_cell"
    ]
   },
   "outputs": [
    {
     "data": {
      "text/html": [
       "<style>\n",
       "figure {\n",
       "    display: flex;\n",
       "    flex-direction: column;\n",
       "    align-items: center;\n",
       "}\n",
       "figure img {\n",
       "    max-width: 900px;\n",
       "    width: 100%;\n",
       "    margin-bottom: 2em;\n",
       "}\n",
       "figcaption {\n",
       "    aria-hidden: true;\n",
       "    max-width: 700px;\n",
       "}\n",
       "</style>\n"
      ],
      "text/plain": [
       "<IPython.core.display.HTML object>"
      ]
     },
     "metadata": {},
     "output_type": "display_data"
    }
   ],
   "source": [
    "%%html\n",
    "<style>\n",
    "figure {\n",
    "    display: flex;\n",
    "    flex-direction: column;\n",
    "    align-items: center;\n",
    "}\n",
    "figure img {\n",
    "    max-width: 900px;\n",
    "    width: 100%;\n",
    "    margin-bottom: 2em;\n",
    "}\n",
    "figcaption {\n",
    "    aria-hidden: true;\n",
    "    max-width: 700px;\n",
    "}\n",
    "</style>"
   ]
  },
  {
   "cell_type": "markdown",
   "id": "cddd29a5-78d3-4e33-9dff-1f517141f1e4",
   "metadata": {},
   "source": [
    "# Results"
   ]
  },
  {
   "cell_type": "markdown",
   "id": "ea49cbaf-674c-4587-b765-e6aaf0a44814",
   "metadata": {},
   "source": [
    "## The Ground State Flux Sector\n",
    "\n",
    "Here I will discuss the numerical evidence that our guess for the ground state flux sector is correct. We will do this by enumerating all the flux sectors of many systems to test numerically that our guess is correct. However there are some problems.\n",
    "\n",
    "Firstly, finite size effects have a large energetic contribution for small systems [@kitaevAnyonsExactlySolved2006]. To get around this we instead look at periodic systems with amorphous unit cells. For an amorphous system with $N$ plaquettes, $2N$ edges and $3N$ vertices we have $2^{N-1}$ flux sectors to check and diagonalisation scales with $\\mathcal{0}(N^3)$. "
   ]
  },
  {
   "cell_type": "markdown",
   "id": "f2566e82-2b02-4b17-bccf-2b6fc80fc1a0",
   "metadata": {},
   "source": [
    "If we instead work with a similarly sized periodic system with $A$ unit cells and $B$ plaquettes in each unit cell where $N \\sim AB$ things get much better. We can use Bloch's theorem to diagonalise this system in about $\\mathcal{0}(A B^3)$ operations, and much more importantly there are only $2^{B-1}$ flux sectors to check. \n",
    "\n",
    "We fully enumerated the flux sectors of ~25,000 periodic systems with disordered unit cells of up to $B = 16$ plaquettes and $A = 100$ unit cells.\n",
    "\n",
    "However, showing that our guess is correct for periodic systems with disordered unit cells is not quite convincing on its own. We have effectively removed longer-range disorder from our lattices.\n",
    "\n",
    "The second part of the argument is to show that the energetic effect of introducing periodicity scales away as we go to larger system sizes and has already diminished to a small enough value at 16 plaquettes, which is indeed what we find.\n",
    "\n",
    "From this we argue that the results for small periodic systems generalise to large amorphous systems. We perform this analysis for both the isotropic point ($J^\\alpha = 1$), as well as in the toric code phase ($J^x = J^y = 0.25, J^z = 1$)."
   ]
  },
  {
   "cell_type": "markdown",
   "id": "6bade6ce-2145-4fa1-a21e-872c128823d2",
   "metadata": {},
   "source": [
    "In the isotropic case ($J^\\alpha = 1$), our conjecture correctly predicted the ground state flux sector for all of the lattices we tested. \n",
    "\n",
    "For the toric code phase ($J^x, J^y = 0.25, J^z = 1$) all but around ($\\sim 0.5 \\%$) lattices had ground states conforming to our conjecture. In these cases, the energy difference between the true ground state and our prediction was on the order of $10^{-6} J$. It is unclear whether this is a finite size effect or something else."
   ]
  },
  {
   "cell_type": "markdown",
   "id": "69d99ebe-70e7-4781-914e-321747e16963",
   "metadata": {},
   "source": [
    "## Spontaneous Chiral Symmetry Breaking\n",
    "The spin Kitaev Hamiltonian is real and therefore has time reversal symmetry (TRS). However, the flux $\\phi_p$ through any plaquette with an odd number of sides has imaginary eigenvalues $\\pm i$. The ground state sector induces a relatively regular pattern for the imaginary fluxes with only a global two-fold degeneracy.\n",
    "\n",
    "Thus, states with a fixed flux sector spontaneously break time reversal symmetry. This was first described by Yao and Kivelson for a translation invariant Kitaev model with odd sided plaquettes [@Yao2011]. \n",
    "\n",
    "We therefore have flux sectors that come in degenerate pairs, where time reversal is equivalent to inverting the flux through every odd plaquette, a general feature for lattices with odd plaquettes [@yaoExactChiralSpin2007; @Peri2020]. This spontaneously broken symmetry avoids the need to explicitly break TRS with a magnetic field term as is done in the original honeycomb model."
   ]
  },
  {
   "cell_type": "markdown",
   "id": "d14f46b4-cb1c-451f-bf40-74575b90dccb",
   "metadata": {},
   "source": [
    "## Ground State Phase Diagram"
   ]
  },
  {
   "cell_type": "markdown",
   "id": "f3ce5297-e442-44ba-a21f-42b31d3e5bdf",
   "metadata": {},
   "source": [
    "As previously discussed, the standard Honeycomb model has a Abelian, gapped phase in the anisotropic region (the A phase) and is gapless in the isotropic region. The introduction of a magnetic field breaks the chiral symmetry, leading to the isotropic region becoming a gapped, non-Abelian phase, the B phase.\n",
    "\n",
    "We set the energy scale by requiring that $J_x + J_y + J_z = 1$, this restricts the 3D phase space down to an equilateral triangle that is convenient for diagrams. Imagine the cube defined by $J_\\alpha \\in [0,1]$ being cut by the plane $J_x + J_y + J_z = 1$, we plot the projection of that plane in diagrams like ~@fig:phase_diagram.\n",
    "\n",
    "Similar to the Kitaev Honeycomb model with a magnetic field, we find that the amorphous model is only gapless along critical lines, see ~@fig:phase_diagram (Left). \n",
    "\n",
    "Interestingly, the gap closing exists in only one of the four topological sectors, though this is certainly a finite size effect as the sectors must become degenerate in the thermodynamic limit. Nevertheless this could be a useful way to define the (0, 0) topological flux sector for amorphous.\n",
    "\n",
    "In the honeycomb model, the phase boundaries are located on the straight line $|J^x| = |J^y| + |J^x|$ and permutations of $x,y,z$, shown as dotted line on ~@fig:phase_diagram (Right). We find that on the amorphous lattice these boundaries exhibit an inward curvature, similar to honeycomb Kitaev models with flux [@Nasu_Thermal_2015] or bond [@knolle_dynamics_2016] disorder."
   ]
  },
  {
   "cell_type": "markdown",
   "id": "29f62183-a3d5-4465-a060-d878cbc967af",
   "metadata": {},
   "source": [
    "<figure>\n",
    "<img src=\"../figure_code/amk_chapter/results/phase_diagram/phase_diagram.svg\" style=\"max-width:700px;\">\n",
    "<figcaption>\n",
    "(Center) We choose an energy scale for the Hamiltonian by setting $J_x + J_y + J_z = 1$. This intersects a plane with the unit cube spanned by $J_\\alpha \\in [0,1]$, giving a triangle with corners $(1,0,0), (0,1,0), (0,0,1)$. To compute critical lines efficiently in this space we evaluate the order parameter of interest along rays shooting from the corners. The ray highlighted in red defines the values of J used for the left figure. (Left) The fermion gap as a function of J for an amorphous system with 20 plaquettes, where the x axis is the position on the red line in the central figure from 0 to 1. For finite size systems the four topological sectors are not degenerate and only one of them has a true gap closing. (Right) The Abelian $A_\\alpha$ phases of the model and the non-Abelian B phase separated by critical lines where the fermion gap closes. Later we will show that the Chern number $\\nu$ changes from $0$ to $\\pm 1$ from the A phases to the B phase. \n",
    "</figcaption>\n",
    "</figure>"
   ]
  },
  {
   "cell_type": "markdown",
   "id": "0da2b622-1b1d-466f-bb74-cf8976fe7c15",
   "metadata": {},
   "source": [
    "### Is it Abelian or non-Abelian?\n",
    "The two phases of the amorphous model are clearly gapped, though see later for a finite size scaling check on this. \n",
    "\n",
    "The next question is: do these phases support excitations with Abelian or non-Abelian statistics? To answer that we turn to Chern numbers and markers. As discussed earlier the Chern number is a quantity intimately linked to both the topological properties and the anyonic statistics of a model. Here we will make use of the fact that the Abelian/non-Abelian character of a model is linked to its Chern number __[citation]__. However the Chern number is only defined for the translation invariant case because it relies on integrals defined in k-space."
   ]
  },
  {
   "cell_type": "markdown",
   "id": "24a20129-579a-42bb-b865-cd305a8629d0",
   "metadata": {},
   "source": [
    "A family of generalisations to amorphous systems exist called local topological markers [@bianco_mapping_2011; @Hastings_Almost_2010; @mitchellAmorphousTopologicalInsulators2018] and indeed Kitaev defines on in his original paper on the model @kitaevAnyonsExactlySolved2006. \n",
    "\n",
    "Here we use the crosshair marker of @peru_preprint because it works well on smaller systems. We calculate the projector $P = \\sum_i |\\psi_i\\rangle \\langle \\psi_i|$ onto the occupied fermion eigenstates of the system in open boundary conditions. The projector encodes local information about the occupied eigenstates of the system and is typically exponentially localised __[cite]__. The name _crosshair_ comes from the fact that the marker is defined with respect to a particular point $(x_0, y_0)$ by step functions in x and y"
   ]
  },
  {
   "cell_type": "markdown",
   "id": "99e3facf-dcda-47de-8420-623b7ef2f419",
   "metadata": {},
   "source": [
    "$$\\begin{aligned}\n",
    "    \\nu (x, y) = 4\\pi \\; \\Im\\; \\mathrm{Tr}_{\\mathrm{B}} \n",
    "    \\left ( \n",
    "    \\hat{P}\\;\\hat{\\theta}(x-x_0)\\;\\hat{P}\\;\\hat{\\theta}(y-y_0)\\; \\hat{P}\n",
    "    \\right ),\n",
    "\\end{aligned}$$"
   ]
  },
  {
   "cell_type": "markdown",
   "id": "e0db9344-6806-478c-adfb-8dce7c4e5a31",
   "metadata": {},
   "source": [
    "when the trace is taken over a region $B$ around $(x_0, y_0)$ that is large enough to include local information about the system but does not come too close to the edges. If these conditions are met then then this quantity will be very close to quantised to the Chern number, see +@fig:phase_diagram_chern.\n",
    "\n",
    "We use the crosshair marker of  to assess the Abelian/non-Abelian character of the phases.\n",
    "\n",
    "In the A phase we find that $\\nu=0$ and hence the excitations have Abelian character, similar to the honeycomb model. This phase is thus the amorphous analogue of the Abelian toric-code quantum spin liquid [@kitaev_fault-tolerant_2003].\n",
    "\n",
    "The B phase has $\\nu=\\pm1$ so is a non-Abelian _chiral spin liquid_ (CSL) similar to that of the Yao-Kivelson model [@yaoExactChiralSpin2007]. The CSL state is the the magnetic analogue of the fractional quantum Hall state __[cite]__. Hereafter we focus our attention on this phase."
   ]
  },
  {
   "cell_type": "markdown",
   "id": "c3ca8b26-7366-407a-a9b2-8397d70cbeac",
   "metadata": {},
   "source": [
    "<figure>\n",
    "<img src=\"../figure_code/amk_chapter/results/phase_diagram_chern/phase_diagram_chern.svg\" style=\"max-width:700px;\">\n",
    "<figcaption>\n",
    "(Center) The crosshair marker @peru_preprint, a local topological marker, evaluated on the Amorphous Kitaev Model. The marker is defined around a point, denoted by the dotted crosshair. Information about the local topological properties of the system are encoded within a region around that point. (Left) Summing these contributions up to some finite radius (dotted line here, dotted circle in the centre) gives a generalised version of the Chern number for the system which becomes quantised in the thermodynamic limit. The radius must be chosen large enough to capture information about the local properties of the lattice while not so large as to include contributions from the edge states. The isotropic regime $J_\\alpha = 1$ in red has $\\nu = \\pm 1$ implying it supports excitations with non-Abelian statistics, while the anisotropic regime in orange has $\\nu = \\pm 0$ implying it has Abelian statistics. (Right) Extending this analysis to the whole $J_\\alpha$ phase diagram with fixed $r = 0.3$ nicely confirms that the isotropic phase is non-Abelian. \n",
    "</figcaption>\n",
    "</figure>"
   ]
  },
  {
   "cell_type": "markdown",
   "id": "dd4b698d-b855-405f-97a7-643a95dd6b6f",
   "metadata": {},
   "source": [
    "### Edge Modes\n",
    "\n",
    "Chiral Spin Liquids support topological protected edge modes on open boundary conditions [@qi_general_2006]. +@fig:figure_2_bashed shows the probability density of one such edge mode. It is near zero energy and exponentially localised to the boundary of the system. While the model is gapped in periodic boundary conditions (i.e on the torus) these edge modes appear in the gap when the boundary is cutting.\n",
    "\n",
    "The localization of these modes can be quantified by their inverse participation ratio (IPR), $$\\mathrm{IPR} = \\int d^2r|\\psi(\\mathbf{r})|^4  \\propto L^{-\\tau},$$ where $L\\sim\\sqrt{N}$ is the linear dimension of the amorphous lattices and $\\tau$ a dimensional scaling exponent of IPR. "
   ]
  },
  {
   "cell_type": "markdown",
   "id": "4599e3e2-6fbb-4d88-8cf7-25c32cf5b1ac",
   "metadata": {},
   "source": [
    "<figure>\n",
    "<img src=\"../figure_code/amk_chapter/results/edge_modes/edge_modes.svg\" style=\"max-width:700px;\">\n",
    "<figcaption>\n",
    "(a) The density of one of the topologically protected edge states in the B phase. Below the log density plotted along the black path showing that the state is exponentially localised. (a)/(b) The density of states of the corresponding lattice in (a) periodic boundary conditions, (b) open boundary conditions. The colour of the bars shows the mean log IPR for each energy window. Cutting the boundary fills the gap with localised states.\n",
    "</figcaption>\n",
    "</figure>"
   ]
  },
  {
   "cell_type": "markdown",
   "id": "2e4b46c3-a32f-4871-85f1-4ad6e893ef20",
   "metadata": {},
   "source": [
    "\n",
    "\n",
    "Finally, the CSL density of states in open boundary conditions indicates the low-energy modes within the gap of Majorana bands in [1](#fig:edge_modes){reference-type=\"ref\" reference=\"fig:edge_modes\"} (b).\n",
    "\n",
    "The phase diagram of the amorphous model in [\\[fig:example_lattice\\]](#fig:example_lattice){reference-type=\"ref\" reference=\"fig:example_lattice\"}(c) displays a reduced parameter space for the non-Abelian phase when compared to the honeycomb model. Interestingly, similar inward deformations of the critical lines were found on the Kitaev honeycomb model subject to disorder by proliferating flux vortices [@Nasu_Thermal_2015] or exchange disorder [@knolle_dynamics_2016]."
   ]
  },
  {
   "cell_type": "markdown",
   "id": "bebb342b-a0ea-490b-ae9f-b631b3c8121d",
   "metadata": {},
   "source": [
    "## Anderson Transition to a Thermal Metal\n",
    "\n",
    "<figure>\n",
    "<img src=\"../figure_code/amk_chapter/results/fermion_gap_vs_L/fermion_gap_vs_L.svg\" style=\"max-width:800px;\">\n",
    "<figcaption>\n",
    "Within a flux sector, the fermion gap $\\Delta_f$ measures the energy between the fermionic ground state and the first excited state. This graph shows the fermion gap as a function of system size for the ground state flux sector and for a configuration of random fluxes. We see that the disorder induced by an putting the Kitaev model on an amorphous lattice does not close the gap in the ground state. The gap closes in the flux disordered limit is good evidence that the system transitions to a gapless thermal metal state at high temperature. Each point shows an average over 100 lattice realisations. System size $L$ is defined $\\sqrt{N}$ where N is the number of plaquettes in the system. Error bars shown are $3$ times the standard error of the mean. The lines shown are fits of $\\tfrac{\\Delta_f}{J} = aL ^ b$ with fit parameters: Ground State: $a = 0.138 \\pm 0.002, b = -0.0972 \\pm 0.004$ Random Flux Sector: \n",
    "$a = 1.8 \\pm 0.2, b = -2.21 \\pm 0.03$\n",
    "</figcaption>\n",
    "</figure>\n",
    "\n",
    "a thermal-induced Anderson transition to a thermal metal\n",
    "phase [@selfThermallyInducedMetallic2019].\n",
    "\n",
    "An Ising non-Abelian anyon is formed by Majorana zero-modes bound to a topological defect [@Beenakker2013]. Interactions between anyons are modeled by pairwise projectors whose strength absolute value decays exponentially with the separation between the particles, and whose sign oscillates in analogy to RKKY exchanges [@Laumann2012; @Lahtinen_2011; @lahtinenTopologicalLiquidNucleation2012]. Disorder can induce a finite density of anyons whose hybridization lead to a macroscopically degenerate state known as *thermal metal* [@Laumann2012]. One instance of this phase can be settled on the Kitaev CSL. In this case, the topological defects correspond to the $W_p \\neq +1$ fluxes, which naturally emerge from thermal fluctuations at nonzero temperature [@selfThermallyInducedMetallic2019].\n",
    "\n",
    "We demonstrated that the amorphous CSL undergoes the same form of Anderson transition by studying its properties as a function of disorder. Unfortunately, we could not perform a complete study of its properties as a function of the temperature as it was not feasible to evaluate an ever-present boundary condition dependent factor [@pedrocchiPhysicalSolutionsKitaev2011; @Zschocke_Physical_states2015] for random networks. Instead, we evaluated the fermionic density of states (DOS) and the IPR as a function of the vortex density $\\rho$ as a proxy for temperature. This approximation is exact in the limits $T = 0$ (corresponding to $\\rho = 0$) and $T \\to \\infty$ (corresponding to $\\rho = 0.5$). At intermediate temperatures the method neglects to include the influence of defect-defect correlations. \n",
    "\n",
    "However, such an approximation is enough to show the onset of low-energy excitations for $\\rho \\sim 10^{-2}-10^{-1}$, as displayed on the top graphic of [\\[fig:DOS_Oscillations\\]](#fig:DOS_Oscillations){reference-type=\"ref\" reference=\"fig:DOS_Oscillations\"}(a). We characterized these gapless excitations using the dimensional scaling exponential $\\tau$ of the IPR on the bottom graphic of the same figure. At small $\\rho$, the states populating the gap possess $\\tau\\approx0$, indicating that they are localised states pinned to the defects, and the system remains insulating. At large $\\rho$, the in-gap states merge with the bulk band and become extensive, closing the gap, and the system transitions to a metallic phase.\n",
    "\n",
    "The thermal metal DOS displays a logarithmic divergence at zero energy and characteristic oscillations at small energies. [@bocquet_disordered_2000; @selfThermallyInducedMetallic2019]. These features were indeed observed by the averaged density of states in the $\\rho = 0.5$ case shown in [\\[fig:DOS_Oscillations\\]](#fig:DOS_Oscillations){reference-type=\"ref\" reference=\"fig:DOS_Oscillations\"}(b) for amorphous lattice. We emphasize that the CSL studied here emerges without an applied magnetic field as opposed to the CSL on the honeycomb lattice studied in Ref. [@selfThermallyInducedMetallic2019] I have the impression that [\\[fig:DOS_Oscillations\\]](#fig:DOS_Oscillations){reference-type=\"ref\" reference=\"fig:DOS_Oscillations\"}(b) on the top is very similar to Fig. 3 of [@selfThermallyInducedMetallic2019]. Maybe a more instructive figure would be the DOS of the amorphous toric code at the infinite temperature limit. In this case, the lack of non-Abelian anyons would be reflected by a gap on the DOS, which would contrast nicely to the thermal metal phase"
   ]
  },
  {
   "cell_type": "markdown",
   "id": "6497e2e2-ae77-4729-87db-4d8dace57342",
   "metadata": {},
   "source": [
    "<figure>\n",
    "<img src=\"../figure_code/amk_paper/figure_3_bashed.svg\" style=\"max-width:700px;\">\n",
    "<figcaption>\n",
    "</figcaption>\n",
    "</figure>"
   ]
  },
  {
   "cell_type": "markdown",
   "id": "030d71e7-5ad4-441e-838e-dcad37f86113",
   "metadata": {},
   "source": [
    "# Conclusion\n",
    "\n",
    "We have studied an extension of the Kitaev honeycomb model to amorphous lattices with coordination number $z= 3$. We found that it is able to support two quantum spin liquid phases that can be distinguished using a real-space generalisation of the Chern number. The presence of odd-sided plaquettes on these lattices let to a spontaneous breaking of time reversal symmetry, leading to the emergence of a chiral spin liquid phase. Furthermore we found evidence that the amorphous system undergoes an Anderson transition to a thermal metal phase, driven by the proliferation of vortices with increasing temperature. \n",
    "\n",
    "# Discussion \n",
    "\n",
    "## Failure of the ground state conjecture\n",
    "\n",
    "We did find a small number of lattices for the ground state conjecture did not correctly predict the true ground state flux sector. I see two possibilities for what could cause this.\n",
    "\n",
    "Firstly it could be a a finite size effect that is somehow amplfied by certain rare lattice configurations. It would be interesting to try to elucidate what lattice features are present when the ground state conjecture fails.\n",
    "\n",
    "Alternatively, it might be telling that the ground state conjecture failed in the toric code phase where the couplings are anisotropic. Clearly the colouring does not matter much in the isotropic phase. However an avenue that I did not explore was whether the particular choice of colouring for a lattice affects the physical properties in the toris code phase. It is possible that some property of the particular colouring chosen is what leads to failure of the ground state conjecture here.\n",
    "\n",
    "## Full Monte Carlo\n",
    "\n",
    "\n",
    "# Outlook\n",
    "\n",
    "## Experimental Realisations and Signatures\n",
    "\n",
    "The next step is to search for an experimental realisation in amorphous Kitaev materials, which can be created from crystalline ones using several methods [@Weaire1976; @Petrakovski1981; @Kaneyoshi2018].\n",
    "\n",
    "Following the evidence for an induced chiral spin liquid phase in crystalline Kitaev materials [@Kasahara2018; @Yokoi2021; @Yamashita2020; @Bruin2022], it would be interesting to investigate if a similar state is produced on its amorphous counterpart. \n",
    "\n",
    "Probably one way to make this theory experimentally relevant is to do experiments on amorphous phases of Kitaev materials. These phases can be obtained by liquifying the material and cooling it fast. Apparently, most of crystalline magnets can be transformed into amorphous ones through this process.\n",
    "\n",
    "Besides the usual half-quantized signature on thermal Hall effect [@Kasahara2018; @Yokoi2021; @Yamashita2020; @Bruin2022], such a CSL could be also characterized using local probes such as spin-polarized scanning-tunneling microscopy [@Feldmeier2020; @Konig2020; @Udagawa2021]. The same probes would also be useful to manipulate non-Abelian anyons [@Pereira2020], thereby implementing elementary operations for topological quantum computation. Finally, the thermal metal phase can be diagnosed using bulk heat transport measurements [@Beenakker2013].\n",
    "\n",
    "## Generalisations\n",
    "\n",
    "This work could be generalized in several ways. \n",
    "\n",
    "Introduction of symmetry allowed perturbations on the model [@Rau2014; @Chaloupka2010; @Chaloupka2013; @Chaloupka2015; @Winter2016]. \n",
    "\n",
    "Generalizations to higher-spin models in random networks with different coordination numbers [@Baskaran2008; @Yao2009; @Nussinov2009; @Yao2011; @Chua2011; @Natori2020; @Chulliparambil2020; @Chulliparambil2021; @Seifert2020; @WangHaoranPRB2021; @Wu2009]"
   ]
  }
 ],
 "metadata": {
  "kernelspec": {
   "display_name": "Python [conda env:adalm1000]",
   "language": "python",
   "name": "conda-env-adalm1000-py"
  },
  "language_info": {
   "codemirror_mode": {
    "name": "ipython",
    "version": 3
   },
   "file_extension": ".py",
   "mimetype": "text/x-python",
   "name": "python",
   "nbconvert_exporter": "python",
   "pygments_lexer": "ipython3",
   "version": "3.10.5"
  },
  "vscode": {
   "interpreter": {
    "hash": "aee8b7b246df8f9039afb4144a1f6fd8d2ca17a180786b69acc140d282b71a49"
   }
  }
 },
 "nbformat": 4,
 "nbformat_minor": 5
}
