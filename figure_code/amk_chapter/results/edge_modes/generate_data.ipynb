{
 "cells": [
  {
   "cell_type": "code",
   "execution_count": 1,
   "id": "ca1c814b-74db-46e9-9413-5ce04d7dcfb7",
   "metadata": {},
   "outputs": [],
   "source": [
    "%load_ext autoreload\n",
    "%autoreload 2\n",
    "\n",
    "import numpy as np\n",
    "from matplotlib import pyplot as plt\n",
    "import scipy\n",
    "from scipy.linalg import eigvalsh, qr, eigh\n",
    "\n",
    "import matplotlib\n",
    "matplotlib.rcParams['figure.figsize'] = (10.0, 10.0)\n",
    "matplotlib.rcParams['figure.dpi'] = 150\n",
    "\n",
    "from time import time\n",
    "from mpire import WorkerPool\n",
    "from scipy.stats import sem\n",
    "\n",
    "import os\n",
    "\n",
    "import koala\n",
    "\n",
    "from koala import pointsets, voronization, graph_color, example_graphs, flux_finder, hamiltonian, graph_utils\n",
    "from koala import plotting as pl\n",
    "from koala.lattice import Lattice, cut_boundaries\n",
    "from koala import example_graphs as eg\n",
    "\n",
    "import pickle"
   ]
  },
  {
   "cell_type": "code",
   "execution_count": 5,
   "id": "2d73640e-3d60-4340-a701-cea6ffa16aa4",
   "metadata": {},
   "outputs": [],
   "source": [
    "lattice, coloring, gs_ujk = eg.make_amorphous(L = 70, open_boundary_conditions = True)\n",
    "lattice = cut_boundaries(lattice)\n",
    "\n",
    "ham = hamiltonian.generate_majorana_hamiltonian(lattice, coloring, gs_ujk, J = np.array([1, 1, 1]))\n",
    "energies, vectors = np.linalg.eigh(ham)\n",
    "\n",
    "edge_state_i = np.argsort(np.abs(energies))[0]\n",
    "\n",
    "edge_state = vectors[:, edge_state_i]\n",
    "edge_state_energy = energies[edge_state_i]\n",
    "edge_state_density = np.abs(edge_state)\n",
    "\n",
    "raw_IPR = np.sum(np.abs(vectors)**4, axis = 0)\n",
    "\n",
    "\n",
    "data = dict(\n",
    "    lattice = lattice,\n",
    "    coloring = coloring,\n",
    "    gs_ujk = gs_ujk,\n",
    "    energies = energies,\n",
    "    edge_state_i = edge_state_i,\n",
    "    edge_state = edge_state,\n",
    "    edge_state_density = edge_state_density,\n",
    "    raw_IPR = raw_IPR,\n",
    ")\n",
    "\n",
    "with open(\"big_solved_lattice.pickle\", \"wb\") as f:\n",
    "    pickle.dump(data, f)"
   ]
  }
 ],
 "metadata": {
  "kernelspec": {
   "display_name": "Python [conda env:py3.8]",
   "language": "python",
   "name": "conda-env-py3.8-py"
  },
  "language_info": {
   "codemirror_mode": {
    "name": "ipython",
    "version": 3
   },
   "file_extension": ".py",
   "mimetype": "text/x-python",
   "name": "python",
   "nbconvert_exporter": "python",
   "pygments_lexer": "ipython3",
   "version": "3.8.5"
  }
 },
 "nbformat": 4,
 "nbformat_minor": 5
}
